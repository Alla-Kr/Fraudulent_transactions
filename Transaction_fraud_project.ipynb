{
 "cells": [
  {
   "cell_type": "code",
   "execution_count": 424,
   "metadata": {},
   "outputs": [],
   "source": [
    "import numpy as np\n",
    "import pandas as pd #для анализа и предобработки данных\n",
    "import matplotlib.pyplot as plt #для визуализации\n",
    "import seaborn as sns #для визуализации\n",
    "\n",
    "# Feature selection modules\n",
    "from sklearn.feature_selection import chi2\n",
    "from sklearn.feature_selection import f_classif\n",
    "from sklearn.feature_selection import SelectKBest\n",
    "from scipy import stats\n",
    "\n",
    "from sklearn import linear_model #линейные моделиё\n",
    "from sklearn import tree #деревья решений\n",
    "from sklearn import ensemble #ансамбли\n",
    "from catboost import CatBoostClassifier, Pool, cv\n",
    "\n",
    "from sklearn import metrics #метрики\n",
    "from sklearn import preprocessing #предобработка\n",
    "from sklearn.model_selection import train_test_split #сплитование выборки\n",
    "import category_encoders as ce # Encoding modules\n",
    "# Hyperparameter tuning modules\n",
    "from sklearn.model_selection import GridSearchCV\n",
    "\n",
    "# Data sampling modules\n",
    "from imblearn.under_sampling import RandomUnderSampler\n",
    "from imblearn.over_sampling import RandomOverSampler\n",
    "from imblearn.over_sampling import SMOTE\n",
    "\n",
    "# Model saving module\n",
    "import pickle\n"
   ]
  },
  {
   "cell_type": "markdown",
   "metadata": {},
   "source": [
    "### 0. Statement of business problems:\n",
    "#### It is necessary to implement a set of measures to detect fraud in the banking sector.\n",
    "#### It is necessary to detect situations when a fraudster makes payments on a card without the knowledge of the owner. One of the most effective tools for solving the problem of identifying fraudulent banking transactions is machine learning. Note that the sample is often unbalanced and cannot be so; fraudulent transactions of the total number of transactions fluctuate around 2%."
   ]
  },
  {
   "cell_type": "markdown",
   "metadata": {},
   "source": [
    "### Metric selection\n",
    "In our case, having an unbalanced sample, Accuracy is not applicable.\n",
    "If it is important to minimize false negatives, then the Recall metric will be more appropriate. Recall measures the proportion of all true positive cases that the model classified correctly.\n",
    "Thus, the higher the Recall, the fewer false negatives the model has. This is especially important in cases where false negatives can have serious consequences\n",
    "In such tasks that solve the problem of detecting high risk, the Recall metric is the most suitable; you can also focus on the complex metric F 1 score."
   ]
  },
  {
   "cell_type": "markdown",
   "metadata": {},
   "source": [
    "### 1. Getting to know the data and handling gaps"
   ]
  },
  {
   "cell_type": "code",
   "execution_count": 35,
   "metadata": {},
   "outputs": [
    {
     "data": {
      "text/html": [
       "<div>\n",
       "<style scoped>\n",
       "    .dataframe tbody tr th:only-of-type {\n",
       "        vertical-align: middle;\n",
       "    }\n",
       "\n",
       "    .dataframe tbody tr th {\n",
       "        vertical-align: top;\n",
       "    }\n",
       "\n",
       "    .dataframe thead th {\n",
       "        text-align: right;\n",
       "    }\n",
       "</style>\n",
       "<table border=\"1\" class=\"dataframe\">\n",
       "  <thead>\n",
       "    <tr style=\"text-align: right;\">\n",
       "      <th></th>\n",
       "      <th>account_age_days</th>\n",
       "      <th>transaction_amt</th>\n",
       "      <th>transaction_adj_amt</th>\n",
       "      <th>historic_velocity</th>\n",
       "      <th>ip_address</th>\n",
       "      <th>user_agent</th>\n",
       "      <th>email_domain</th>\n",
       "      <th>phone_number</th>\n",
       "      <th>billing_city</th>\n",
       "      <th>billing_postal</th>\n",
       "      <th>...</th>\n",
       "      <th>transaction_env</th>\n",
       "      <th>event_timestamp</th>\n",
       "      <th>applicant_name</th>\n",
       "      <th>billing_address</th>\n",
       "      <th>merchant_id</th>\n",
       "      <th>locale</th>\n",
       "      <th>tranaction_initiate</th>\n",
       "      <th>days_since_last_logon</th>\n",
       "      <th>inital_amount</th>\n",
       "      <th>fraud</th>\n",
       "    </tr>\n",
       "  </thead>\n",
       "  <tbody>\n",
       "    <tr>\n",
       "      <th>0</th>\n",
       "      <td>3371.0</td>\n",
       "      <td>2167.0</td>\n",
       "      <td>56.0</td>\n",
       "      <td>2572.0</td>\n",
       "      <td>154.68.49.124</td>\n",
       "      <td>Opera/9.81.(Windows NT 10.0; ht-HT) Presto/2.9...</td>\n",
       "      <td>perez-garza.com</td>\n",
       "      <td>878-111-5140</td>\n",
       "      <td>Woodsburgh</td>\n",
       "      <td>96336.0</td>\n",
       "      <td>...</td>\n",
       "      <td>X</td>\n",
       "      <td>12/29/2020 9:05</td>\n",
       "      <td>Linda Wright</td>\n",
       "      <td>4684 Sharon Ranch</td>\n",
       "      <td>066-82-8795</td>\n",
       "      <td>niu_NZ</td>\n",
       "      <td>O</td>\n",
       "      <td>59.0</td>\n",
       "      <td>13646.0</td>\n",
       "      <td>False</td>\n",
       "    </tr>\n",
       "    <tr>\n",
       "      <th>1</th>\n",
       "      <td>2714.0</td>\n",
       "      <td>2045.0</td>\n",
       "      <td>48.0</td>\n",
       "      <td>4517.0</td>\n",
       "      <td>39.131.125.85</td>\n",
       "      <td>Opera/9.76.(X11; Linux i686; mi-NZ) Presto/2.9...</td>\n",
       "      <td>mcneil-ortega.com</td>\n",
       "      <td>(002)736-0139</td>\n",
       "      <td>West Kevin</td>\n",
       "      <td>78083.0</td>\n",
       "      <td>...</td>\n",
       "      <td>W</td>\n",
       "      <td>6/22/2021 18:05</td>\n",
       "      <td>Terri Rivera</td>\n",
       "      <td>7642 Allison Ramp</td>\n",
       "      <td>669-99-9459</td>\n",
       "      <td>apn_IN</td>\n",
       "      <td>J</td>\n",
       "      <td>0.0</td>\n",
       "      <td>11930.0</td>\n",
       "      <td>False</td>\n",
       "    </tr>\n",
       "  </tbody>\n",
       "</table>\n",
       "<p>2 rows × 25 columns</p>\n",
       "</div>"
      ],
      "text/plain": [
       "   account_age_days  transaction_amt  transaction_adj_amt  historic_velocity  \\\n",
       "0            3371.0           2167.0                 56.0             2572.0   \n",
       "1            2714.0           2045.0                 48.0             4517.0   \n",
       "\n",
       "      ip_address                                         user_agent  \\\n",
       "0  154.68.49.124  Opera/9.81.(Windows NT 10.0; ht-HT) Presto/2.9...   \n",
       "1  39.131.125.85  Opera/9.76.(X11; Linux i686; mi-NZ) Presto/2.9...   \n",
       "\n",
       "        email_domain   phone_number billing_city  billing_postal  ...  \\\n",
       "0    perez-garza.com   878-111-5140   Woodsburgh         96336.0  ...   \n",
       "1  mcneil-ortega.com  (002)736-0139   West Kevin         78083.0  ...   \n",
       "\n",
       "  transaction_env  event_timestamp applicant_name    billing_address  \\\n",
       "0               X  12/29/2020 9:05   Linda Wright  4684 Sharon Ranch   \n",
       "1               W  6/22/2021 18:05   Terri Rivera  7642 Allison Ramp   \n",
       "\n",
       "   merchant_id  locale tranaction_initiate days_since_last_logon  \\\n",
       "0  066-82-8795  niu_NZ                   O                  59.0   \n",
       "1  669-99-9459  apn_IN                   J                   0.0   \n",
       "\n",
       "  inital_amount  fraud  \n",
       "0       13646.0  False  \n",
       "1       11930.0  False  \n",
       "\n",
       "[2 rows x 25 columns]"
      ]
     },
     "execution_count": 35,
     "metadata": {},
     "output_type": "execute_result"
    }
   ],
   "source": [
    "df = pd.read_csv('dataset.csv')\n",
    "df.head(2)"
   ]
  },
  {
   "cell_type": "markdown",
   "metadata": {},
   "source": [
    "### Description of symptoms\n",
    "\n",
    "1.\taccount_age_days: Account age in days (numeric value).\n",
    "2.\ttransaction_amt: Transaction amount (numeric value).\n",
    "3.\ttransaction_adj_amt: Adjusted transaction amount (numeric value).\n",
    "4.\thistoric_velocity: Historical transaction velocity (numeric value).\n",
    "5.\tip_address: IP address (string value).\n",
    "6.\tuser_agent: User agent information (string value).\n",
    "7.\temail_domain: Email domain (string value).\n",
    "8.\tphone_number: Phone number (string value).\n",
    "9.\tbilling_city: Billing city (string value).\n",
    "10.\tbilling_postal: Billing postal code (numeric value).\n",
    "11.\tbilling_state: Billing state (string value).\n",
    "12.\tcard_bin: Card BIN (numeric value).\n",
    "13.\tcurrency: Transaction currency (string value).\n",
    "14.\tsignature_image: Signature image (string value).\n",
    "15.\ttransaction_type: Transaction type (string value).\n",
    "16.\ttransaction_env: Transaction environment (string value).\n",
    "17.\tevent_timestamp: Event timestamp (string value).\n",
    "18.\tapplicant_name: Applicant name (string value).\n",
    "19.\tbilling_address: Billing address (string value).\n",
    "20.\tmerchant_id: Merchant ID (string value).\n",
    "21.\tlocale: Locale (string value).\n",
    "22.\ttransaction_initiate: Transaction initiation (string value).\n",
    "23.\tdays_since_last_logon: Days since last logon (numeric value).\n",
    "24.\tinital_amount: Initial amount (numeric value).\n",
    "25.\tfraud: Target variable indicating whether the transaction is fraudulent (binary value)."
   ]
  },
  {
   "cell_type": "code",
   "execution_count": 36,
   "metadata": {},
   "outputs": [
    {
     "name": "stdout",
     "output_type": "stream",
     "text": [
      "<class 'pandas.core.frame.DataFrame'>\n",
      "RangeIndex: 150000 entries, 0 to 149999\n",
      "Data columns (total 25 columns):\n",
      " #   Column                 Non-Null Count   Dtype  \n",
      "---  ------                 --------------   -----  \n",
      " 0   account_age_days       149892 non-null  float64\n",
      " 1   transaction_amt        149870 non-null  float64\n",
      " 2   transaction_adj_amt    149886 non-null  float64\n",
      " 3   historic_velocity      149885 non-null  float64\n",
      " 4   ip_address             149873 non-null  object \n",
      " 5   user_agent             149887 non-null  object \n",
      " 6   email_domain           149910 non-null  object \n",
      " 7   phone_number           149873 non-null  object \n",
      " 8   billing_city           149884 non-null  object \n",
      " 9   billing_postal         149876 non-null  float64\n",
      " 10  billing_state          149887 non-null  object \n",
      " 11  card_bin               149872 non-null  float64\n",
      " 12  currency               149892 non-null  object \n",
      " 13  signature_image        149895 non-null  object \n",
      " 14  transaction_type       149884 non-null  object \n",
      " 15  transaction_env        149877 non-null  object \n",
      " 16  event_timestamp        149888 non-null  object \n",
      " 17  applicant_name         149857 non-null  object \n",
      " 18  billing_address        149866 non-null  object \n",
      " 19  merchant_id            149893 non-null  object \n",
      " 20  locale                 149866 non-null  object \n",
      " 21  tranaction_initiate    149874 non-null  object \n",
      " 22  days_since_last_logon  149864 non-null  float64\n",
      " 23  inital_amount          149872 non-null  float64\n",
      " 24  fraud                  150000 non-null  bool   \n",
      "dtypes: bool(1), float64(8), object(16)\n",
      "memory usage: 27.6+ MB\n"
     ]
    }
   ],
   "source": [
    "df.info()"
   ]
  },
  {
   "cell_type": "code",
   "execution_count": 37,
   "metadata": {},
   "outputs": [
    {
     "name": "stdout",
     "output_type": "stream",
     "text": [
      "2021-10-25 14:27:00\n",
      "2020-10-25 08:44:00\n"
     ]
    }
   ],
   "source": [
    "df['event_timestamp'] = pd.to_datetime(df['event_timestamp'])\n",
    "print(df['event_timestamp'].max())\n",
    "print(df['event_timestamp'].min())"
   ]
  },
  {
   "cell_type": "markdown",
   "metadata": {},
   "source": [
    "So we have a dataset with transaction data for a year, there is a target sign of fraud, we will try to determine it based on dependencies in the data. We will use the F1 score metric for assessing the quality of the model."
   ]
  },
  {
   "cell_type": "markdown",
   "metadata": {},
   "source": [
    "### 2. Preprocessing"
   ]
  },
  {
   "cell_type": "code",
   "execution_count": 38,
   "metadata": {},
   "outputs": [
    {
     "data": {
      "text/plain": [
       "0"
      ]
     },
     "execution_count": 38,
     "metadata": {},
     "output_type": "execute_result"
    }
   ],
   "source": [
    "df.duplicated().sum() #duplicate"
   ]
  },
  {
   "cell_type": "code",
   "execution_count": 39,
   "metadata": {},
   "outputs": [
    {
     "data": {
      "text/plain": [
       "account_age_days         108\n",
       "transaction_amt          130\n",
       "transaction_adj_amt      114\n",
       "historic_velocity        115\n",
       "ip_address               127\n",
       "user_agent               113\n",
       "email_domain              90\n",
       "phone_number             127\n",
       "billing_city             116\n",
       "billing_postal           124\n",
       "billing_state            113\n",
       "card_bin                 128\n",
       "currency                 108\n",
       "signature_image          105\n",
       "transaction_type         116\n",
       "transaction_env          123\n",
       "event_timestamp          112\n",
       "applicant_name           143\n",
       "billing_address          134\n",
       "merchant_id              107\n",
       "locale                   134\n",
       "tranaction_initiate      126\n",
       "days_since_last_logon    136\n",
       "inital_amount            128\n",
       "fraud                      0\n",
       "dtype: int64"
      ]
     },
     "execution_count": 39,
     "metadata": {},
     "output_type": "execute_result"
    }
   ],
   "source": [
    "df.isnull().sum() #data gaps"
   ]
  },
  {
   "cell_type": "code",
   "execution_count": 40,
   "metadata": {},
   "outputs": [
    {
     "data": {
      "text/plain": [
       "False    141836\n",
       "True       8164\n",
       "Name: fraud, dtype: int64"
      ]
     },
     "execution_count": 40,
     "metadata": {},
     "output_type": "execute_result"
    }
   ],
   "source": [
    "df.fraud.value_counts() #target variable distribution"
   ]
  },
  {
   "cell_type": "markdown",
   "metadata": {},
   "source": [
    "Fraudulent transactions with data gaps of less than 2 percent of the data. We decide to remove them"
   ]
  },
  {
   "cell_type": "code",
   "execution_count": 41,
   "metadata": {},
   "outputs": [
    {
     "data": {
      "text/plain": [
       "account_age_days          6\n",
       "transaction_amt           8\n",
       "transaction_adj_amt      10\n",
       "historic_velocity         3\n",
       "ip_address                5\n",
       "user_agent                7\n",
       "email_domain              2\n",
       "phone_number              5\n",
       "billing_city              5\n",
       "billing_postal            8\n",
       "billing_state             7\n",
       "card_bin                  8\n",
       "currency                  7\n",
       "signature_image           7\n",
       "transaction_type          5\n",
       "transaction_env           2\n",
       "event_timestamp           6\n",
       "applicant_name            4\n",
       "billing_address          10\n",
       "merchant_id               5\n",
       "locale                    6\n",
       "tranaction_initiate       4\n",
       "days_since_last_logon     9\n",
       "inital_amount            10\n",
       "fraud                     0\n",
       "dtype: int64"
      ]
     },
     "execution_count": 41,
     "metadata": {},
     "output_type": "execute_result"
    }
   ],
   "source": [
    "#how many missing values ​​in the data where the transaction turned out to be fraudulent\n",
    "df.loc[df['fraud'] == True].isnull().sum() "
   ]
  },
  {
   "cell_type": "code",
   "execution_count": 42,
   "metadata": {},
   "outputs": [
    {
     "data": {
      "text/plain": [
       "149"
      ]
     },
     "execution_count": 42,
     "metadata": {},
     "output_type": "execute_result"
    }
   ],
   "source": [
    "#how many transactions with empty values ​​for at least one attribute\n",
    "df.loc[df['fraud'] == True].isnull().any(axis=1).sum()"
   ]
  },
  {
   "cell_type": "markdown",
   "metadata": {},
   "source": [
    "Fraudulent transactions with data gaps of less than 2 percent of the data. We decide to remove them"
   ]
  },
  {
   "cell_type": "code",
   "execution_count": 43,
   "metadata": {},
   "outputs": [
    {
     "data": {
      "text/plain": [
       "False    139108\n",
       "True       8015\n",
       "Name: fraud, dtype: int64"
      ]
     },
     "execution_count": 43,
     "metadata": {},
     "output_type": "execute_result"
    }
   ],
   "source": [
    "df.dropna(axis=0, inplace=True)\n",
    "df.fraud.value_counts()"
   ]
  },
  {
   "cell_type": "markdown",
   "metadata": {},
   "source": [
    "__Before the omissions were removed, the percentage of fraudulent transactions was 5.75%; after the omissions were removed, the percentage changed slightly to 5.76%__"
   ]
  },
  {
   "cell_type": "markdown",
   "metadata": {},
   "source": [
    "### 3. Exploratory data analysis and feature engineering"
   ]
  },
  {
   "cell_type": "code",
   "execution_count": 44,
   "metadata": {},
   "outputs": [
    {
     "data": {
      "text/html": [
       "<div>\n",
       "<style scoped>\n",
       "    .dataframe tbody tr th:only-of-type {\n",
       "        vertical-align: middle;\n",
       "    }\n",
       "\n",
       "    .dataframe tbody tr th {\n",
       "        vertical-align: top;\n",
       "    }\n",
       "\n",
       "    .dataframe thead th {\n",
       "        text-align: right;\n",
       "    }\n",
       "</style>\n",
       "<table border=\"1\" class=\"dataframe\">\n",
       "  <thead>\n",
       "    <tr style=\"text-align: right;\">\n",
       "      <th></th>\n",
       "      <th>account_age_days</th>\n",
       "      <th>transaction_amt</th>\n",
       "      <th>transaction_adj_amt</th>\n",
       "      <th>historic_velocity</th>\n",
       "      <th>billing_postal</th>\n",
       "      <th>card_bin</th>\n",
       "      <th>days_since_last_logon</th>\n",
       "      <th>inital_amount</th>\n",
       "    </tr>\n",
       "  </thead>\n",
       "  <tbody>\n",
       "    <tr>\n",
       "      <th>count</th>\n",
       "      <td>147123.000000</td>\n",
       "      <td>147123.000000</td>\n",
       "      <td>147123.000000</td>\n",
       "      <td>147123.000000</td>\n",
       "      <td>147123.000000</td>\n",
       "      <td>147123.000000</td>\n",
       "      <td>147123.000000</td>\n",
       "      <td>147123.000000</td>\n",
       "    </tr>\n",
       "    <tr>\n",
       "      <th>mean</th>\n",
       "      <td>4645.914901</td>\n",
       "      <td>2521.396457</td>\n",
       "      <td>54.207466</td>\n",
       "      <td>4702.460173</td>\n",
       "      <td>50181.423720</td>\n",
       "      <td>41834.534560</td>\n",
       "      <td>49.861225</td>\n",
       "      <td>7996.496401</td>\n",
       "    </tr>\n",
       "    <tr>\n",
       "      <th>std</th>\n",
       "      <td>1153.744713</td>\n",
       "      <td>604.644319</td>\n",
       "      <td>10.068261</td>\n",
       "      <td>1188.161407</td>\n",
       "      <td>28388.654516</td>\n",
       "      <td>10081.175293</td>\n",
       "      <td>29.209468</td>\n",
       "      <td>4048.005539</td>\n",
       "    </tr>\n",
       "    <tr>\n",
       "      <th>min</th>\n",
       "      <td>1.000000</td>\n",
       "      <td>5.000000</td>\n",
       "      <td>1.000000</td>\n",
       "      <td>50.000000</td>\n",
       "      <td>503.000000</td>\n",
       "      <td>6040.000000</td>\n",
       "      <td>0.000000</td>\n",
       "      <td>1000.000000</td>\n",
       "    </tr>\n",
       "    <tr>\n",
       "      <th>25%</th>\n",
       "      <td>3824.000000</td>\n",
       "      <td>2103.000000</td>\n",
       "      <td>48.000000</td>\n",
       "      <td>3872.000000</td>\n",
       "      <td>25298.000000</td>\n",
       "      <td>35386.000000</td>\n",
       "      <td>24.000000</td>\n",
       "      <td>4484.000000</td>\n",
       "    </tr>\n",
       "    <tr>\n",
       "      <th>50%</th>\n",
       "      <td>4668.000000</td>\n",
       "      <td>2543.000000</td>\n",
       "      <td>55.000000</td>\n",
       "      <td>4730.000000</td>\n",
       "      <td>50072.000000</td>\n",
       "      <td>42086.000000</td>\n",
       "      <td>50.000000</td>\n",
       "      <td>7999.000000</td>\n",
       "    </tr>\n",
       "    <tr>\n",
       "      <th>75%</th>\n",
       "      <td>5476.000000</td>\n",
       "      <td>2951.000000</td>\n",
       "      <td>61.000000</td>\n",
       "      <td>5549.000000</td>\n",
       "      <td>74346.000000</td>\n",
       "      <td>47373.000000</td>\n",
       "      <td>75.000000</td>\n",
       "      <td>11494.500000</td>\n",
       "    </tr>\n",
       "    <tr>\n",
       "      <th>max</th>\n",
       "      <td>9119.000000</td>\n",
       "      <td>4999.000000</td>\n",
       "      <td>99.000000</td>\n",
       "      <td>9999.000000</td>\n",
       "      <td>99950.000000</td>\n",
       "      <td>67639.000000</td>\n",
       "      <td>100.000000</td>\n",
       "      <td>15000.000000</td>\n",
       "    </tr>\n",
       "  </tbody>\n",
       "</table>\n",
       "</div>"
      ],
      "text/plain": [
       "       account_age_days  transaction_amt  transaction_adj_amt  \\\n",
       "count     147123.000000    147123.000000        147123.000000   \n",
       "mean        4645.914901      2521.396457            54.207466   \n",
       "std         1153.744713       604.644319            10.068261   \n",
       "min            1.000000         5.000000             1.000000   \n",
       "25%         3824.000000      2103.000000            48.000000   \n",
       "50%         4668.000000      2543.000000            55.000000   \n",
       "75%         5476.000000      2951.000000            61.000000   \n",
       "max         9119.000000      4999.000000            99.000000   \n",
       "\n",
       "       historic_velocity  billing_postal       card_bin  \\\n",
       "count      147123.000000   147123.000000  147123.000000   \n",
       "mean         4702.460173    50181.423720   41834.534560   \n",
       "std          1188.161407    28388.654516   10081.175293   \n",
       "min            50.000000      503.000000    6040.000000   \n",
       "25%          3872.000000    25298.000000   35386.000000   \n",
       "50%          4730.000000    50072.000000   42086.000000   \n",
       "75%          5549.000000    74346.000000   47373.000000   \n",
       "max          9999.000000    99950.000000   67639.000000   \n",
       "\n",
       "       days_since_last_logon  inital_amount  \n",
       "count          147123.000000  147123.000000  \n",
       "mean               49.861225    7996.496401  \n",
       "std                29.209468    4048.005539  \n",
       "min                 0.000000    1000.000000  \n",
       "25%                24.000000    4484.000000  \n",
       "50%                50.000000    7999.000000  \n",
       "75%                75.000000   11494.500000  \n",
       "max               100.000000   15000.000000  "
      ]
     },
     "execution_count": 44,
     "metadata": {},
     "output_type": "execute_result"
    }
   ],
   "source": [
    "df.describe()"
   ]
  },
  {
   "cell_type": "markdown",
   "metadata": {},
   "source": [
    "The data is quite logical, there are no negative values, completely acceptable figures for the life of the account, amounts in the account, etc."
   ]
  },
  {
   "cell_type": "markdown",
   "metadata": {},
   "source": [
    "Let's take a closer look at the account_age_days attribute"
   ]
  },
  {
   "cell_type": "code",
   "execution_count": 45,
   "metadata": {},
   "outputs": [
    {
     "name": "stderr",
     "output_type": "stream",
     "text": [
      "/Users/admin/opt/anaconda3/lib/python3.9/site-packages/seaborn/_decorators.py:36: FutureWarning: Pass the following variable as a keyword arg: x. From version 0.12, the only valid positional argument will be `data`, and passing other arguments without an explicit keyword will result in an error or misinterpretation.\n",
      "  warnings.warn(\n"
     ]
    },
    {
     "data": {
      "image/png": "[encoded data removed]",
      "text/plain": [
       "<Figure size 600x300 with 1 Axes>"
      ]
     },
     "metadata": {},
     "output_type": "display_data"
    }
   ],
   "source": [
    "plt.figure(figsize=(6,3), facecolor='white')\n",
    "sns.boxplot(df['account_age_days'])\n",
    "plt.title('Distribution of account_age_days')\n",
    "plt.show()"
   ]
  },
  {
   "cell_type": "code",
   "execution_count": 47,
   "metadata": {},
   "outputs": [
    {
     "name": "stderr",
     "output_type": "stream",
     "text": [
      "/Users/admin/opt/anaconda3/lib/python3.9/site-packages/seaborn/_decorators.py:36: FutureWarning: Pass the following variable as a keyword arg: x. From version 0.12, the only valid positional argument will be `data`, and passing other arguments without an explicit keyword will result in an error or misinterpretation.\n",
      "  warnings.warn(\n"
     ]
    },
    {
     "data": {
      "image/png": "[encoded data removed]",
      "text/plain": [
       "<Figure size 400x300 with 1 Axes>"
      ]
     },
     "metadata": {},
     "output_type": "display_data"
    }
   ],
   "source": [
    "#Distribution of values ​​of the characteristic 'fraud'\n",
    "plt.figure(figsize=(4,3), facecolor='white')\n",
    "sns.countplot(df['fraud'])\n",
    "plt.title('Distribution of values ​​of the characteristic \"fraud\"')\n",
    "plt.show()"
   ]
  },
  {
   "cell_type": "markdown",
   "metadata": {},
   "source": [
    "Let's look at the distribution of numerical characteristics"
   ]
  },
  {
   "cell_type": "code",
   "execution_count": 48,
   "metadata": {},
   "outputs": [
    {
     "data": {
      "image/png": "[encoded data removed]",
      "text/plain": [
       "<Figure size 1200x1000 with 6 Axes>"
      ]
     },
     "metadata": {},
     "output_type": "display_data"
    }
   ],
   "source": [
    "# Create a coordinate plane with 2x2 graphs\n",
    "fig, axes = plt.subplots(nrows=2, ncols=3, figsize=(12, 10), facecolor='white')\n",
    "# List of features for plotting\n",
    "features = ['account_age_days', 'transaction_amt', 'transaction_adj_amt', 'historic_velocity', 'days_since_last_logon', 'inital_amount']\n",
    "\n",
    "# For each feature we build a histogram on the corresponding graph\n",
    "for ax, feature in zip(axes.flatten(), features):\n",
    "    ax.hist(df[feature], bins=20, edgecolor='black')\n",
    "    ax.set_title(f'Distribution of {feature}')\n",
    "    ax.set_xlabel(feature)\n",
    "    ax.set_ylabel('Frequency')\n",
    "\n",
    "plt.tight_layout()\n",
    "plt.show()"
   ]
  },
  {
   "cell_type": "markdown",
   "metadata": {},
   "source": [
    "Let's take a closer look at the days_since_last_logon sign"
   ]
  },
  {
   "cell_type": "code",
   "execution_count": 49,
   "metadata": {},
   "outputs": [
    {
     "name": "stderr",
     "output_type": "stream",
     "text": [
      "/Users/admin/opt/anaconda3/lib/python3.9/site-packages/seaborn/_decorators.py:36: FutureWarning: Pass the following variable as a keyword arg: x. From version 0.12, the only valid positional argument will be `data`, and passing other arguments without an explicit keyword will result in an error or misinterpretation.\n",
      "  warnings.warn(\n"
     ]
    },
    {
     "data": {
      "image/png": "[encoded data removed]",
      "text/plain": [
       "<Figure size 600x300 with 1 Axes>"
      ]
     },
     "metadata": {},
     "output_type": "display_data"
    }
   ],
   "source": [
    "plt.figure(figsize=(6,3), facecolor='white')\n",
    "sns.boxplot(df['days_since_last_logon'])\n",
    "plt.title('Distribution of days_since_last_logon')\n",
    "plt.show()"
   ]
  },
  {
   "cell_type": "markdown",
   "metadata": {},
   "source": [
    "Visualization of numerical features represents the identification of normal distribution in them"
   ]
  },
  {
   "cell_type": "code",
   "execution_count": null,
   "metadata": {},
   "outputs": [],
   "source": [
    "data = df.copy()"
   ]
  },
  {
   "cell_type": "markdown",
   "metadata": {},
   "source": [
    "It would be interesting to see whether there is a dependence in fraudulent transactions on a new account or not, whether many days have passed since the last logging or not?"
   ]
  },
  {
   "cell_type": "code",
   "execution_count": 52,
   "metadata": {},
   "outputs": [
    {
     "data": {
      "text/plain": [
       "group_account_age_days  fraud\n",
       "1                       False     97.826087\n",
       "                        True       2.173913\n",
       "2                       False     99.586093\n",
       "                        True       0.413907\n",
       "3                       False     99.392807\n",
       "                        True       0.607193\n",
       "4                       False     98.660197\n",
       "                        True       1.339803\n",
       "5                       False     94.871568\n",
       "                        True       5.128432\n",
       "6                       False     90.490383\n",
       "                        True       9.509617\n",
       "7                       False     92.029031\n",
       "                        True       7.970969\n",
       "8                       False     93.822739\n",
       "                        True       6.177261\n",
       "9                       False     95.555556\n",
       "                        True       4.444444\n",
       "10                      False    100.000000\n",
       "Name: fraud, dtype: float64"
      ]
     },
     "execution_count": 52,
     "metadata": {},
     "output_type": "execute_result"
    }
   ],
   "source": [
    "data['group_account_age_days'] = data['account_age_days'].apply(lambda x: \n",
    "    1 if x < 1000 \n",
    "    else (2 if x < 2000 \n",
    "          else (3 if x < 3000 \n",
    "                else (4 if x < 4000 \n",
    "                      else (5 if x < 5000 \n",
    "                            else (6 if x < 6000 \n",
    "                                  else (7 if x < 7000 \n",
    "                                        else (8 if x < 8000 \n",
    "                                              else (9 if x < 9000 \n",
    "                                                    else 10)))))))))\n",
    "\n",
    "data.groupby('group_account_age_days')['fraud'].value_counts(normalize=True) * 100"
   ]
  },
  {
   "cell_type": "code",
   "execution_count": 53,
   "metadata": {},
   "outputs": [
    {
     "data": {
      "text/plain": [
       "group_account_age_days  fraud\n",
       "1                       False       45\n",
       "                        True         1\n",
       "2                       False     1203\n",
       "                        True         5\n",
       "3                       False    10640\n",
       "                        True        65\n",
       "4                       False    31517\n",
       "                        True       428\n",
       "5                       False    42807\n",
       "                        True      2314\n",
       "6                       False    36131\n",
       "                        True      3797\n",
       "7                       False    14582\n",
       "                        True      1263\n",
       "8                       False     2096\n",
       "                        True       138\n",
       "9                       False       86\n",
       "                        True         4\n",
       "10                      False        1\n",
       "Name: fraud, dtype: int64"
      ]
     },
     "execution_count": 53,
     "metadata": {},
     "output_type": "execute_result"
    }
   ],
   "source": [
    "data.groupby('group_account_age_days')['fraud'].value_counts()"
   ]
  },
  {
   "cell_type": "code",
   "execution_count": 54,
   "metadata": {},
   "outputs": [],
   "source": [
    "data['group_days_since_last_logon'] = df['days_since_last_logon'].apply(lambda x: \n",
    "    1 if x < 10 \n",
    "    else (2 if x < 20 \n",
    "          else (3 if x < 30 \n",
    "                else (4 if x < 40 \n",
    "                      else (5 if x < 50 \n",
    "                            else (6 if x < 60 \n",
    "                                  else (7 if x < 70 \n",
    "                                        else (8 if x < 80 \n",
    "                                              else (9 if x < 90\n",
    "                                                    else 10)))))))))\n"
   ]
  },
  {
   "cell_type": "code",
   "execution_count": 55,
   "metadata": {},
   "outputs": [
    {
     "data": {
      "text/plain": [
       "group_account_age_days  fraud\n",
       "1                       False     97.826087\n",
       "                        True       2.173913\n",
       "2                       False     99.586093\n",
       "                        True       0.413907\n",
       "3                       False     99.392807\n",
       "                        True       0.607193\n",
       "4                       False     98.660197\n",
       "                        True       1.339803\n",
       "5                       False     94.871568\n",
       "                        True       5.128432\n",
       "6                       False     90.490383\n",
       "                        True       9.509617\n",
       "7                       False     92.029031\n",
       "                        True       7.970969\n",
       "8                       False     93.822739\n",
       "                        True       6.177261\n",
       "9                       False     95.555556\n",
       "                        True       4.444444\n",
       "10                      False    100.000000\n",
       "Name: fraud, dtype: float64"
      ]
     },
     "execution_count": 55,
     "metadata": {},
     "output_type": "execute_result"
    }
   ],
   "source": [
    "data.groupby('group_account_age_days')['fraud'].value_counts(normalize=True) * 100"
   ]
  },
  {
   "cell_type": "markdown",
   "metadata": {},
   "source": [
    "Signs based on the number of days since the last logging and the age of the account do not yet provide any interesting information, perhaps new signs will be useful to us"
   ]
  },
  {
   "cell_type": "markdown",
   "metadata": {},
   "source": [
    "Look at what currency fraud occurs most often."
   ]
  },
  {
   "cell_type": "code",
   "execution_count": 56,
   "metadata": {},
   "outputs": [
    {
     "data": {
      "text/plain": [
       "cad    5684\n",
       "usd    1887\n",
       "eur     444\n",
       "Name: currency, dtype: int64"
      ]
     },
     "execution_count": 56,
     "metadata": {},
     "output_type": "execute_result"
    }
   ],
   "source": [
    "data[data['fraud']==True]['currency'].value_counts()"
   ]
  },
  {
   "cell_type": "markdown",
   "metadata": {},
   "source": [
    "Let's see if we can identify any pattern depending on the date of the transaction\n"
   ]
  },
  {
   "cell_type": "code",
   "execution_count": 57,
   "metadata": {},
   "outputs": [],
   "source": [
    "data['year'] = data['event_timestamp'].dt.year\n",
    "data['month'] = data['event_timestamp'].dt.month\n",
    "data['hour'] = data['event_timestamp'].dt.hour\n",
    "data['day_of_week'] = data['event_timestamp'].dt.day_of_week"
   ]
  },
  {
   "cell_type": "code",
   "execution_count": 58,
   "metadata": {},
   "outputs": [
    {
     "data": {
      "text/plain": [
       "Text(0.5, 1.0, 'Distribution of fraud transactions by months')"
      ]
     },
     "execution_count": 58,
     "metadata": {},
     "output_type": "execute_result"
    },
    {
     "data": {
      "image/png": "[encoded data removed]",
      "text/plain": [
       "<Figure size 640x480 with 1 Axes>"
      ]
     },
     "metadata": {},
     "output_type": "display_data"
    }
   ],
   "source": [
    "types = data.groupby(\"month\")['fraud'].value_counts(normalize=False).unstack()\n",
    "types.plot(kind='bar', stacked='True')\n",
    "plt.title('Distribution of fraud transactions by months')"
   ]
  },
  {
   "cell_type": "code",
   "execution_count": 59,
   "metadata": {},
   "outputs": [
    {
     "data": {
      "image/png": "[encoded data removed]",
      "text/plain": [
       "<Figure size 1000x600 with 1 Axes>"
      ]
     },
     "metadata": {},
     "output_type": "display_data"
    }
   ],
   "source": [
    "# Building a graph\n",
    "plt.figure(figsize=(10, 6))\n",
    "sns.histplot(data, x='hour', bins=24, edgecolor='black', kde=True)\n",
    "plt.title('Hourly distribution of fraudulent transactions')\n",
    "plt.xlabel('Hour')\n",
    "plt.ylabel('Frequency')\n",
    "plt.xticks(range(0, 24))\n",
    "plt.grid(True)\n",
    "plt.show()"
   ]
  },
  {
   "cell_type": "code",
   "execution_count": 60,
   "metadata": {},
   "outputs": [
    {
     "data": {
      "image/png": "[encoded data removed]",
      "text/plain": [
       "<Figure size 1000x600 with 1 Axes>"
      ]
     },
     "metadata": {},
     "output_type": "display_data"
    }
   ],
   "source": [
    "# Building a graph\n",
    "plt.figure(figsize=(10, 6))\n",
    "sns.histplot(data, x='day_of_week', bins=7, edgecolor='black', kde=True)\n",
    "plt.title('Dayly distribution of fraud transactions')\n",
    "plt.xlabel('Day_of_week')\n",
    "plt.ylabel('Frequency')\n",
    "plt.xticks(range(0, 7))\n",
    "plt.grid(True)\n",
    "plt.show()"
   ]
  },
  {
   "cell_type": "markdown",
   "metadata": {},
   "source": [
    "__Based on the presented graphs, no dependencies on the time of the operation are detected. However, this is not visible to the eye, but perhaps it will be useful to us when building a model.__"
   ]
  },
  {
   "cell_type": "markdown",
   "metadata": {},
   "source": [
    "Let's create a function to find out the country by IP."
   ]
  },
  {
   "cell_type": "code",
   "execution_count": 64,
   "metadata": {},
   "outputs": [
    {
     "name": "stdout",
     "output_type": "stream",
     "text": [
      "Country: United States\n"
     ]
    }
   ],
   "source": [
    "import requests\n",
    "def get_country(ip_address):\n",
    "    # URL to send a request to the GeoIP API\n",
    "    url = f\"http://ip-api.com/json/{ip_address}\"\n",
    "\n",
    "    try:\n",
    "        # Sending a GET request to the GeoIP API\n",
    "        response = requests.get(url)\n",
    "        df = response.json()\n",
    "\n",
    "        # Extracting country and city information from a response\n",
    "        country = df['country']\n",
    "        \n",
    "\n",
    "        return country\n",
    "\n",
    "    except Exception as e:\n",
    "        print(\"Error:\", e)\n",
    "        return None, None\n",
    "\n",
    "# Example of using a function for an IP address\n",
    "ip_address = \"68.177.136.155\"\n",
    "country = get_country(ip_address)\n",
    "print(\"Country:\", country)"
   ]
  },
  {
   "cell_type": "code",
   "execution_count": null,
   "metadata": {},
   "outputs": [],
   "source": [
    "data['ip_country'] = data['ip_address'].apply(get_country)"
   ]
  },
  {
   "cell_type": "code",
   "execution_count": 66,
   "metadata": {},
   "outputs": [
    {
     "data": {
      "text/plain": [
       "United States          57378\n",
       "China                  14051\n",
       "Japan                   7571\n",
       "United Kingdom          6495\n",
       "Germany                 5475\n",
       "                       ...  \n",
       "Cabo Verde                 1\n",
       "Solomon Islands            1\n",
       "Haiti                      1\n",
       "Trinidad and Tobago        1\n",
       "Bhutan                     1\n",
       "Name: ip_country, Length: 154, dtype: int64"
      ]
     },
     "execution_count": 66,
     "metadata": {},
     "output_type": "execute_result"
    }
   ],
   "source": [
    "data['ip_country'].value_counts()"
   ]
  },
  {
   "cell_type": "code",
   "execution_count": 140,
   "metadata": {},
   "outputs": [
    {
     "data": {
      "text/plain": [
       "0"
      ]
     },
     "execution_count": 140,
     "metadata": {},
     "output_type": "execute_result"
    }
   ],
   "source": [
    "data['ip_country'].isnull().sum()"
   ]
  },
  {
   "cell_type": "markdown",
   "metadata": {},
   "source": [
    "Great, we found the country by IP"
   ]
  },
  {
   "cell_type": "code",
   "execution_count": 68,
   "metadata": {},
   "outputs": [
    {
     "data": {
      "text/plain": [
       "United States                       3148\n",
       "China                                760\n",
       "Japan                                403\n",
       "United Kingdom                       347\n",
       "Germany                              313\n",
       "                                    ... \n",
       "Democratic Republic of the Congo       1\n",
       "Sri Lanka                              1\n",
       "Oman                                   1\n",
       "Palestinian Territory                  1\n",
       "Senegal                                1\n",
       "Name: ip_country, Length: 126, dtype: int64"
      ]
     },
     "execution_count": 68,
     "metadata": {},
     "output_type": "execute_result"
    }
   ],
   "source": [
    "data[data['fraud']==True]['ip_country'].value_counts() # Distribution of fraudulent transactions by country"
   ]
  },
  {
   "cell_type": "code",
   "execution_count": 67,
   "metadata": {},
   "outputs": [
    {
     "name": "stdout",
     "output_type": "stream",
     "text": [
      "['Ivory Coast', 'China', 'United States', 'Japan', 'Australia', 'Italy', 'Belgium', 'Spain', 'Germany', 'United Kingdom', 'India', 'Brazil', 'Hong Kong', 'The Netherlands', 'Portugal', 'Canada', 'France', (None, None), 'Belarus', 'Russia', 'Mexico', 'Bulgaria', 'South Africa', 'Vietnam', 'Hungary', 'Benin', 'Poland', 'South Korea', 'Venezuela', 'Ireland', 'Argentina', 'Switzerland', 'Colombia', 'Sweden', 'Sudan', 'United Arab Emirates', 'Moldova', 'Zambia', 'Zimbabwe', 'Morocco', 'Czechia', 'Finland', 'Iran', 'Singapore', 'Denmark', 'Egypt', 'Ukraine', 'Philippines', 'Saudi Arabia', 'Taiwan', 'Nigeria', 'Chile', 'Kenya', 'Palestine', 'New Zealand', 'Kuwait', 'Belize', 'Norway', 'Algeria', 'Romania', 'Tunisia', 'Türkiye', 'Pakistan', 'Georgia', 'Thailand', 'Malaysia', 'Seychelles', 'Indonesia', 'Mauritius', 'Ecuador', 'Tanzania', 'Puerto Rico', 'Austria', 'Uganda', 'Greece', 'Estonia', 'Serbia', 'Slovakia', 'Malawi', 'Peru', 'Slovenia', 'Israel', 'Nepal', 'Netherlands', 'Mozambique', 'Dominican Republic', 'Armenia', 'Croatia', 'Malta', 'Bangladesh', 'Turkey', 'Jordan', 'North Macedonia', 'Uruguay', 'Latvia', 'Guatemala', 'Ghana', 'Cameroon', 'Iceland', 'St Kitts and Nevis', 'Gambia', 'Yemen', 'Angola', 'Honduras', 'Syria', 'Guadeloupe', 'Togo', 'Costa Rica', 'Paraguay', 'Bosnia and Herzegovina', 'Myanmar', 'Cyprus', 'Turkmenistan', 'Mali', 'El Salvador', 'Burkina Faso', 'Kazakhstan', 'Bermuda', 'Bolivia', 'Nicaragua', 'Panama', 'Sierra Leone', 'Chad', 'Oman', 'Montenegro', 'Lithuania', 'Democratic Republic of the Congo', 'Madagascar', 'Uzbekistan', 'Bahrain', 'Lebanon', 'Iraq', 'Qatar', 'Jamaica', 'Macao', 'Cambodia', 'French Polynesia', 'Guam', 'U.S. Virgin Islands', 'Azerbaijan', 'Luxembourg', 'Botswana', 'Albania', 'Senegal', 'Sri Lanka', 'Palestinian Territory', 'Tajikistan', 'Aland Islands', 'Cabo Verde', 'Solomon Islands', 'Gabon', 'Haiti', 'Trinidad and Tobago', 'Bhutan']\n"
     ]
    }
   ],
   "source": [
    "ip_countries_list = list(data['ip_country'].unique()) #Let's look at the list of countries that we received from ip\n",
    "print(ip_countries_list)"
   ]
  },
  {
   "cell_type": "code",
   "execution_count": 80,
   "metadata": {},
   "outputs": [
    {
     "data": {
      "text/html": [
       "<div>\n",
       "<style scoped>\n",
       "    .dataframe tbody tr th:only-of-type {\n",
       "        vertical-align: middle;\n",
       "    }\n",
       "\n",
       "    .dataframe tbody tr th {\n",
       "        vertical-align: top;\n",
       "    }\n",
       "\n",
       "    .dataframe thead th {\n",
       "        text-align: right;\n",
       "    }\n",
       "</style>\n",
       "<table border=\"1\" class=\"dataframe\">\n",
       "  <thead>\n",
       "    <tr style=\"text-align: right;\">\n",
       "      <th></th>\n",
       "      <th>ip_country</th>\n",
       "      <th>fraud_count</th>\n",
       "      <th>total_count</th>\n",
       "    </tr>\n",
       "  </thead>\n",
       "  <tbody>\n",
       "    <tr>\n",
       "      <th>121</th>\n",
       "      <td>United States</td>\n",
       "      <td>3148.0</td>\n",
       "      <td>57378</td>\n",
       "    </tr>\n",
       "    <tr>\n",
       "      <th>22</th>\n",
       "      <td>China</td>\n",
       "      <td>760.0</td>\n",
       "      <td>14051</td>\n",
       "    </tr>\n",
       "    <tr>\n",
       "      <th>56</th>\n",
       "      <td>Japan</td>\n",
       "      <td>403.0</td>\n",
       "      <td>7571</td>\n",
       "    </tr>\n",
       "    <tr>\n",
       "      <th>120</th>\n",
       "      <td>United Kingdom</td>\n",
       "      <td>347.0</td>\n",
       "      <td>6495</td>\n",
       "    </tr>\n",
       "    <tr>\n",
       "      <th>37</th>\n",
       "      <td>Germany</td>\n",
       "      <td>313.0</td>\n",
       "      <td>5475</td>\n",
       "    </tr>\n",
       "    <tr>\n",
       "      <th>100</th>\n",
       "      <td>South Korea</td>\n",
       "      <td>210.0</td>\n",
       "      <td>3802</td>\n",
       "    </tr>\n",
       "    <tr>\n",
       "      <th>34</th>\n",
       "      <td>France</td>\n",
       "      <td>207.0</td>\n",
       "      <td>3449</td>\n",
       "    </tr>\n",
       "    <tr>\n",
       "      <th>0</th>\n",
       "      <td>(None, None)</td>\n",
       "      <td>202.0</td>\n",
       "      <td>3735</td>\n",
       "    </tr>\n",
       "    <tr>\n",
       "      <th>15</th>\n",
       "      <td>Brazil</td>\n",
       "      <td>190.0</td>\n",
       "      <td>3601</td>\n",
       "    </tr>\n",
       "    <tr>\n",
       "      <th>53</th>\n",
       "      <td>Italy</td>\n",
       "      <td>142.0</td>\n",
       "      <td>2767</td>\n",
       "    </tr>\n",
       "  </tbody>\n",
       "</table>\n",
       "</div>"
      ],
      "text/plain": [
       "         ip_country  fraud_count  total_count\n",
       "121   United States       3148.0        57378\n",
       "22            China        760.0        14051\n",
       "56            Japan        403.0         7571\n",
       "120  United Kingdom        347.0         6495\n",
       "37          Germany        313.0         5475\n",
       "100     South Korea        210.0         3802\n",
       "34           France        207.0         3449\n",
       "0      (None, None)        202.0         3735\n",
       "15           Brazil        190.0         3601\n",
       "53            Italy        142.0         2767"
      ]
     },
     "execution_count": 80,
     "metadata": {},
     "output_type": "execute_result"
    }
   ],
   "source": [
    "# Create a DataFrame with data for each unique country and output transactions where fraud == True\n",
    "fraud_transactions = data[data['fraud'] == True].groupby('ip_country').size().reset_index(name='fraud_count')\n",
    "\n",
    "# Create a DataFrame with data for each unique country and the total number of transactions\n",
    "total_transactions = data.groupby('ip_country').size().reset_index(name='total_count')\n",
    "\n",
    "# Join both DataFrames by column 'ip_country'\n",
    "result_df = pd.merge(fraud_transactions, total_transactions, on='ip_country', how='outer')\n",
    "\n",
    "# Fill in missing values ​​with zeros (if there were no fraudulent transactions for some countries)\n",
    "result_df.fillna(0, inplace=True)\n",
    "\n",
    "result_df.sort_values(by='fraud_count', ascending=False, inplace=True)\n",
    "result_df.head(10)"
   ]
  },
  {
   "cell_type": "code",
   "execution_count": 85,
   "metadata": {},
   "outputs": [
    {
     "name": "stdout",
     "output_type": "stream",
     "text": [
      "state (region): Florida\n"
     ]
    }
   ],
   "source": [
    "def get_region(ip_address):\n",
    "    # URL to send a request to the GeoIP API\n",
    "    url = f\"http://ip-api.com/json/{ip_address}\"\n",
    "\n",
    "    try:\n",
    "        # Sending a GET request to the GeoIP API\n",
    "        response = requests.get(url)\n",
    "        data = response.json()\n",
    "\n",
    "        # Extracting state/region information from a response\n",
    "        region = data.get('regionName', None)  # 'regionName' may contain state or region\n",
    "\n",
    "        return region\n",
    "\n",
    "    except Exception as e:\n",
    "        print(\"Error:\", e)\n",
    "        return None\n",
    "\n",
    "# Example of using a function for an IP address\n",
    "ip_address = \"68.177.136.155\"\n",
    "region = get_region(ip_address)\n",
    "print(\"state (region):\", region)"
   ]
  },
  {
   "cell_type": "code",
   "execution_count": null,
   "metadata": {},
   "outputs": [],
   "source": [
    "data['ip_state'] = data['ip_address'].apply(get_region)"
   ]
  },
  {
   "cell_type": "code",
   "execution_count": 87,
   "metadata": {},
   "outputs": [
    {
     "data": {
      "text/plain": [
       "Ohio                2963\n",
       "California          1759\n",
       "England             1739\n",
       "New York            1262\n",
       "Tokyo               1204\n",
       "                    ... \n",
       "Manisa                 1\n",
       "Leningrad Oblast       1\n",
       "Sulaymaniyah           1\n",
       "Puebla                 1\n",
       "Kerala                 1\n",
       "Name: ip_state, Length: 820, dtype: int64"
      ]
     },
     "execution_count": 87,
     "metadata": {},
     "output_type": "execute_result"
    }
   ],
   "source": [
    "data['ip_state'].value_counts()"
   ]
  },
  {
   "cell_type": "code",
   "execution_count": 138,
   "metadata": {},
   "outputs": [
    {
     "data": {
      "text/plain": [
       "106285"
      ]
     },
     "execution_count": 138,
     "metadata": {},
     "output_type": "execute_result"
    }
   ],
   "source": [
    "data['ip_state'].isnull().sum()"
   ]
  },
  {
   "cell_type": "markdown",
   "metadata": {},
   "source": [
    "There were problems with obtaining the region, there were too many gaps, in this form this sign will not be useful to us."
   ]
  },
  {
   "cell_type": "code",
   "execution_count": 89,
   "metadata": {},
   "outputs": [
    {
     "name": "stdout",
     "output_type": "stream",
     "text": [
      "['Abidjan', 'Guangdong', 'Pennsylvania', 'New Jersey', 'Kanagawa', 'Illinois', 'Ohio', 'Queensland', 'Piedmont', 'Tokyo', 'Lombardy', 'Fujian', 'Hawaii', 'Flanders', 'Canary Islands', 'Arizona', 'Massachusetts', 'North Rhine-Westphalia', 'Alaska', 'Virginia', 'England', 'Bihar', 'Parana', 'Shaanxi', 'Central and Western District', 'Beijing', 'Shanghai', 'Campania', 'Hyōgo', 'North Holland', 'Lisbon', 'New York', 'California', 'Ontario', 'South Carolina', 'Ibaraki', 'Hesse', 'Brittany', 'Lazio', 'Washington', 'Aichi', 'Florida', None, 'Centre-Val de Loire', 'Minsk City', 'North Carolina', 'District of Columbia', 'St.-Petersburg', 'Georgia', 'Anhui', 'Colorado', 'Baja California', 'Sofia-Capital', 'Gauteng', 'Sao Paulo', 'Alabama', 'Bắc Ninh Province', 'Minnesota', 'Littoral', 'Hanoi', 'Limburg', 'Louisiana', 'Leinster', 'Oregon', 'Qinghai', 'Lower Saxony', 'Buenos Aires', 'Goias', 'Santa Fe', 'Stockholm County', 'New South Wales', 'Occitanie', 'Texas', 'Galicia', 'Gyeongsangbuk-do', 'Sichuan', 'Tokushima', 'Quebec', 'Mazovia', 'Seoul', 'Bogota D.C.', 'Taiwan', 'Lagos', 'Île-de-France', 'Santiago Metropolitan', 'Nairobi', 'Hebron', 'Shandong', 'Bay of Plenty', 'Nebraska', 'Chongqing', 'Bavaria', 'Karnataka', 'Central Singapore', 'Al Asimah', 'Iowa', 'Stann Creek District', 'Southwest Finland', 'Maryland', 'Rogaland', 'Jiangsu', 'Buenos Aires F.D.', 'Annaba', 'Wyoming', 'Tehran', 'Liaoning', 'Nevada', 'Moscow Oblast', 'San Juan', 'Arkansas', 'Fukushima', 'Mexico City', 'East Java', 'Vienna', 'Victoria', 'Krasnoyarsk Krai', 'Fukuoka', 'Missouri', 'Rheinland-Pfalz', 'Wales', 'Madrid', 'Auvergne-Rhone-Alpes', 'Zhejiang', 'Subcarpathia', 'Baden-Wurttemberg', 'Brandenburg', 'Hebei', 'Central Region', 'Rio de Janeiro', 'Calabria', 'Indiana', 'Utrecht', 'Moscow', 'Wallonia', 'Maharashtra', 'Lesser Poland', \"Provence-Alpes-Côte d'Azur\", 'Zurich', 'Kowloon City', 'Tennessee', 'Baja California Sur', 'Uusimaa', 'Kansas', 'Emilia-Romagna', 'Ōsaka', 'Gyeonggi-do', 'Gafsa', 'Lampung', 'Antioquia', 'Southern Region', 'Central District', 'Catalonia', 'México', 'Connecticut', 'Tamil Nadu', 'Riyadh Region', 'Plaines Wilhems District', 'Zala', 'Kyiv City', 'Shanxi', 'British Columbia', 'Geneva', 'Metro Manila', 'Basque Country', 'Alexandria', 'Rio Grande do Sul', 'Mecklenburg-Vorpommern', 'Michigan', 'Saskatchewan', 'Smolensk Oblast', 'Vorarlberg', 'Guayas', 'Kostroma Oblast', 'South Australia', 'Budapest', 'Idaho', 'Yucatán', 'Central and Western', 'Ehime', 'Belgrade', 'North West', 'Sindh', 'Departamento de Bolivar', 'Capital Region', 'Khyber Pakhtunkhwa', 'Ariana Governorate', 'Henan', 'Land Berlin', 'Niigata', 'Tochigi', 'North Dakota', 'Cundinamarca', 'Bursa Province', 'Kentucky', 'Dubai', 'Bà Rịa–Vũng Tàu Province', 'South Holland', 'Bangkok', 'Jakarta', 'Sardinia', 'Extremadura', 'Oslo County', 'Lower Silesia', 'Viken', 'Jeollanam-do', 'Lower Austria', 'Ho Chi Minh', 'Taipei City', 'Zealand', 'Novosibirsk Oblast', 'Tuscany', 'Oklahoma', 'Normandy', 'Sicily', 'Delaware', 'Hauts-de-France', 'Taoyuan', 'Hubei', 'Centre', 'Västra Götaland County', 'New Hampshire', 'Cordoba', 'Andalusia', 'Ishikawa', 'Tartu', 'Đồng Nai Province', 'Castille-La Mancha', 'Košice Region', 'Abruzzo', 'Nuevo León', 'Punjab', 'Banjul', 'Auckland', 'Greater Accra Region', 'West Bengal', 'Pernambuco', 'Bács-Kiskun', 'Cairo Governorate', 'Shiga', 'Guangxi', 'Chiba', 'Taichung City', 'North Denmark', \"'Asir Region\", 'The Marches', 'Brussels Capital', 'Mato Grosso do Sul', 'Distrito Federal', 'București', 'Souss-Massa', 'Montevideo Department', 'Amazonas', 'Telangana', 'Wellington', 'Miranda', 'Incheon', 'Okinawa', 'Groningen', 'Cluj County', 'Saitama', 'Giza', 'Hokkaido', 'Saxony', 'Maritime', 'North Brabant', 'Tizi Ouzou', 'Beheira', 'Inner Mongolia', 'Rajasthan', 'Pest megye', 'Free and Hanseatic City of Hamburg', 'Alborz Province', 'Jeollabuk-do', 'Overijssel', 'Luanda Province', 'Marrakesh-Safi', 'Espirito Santo', 'Veneto', 'Tsuen Wan District', 'Eastern', 'Flevoland', 'Greater Poland', 'Schleswig-Holstein', 'Wisconsin', 'Heilongjiang', 'Moravskoslezsky kraj', 'Haryana', 'Murcia', 'Da Nang', 'Prague', 'Yên Bái Province', 'Valencia', 'Busan', 'City of Zagreb', 'Alberta', 'Australian Capital Territory', '', 'Hunan', 'Crete', 'Santa Catarina', 'Provincia de San Jose', 'Alba County', 'Tel Aviv', 'Grad Skopje', 'Kyoto', 'Puno', 'Saxony-Anhalt', 'Western Australia', 'West Java', 'Yangon', 'Yamaguchi', 'South Denmark', 'Selangor', 'Tungurahua', 'New Taipei', 'Munster', 'Abu Dhabi', 'North Chungcheong', 'Hainan', 'Gyeongsangnam-do', 'Plzeň Region', 'Tianjin', 'Manitoba', 'Santarém', 'Departamento de San Salvador', 'Connacht', 'Yunnan', 'Trentino-Alto Adige', 'Gwangju', 'Minas Gerais', 'Jiangxi', 'Chișinău Municipality', 'Harjumaa', 'Primorye', 'Pichincha', 'Hidalgo', 'Colima', 'Rabat-Sale-Kenitra', 'Grand Est', 'Central Jutland', 'Canterbury', 'Obcina Bled', 'West Greece', 'Algiers', 'Balearic Islands', 'Scotland', 'Tunis Governorate', 'Kırklareli', 'Bern', 'Botoșani County', 'South Karelia Region', 'Nizhny Novgorod Oblast', 'Northern District', 'Nara', 'National Capital Territory of Delhi', 'Kuala Lumpur', 'Ilfov', 'Gansu', 'Madhya Pradesh', 'Styria', 'Fukui', 'Istanbul', 'Salta', 'Saratov Oblast', 'Federal District', 'Yerevan', 'Vestland', 'Mogilev', 'Kaohsiung', 'Porto', 'Northwest', 'Vermont', 'Rîşcani', 'Qinghai Sheng', 'Western Area', 'Montana', 'Jalisco', 'Saarland', 'Damascus Governorate', 'Friesland', 'Leiria', 'Dar es Salaam Region', 'Ashgabat', 'Dnipropetrovsk Oblast', 'Riau', 'Liguria', 'Muscat', 'Aragon', 'Gelderland', 'Vilnius', 'Islands District', 'Dolj', 'Irkutsk Oblast', 'Lima Province', 'Apulia', 'Shinyanga', 'Taipei', 'Rio Grande do Norte', 'Tatarstan Republic', 'Nouvelle-Aquitaine', 'Muğla', 'Utah', 'Gunma', 'Ivano-Frankivsk Oblast', 'Pays de la Loire', 'Hiroshima', 'Gifu', 'Silesia', 'East Azerbaijan Province', 'Analamanga', 'Bratislava Region', 'Chiayi County', 'Mississippi', 'Republika Srpska', 'Mie', 'Southern District', 'Isfahan', 'İzmir Province', 'Sejong-si', 'Atyrau Oblysy', 'Rostov Oblast', 'Hualien County', 'Western Cape', 'Varna', 'Islamabad', 'Attica', 'Central Ostrobothnia', 'Bagmati Province', 'Eastern Province', 'Bắc Giang Province', 'Asuncion', 'Jilin', 'Västernorrland County', 'Nayarit', 'Basel-City', 'Buzău County', 'Almaty', 'Trnava Region', 'Departamento del Magdalena', 'Friuli Venezia Giulia', 'Francisco Morazán Department', 'Tyrol', 'Adana', 'Tanger-Tetouan-Al Hoceima', 'Bragança', 'Kraj Vysocina', 'Misiones', 'Keelung City', 'Miyagi', 'West Pomerania', 'Haifa', 'West Virginia', \"O'Higgins Region\", 'Heredia Province', 'Jerusalem', \"K'alak'i T'bilisi\", 'Lusaka Province', 'Washington, D.C.', 'Hsinchu City', 'North East', 'Sarawak', 'Al Aḩmadī', 'Umbria', 'Vojvodina', 'Casablanca-Settat', 'Entre Rios', 'Thuringia', 'West Kazakhstan', 'Sha Tin', 'Coquimbo Region', 'Perm Krai', 'Bremen', 'Nonthaburi', 'Eastern Cape', 'Kayseri', 'Amanat Alasimah', 'Shizuoka', 'Zug', 'Departamento del Valle del Cauca', 'Solothurn', 'Guanajuato', 'Pirkanmaa', 'Thanh Hóa Province', 'Norte de Santander Department', 'Bahia', 'Sonora', 'Zeeland', 'Mecca Region', 'Maine', 'South West', 'Värmland County', 'Plovdiv', 'Tainan', 'Dhaka Division', 'New Mexico', 'Cantabria', 'Møre og Romsdal', 'Nagano', 'Ramallah and al-Bireh Governorate', 'Şırnak', 'Jeju-do', 'Parish of Saint Ann', 'Veracruz', 'Northern Ireland', 'Kowloon', 'Dakahlia', 'English River', 'Beni Suweif', 'Iwate', 'KwaZulu-Natal', 'Chungcheongnam-do', 'Thurgau', 'Riga', 'Blekinge County', 'Gangwon-do', 'West Kalimantan', \"Aktyubinskaya Oblast'\", 'Csongrad megye', 'Pskov Oblast', 'South Moravian', 'Skåne County', 'Tas-Sliema', 'Omsk Oblast', 'Thái Bình Province', 'Nagasaki', 'Donetska Oblast', 'Łódź Voivodeship', 'Udmurtiya Republic', 'Oran', 'Faiyum', 'Sinaloa', 'Banten', 'Daegu', 'Ceara', 'South East', 'Molise', 'Duplek', 'Sousse Governorate', 'Yevrey (Jewish) Autonomous Oblast', 'Soccsksargen', 'Alagoas', 'Departamento de Santander', 'Kumamoto', 'Yamanashi', 'Szabolcs-Szatmár-Bereg', 'Haiphong', 'Santa Cruz Department', 'Sverdlovsk Oblast', 'South Dakota', 'Para', 'Tver Oblast', 'Xinjiang', 'Telsiai', 'Jönköping', 'Iles du Vent', 'Piaui', 'Sétif', 'Nacional', 'Aargau', 'Ulster', 'Lviv', 'Kharkiv', 'Kagawa', 'Rio Negro', 'Bamako Region', 'Castille and León', 'São Paulo', 'Dalarna County', 'Arkhangelskaya', 'Larnaka', 'Hatay', 'Ankara', 'Tocantins', 'Uttar Pradesh', 'Sidi Bouzid Governorate', 'Bouira', 'Andhra Pradesh', 'Arusha', 'Warmia-Masuria', 'Michoacán', 'Durango', 'Khuzestan', 'Uppsala County', 'Chaco', 'Campeche', 'Chelyabinsk Oblast', 'Morelos', 'Trøndelag', 'Voronezh Oblast', 'Los Lagos Region', 'Guaynabo', 'Crimea', 'Bashkortostan Republic', 'Fribourg', 'Lääne-Virumaa', 'Bourgogne-Franche-Comte', 'Nakuru', 'Donetsk', 'Tlemcen', 'Kwun Tong', 'L-Imsida', 'Managua Department', 'Tashkent', 'Sofala Province', 'Principality of Asturias', 'Aragua', 'Akita', 'Roraima', 'Beni Mellal-Khenifra', 'Ismailia Governorate', 'Chihuahua', 'Ñuble', 'Koper', 'Guizhou', 'Lucerne', 'Oaxaca', 'Nicosia', 'Central Bohemia', 'Gilan Province', 'Coahuila', 'Trà Vinh Province', 'Södermanland County', 'Vaud', 'Epirus', 'Aosta Valley', 'Tomsk Oblast', 'Suphanburi', 'Tirana', 'Calabarzon', 'Rezekne', 'Hsinchu County', 'Ulyanovsk Oblast', 'Suez', 'Zulia', 'Lima region', 'Provincia de Panama', 'Anzoátegui', 'Kralovehradecky kraj', 'Stockholm', 'Upper Austria', 'Tula Oblast', 'Uttarakhand', 'Cordillera', 'Sergipe', 'Chon Buri', 'Khartoum', 'New Brunswick', 'Limón Province', 'Kochi', 'Haz-Zebbug', 'Phnom Penh', 'Fes-Meknes', 'Aomori', 'Mayo-Kebbi Ouest', 'East Kazakhstan', 'Sumy', 'Lublin', 'Region de Valparaiso', 'Neuquen', 'Fujairah', 'Halland County', 'Saint Thomas Island', 'Silistra', 'Manama', 'West Macedonia', 'San Luis', 'Atlántico', 'Bali', 'Abai Region', 'Tabasco', 'Yamagata', 'Tai Po District', 'Saga', 'Nakhon Sawan', 'Vitebsk', 'Santiago del Estero', 'Sulaymaniyah', 'Gujarat', 'Melilla', 'Sharqia', 'Departamento de Risaralda', 'Tivat', 'Podlasie', 'Baku City', 'Al Anbar', 'Jura', 'Obwalden', 'Altai Krai', 'Pingtung', 'Antofagasta', 'Dakar', 'Daejeon', 'Carinthia', 'Federation of Bosnia and Herzegovina', 'Western Province', 'Salzburg', 'Chhattisgarh', 'Samara Oblast', 'Penza Oblast', 'Ustecky kraj', 'Tây Ninh Province', 'Vallee du Bandama', 'Split-Dalmatia County', 'Khanty-Mansia', 'Östergötland County', 'Yaroslavl Oblast', 'Stavropol Kray', 'West Bank', 'Okayama', 'Corrientes', 'Central Visayas', 'Iași County', 'Uşak', 'National Capital Region', 'Beyrouth', 'Toyama', 'Guatemala', 'Agder', 'Liberecky kraj', 'Sohag', 'Departamento del Cesar', 'Opstina Kolasin', 'Gaborone', 'Schaffhausen', 'Pomerania', 'Central Macedonia', 'Mohafazat Aakkar', 'Qom Province', 'Limassol District', 'Saint John', 'Bengkulu', 'Nova Scotia', 'Prahova', 'Guadeloupe', 'Mato Grosso', 'Ningxia', 'Al-Qassim Region', 'Ben Arous Governorate', 'Burdur', 'Kujawsko-Pomorskie', 'Kamchatka', 'Region del Biobio', 'Ancash', 'Ljubljana', 'Medina Region', 'Velika Polana', 'Puerto Plata', 'Coimbra', 'Hà Giang Province', 'Wakayama', 'Braga', 'Guárico', 'Ticino', 'Kinshasa City', 'Assam', 'Puebla', 'Yuen Long District', 'Arequipa', 'Leningrad Oblast', 'Manisa', 'Saint George Basseterre', 'Timiș County', 'Tozeur Governorate', 'Central Java', 'Yau Tsim Mong', 'Orenburg Oblast', 'Mariehamns stad', 'Departamento de Narino', 'La Rioja', 'Västmanland County', 'Ivanovo Oblast', 'Manabí', 'Şanlıurfa', 'Aguascalientes', 'FCT', 'Setúbal', 'Pardubicky kraj', 'Harare', 'Jujuy', 'Johor', 'Katsina State', 'Blida', 'Gävleborg County', 'Dededo', 'Kerman', 'Krasnodar Krai', 'Sfax Governorate', 'Tyumen Oblast', 'Canelones', 'Baladiyat ad Dawhah', 'Zagreb County', 'Satu Mare County', 'Oita', 'Sai Kung District', 'Departamento de Neembucu', 'Wan Chai', 'Akershus', 'Maule Region', 'Guerrero', 'Kyiv Oblast', 'Ternopil Oblast', 'Provincia de Santo Domingo', 'Kwai Tsing', 'Trebnje', 'Delhi', 'Central Finland', 'Central Greece', 'Drenthe', 'Opole Voivodeship', 'Provincia de Cocle', 'Arges', 'Rhode Island', 'Hamilton city', 'Mersin', 'Pembroke Parish', 'Chiayi', 'Yilan County', 'Shimane', 'Thimphu District', 'Kaliningrad Oblast', 'Kerala']\n"
     ]
    }
   ],
   "source": [
    "ip_state_list = list(data['ip_state'].unique())\n",
    "print(ip_state_list)"
   ]
  },
  {
   "cell_type": "markdown",
   "metadata": {},
   "source": [
    "__So, great, we have the billing_country attribute that contains data from the country of card registration (USA) and data from the country where the transaction was carried out, ip_country. We will make additional indications whether the country and state of registration matches the country and state of the transaction__"
   ]
  },
  {
   "cell_type": "markdown",
   "metadata": {},
   "source": [
    "The country of registration is not clearly indicated, but let's check whether the cards are registered in the states or not."
   ]
  },
  {
   "cell_type": "code",
   "execution_count": 95,
   "metadata": {},
   "outputs": [
    {
     "data": {
      "text/plain": [
       "United States    147123\n",
       "Name: billing_country, dtype: int64"
      ]
     },
     "execution_count": 95,
     "metadata": {},
     "output_type": "execute_result"
    }
   ],
   "source": [
    "states = [\n",
    "    \"Alabama\", \"Alaska\", \"Arizona\", \"Arkansas\", \"California\", \"Colorado\", \"Connecticut\", \"Delaware\", \"Florida\",\n",
    "    \"Georgia\", \"Hawaii\", \"Idaho\", \"Illinois\", \"Indiana\", \"Iowa\", \"Kansas\", \"Kentucky\", \"Louisiana\", \"Maine\",\n",
    "    \"Maryland\", \"Massachusetts\", \"Michigan\", \"Minnesota\", \"Mississippi\", \"Missouri\", \"Montana\", \"Nebraska\",\n",
    "    \"Nevada\", \"New Hampshire\", \"New Jersey\", \"New Mexico\", \"New York\", \"North Carolina\", \"North Dakota\", \"Ohio\",\n",
    "    \"Oklahoma\", \"Oregon\", \"Pennsylvania\", \"Rhode Island\", \"South Carolina\", \"South Dakota\", \"Tennessee\", \"Texas\",\n",
    "    \"Utah\", \"Vermont\", \"Virginia\", \"Washington\", \"West Virginia\", \"Wisconsin\", \"Wyoming\"\n",
    "]\n",
    "\n",
    "data['billing_country'] = data['billing_state'].apply(lambda x: 'United States' if x in states else None)\n",
    "data['billing_country'].value_counts()\n"
   ]
  },
  {
   "cell_type": "markdown",
   "metadata": {},
   "source": [
    "All transactions with billing addresses from the USA"
   ]
  },
  {
   "cell_type": "code",
   "execution_count": 142,
   "metadata": {},
   "outputs": [
    {
     "name": "stdout",
     "output_type": "stream",
     "text": [
      "1    89745\n",
      "0    57378\n",
      "Name: country_match, dtype: int64\n"
     ]
    }
   ],
   "source": [
    "data['country_match'] = data.apply(lambda row: 0 if row['billing_country'] == row['ip_country'] else 1, axis=1)\n",
    "print(data['country_match'].value_counts()) #Discrepancies by country (1 does not match)"
   ]
  },
  {
   "cell_type": "markdown",
   "metadata": {},
   "source": [
    "We will transfer those addresses that have already been scammed to the list to give weight and mark those who are scammers"
   ]
  },
  {
   "cell_type": "code",
   "execution_count": 98,
   "metadata": {},
   "outputs": [
    {
     "name": "stdout",
     "output_type": "stream",
     "text": [
      "IP addresses from which there were fraudulent transactions ['192.167.7.42', '110.81.226.130', '93.204.224.31', '96.100.129.207', '179.105.147.32', '148.92.230.219', '211.69.245.145', '26.80.84.59', '96.31.180.211', '143.15.243.175', '193.88.88.39', '140.52.241.167', '27.126.49.10', '159.110.253.5', '37.242.38.37', '22.129.224.214', '40.90.96.113', '118.37.219.182', '51.239.6.85', '148.178.40.84', '220.136.33.1', '67.58.19.50', '45.140.226.174', '52.63.210.87', '65.161.47.78', '183.33.79.188', '36.55.154.85', '64.221.56.85', '52.227.226.208', '153.180.139.1', '221.107.175.65', '88.122.168.62', '55.75.197.38', '54.11.135.65', '83.3.91.183', '23.93.243.124', '148.44.122.27', '62.49.193.64', '80.32.206.234', '47.102.83.63', '145.212.60.183', '99.145.193.142', '140.166.187.13', '204.24.138.62', '213.169.204.55', '167.242.121.168', '47.33.172.61', '84.112.92.70', '62.240.183.21', '146.158.100.46', '196.53.241.72', '68.110.173.67', '110.39.218.175', '88.9.170.217', '91.107.15.135', '181.130.104.177', '55.212.145.232', '18.101.211.78', '200.243.100.5', '137.199.147.56', '76.117.194.93', '123.31.53.217', '20.211.202.33', '145.250.73.117', '147.16.48.51', '213.236.73.247', '167.25.85.30', '97.62.37.243', '87.108.77.239', '32.222.79.89', '160.64.238.244', '141.152.211.0', '95.25.48.144', '10.179.180.77', '123.147.228.89', '107.150.1.108', '61.25.126.139', '152.218.173.26', '3.148.47.249', '98.34.185.86', '189.35.239.78', '189.73.106.223', '121.253.52.245', '206.126.46.15', '42.174.121.235', '170.34.175.229', '31.229.56.159', '16.49.132.50', '110.83.125.118', '59.70.108.245', '195.100.73.218', '61.249.227.141', '38.43.24.8', '205.184.112.75', '122.41.179.107', '134.8.70.181', '122.231.229.204', '202.214.83.220', '9.233.22.200', '39.33.92.72', '139.160.126.208', '148.122.16.251', '174.2.50.69', '92.79.200.143', '140.43.29.131', '104.88.32.124', '91.194.56.125', '3.218.234.199', '62.193.193.117', '213.95.117.254', '210.155.4.153', '113.137.58.202', '58.134.38.85', '186.110.98.6', '179.60.146.84', '3.71.105.224', '36.177.100.113', '118.213.163.87', '11.101.60.16', '23.115.158.29', '131.132.186.25', '43.7.251.92', '163.74.24.105', '82.158.21.216', '176.148.27.204', '121.251.80.126', '119.99.221.118', '182.92.25.212', '59.213.3.3', '44.182.28.106', '194.94.91.169', '111.109.146.144', '117.76.71.105', '98.187.77.87', '119.249.225.95', '56.30.42.254', '214.71.74.23', '51.125.143.148', '36.249.78.182', '17.141.42.199', '45.87.110.172', '28.50.110.100', '92.5.196.133', '163.165.194.169', '71.29.111.70', '67.146.52.198', '136.249.198.52', '182.26.202.33', '190.122.221.27', '4.47.173.44', '141.139.173.184', '120.252.200.94', '100.218.207.188', '149.119.229.83', '189.125.16.226', '107.145.174.123', '141.199.27.145', '31.242.27.68', '157.229.153.141', '172.22.76.63', '80.170.115.140', '195.98.161.215', '101.147.194.60', '42.10.69.161', '101.240.253.201', '13.71.14.138', '114.119.7.115', '54.63.249.225', '103.13.136.99', '50.206.204.24', '174.7.117.9', '17.111.38.210', '59.128.103.130', '74.198.104.77', '157.176.189.55', '181.173.187.112', '87.34.45.225', '160.37.164.136', '100.1.235.201', '8.215.64.97', '3.1.14.177', '191.49.152.201', '59.193.94.184', '92.222.40.70', '163.220.117.71', '66.80.105.229', '104.227.196.179', '145.0.4.22', '216.233.223.215', '113.122.128.238', '207.243.0.243', '107.14.114.113', '22.202.8.213', '59.59.205.6', '210.33.232.94', '167.209.19.246', '53.116.207.53', '38.207.237.38', '62.214.26.198', '26.165.177.233', '220.37.129.87', '201.112.40.67', '28.159.245.150', '23.18.12.144', '87.5.73.193', '120.209.102.164', '81.220.57.157', '113.16.224.248', '16.190.87.183', '63.184.147.152', '122.108.57.33', '83.198.209.4', '27.61.70.30', '68.206.183.232', '8.109.199.154', '72.75.63.182', '161.127.9.189', '132.162.124.169', '119.59.101.167', '132.118.254.98', '172.106.233.146', '164.185.255.158', '34.127.9.80', '85.144.240.164', '83.11.224.70', '82.32.133.130', '222.23.176.237', '190.200.33.39', '79.205.225.37', '3.54.61.217', '158.225.186.72', '8.37.72.105', '40.81.124.35', '166.225.156.105', '124.182.197.116', '160.39.159.102', '133.74.122.182', '156.168.243.219', '20.71.217.225', '158.191.101.153', '99.232.255.253', '180.127.135.189', '150.224.35.136', '131.152.246.18', '39.131.182.12', '211.36.52.229', '28.134.233.245', '163.250.114.86', '69.8.190.128', '40.136.4.164', '3.116.59.50', '140.67.235.2', '27.32.166.120', '179.205.34.193', '150.121.233.60', '176.213.57.148', '57.39.57.167', '204.211.16.58', '81.0.98.244', '21.77.89.122', '16.30.30.72', '130.107.73.190', '147.84.93.220', '38.15.83.66', '212.215.245.254', '213.228.91.202', '120.218.76.110', '34.161.91.74', '216.18.84.239', '194.164.209.151', '24.131.66.209', '56.150.255.16', '157.99.142.66', '115.165.254.198', '82.219.20.186', '95.60.90.69', '179.137.188.221', '39.107.131.173', '55.94.100.215', '100.34.93.130', '175.151.137.241', '186.255.202.89', '183.164.70.110', '151.224.49.94', '125.169.192.62', '80.199.133.180', '64.172.170.232', '64.216.74.187', '109.110.231.103', '118.10.29.236', '152.20.93.139', '91.102.240.104', '88.100.218.47', '176.107.14.213', '131.160.158.166', '186.121.187.128', '164.165.157.9', '216.148.10.24', '183.228.229.3', '163.16.5.83', '218.184.52.229', '48.217.170.202', '160.237.174.129', '54.2.91.102', '170.169.145.223', '15.254.168.145', '193.35.51.21', '73.226.193.20', '94.12.162.53', '128.201.179.128', '10.103.70.165', '54.241.15.164', '32.4.75.100', '108.95.117.230', '84.168.41.223', '14.48.134.125', '22.172.118.196', '80.93.110.147', '122.156.102.209', '206.79.125.190', '59.124.2.142', '27.23.143.183', '11.148.236.63', '167.181.253.136', '37.164.206.237', '83.112.35.48', '41.23.113.3', '138.117.250.235', '215.165.75.136', '46.198.216.213', '110.254.32.167', '43.89.48.44', '218.20.112.152', '55.79.241.38', '17.143.179.210', '205.10.168.74', '87.36.206.192', '16.250.15.190', '4.116.102.3', '42.147.31.45', '113.220.159.226', '120.20.104.207', '21.92.43.196', '84.248.129.187', '19.196.35.158', '191.54.135.43', '92.83.210.231', '21.188.12.140', '114.240.124.180', '37.96.18.190', '185.103.92.248', '146.212.37.85', '159.95.55.186', '53.163.72.109', '82.30.124.197', '217.142.69.222', '42.23.77.38', '147.0.52.162', '175.137.217.96', '52.99.89.32', '140.89.101.41', '136.130.247.111', '172.211.201.53', '217.207.35.27', '138.150.32.67', '138.245.225.191', '47.23.70.160', '168.189.199.21', '91.65.250.21', '78.5.129.221', '39.136.123.244', '204.160.111.204', '106.239.250.11', '220.163.72.206', '129.66.15.230', '1.226.191.163', '169.51.119.209', '147.163.138.155', '108.183.195.47', '213.245.252.38', '10.161.216.157', '17.237.134.216', '2.197.239.43', '84.138.60.63', '136.219.91.111', '125.56.51.147', '143.230.245.228', '143.230.242.88', '25.102.239.149', '31.208.146.39', '5.69.161.124', '33.133.239.40', '185.119.223.152', '203.33.221.211', '207.71.254.85', '114.14.197.165', '205.45.199.51', '211.69.92.38', '121.136.75.147', '182.43.224.211', '156.175.26.48', '63.189.2.75', '126.242.76.51', '59.117.214.142', '214.61.213.105', '223.176.210.166', '203.15.26.3', '56.59.139.28', '162.39.137.1', '10.107.63.20', '75.241.166.30', '61.87.24.203', '143.192.180.246', '63.134.16.165', '50.87.7.33', '38.151.241.10', '72.193.29.96', '24.202.126.55', '76.114.182.23', '63.178.168.112', '42.183.147.29', '15.135.225.220', '41.58.163.250', '16.208.127.197', '142.144.33.219', '201.137.79.116', '2.112.125.222', '99.83.162.84', '171.67.170.168', '95.191.2.10', '120.194.211.4', '85.247.246.230', '44.30.213.244', '220.12.195.125', '132.218.192.49', '183.62.158.54', '36.28.180.104', '128.111.206.72', '195.60.120.232', '203.6.55.50', '146.23.189.3', '106.119.222.60', '143.73.24.101', '219.113.203.242', '62.58.64.39', '207.181.244.168', '168.124.93.20', '96.123.165.109', '194.136.198.211', '75.43.154.77', '149.168.130.216', '216.116.13.8', '168.67.86.59', '186.20.85.219', '75.73.32.135', '176.110.3.224', '102.185.210.1', '45.224.68.141', '221.107.19.96', '59.210.165.156', '46.33.15.66', '189.195.212.62', '148.42.191.125', '59.49.158.230', '28.98.157.193', '153.223.31.101', '62.212.163.51', '75.107.152.131', '202.153.228.96', '61.77.18.12', '141.88.14.200', '137.184.218.124', '143.63.198.173', '136.181.90.238', '37.233.234.46', '156.139.134.251', '110.134.77.227', '104.23.33.120', '133.110.99.111', '25.120.31.42', '58.20.235.245', '26.211.52.2', '134.237.121.135', '47.70.43.206', '184.193.148.43', '144.48.6.4', '55.76.113.84', '178.15.213.246', '171.191.26.144', '84.27.160.168', '124.152.229.35', '37.188.187.178', '55.54.80.184', '49.46.244.186', '156.27.5.79', '39.116.234.20', '116.171.211.5', '104.65.7.136', '165.193.183.210', '51.90.31.12', '142.1.113.242', '21.169.68.99', '77.99.140.220', '2.130.49.47', '183.43.117.214', '12.206.123.111', '102.51.35.34', '34.149.74.228', '108.60.39.232', '195.13.153.216', '77.168.111.220', '49.49.64.234', '1.34.16.181', '218.203.39.181', '78.16.165.154', '34.8.239.13', '115.162.227.222', '46.115.174.237', '96.219.81.27', '16.228.47.233', '28.196.86.85', '202.183.101.61', '158.56.189.197', '47.226.104.37', '9.190.198.239', '152.196.20.162', '3.50.117.67', '12.102.244.231', '130.86.111.65', '99.2.30.49', '73.199.113.207', '161.27.55.121', '184.139.109.95', '26.236.245.8', '147.132.62.218', '75.111.54.192', '90.149.37.248', '136.44.2.17', '195.199.177.136', '46.223.81.24', '1.83.230.161', '170.215.1.92', '151.8.62.246', '151.56.16.168', '211.142.106.14', '49.81.82.223', '38.101.236.67', '78.232.238.226', '13.249.66.102', '147.154.43.11', '82.104.115.127', '27.228.64.230', '153.176.87.138', '11.237.19.162', '136.92.121.123', '173.116.15.203', '147.133.189.81', '37.94.186.153', '166.72.126.50', '93.116.88.122', '98.112.157.24', '54.238.218.180', '170.25.62.253', '197.50.200.24', '69.2.170.222', '1.69.214.13', '66.6.198.181', '70.172.193.201', '159.9.130.62', '157.52.21.88', '135.134.149.239', '136.141.89.94', '69.111.169.19', '208.29.45.113', '98.53.10.212', '36.31.108.251', '207.125.7.89', '151.181.84.31', '147.246.33.60', '76.131.20.75', '107.226.248.117', '91.171.19.29', '193.219.118.217', '145.170.217.79', '82.50.149.186', '59.149.170.60', '220.58.65.192', '209.52.254.240', '121.60.124.189', '64.81.82.82', '154.24.101.4', '42.123.246.139', '126.109.121.47', '102.72.35.144', '200.34.182.0', '177.15.54.108', '43.80.2.171', '58.61.204.24', '75.14.31.92', '79.36.74.197', '44.202.201.239', '101.229.202.125', '180.222.147.12', '149.107.86.157', '163.128.222.38', '205.198.149.234', '80.187.193.200', '65.47.145.116', '177.197.252.0', '99.191.243.9', '76.167.55.27', '181.210.71.151', '45.139.47.1', '71.188.28.118', '35.170.9.140', '220.228.138.99', '141.51.191.206', '53.75.227.64', '50.1.31.134', '91.64.86.88', '184.22.58.117', '82.252.73.144', '19.224.103.44', '166.138.36.50', '190.190.240.158', '102.167.26.38', '195.120.165.81', '140.211.119.170', '153.16.57.120', '139.219.164.59', '172.139.213.197', '45.195.16.101', '199.221.192.61', '11.7.152.241', '33.147.99.166', '63.238.147.47', '103.81.86.242', '178.182.109.13', '110.135.73.40', '137.98.152.149', '86.97.221.21', '99.3.14.75', '204.192.98.5', '217.109.41.172', '128.40.230.174', '158.225.141.57', '166.79.206.93', '18.40.223.27', '73.205.84.106', '113.155.3.104', '217.107.210.109', '198.78.28.253', '217.201.35.122', '44.92.251.124', '164.101.56.81', '163.32.103.234', '169.192.248.173', '145.49.254.28', '68.202.94.46', '171.155.171.222', '203.79.60.178', '107.14.19.215', '81.83.118.193', '158.134.248.253', '72.170.251.137', '63.32.83.182', '191.187.127.41', '168.111.25.50', '86.63.128.124', '206.195.30.75', '46.26.119.37', '168.117.36.48', '40.107.10.252', '51.230.38.248', '84.114.55.125', '25.80.77.107', '118.84.101.23', '219.237.74.7', '6.91.133.245', '108.255.218.67', '49.83.148.196', '141.7.86.251', '108.33.102.230', '172.212.141.186', '52.226.39.22', '209.223.78.47', '105.135.175.45', '191.104.135.198', '179.230.123.249', '126.12.13.105', '59.64.68.152', '136.34.228.179', '152.236.177.59', '49.236.242.129', '210.136.217.94', '138.221.56.172', '142.122.186.189', '89.42.150.143', '173.178.114.229', '144.199.153.166', '217.63.23.245', '50.193.104.89', '217.21.238.26', '29.40.190.167', '39.146.195.96', '33.159.248.242', '38.44.106.183', '115.128.103.163', '56.81.181.10', '217.137.158.78', '63.215.198.97', '106.65.50.19', '118.52.219.167', '48.193.179.186', '41.240.11.154', '106.234.178.37', '187.90.116.218', '194.47.19.17', '58.149.210.177', '36.152.233.119', '37.176.61.98', '178.89.199.215', '111.213.31.201', '50.238.25.48', '152.198.250.155', '53.145.25.59', '16.22.100.189', '107.144.168.21', '37.1.245.193', '154.66.91.173', '190.226.163.63', '221.159.138.90', '185.87.216.132', '134.12.229.157', '21.136.133.50', '14.167.159.159', '88.19.228.226', '117.0.86.151', '75.165.133.233', '84.125.99.142', '220.230.33.226', '177.252.121.172', '57.167.81.225', '184.165.166.175', '205.105.141.175', '177.196.36.212', '104.244.209.192', '221.210.163.108', '209.180.22.248', '217.214.188.147', '66.206.52.190', '180.131.209.242', '67.43.171.243', '210.124.101.81', '45.154.11.149', '151.247.227.245', '10.8.102.1', '92.159.212.122', '141.33.193.53', '120.177.11.172', '207.135.90.49', '134.22.126.238', '38.198.5.44', '134.179.67.25', '130.215.53.209', '195.29.155.98', '2.171.86.174', '148.65.68.166', '10.169.125.12', '16.27.152.11', '106.95.110.37', '142.208.221.12', '190.230.79.230', '181.210.118.93', '138.74.98.2', '45.91.210.36', '211.145.226.191', '222.26.60.41', '197.73.245.232', '169.179.42.67', '186.126.2.2', '201.204.204.172', '187.111.135.225', '5.97.54.199', '166.238.16.206', '212.230.111.207', '183.38.201.78', '216.152.215.16', '218.172.191.4', '42.229.170.160', '41.35.166.199', '168.163.83.225', '142.20.181.159', '62.147.91.115', '13.170.27.226', '11.163.145.11', '209.14.1.230', '212.11.46.127', '145.32.38.0', '158.206.182.218', '128.11.35.31', '94.207.185.247', '208.196.210.90', '6.27.194.178', '39.217.24.76', '215.150.50.112', '1.173.240.21', '208.88.21.157', '75.230.84.97', '49.3.176.168', '31.61.160.235', '76.47.92.61', '146.99.220.174', '111.241.203.145', '16.233.165.146', '193.132.195.249', '171.60.223.29', '152.69.255.177', '52.221.213.68', '11.100.6.72', '129.20.149.37', '94.92.88.152', '146.9.128.119', '66.62.174.3', '88.58.135.199', '204.58.21.191', '176.21.3.127', '110.118.88.59', '210.211.190.81', '133.75.11.82', '42.184.223.23', '37.45.99.113', '50.204.13.146', '147.231.156.82', '104.231.78.61', '70.216.180.143', '121.236.192.145', '118.133.204.203', '81.187.178.142', '175.165.182.191', '210.17.187.14', '164.144.209.110', '188.65.117.35', '144.83.245.218', '170.17.3.38', '152.85.249.160', '116.154.182.71', '82.205.242.160', '92.241.166.50', '173.123.173.204', '51.4.61.214', '135.252.192.88', '102.32.21.52', '56.169.245.193', '66.4.6.54', '146.203.157.104', '80.161.170.206', '116.33.225.188', '91.197.246.241', '209.219.194.111', '172.130.178.142', '21.181.227.156', '159.152.45.88', '112.208.113.151', '44.50.203.111', '84.32.156.168', '80.48.231.164', '48.233.133.101', '166.205.216.202', '15.233.184.16', '22.254.21.192', '143.171.185.78', '122.163.129.220', '152.70.71.239', '189.243.103.34', '87.122.4.74', '81.45.3.119', '83.176.103.228', '92.106.251.23', '190.91.80.23', '45.90.33.108', '180.224.186.121', '83.162.11.71', '21.13.198.69', '85.43.18.2', '39.80.174.216', '196.157.105.175', '100.188.224.55', '83.59.227.145', '11.184.66.89', '92.84.6.101', '7.120.118.115', '109.209.87.205', '9.167.68.194', '147.197.189.109', '177.178.8.116', '106.217.46.132', '98.229.112.171', '208.237.45.157', '140.73.254.200', '215.1.190.162', '143.126.92.96', '101.245.145.48', '56.68.109.136', '155.88.87.116', '142.46.7.142', '173.248.205.200', '10.137.25.202', '112.233.140.212', '15.142.225.8', '8.164.188.16', '102.24.227.45', '124.42.188.193', '83.157.82.242', '214.18.174.98', '208.237.246.165', '77.142.176.155', '57.191.193.148', '119.180.180.252', '2.110.243.80', '138.211.148.23', '64.108.117.229', '26.135.102.187', '51.80.110.16', '162.248.158.128', '141.145.190.241', '111.205.187.120', '92.177.106.42', '199.189.86.33', '129.141.16.242', '169.36.194.255', '71.118.35.33', '141.230.162.173', '65.113.47.145', '189.143.91.226', '84.106.128.230', '57.160.68.163', '177.101.131.1', '117.238.255.160', '125.152.43.116', '119.143.77.19', '158.85.81.94', '182.213.29.58', '92.211.217.155', '106.157.161.191', '109.206.188.152', '217.92.210.171', '80.240.98.21', '145.45.56.11', '171.218.235.157', '207.234.205.192', '85.19.123.51', '163.215.44.6', '111.7.237.195', '12.238.144.241', '193.82.208.51', '76.208.179.56', '182.82.250.236', '55.59.123.45', '119.101.66.153', '118.105.252.164', '28.101.33.240', '26.210.210.23', '180.71.175.49', '222.11.84.49', '76.85.71.206', '106.211.26.184', '122.30.240.141', '106.139.136.111', '39.99.186.66', '26.192.79.132', '203.136.95.187', '195.77.227.133', '138.161.246.229', '29.57.19.74', '117.35.97.209', '161.238.153.214', '186.88.112.49', '203.25.199.231', '190.48.230.89', '6.153.184.197', '159.167.181.32', '99.83.160.243', '31.18.147.83', '73.241.37.127', '2.92.102.88', '43.216.35.23', '123.23.254.197', '152.131.43.193', '152.153.70.25', '125.67.200.40', '86.111.0.118', '69.149.249.222', '191.119.149.177', '216.142.240.162', '32.67.184.129', '74.37.201.19', '108.98.123.214', '205.140.232.60', '91.227.216.25', '70.148.44.99', '199.247.191.150', '41.70.87.215', '159.252.30.182', '147.199.179.213', '19.227.127.56', '169.151.166.117', '26.177.187.50', '152.147.72.104', '9.9.206.93', '179.251.121.84', '9.248.216.104', '118.184.226.17', '48.96.249.116', '99.14.143.111', '143.60.201.184', '192.213.39.242', '9.91.12.128', '220.216.132.59', '58.239.54.244', '45.21.219.234', '157.89.165.169', '199.181.138.165', '181.185.149.152', '22.185.48.140', '207.20.190.92', '134.243.219.149', '12.158.87.245', '216.32.52.97', '17.58.215.51', '90.86.22.14', '140.163.29.55', '74.154.166.178', '194.34.78.225', '30.63.102.195', '115.113.176.136', '151.117.222.123', '219.69.110.69', '177.50.114.176', '128.217.237.126', '2.37.4.188', '69.63.201.208', '192.250.38.139', '190.143.193.43', '107.30.103.54', '144.220.7.72', '107.220.176.97', '51.153.156.92', '143.211.49.60', '156.224.147.189', '29.233.166.51', '82.168.207.46', '158.135.162.26', '147.147.164.153', '181.10.60.90', '166.153.131.128', '8.249.36.107', '145.119.7.50', '132.253.212.75', '78.74.244.6', '117.120.67.7', '148.232.23.78', '132.102.29.79', '30.201.241.185', '39.152.86.209', '34.165.43.0', '95.83.209.174', '192.211.102.140', '63.24.118.48', '16.8.120.6', '26.1.166.168', '93.178.250.204', '108.249.46.109', '131.212.164.77', '74.26.139.165', '139.5.98.58', '94.170.48.179', '25.246.194.143', '56.149.68.75', '157.152.184.94', '66.124.128.8', '163.61.188.47', '200.164.68.219', '179.232.118.112', '211.229.84.138', '130.70.81.146', '95.214.122.107', '188.2.9.73', '141.134.92.110', '215.189.200.40', '53.225.60.108', '213.200.83.212', '133.148.29.179', '64.107.145.241', '116.90.170.159', '6.42.127.8', '208.251.219.113', '23.227.203.24', '120.180.191.199', '120.134.242.47', '5.173.172.217', '2.58.122.190', '47.207.16.110', '12.54.25.164', '47.221.3.93', '37.123.98.246', '151.16.197.27', '216.148.50.163', '211.223.86.7', '54.119.4.96', '175.57.240.84', '205.31.168.134', '103.182.226.244', '175.251.59.228', '193.95.176.248', '128.212.255.207', '65.57.117.182', '108.210.245.232', '51.19.221.17', '146.247.34.54', '87.151.104.161', '166.249.248.55', '132.69.122.16', '94.162.197.29', '151.5.36.186', '46.245.4.181', '42.52.215.255', '20.211.61.162', '192.103.153.113', '111.242.109.46', '141.75.209.165', '191.66.164.12', '195.191.238.53', '53.157.198.234', '178.139.43.139', '122.200.141.171', '198.20.60.144', '96.245.253.109', '46.147.122.237', '69.152.50.210', '117.105.177.226', '219.64.127.205', '141.50.185.254', '153.40.191.239', '141.160.206.100', '205.238.28.249', '4.231.228.138', '7.110.71.47', '50.17.222.150', '7.43.88.6', '218.151.172.225', '191.147.83.95', '16.227.165.18', '20.136.145.114', '141.205.133.201', '221.183.28.185', '7.251.31.108', '57.226.168.188', '8.5.28.247', '201.184.27.56', '194.136.30.88', '211.28.4.154', '113.138.124.118', '182.170.197.160', '125.60.139.138', '38.40.23.110', '221.61.29.13', '64.33.65.154', '43.70.3.220', '7.220.48.77', '30.90.228.183', '223.254.97.105', '30.68.215.212', '104.34.217.61', '179.76.9.11', '204.86.60.168', '125.21.56.74', '222.18.169.119', '133.114.163.147', '17.12.91.201', '19.75.78.134', '91.17.159.10', '93.8.80.4', '196.250.204.37', '134.184.55.128', '201.83.149.109', '129.157.40.28', '167.139.224.160', '4.159.142.119', '41.216.12.49', '102.60.33.73', '65.197.93.108', '126.148.155.10', '207.95.113.139', '2.130.206.127', '150.254.0.59', '149.176.38.129', '206.192.204.67', '166.86.116.70', '37.28.128.85', '24.177.82.236', '112.184.252.98', '77.159.61.164', '25.98.94.141', '198.118.181.210', '83.236.152.111', '163.15.127.67', '187.88.3.41', '203.111.71.137', '39.85.129.162', '148.209.14.22', '147.97.82.247', '57.119.148.131', '196.180.16.25', '87.192.223.50', '187.242.114.41', '25.24.151.92', '7.144.232.20', '38.40.61.76', '140.24.243.41', '56.85.187.150', '80.33.16.153', '213.212.70.108', '164.72.18.171', '12.215.162.134', '39.216.90.81', '23.97.21.95', '65.57.75.180', '160.4.94.12', '180.63.239.38', '188.6.49.6', '145.149.28.68', '172.82.143.11', '147.58.149.254', '191.54.81.149', '35.46.242.207', '44.249.166.53', '117.147.119.111', '68.220.224.111', '172.149.142.158', '109.187.174.183', '148.72.123.98', '74.144.234.143', '12.178.223.4', '108.240.211.242', '8.6.152.230', '42.36.248.170', '194.88.54.157', '116.218.71.80', '168.112.108.179', '124.194.59.70', '151.105.42.60', '199.125.156.168', '136.150.45.68', '101.149.30.39', '149.132.170.182', '172.140.41.221', '30.105.20.103', '159.56.44.130', '69.32.35.99', '28.53.48.18', '5.129.239.240', '201.132.214.74', '113.208.126.83', '201.233.117.39', '141.41.96.146', '193.106.42.32', '175.209.234.114', '80.161.229.115', '132.42.165.252', '47.91.10.6', '51.212.34.33', '73.19.244.178', '48.194.204.21', '183.203.146.88', '113.31.180.193', '43.42.31.17', '190.122.8.191', '192.168.158.56', '196.170.181.203', '157.147.229.40', '7.216.120.34', '111.24.147.227', '145.123.90.146', '166.47.218.98', '185.205.10.63', '97.190.215.90', '63.83.255.133', '93.254.19.43', '129.82.67.59', '96.246.210.38', '116.43.115.42', '132.205.191.182', '220.21.223.37', '201.75.201.232', '171.89.72.33', '151.236.43.208', '87.40.225.97', '42.142.223.56', '65.244.181.23', '153.188.230.181', '48.235.89.103', '16.34.135.23', '104.55.39.71', '42.245.59.31', '172.187.93.33', '199.55.6.218', '168.88.196.74', '76.57.198.246', '198.161.190.140', '153.128.158.247', '70.75.137.40', '103.119.9.203', '163.74.144.154', '21.98.103.74', '91.27.206.69', '199.98.254.72', '49.116.242.191', '141.135.172.160', '87.68.108.76', '158.252.149.243', '34.222.101.155', '128.228.240.18', '38.118.253.13', '129.150.68.199', '31.146.223.156', '7.142.177.165', '16.177.76.159', '20.25.101.149', '182.175.168.189', '106.208.78.83', '181.110.39.28', '93.0.46.44', '96.131.52.237', '95.252.104.74', '141.207.95.26', '171.109.110.123', '93.49.156.150', '153.157.75.136', '205.23.50.189', '183.45.188.66', '52.241.144.188', '201.105.247.201', '35.250.58.63', '159.146.102.125', '189.231.121.154', '63.230.196.47', '17.11.4.179', '22.102.232.232', '139.30.167.178', '177.153.196.112', '78.155.255.77', '60.192.190.99', '58.90.71.108', '97.234.8.100', '143.140.71.171', '157.12.69.236', '116.174.50.103', '30.20.144.57', '87.175.11.0', '125.42.142.133', '97.150.28.41', '211.44.184.153', '94.150.11.55', '133.17.216.173', '183.96.164.198', '186.47.204.159', '121.242.156.252', '41.166.30.74', '96.20.22.188', '46.167.230.248', '176.18.12.253', '37.170.72.37', '194.159.69.140', '110.205.222.238', '81.61.91.209', '148.197.228.69', '183.200.242.16', '124.47.216.76', '102.252.36.115', '14.0.106.200', '19.10.133.210', '50.156.7.153', '203.168.63.131', '87.203.158.75', '36.24.211.203', '160.229.85.52', '6.37.204.217', '170.114.105.129', '17.57.145.192', '200.22.48.36', '78.224.161.55', '55.254.17.217', '179.145.253.192', '120.59.140.190', '42.227.71.35', '198.129.138.14', '41.175.13.147', '172.75.74.93', '130.112.47.113', '53.149.243.151', '47.135.252.32', '175.163.37.232', '112.86.10.13', '122.126.22.202', '34.22.246.70', '59.81.180.171', '56.222.88.165', '106.45.60.172', '144.74.150.136', '216.159.176.175', '108.237.31.252', '70.78.37.48', '202.161.64.206', '111.58.28.171', '96.191.46.204', '89.73.205.100', '197.48.133.156', '143.140.22.137', '26.206.61.125', '161.207.215.91', '34.84.247.40', '140.112.157.88', '203.227.246.2', '200.90.86.150', '67.254.231.93', '158.174.35.111', '72.114.144.49', '130.199.182.115', '116.15.167.95', '196.105.55.195', '63.9.91.86', '184.24.128.63', '109.230.212.92', '52.71.14.133', '40.58.245.167', '210.83.145.246', '102.240.51.221', '81.246.123.42', '69.172.77.92', '82.120.41.69', '173.104.31.51', '18.131.64.204', '69.218.0.94', '93.235.95.234', '194.26.35.192', '14.189.137.197', '136.238.48.228', '174.6.45.71', '222.213.154.251', '56.238.83.76', '93.201.198.24', '156.220.102.119', '158.250.92.28', '208.146.198.223', '167.79.140.138', '27.168.46.172', '117.187.182.66', '13.32.69.239', '211.143.142.111', '37.8.35.115', '106.125.102.198', '116.116.171.183', '134.92.245.184', '47.140.119.229', '135.239.8.37', '189.250.80.26', '88.2.24.187', '34.93.171.163', '63.18.255.121', '148.132.44.255', '78.42.17.51', '35.111.184.6', '29.163.236.232', '183.210.69.129', '190.23.158.78', '184.158.101.221', '136.199.211.89', '194.129.202.59', '98.102.201.232', '4.88.38.25', '40.194.91.211', '4.196.217.106', '130.226.77.190', '201.219.240.158', '157.218.38.80', '48.7.48.26', '119.121.224.241', '77.147.107.89', '17.156.59.47', '207.118.87.120', '153.168.183.150', '169.200.63.92', '146.159.137.187', '90.1.67.13', '153.254.202.236', '187.238.20.109', '48.77.77.212', '105.77.21.128', '111.73.25.174', '146.203.132.25', '138.170.97.10', '163.137.157.64', '198.176.145.255', '60.172.191.130', '58.125.131.108', '133.225.37.227', '114.103.17.132', '169.35.195.17', '102.180.207.183', '10.80.24.24', '31.204.249.242', '4.14.187.87', '80.182.253.214', '26.47.169.201', '93.237.110.7', '78.169.131.158', '40.161.91.197', '79.226.85.233', '196.124.186.149', '48.159.181.167', '78.138.72.160', '62.104.91.187', '211.34.42.75', '174.228.176.91', '216.85.109.162', '71.14.116.4', '51.45.141.55', '129.149.216.251', '155.77.1.253', '164.81.136.73', '153.142.192.164', '128.175.51.45', '150.146.100.75', '125.56.118.238', '149.106.201.231', '10.132.4.87', '55.96.7.25', '152.18.32.181', '55.38.221.88', '162.119.67.167', '182.177.157.159', '118.137.50.139', '170.180.111.56', '26.240.125.220', '106.135.138.187', '80.21.153.18', '11.207.80.175', '7.33.22.11', '16.73.179.156', '154.214.57.45', '104.112.215.49', '149.3.135.99', '223.209.109.65', '215.208.170.176', '42.222.47.111', '27.76.36.108', '22.156.147.56', '94.6.122.187', '112.71.218.164', '204.4.246.148', '164.98.223.243', '176.69.100.36', '8.254.130.184', '12.65.4.222', '198.241.14.141', '143.153.124.212', '142.66.142.213', '137.194.255.132', '218.91.204.198', '65.76.163.243', '91.248.51.128', '30.74.209.3', '184.221.191.124', '96.72.88.220', '88.41.60.224', '222.204.118.101', '53.247.0.71', '181.92.207.161', '150.151.71.198', '9.169.52.141', '67.110.2.216', '68.71.11.174', '99.157.121.43', '43.49.237.17', '150.145.116.39', '203.218.50.60', '169.197.255.5', '182.254.206.179', '120.45.119.20', '220.32.204.118', '71.20.135.222', '201.154.238.119', '99.221.3.26', '178.236.240.136', '165.53.147.16', '50.47.118.24', '3.68.56.79', '114.115.24.127', '72.242.219.235', '134.1.34.87', '186.12.79.182', '118.240.141.172', '28.85.131.146', '185.228.139.184', '5.93.163.226', '130.219.79.156', '15.243.154.148', '148.85.125.159', '185.100.136.90', '129.231.136.38', '130.165.79.203', '31.155.203.133', '216.5.240.236', '20.36.227.95', '182.100.116.181', '115.181.254.238', '120.7.80.47', '154.18.161.26', '216.99.31.116', '19.98.66.73', '53.136.61.122', '69.169.87.255', '128.0.53.41', '105.233.163.238', '55.231.87.50', '102.205.112.148', '122.126.162.133', '46.135.127.128', '123.129.103.73', '49.170.255.217', '92.249.24.161', '217.224.251.251', '175.158.77.83', '188.236.215.217', '198.68.212.54', '42.227.219.145', '125.249.115.216', '64.113.111.163', '183.223.219.140', '168.4.242.179', '210.162.70.62', '96.10.151.127', '135.28.137.1', '65.102.128.56', '152.1.115.12', '50.67.250.23', '15.25.190.82', '30.65.107.176', '30.190.166.120', '150.68.11.131', '92.100.116.255', '99.205.221.43', '217.53.233.58', '122.147.27.233', '209.224.65.236', '94.9.190.51', '89.239.234.248', '91.72.218.159', '67.242.62.90', '146.216.188.4', '34.0.221.196', '213.230.33.223', '117.152.213.163', '85.65.6.73', '63.139.239.36', '81.203.12.193', '20.252.240.81', '37.145.237.120', '73.200.189.18', '153.198.179.138', '36.89.149.98', '36.5.250.140', '108.38.151.5', '144.232.111.222', '100.160.124.96', '185.83.248.1', '95.207.174.21', '202.182.174.242', '167.10.119.143', '180.56.175.208', '177.207.110.43', '27.228.253.158', '103.108.70.176', '16.197.250.72', '223.221.70.190', '172.252.196.116', '54.6.71.116', '7.53.71.99', '13.155.50.193', '11.64.140.31', '55.249.247.223', '91.240.134.255', '7.158.129.93', '111.149.65.38', '196.12.68.240', '26.168.69.180', '29.19.96.233', '75.251.161.232', '9.146.22.87', '189.29.103.170', '150.243.71.93', '139.205.140.206', '6.247.70.148', '45.106.203.213', '157.203.146.254', '204.63.200.230', '54.87.179.189', '128.187.22.36', '47.149.221.191', '2.201.226.182', '88.147.12.224', '118.72.206.13', '188.41.222.225', '110.229.25.120', '181.99.246.89', '197.128.140.177', '132.65.218.137', '121.112.245.212', '46.103.47.121', '206.19.190.106', '19.12.199.238', '139.238.226.157', '208.92.32.139', '124.68.226.21', '118.57.237.247', '115.141.203.244', '195.233.140.3', '27.28.69.227', '72.170.206.162', '197.216.181.131', '110.248.130.215', '100.242.249.194', '190.128.37.217', '111.183.176.93', '2.157.105.29', '46.148.83.178', '31.195.99.183', '11.51.18.26', '86.184.213.92', '65.51.79.87', '70.37.32.231', '17.224.217.49', '94.12.172.236', '194.233.117.112', '151.4.107.237', '81.115.69.120', '102.82.53.170', '219.52.58.222', '111.192.75.99', '174.70.159.141', '121.97.57.80', '163.166.59.50', '113.118.106.6', '221.42.115.151', '132.165.227.205', '217.217.138.135', '54.22.137.2', '139.166.148.214', '19.199.161.107', '71.72.24.244', '85.116.39.162', '184.177.49.157', '8.17.8.161', '125.255.249.245', '67.131.130.146', '96.56.170.28', '145.229.241.235', '145.95.199.12', '13.179.69.139', '135.115.161.145', '80.61.59.108', '206.26.46.94', '22.202.210.53', '61.245.166.92', '54.1.67.57', '140.28.254.126', '69.85.44.14', '208.61.246.14', '202.153.187.78', '144.57.181.25', '50.119.48.207', '148.180.157.130', '211.4.196.249', '117.173.156.82', '176.63.227.128', '202.184.228.169', '108.6.205.159', '13.113.165.248', '173.75.83.78', '155.83.122.180', '208.47.137.83', '209.166.106.246', '62.212.86.31', '48.56.145.142', '40.227.134.69', '80.33.41.34', '45.43.148.227', '220.236.242.65', '216.101.95.60', '184.200.101.140', '52.239.231.224', '11.166.132.109', '117.83.65.167', '162.222.56.111', '163.5.166.170', '165.36.221.30', '69.178.203.86', '221.127.12.240', '43.170.254.109', '190.209.162.93', '212.185.203.215', '134.123.227.82', '170.253.26.42', '222.227.70.13', '11.239.229.90', '212.37.174.224', '135.193.254.200', '26.235.33.178', '98.203.34.54', '84.241.240.242', '187.77.234.132', '52.110.68.195', '135.4.185.175', '89.89.237.184', '189.229.127.43', '106.186.239.147', '164.95.111.107', '81.103.250.171', '31.85.231.97', '29.97.159.13', '188.85.135.99', '25.158.225.17', '91.112.147.56', '108.142.72.135', '41.154.94.147', '84.246.33.239', '88.215.129.224', '117.57.204.72', '16.156.101.127', '223.11.110.33', '151.236.154.148', '103.80.164.125', '68.104.29.113', '28.236.228.172', '132.124.29.202', '209.133.3.230', '69.53.215.176', '81.161.87.250', '180.240.36.32', '107.182.246.228', '114.168.101.60', '122.34.195.124', '65.76.60.12', '148.238.65.177', '223.106.133.179', '73.120.86.141', '132.92.49.41', '98.104.58.27', '190.38.180.64', '2.162.229.37', '169.189.145.195', '115.245.30.51', '153.204.97.198', '110.103.40.159', '135.31.243.161', '208.174.227.98', '144.252.217.179', '122.105.42.116', '83.188.234.77', '210.192.180.7', '108.32.172.228', '5.160.57.133', '31.215.167.179', '198.86.181.149', '39.184.181.158', '25.237.241.167', '88.135.201.114', '80.40.135.98', '223.197.140.48', '106.218.205.251', '40.26.200.0', '158.252.29.139', '69.213.107.185', '207.19.247.232', '174.112.155.123', '213.172.103.75', '122.154.189.243', '179.17.220.217', '37.121.97.254', '80.45.237.161', '214.107.71.39', '206.19.204.22', '209.247.106.212', '28.24.67.44', '167.67.212.120', '2.13.117.47', '18.210.190.217', '10.171.108.159', '88.191.114.87', '155.243.118.185', '13.38.124.98', '81.130.194.108', '68.13.57.2', '101.78.201.129', '192.181.15.209', '186.246.47.180', '110.6.250.57', '70.199.9.13', '27.80.178.241', '118.208.74.228', '76.64.221.115', '85.217.35.244', '91.105.152.129', '219.185.86.84', '133.28.173.195', '148.5.90.184', '1.251.48.120', '112.149.253.69', '100.139.50.77', '1.46.13.143', '154.134.88.21', '80.217.203.12', '56.122.241.147', '128.248.12.18', '33.204.110.243', '79.218.196.46', '71.0.199.209', '203.33.94.27', '11.223.92.236', '181.147.134.181', '173.163.39.26', '177.110.61.219', '141.179.91.74', '24.76.117.36', '135.141.231.122', '167.229.171.230', '170.101.111.84', '178.150.118.63', '85.190.160.246', '124.254.244.192', '91.130.175.130', '208.50.54.153', '161.54.100.43', '14.65.130.174', '72.27.157.183', '204.50.194.253', '180.61.115.184', '31.197.251.59', '180.94.117.192', '220.137.69.140', '111.215.87.183', '40.16.62.45', '117.201.2.43', '80.101.225.64', '6.63.112.113', '112.248.215.49', '96.154.20.220', '191.80.44.206', '107.16.40.240', '115.173.238.53', '151.109.236.101', '217.139.134.193', '203.194.249.247', '217.240.58.148', '114.72.105.97', '2.171.143.48', '222.45.74.182', '144.37.8.205', '157.13.218.126', '122.190.243.255', '96.82.15.105', '20.213.159.83', '19.197.105.176', '209.84.200.164', '182.53.135.67', '57.103.43.212', '214.26.16.213', '38.143.111.104', '203.44.24.58', '89.49.56.48', '151.239.199.226', '54.205.75.31', '43.175.123.121', '146.10.23.47', '182.216.96.34', '183.218.208.22', '36.114.255.139', '82.228.49.129', '199.7.147.10', '87.185.88.129', '69.250.186.237', '126.219.195.40', '208.60.255.39', '55.44.143.77', '171.68.166.15', '118.134.251.132', '76.150.227.23', '137.206.121.75', '64.59.145.116', '90.119.235.156', '90.161.105.50', '52.169.122.39', '188.50.45.188', '59.40.222.77', '167.8.152.209', '66.119.34.62', '19.240.170.86', '88.35.132.80', '81.129.188.4', '214.211.100.53', '178.59.123.228', '62.114.163.221', '205.162.158.251', '136.238.210.143', '178.118.115.159', '129.73.203.34', '210.214.127.97', '112.90.205.78', '158.38.36.95', '6.79.220.61', '152.48.104.57', '103.180.176.65', '183.234.143.112', '163.199.87.186', '222.188.84.227', '93.90.38.228', '80.127.140.8', '220.161.43.253', '188.227.48.179', '61.53.231.184', '179.243.15.99', '122.179.231.237', '72.36.213.20', '209.61.155.110', '78.85.104.22', '168.97.181.114', '197.163.152.237', '118.252.170.62', '161.102.12.146', '123.130.188.222', '38.242.115.244', '215.139.16.32', '38.103.139.218', '112.103.234.253', '202.235.209.211', '89.84.88.72', '118.155.109.184', '221.170.222.82', '202.129.119.185', '149.67.185.21', '173.228.114.233', '103.70.193.223', '122.129.122.181', '10.143.200.5', '9.42.228.34', '201.21.106.152', '66.119.183.181', '89.130.184.9', '223.39.246.30', '54.78.102.172', '63.148.17.87', '167.164.91.31', '215.183.54.119', '10.26.63.106', '189.96.111.143', '143.18.180.219', '22.162.95.210', '130.84.93.115', '174.138.29.120', '107.194.30.109', '16.102.206.246', '5.80.213.11', '215.117.125.165', '86.84.58.79', '89.41.191.19', '51.205.158.217', '169.69.210.46', '189.150.94.30', '71.36.160.88', '73.83.83.91', '19.75.57.73', '119.154.127.172', '98.50.101.203', '96.126.138.232', '105.175.10.120', '143.64.2.35', '19.193.167.132', '16.237.24.79', '114.197.217.252', '211.225.245.88', '215.243.69.7', '201.148.182.152', '160.228.208.130', '96.199.176.63', '35.110.27.0', '180.164.35.87', '120.54.1.179', '47.220.133.77', '137.127.227.209', '182.146.149.182', '140.10.198.84', '154.45.236.46', '145.31.209.168', '88.192.92.132', '53.10.163.227', '113.77.30.0', '110.112.97.94', '109.53.167.201', '67.114.170.243', '58.139.157.130', '58.8.59.249', '13.32.9.186', '155.230.196.30', '221.33.8.53', '51.224.152.133', '212.189.199.182', '19.210.58.212', '108.111.184.100', '133.255.255.158', '123.229.158.112', '165.157.253.201', '96.5.194.32', '59.69.169.245', '207.223.194.206', '18.111.98.213', '4.235.89.66', '213.17.155.228', '89.173.220.1', '6.175.28.106', '59.210.93.50', '221.102.242.197', '169.242.10.27', '93.26.22.219', '196.170.5.176', '2.121.237.136', '23.13.189.164', '32.193.129.159', '22.186.206.125', '43.79.137.184', '198.198.146.45', '161.224.190.60', '158.117.129.183', '50.134.1.38', '83.40.201.122', '221.3.32.131', '8.15.185.17', '175.125.153.40', '91.235.57.6', '167.61.161.65', '84.213.239.169', '141.117.74.107', '142.197.139.98', '109.255.192.17', '29.116.156.145', '81.30.153.2', '209.199.197.132', '183.2.130.160', '141.68.242.114', '74.219.234.111', '158.6.98.228', '91.139.148.87', '124.131.124.222', '32.140.84.100', '2.212.167.69', '149.209.115.28', '149.233.202.120', '106.18.67.128', '95.177.75.151', '144.241.184.106', '86.126.33.218', '212.124.112.131', '31.9.9.191', '134.57.77.233', '221.74.232.69', '103.51.190.218', '96.92.255.31', '169.132.4.180', '162.252.192.214', '213.35.43.7', '161.21.65.120', '107.203.152.208', '23.254.152.208', '36.58.99.160', '105.215.25.214', '168.238.22.214', '132.228.72.69', '62.134.21.154', '199.34.60.173', '103.20.187.218', '177.251.132.8', '7.239.241.82', '136.42.223.255', '75.251.5.132', '39.184.207.142', '63.28.186.218', '77.122.100.107', '117.171.118.168', '211.114.58.19', '91.154.229.224', '172.171.191.213', '145.166.171.235', '36.176.80.212', '16.34.115.20', '122.130.104.114', '174.145.4.186', '72.85.92.152', '81.54.118.142', '154.89.56.54', '86.95.64.107', '204.56.223.143', '5.228.72.24', '198.1.85.185', '18.166.189.123', '186.28.242.20', '71.45.233.174', '214.96.228.237', '141.141.140.70', '126.241.192.237', '108.204.90.38', '149.20.248.55', '176.162.96.89', '30.197.217.96', '137.39.227.118', '61.11.181.197', '56.59.195.139', '222.156.70.103', '149.223.119.100', '101.79.218.236', '221.131.47.32', '180.104.181.209', '196.216.209.144', '176.251.210.85', '168.188.227.202', '191.240.7.33', '183.106.242.111', '73.45.136.248', '152.22.92.132', '9.181.193.208', '117.190.32.100', '159.231.50.139', '194.26.154.101', '72.132.157.4', '79.147.98.116', '107.183.227.183', '75.32.252.158', '118.250.33.216', '194.114.200.139', '189.28.183.119', '178.29.243.132', '61.232.19.71', '58.82.0.8', '129.155.135.189', '95.116.163.122', '114.0.136.192', '189.255.162.235', '54.189.235.132', '52.125.234.7', '17.245.61.114', '131.121.22.48', '64.178.76.172', '106.24.106.22', '211.235.177.11', '190.138.90.64', '40.142.143.36', '82.205.33.143', '86.64.194.133', '24.217.153.86', '61.155.224.54', '113.109.175.24', '8.166.150.165', '174.135.24.169', '50.100.14.84', '7.34.78.22', '205.127.16.92', '57.123.91.68', '154.183.109.169', '15.133.251.123', '173.133.88.201', '6.164.115.191', '221.196.184.216', '194.84.32.167', '179.147.151.163', '46.146.71.159', '95.37.204.59', '81.205.252.191', '152.96.171.248', '61.113.241.11', '149.233.77.250', '160.120.224.95', '194.71.64.163', '96.111.97.31', '136.228.220.186', '155.116.51.173', '191.235.170.76', '197.2.118.154', '10.114.34.130', '197.68.161.84', '61.48.24.107', '128.142.198.11', '109.193.4.11', '155.160.213.204', '144.132.53.136', '31.6.87.14', '206.193.75.42', '61.197.38.122', '196.196.175.47', '115.24.44.20', '125.45.115.236', '211.173.92.162', '31.175.253.172', '73.101.214.6', '41.208.60.29', '183.40.228.194', '149.86.23.199', '140.235.65.100', '109.104.94.119', '216.232.242.228', '48.172.98.16', '54.31.47.199', '184.223.28.197', '124.3.51.12', '36.23.179.104', '67.36.4.245', '15.80.104.238', '63.125.120.88', '172.49.187.166', '171.107.113.253', '83.171.208.177', '92.252.139.48', '71.43.47.189', '205.86.55.89', '107.157.98.148', '79.51.161.31', '23.8.114.6', '119.171.123.141', '163.231.4.198', '55.66.6.33', '49.181.66.185', '60.69.104.166', '213.16.4.126', '106.148.97.128', '164.184.152.66', '57.12.180.131', '66.192.154.146', '192.229.221.97', '170.206.128.239', '219.23.87.48', '11.250.208.195', '114.215.177.47', '72.166.221.232', '27.45.171.187', '214.196.179.236', '128.165.196.105', '129.45.105.109', '86.2.203.121', '130.44.141.178', '167.90.74.243', '183.219.151.7', '158.251.212.96', '102.212.205.226', '76.207.253.102', '19.92.111.174', '90.11.82.7', '63.173.172.78', '82.97.61.252', '170.159.63.88', '58.124.39.196', '67.98.235.76', '16.130.178.194', '18.98.38.190', '55.253.105.161', '168.29.207.36', '35.202.140.47', '169.162.178.160', '105.9.131.129', '110.136.52.64', '142.250.176.79', '78.123.15.64', '163.113.150.205', '8.171.64.91', '185.112.152.3', '121.89.64.156', '194.197.169.204', '34.231.177.74', '151.63.220.68', '175.7.178.152', '65.67.202.247', '109.54.108.112', '86.213.2.4', '61.154.242.192', '145.95.78.42', '46.43.78.72', '34.213.148.172', '220.67.26.79', '13.202.168.193', '202.190.53.28', '186.176.59.203', '219.161.219.173', '113.30.49.246', '157.42.195.19', '153.116.234.98', '10.146.102.203', '179.54.63.92', '82.104.36.73', '180.150.77.30', '84.104.255.47', '180.19.185.50', '166.50.196.131', '17.165.214.38', '81.142.220.59', '17.131.43.142', '220.158.27.22', '12.3.182.190', '84.234.138.148', '210.149.84.237', '13.116.100.206', '157.56.177.110', '128.249.94.120', '19.235.242.108', '43.195.69.212', '80.32.150.232', '30.210.25.37', '54.212.125.105', '109.96.102.234', '168.95.195.105', '184.246.198.234', '111.74.170.193', '51.72.67.188', '166.164.237.3', '105.103.194.221', '139.252.35.234', '180.10.112.189', '8.216.61.93', '35.220.209.112', '88.254.157.102', '91.56.62.172', '109.174.253.132', '180.15.194.21', '45.78.90.190', '47.114.99.248', '158.219.160.3', '144.240.195.32', '10.227.172.108', '208.95.23.125', '139.216.204.145', '39.49.54.255', '212.158.132.172', '33.69.214.82', '22.64.181.47', '77.110.78.118', '101.189.180.18', '124.203.244.137', '205.240.239.188', '150.188.139.169', '155.61.200.82', '5.61.106.110', '183.206.98.121', '182.160.118.230', '171.134.51.223', '74.11.5.14', '134.147.17.253', '214.184.223.64', '123.199.148.115', '203.187.114.49', '49.182.142.63', '206.83.113.126', '102.60.242.23', '113.253.222.25', '70.252.104.111', '113.58.63.189', '63.13.19.142', '130.165.207.209', '154.27.155.224', '122.228.55.133', '92.122.202.163', '185.135.198.49', '80.180.249.184', '177.106.110.218', '74.122.241.179', '93.112.143.227', '95.57.214.94', '65.129.241.48', '115.8.18.86', '13.149.111.121', '154.88.78.135', '66.31.199.223', '16.66.175.235', '49.124.203.103', '13.121.1.213', '206.45.84.46', '23.125.138.228', '182.85.82.86', '222.237.238.82', '156.37.96.253', '128.238.64.204', '100.176.4.101', '82.130.149.81', '102.226.235.238', '146.80.81.85', '218.4.5.33', '192.60.59.218', '176.93.97.197', '96.136.91.21', '221.240.70.46', '119.180.198.117', '88.105.176.25', '78.188.29.161', '142.169.98.127', '136.144.190.151', '64.240.147.237', '23.20.32.34', '86.196.214.10', '91.31.184.104', '170.230.29.199', '144.82.144.80', '91.164.191.118', '177.210.154.126', '129.251.250.225', '200.31.92.20', '121.192.231.239', '61.114.176.236', '125.2.154.250', '190.81.79.195', '188.148.31.44', '39.91.3.84', '140.51.110.127', '181.240.6.83', '114.128.88.172', '92.214.126.18', '112.196.49.226', '169.86.139.229', '176.59.234.73', '190.177.216.134', '36.224.45.167', '212.147.96.109', '217.61.30.137', '29.144.191.208', '122.63.183.7', '171.220.76.118', '86.242.174.182', '64.241.27.197', '166.152.198.220', '169.96.152.104', '196.74.97.255', '28.66.223.193', '92.254.60.29', '214.156.103.22', '64.24.105.96', '208.188.25.210', '103.231.170.195', '163.155.190.120', '122.112.156.133', '106.89.52.66', '154.61.175.32', '80.21.214.105', '34.9.24.67', '68.168.195.86', '18.3.153.175', '109.146.255.192', '65.234.118.1', '131.46.219.111', '30.60.218.53', '218.231.112.162', '131.233.233.154', '97.224.194.248', '61.121.75.33', '184.133.216.34', '186.102.116.229', '12.235.122.28', '42.190.55.67', '105.29.8.164', '76.245.208.107', '215.38.16.122', '149.203.82.245', '178.131.131.141', '6.231.103.73', '158.246.188.204', '221.225.238.44', '24.26.227.206', '29.51.118.108', '105.210.124.22', '53.167.236.121', '140.76.162.13', '62.149.150.159', '64.172.172.229', '41.243.165.218', '5.223.193.246', '215.67.241.137', '3.186.84.130', '86.119.94.169', '147.238.73.95', '5.98.6.83', '222.12.60.16', '171.134.4.212', '28.179.66.87', '193.114.243.228', '79.29.153.11', '183.136.177.94', '16.177.250.252', '112.85.209.180', '41.230.128.229', '223.38.200.187', '38.45.136.35', '170.43.26.92', '40.217.113.23', '22.38.77.61', '115.98.58.59', '134.126.61.136', '17.155.47.59', '178.181.26.21', '64.255.78.6', '110.132.22.236', '180.94.176.46', '14.65.140.32', '201.211.92.90', '219.202.27.119', '6.149.125.208', '172.47.135.231', '31.149.58.96', '201.98.200.130', '178.96.114.160', '215.44.154.32', '175.30.220.248', '73.128.35.6', '131.193.210.73', '97.5.160.78', '199.167.189.177', '147.65.215.27', '101.96.232.219', '49.22.112.192', '188.88.39.247', '9.183.192.17', '54.207.47.74', '18.229.89.125', '98.255.43.108', '87.234.12.72', '148.243.194.234', '7.22.148.216', '223.92.129.233', '65.181.195.129', '54.94.47.122', '163.31.39.107', '133.133.193.7', '184.203.151.135', '56.9.195.93', '33.243.200.192', '178.247.184.137', '156.140.84.115', '105.170.170.209', '129.111.214.36', '149.228.29.90', '58.72.122.159', '18.218.190.123', '133.21.206.73', '123.127.47.151', '31.135.126.122', '102.39.187.179', '27.250.53.29', '46.169.138.253', '136.248.244.214', '141.195.101.38', '185.197.248.237', '77.102.246.137', '138.252.186.155', '80.14.174.11', '60.87.251.19', '97.106.19.175', '221.158.102.117', '49.223.6.94', '177.186.28.144', '58.14.163.246', '130.134.117.75', '174.175.170.34', '76.174.199.54', '96.51.244.212', '75.41.23.180', '5.166.56.64', '162.151.99.208', '107.124.30.233', '55.247.215.248', '55.159.69.58', '13.224.175.162', '111.119.2.254', '135.101.103.17', '199.42.201.199', '1.136.168.229', '174.149.61.1', '118.39.56.0', '65.40.235.190', '84.168.115.255', '181.24.134.104', '148.211.51.78', '192.32.15.69', '155.52.138.89', '92.138.226.164', '144.251.160.216', '85.131.202.116', '184.83.59.247', '200.132.194.13', '111.65.121.75', '7.57.207.151', '91.40.150.198', '122.246.115.188', '117.126.181.230', '168.217.63.161', '206.164.194.17', '63.61.146.83', '223.31.84.36', '198.143.135.87', '159.84.176.130', '174.60.112.101', '82.95.158.126', '140.76.131.109', '81.229.200.159', '107.5.210.63', '213.108.17.110', '168.145.202.66', '23.192.112.31', '187.139.78.27', '188.173.253.150', '56.212.129.145', '208.78.245.104', '9.52.90.61', '8.167.82.188', '124.91.89.135', '55.222.14.71', '109.96.207.218', '165.135.73.132', '153.253.11.95', '55.165.125.206', '205.146.238.92', '118.148.219.223', '213.245.224.172', '218.127.137.199', '204.66.119.121', '185.65.73.169', '105.246.221.236', '176.183.254.254', '116.60.43.167', '96.105.107.205', '85.158.18.35', '55.238.66.224', '180.248.180.227', '21.169.143.152', '13.228.78.217', '120.35.155.20', '177.212.31.99', '112.42.145.70', '129.2.218.50', '11.105.86.206', '61.217.120.232', '141.140.89.108', '19.229.62.3', '128.16.103.60', '53.30.100.215', '199.6.73.24', '1.113.248.178', '57.88.224.20', '146.68.88.146', '172.148.131.129', '88.191.3.56', '43.144.252.189', '143.119.37.26', '207.32.6.216', '84.189.172.6', '78.118.24.139', '195.4.186.36', '90.188.24.110', '40.42.208.109', '207.99.94.208', '105.44.145.85', '48.166.137.168', '38.53.126.218', '189.206.207.109', '222.223.79.81', '158.98.70.186', '201.217.102.162', '20.13.192.37', '46.252.45.1', '24.63.114.20', '33.203.90.86', '199.56.126.8', '165.229.151.116', '93.183.104.135', '203.78.8.179', '10.194.61.158', '117.170.69.4', '79.13.216.225', '137.131.96.30', '61.66.166.83', '72.185.59.213', '1.185.91.139', '92.16.58.122', '171.156.233.119', '173.149.66.76', '147.104.254.158', '160.34.15.22', '144.184.244.79', '193.187.92.153', '102.5.109.18', '161.132.166.251', '165.33.67.17', '162.22.215.199', '44.28.3.5', '56.247.214.208', '43.250.115.206', '190.128.103.91', '71.29.195.167', '185.4.91.180', '163.117.48.202', '16.193.117.151', '208.227.25.192', '111.56.230.145', '50.36.114.176', '22.217.255.115', '168.181.182.88', '42.103.65.121', '189.83.27.61', '105.68.200.133', '7.33.195.98', '84.31.218.5', '6.15.8.89', '14.181.75.212', '54.227.112.167', '192.45.15.222', '17.219.185.105', '134.215.105.45', '55.173.78.133', '99.232.123.158', '80.178.1.108', '218.211.197.8', '202.117.15.159', '53.216.45.200', '214.197.31.82', '45.26.90.234', '169.65.29.233', '134.161.128.254', '151.148.123.72', '198.245.188.4', '73.215.117.186', '125.227.172.156', '146.193.95.129', '28.71.20.53', '176.228.94.25', '172.180.121.181', '41.33.7.131', '27.171.75.157', '214.14.180.124', '37.225.150.253', '142.232.169.57', '83.73.63.139', '14.203.4.53', '15.255.101.246', '53.97.240.61', '200.179.150.179', '6.42.27.180', '26.169.183.140', '21.23.128.228', '165.152.139.35', '154.15.122.54', '42.233.154.213', '120.240.18.68', '74.1.32.43', '72.105.199.57', '40.114.143.214', '168.128.143.28', '129.185.76.79', '189.41.247.82', '192.18.1.122', '27.108.141.82', '78.162.234.192', '98.84.183.239', '8.23.155.11', '134.208.197.113', '221.74.171.194', '75.202.85.85', '22.183.117.249', '115.181.49.251', '74.23.200.91', '126.205.16.75', '180.105.161.28', '108.173.180.109', '148.79.96.6', '56.236.94.78', '204.113.109.118', '12.45.146.151', '62.6.19.222', '15.178.60.60', '96.140.111.13', '98.45.193.50', '131.1.218.20', '157.143.81.44', '140.157.97.44', '72.172.122.160', '67.5.199.136', '15.73.186.226', '57.22.151.6', '195.45.117.87', '4.188.89.7', '19.240.170.79', '19.182.183.180', '105.54.68.82', '121.42.189.235', '209.76.251.11', '53.187.234.146', '22.197.222.101', '173.6.72.40', '66.224.114.177', '128.174.65.153', '63.123.208.128', '80.71.55.149', '86.194.128.217', '32.26.156.98', '160.212.128.136', '163.88.111.243', '44.75.45.245', '194.78.42.68', '195.96.211.69', '208.154.180.171', '56.1.128.58', '170.172.77.34', '74.210.184.98', '21.53.102.90', '40.123.169.207', '41.244.171.151', '44.192.160.209', '69.34.155.156', '126.126.185.52', '144.20.29.190', '87.115.10.88', '35.178.24.31', '5.65.56.60', '97.191.49.222', '63.129.116.180', '215.23.45.8', '129.246.117.79', '20.132.191.72', '181.160.112.115', '12.189.69.49', '196.61.28.211', '209.214.43.112', '206.20.175.58', '123.169.48.46', '34.39.69.215', '16.8.33.17', '125.215.56.150', '221.191.106.248', '211.194.10.221', '165.221.71.34', '55.130.59.81', '190.176.28.255', '83.165.109.230', '102.219.129.252', '32.9.93.38', '155.190.67.5', '145.21.224.188', '82.159.61.216', '46.129.226.2', '20.107.236.36', '111.119.79.23', '20.143.223.168', '46.93.127.110', '123.93.14.225', '125.146.152.159', '134.55.27.158', '133.222.55.131', '34.84.63.168', '219.104.159.30', '145.163.185.124', '202.221.77.115', '176.181.166.59', '207.25.59.149', '84.127.140.227', '51.22.246.94', '181.109.40.198', '185.62.165.129', '169.179.160.143', '79.85.166.70', '53.228.69.208', '15.217.86.206', '216.59.61.135', '65.128.95.221', '84.152.225.22', '23.135.217.62', '16.83.33.222', '15.120.156.30', '28.59.69.234', '60.250.143.199', '16.162.81.44', '212.126.129.68', '37.242.35.216', '5.228.185.133', '118.246.246.88', '190.199.26.179', '99.102.85.111', '91.98.8.55', '48.49.99.74', '119.67.176.214', '131.0.163.46', '141.149.1.29', '51.212.149.230', '15.83.100.64', '51.15.19.249', '150.78.103.88', '175.219.63.199', '151.97.248.178', '128.6.162.62', '95.137.103.184', '219.85.102.150', '132.160.66.71', '125.57.114.125', '44.239.196.92', '220.105.76.113', '213.108.135.214', '54.172.240.52', '148.44.16.153', '17.126.73.100', '49.100.65.213', '205.122.189.222', '136.80.117.77', '164.78.84.178', '118.12.156.194', '7.117.90.200', '148.162.69.53', '104.34.192.80', '196.123.104.57', '27.139.83.27', '150.202.128.195', '138.245.127.197', '80.206.117.174', '189.21.39.195', '59.0.206.129', '49.243.226.100', '167.93.12.203', '189.158.224.138', '57.177.6.86', '139.19.46.254', '79.81.59.147', '145.149.168.205', '167.69.141.78', '78.220.141.42', '33.13.181.214', '85.14.110.111', '200.25.214.135', '32.83.84.219', '104.57.246.57', '101.17.155.11', '143.20.46.157', '21.138.219.11', '57.254.127.141', '134.224.255.42', '26.60.111.255', '223.249.209.117', '20.40.137.22', '114.84.124.44', '56.47.149.210', '126.219.5.6', '60.129.137.95', '49.250.17.116', '20.90.255.127', '12.66.103.20', '38.194.150.31', '146.159.15.123', '60.153.206.83', '180.238.69.23', '77.126.78.116', '30.247.216.163', '172.40.151.89', '218.102.72.66', '70.152.10.132', '105.253.90.93', '65.112.137.181', '116.116.234.64', '178.170.64.181', '107.168.186.53', '134.63.169.204', '93.27.83.66', '74.152.113.227', '123.215.91.211', '180.5.60.16', '178.162.248.6', '60.223.226.179', '190.90.10.52', '176.0.182.251', '87.212.206.236', '34.89.67.99', '194.92.248.90', '124.91.217.119', '1.32.165.147', '175.42.171.43', '55.72.32.151', '118.230.170.122', '209.198.117.82', '170.18.130.245', '183.225.114.112', '167.31.68.241', '213.179.152.254', '159.120.232.132', '185.139.147.130', '113.246.173.127', '183.31.88.46', '113.249.201.78', '220.34.146.195', '68.156.169.33', '110.181.112.133', '14.166.201.51', '182.143.103.78', '4.114.217.176', '16.81.24.4', '23.190.188.67', '4.202.219.89', '21.140.4.178', '156.132.227.132', '164.190.201.101', '202.68.120.193', '169.241.200.216', '136.228.174.155', '43.196.238.44', '163.86.29.209', '27.128.154.229', '67.235.136.204', '86.46.18.253', '163.142.174.33', '118.53.123.167', '1.218.195.163', '64.108.11.29', '222.220.208.161', '83.97.239.4', '85.178.239.123', '78.92.217.215', '133.7.17.177', '41.234.115.245', '150.169.247.200', '179.113.94.243', '129.100.199.86', '118.184.228.141', '125.190.81.151', '202.252.7.65', '70.83.125.23', '97.19.89.32', '63.36.137.10', '85.43.45.93', '150.32.76.79', '78.79.253.15', '57.152.134.162', '80.207.128.169', '164.143.85.246', '68.3.152.78', '41.250.255.93', '60.250.189.217', '118.167.153.39', '163.84.130.39', '77.104.69.253', '156.217.219.4', '209.106.120.216', '11.75.134.170', '152.228.100.75', '65.29.81.15', '104.224.126.223', '123.27.118.12', '177.152.188.48', '52.71.7.50', '86.99.170.110', '92.136.241.54', '154.127.32.140', '202.139.152.45', '87.183.132.71', '101.75.171.247', '32.31.222.108', '152.86.88.249', '23.254.84.227', '39.227.51.235', '119.224.54.50', '192.233.117.245', '76.234.164.129', '69.87.127.136', '40.180.3.79', '103.169.181.106', '44.228.231.186', '125.12.226.74', '68.83.126.15', '113.13.116.218', '197.38.209.161', '218.109.154.135', '160.126.97.16', '119.161.123.181', '89.3.151.158', '215.90.141.179', '61.208.110.81', '114.185.185.149', '204.194.53.72', '110.195.127.195', '66.109.36.142', '57.100.239.151', '181.78.235.116', '109.40.101.169', '81.150.163.83', '215.159.250.192', '119.6.28.122', '124.4.97.95', '70.186.239.126', '42.48.98.234', '65.219.60.184', '199.238.242.217', '133.167.246.119', '62.166.255.69', '52.78.225.71', '189.223.18.157', '23.71.59.223', '8.213.3.52', '141.234.255.102', '114.221.137.194', '218.164.165.215', '138.38.105.0', '169.206.22.101', '107.106.107.171', '102.9.39.229', '190.47.251.211', '32.250.240.178', '93.213.107.106', '94.161.235.12', '68.168.1.241', '41.108.72.233', '104.170.210.100', '61.27.7.161', '80.24.51.106', '102.88.157.61', '128.151.123.70', '164.242.13.21', '205.83.107.30', '197.40.244.126', '221.74.241.203', '179.252.218.35', '13.228.247.116', '191.247.3.74', '162.243.155.153', '101.156.83.3', '143.121.228.31', '144.162.185.254', '87.168.3.0', '174.35.84.43', '218.113.96.108', '41.96.223.191', '87.109.180.199', '163.73.35.7', '144.186.70.237', '153.97.69.204', '152.156.197.215', '96.49.78.137', '31.108.52.173', '131.46.119.37', '183.98.72.198', '183.130.124.240', '107.24.208.16', '25.57.45.187', '170.36.144.154', '31.123.131.82', '143.93.141.110', '152.161.248.123', '192.17.210.210', '141.6.97.109', '32.245.148.155', '194.156.168.247', '196.176.47.246', '106.135.83.98', '117.4.176.49', '83.66.55.154', '155.29.129.175', '52.5.132.91', '145.237.27.49', '96.103.164.9', '218.45.190.5', '58.21.120.228', '153.3.28.29', '185.96.255.32', '198.25.22.15', '198.232.232.60', '6.76.156.201', '12.43.80.95', '164.178.4.92', '41.75.228.183', '190.89.185.246', '179.4.212.40', '195.212.12.73', '30.62.188.157', '21.31.15.90', '202.104.239.169', '15.187.218.150', '88.160.134.244', '136.144.200.53', '186.199.160.101', '87.134.229.218', '136.51.52.161', '120.184.231.197', '64.165.103.146', '179.251.205.38', '107.58.242.174', '156.206.235.94', '100.180.90.105', '46.107.2.134', '92.82.204.44', '116.21.7.92', '154.50.211.176', '170.213.22.29', '52.107.251.108', '124.123.190.67', '125.89.215.171', '37.229.219.27', '18.69.66.217', '28.67.179.151', '16.227.173.63', '122.23.247.136', '203.235.141.216', '152.133.245.97', '91.245.227.180', '125.101.182.85', '209.20.169.213', '123.89.48.156', '11.219.155.166', '116.53.102.125', '204.155.108.103', '108.111.152.115', '66.204.223.97', '27.19.163.144', '78.28.200.31', '91.187.206.174', '23.10.127.103', '40.159.202.168', '169.84.176.96', '103.69.219.130', '98.24.48.245', '47.175.90.224', '147.82.252.205', '118.67.48.32', '32.131.120.143', '85.3.165.120', '196.241.87.113', '97.177.135.132', '73.104.15.65', '122.150.177.5', '34.139.48.182', '145.83.133.138', '67.66.225.34', '13.89.33.1', '61.129.210.75', '12.205.231.30', '209.209.134.83', '164.134.43.147', '12.161.111.22', '117.241.245.108', '167.81.119.68', '117.37.81.236', '194.255.244.154', '73.43.57.204', '39.181.76.178', '75.29.101.117', '185.129.185.225', '200.133.56.27', '215.216.131.54', '109.35.27.109', '169.126.96.85', '166.152.16.251', '41.234.161.104', '25.102.200.229', '137.1.134.24', '4.178.128.32', '20.69.13.100', '191.57.193.221', '100.129.42.114', '114.171.28.42', '51.66.79.53', '5.89.67.231', '130.9.19.155', '16.186.160.146', '44.94.173.10', '180.171.86.222', '137.81.183.54', '86.109.248.125', '76.123.15.189', '208.210.201.243', '111.109.246.0', '207.15.231.100', '109.197.230.101', '22.38.216.140', '166.131.141.202', '36.239.11.246', '47.52.206.73', '200.106.100.38', '149.241.190.136', '219.68.248.49', '167.126.157.109', '210.27.196.99', '136.92.146.75', '42.100.219.41', '58.133.58.28', '17.36.151.107', '148.181.94.66', '158.71.201.111', '21.84.53.176', '84.152.236.67', '158.129.150.199', '59.132.132.101', '172.155.173.186', '201.11.98.131', '174.128.184.214', '190.219.250.59', '139.102.30.133', '59.46.128.56', '88.6.134.37', '77.138.205.229', '178.170.51.241', '223.66.82.244', '174.139.12.63', '136.230.84.158', '192.142.199.247', '69.140.216.75', '35.186.74.19', '175.201.32.234', '88.17.94.106', '74.21.15.58', '142.232.144.242', '92.100.88.91', '183.90.10.129', '87.225.93.21', '161.35.248.216', '140.15.191.91', '153.222.107.185', '160.59.71.24', '4.147.237.133', '7.159.236.72', '133.64.179.186', '146.161.178.126', '149.51.34.178', '39.131.125.85', '174.106.43.119', '188.65.236.11', '120.242.228.33', '30.120.133.216', '163.255.178.37', '206.223.105.20', '56.181.249.213', '119.3.215.121', '108.159.210.241', '170.72.227.192', '116.93.151.13', '99.175.110.40', '159.109.247.10', '92.183.21.92', '161.157.112.190', '136.8.125.253', '13.31.136.31', '164.6.10.178', '130.66.83.162', '211.42.55.211', '186.23.19.228', '58.212.241.154', '167.181.105.20', '124.130.249.105', '138.94.104.116', '44.48.163.144', '33.88.12.143', '77.174.54.251', '206.129.51.254', '87.13.187.192', '20.148.154.71', '123.236.160.72', '67.92.187.173', '122.125.0.27', '179.102.88.216', '13.41.255.15', '99.21.154.140', '200.68.159.207', '111.10.88.2', '25.195.143.173', '67.35.106.53', '205.150.214.218', '205.121.24.228', '130.61.125.117', '154.253.153.52', '44.50.2.236', '52.129.243.148', '29.185.59.169', '32.19.14.207', '134.3.155.226', '195.26.143.148', '47.150.233.243', '49.219.48.34', '220.162.108.200', '61.171.54.171', '65.74.118.8', '29.86.53.76', '192.205.102.136', '185.184.214.99', '38.88.93.224', '42.125.121.150', '90.202.127.11', '136.54.139.50', '124.52.101.24', '104.232.122.45', '217.192.229.108', '134.59.162.8', '123.62.124.201', '168.59.205.206', '22.41.229.110', '35.92.20.255', '201.168.156.125', '212.50.248.111', '79.52.192.51', '5.192.237.62', '210.45.14.36', '151.140.52.54', '60.48.222.99', '217.55.182.205', '134.67.224.161', '221.215.160.82', '109.25.70.138', '29.184.87.219', '64.52.18.164', '28.137.151.30', '175.167.47.98', '11.181.249.82', '91.1.68.204', '17.16.211.57', '86.253.191.216', '170.118.142.154', '7.151.139.248', '107.165.13.38', '206.73.102.226', '7.29.232.215', '68.198.51.33', '40.115.209.17', '64.107.29.251', '38.151.156.106', '39.87.106.122', '11.250.186.117', '157.211.172.146', '68.188.202.42', '135.211.66.13', '222.74.108.41', '217.204.218.192', '146.132.244.238', '160.182.130.65', '58.222.154.136', '188.131.158.188', '27.119.180.147', '29.133.35.224', '165.66.146.202', '113.118.148.136', '115.174.177.152', '72.52.204.130', '223.136.27.206', '95.15.39.155', '189.176.139.97', '51.209.167.239', '94.190.106.10', '30.68.144.105', '45.58.1.107', '142.127.242.1', '143.93.232.80', '34.231.230.103', '117.249.6.69', '14.165.31.198', '176.77.161.11', '148.67.159.118', '28.18.163.13', '7.93.138.159', '75.85.226.38', '110.218.236.75', '165.118.160.191', '139.153.245.157', '6.138.44.234', '179.15.124.121', '204.86.100.12', '189.248.55.7', '76.55.189.82', '222.136.243.231', '219.182.252.10', '170.149.123.84', '13.227.32.43', '158.17.197.200', '171.156.173.148', '83.42.230.196', '177.5.205.5', '106.204.75.250', '194.54.253.26', '223.133.50.10', '176.24.45.157', '163.106.50.207', '28.213.64.186', '159.194.248.167', '135.48.177.151', '7.5.210.248', '26.145.139.123', '125.161.13.231', '208.210.93.171', '191.57.119.27', '83.43.227.196', '113.8.183.172', '104.150.228.4', '23.128.115.42', '88.35.8.0', '24.72.3.189', '209.160.160.70', '150.136.10.65', '166.15.239.69', '193.64.32.49', '215.131.148.68', '150.26.54.53', '69.86.91.246', '80.50.102.168', '57.232.107.74', '14.12.146.88', '134.171.255.247', '32.221.51.157', '115.167.1.186', '34.204.148.14', '59.148.87.213', '187.249.184.235', '105.126.205.15', '168.56.213.174', '166.22.149.65', '204.186.127.178', '187.25.102.147', '31.19.126.94', '147.255.187.181', '190.161.111.9', '163.198.103.72', '29.158.109.71', '207.63.82.212', '114.53.0.171', '22.163.215.71', '11.41.157.122', '147.126.84.79', '36.27.114.4', '168.43.225.217', '122.22.62.16', '152.237.80.200', '184.139.216.86', '69.116.147.68', '130.127.46.96', '48.123.178.145', '23.229.218.252', '42.190.158.93', '197.187.38.118', '137.78.44.29', '91.102.171.47', '134.149.141.188', '31.245.37.191', '24.124.180.150', '167.122.46.203', '219.177.216.144', '64.209.127.68', '22.4.90.50', '168.62.147.134', '151.224.198.234', '14.224.141.8', '13.103.23.115', '81.184.123.65', '103.23.242.73', '11.142.25.118', '132.55.94.19', '90.46.66.75', '182.42.129.62', '32.181.232.248', '9.193.81.55', '33.133.226.63', '11.189.77.20', '122.250.78.204', '83.19.24.56', '27.81.82.156', '48.245.153.218', '184.200.52.123', '76.75.99.117', '201.76.77.152', '1.5.102.68', '64.140.215.185', '25.36.67.40', '190.47.146.54', '18.214.185.228', '157.76.95.147', '65.143.246.121', '182.173.231.126', '171.53.143.232', '139.67.87.101', '40.80.163.120', '178.159.88.237', '167.70.169.155', '54.170.26.56', '102.8.104.163', '34.178.14.14', '65.17.14.32', '126.206.59.111', '5.56.33.133', '167.102.240.1', '76.199.173.76', '122.180.239.29', '26.219.136.222', '128.42.105.131', '187.18.169.70', '105.99.71.196', '135.133.135.153', '187.113.211.72', '142.228.111.96', '154.105.223.162', '144.45.228.38', '194.179.221.141', '84.74.140.200', '73.248.110.152', '150.50.157.244', '62.53.56.90', '179.75.66.54', '214.229.211.39', '125.196.127.63', '201.228.38.99', '154.162.19.253', '45.150.66.251', '80.103.121.78', '16.182.173.222', '154.110.63.111', '21.116.68.3', '77.177.75.130', '43.10.6.162', '19.101.129.85', '132.217.145.75', '24.10.155.55', '59.142.13.9', '194.79.31.231', '89.144.217.253', '176.15.88.13', '53.4.233.125', '23.174.107.176', '161.249.225.233', '132.225.255.32', '163.145.206.101', '120.255.181.188', '131.248.53.226', '134.183.161.44', '50.198.96.84', '128.139.35.113', '188.187.244.113', '205.108.253.162', '115.207.7.31', '207.87.95.154', '204.132.18.158', '211.186.128.25', '105.116.87.208', '169.255.176.96', '218.12.120.235', '109.82.207.215', '206.81.170.249', '161.111.51.35', '112.52.82.84', '39.240.66.76', '81.32.166.162', '20.50.193.0', '45.175.195.251', '60.46.255.211', '59.110.76.133', '172.216.130.20', '30.191.133.219', '215.26.146.168', '175.153.185.1', '178.190.132.6', '117.168.89.196', '60.83.37.10', '53.41.2.110', '194.203.254.68', '109.117.141.34', '165.156.203.150', '169.132.239.215', '205.123.212.249', '64.246.127.255', '143.140.100.171', '33.77.244.12', '119.236.201.120', '195.67.250.52', '202.27.185.228', '6.215.38.47', '220.177.124.76', '95.212.223.89', '10.215.203.45', '216.74.58.15', '211.247.65.148', '55.37.68.8', '103.46.108.251', '6.75.128.193', '30.56.49.133', '45.41.166.196', '175.223.218.12', '50.1.36.76', '80.3.28.32', '95.225.41.21', '171.200.127.149', '87.230.132.118', '61.188.173.242', '200.118.33.155', '191.9.41.77', '64.124.64.47', '157.188.92.78', '169.118.147.202', '13.205.15.156', '192.105.45.230', '188.162.49.188', '74.243.93.46', '66.22.72.120', '15.61.225.145', '53.218.147.172', '8.0.88.62', '83.18.223.240', '123.207.184.181', '215.96.51.157', '182.111.170.6', '53.35.162.67', '7.73.235.169', '141.148.182.3', '122.19.68.164', '118.208.246.97', '51.166.174.41', '90.202.14.171', '97.22.32.231', '51.106.199.243', '107.138.102.196', '168.171.150.163', '170.168.168.109', '123.19.179.75', '34.242.10.80', '166.169.4.223', '201.154.76.230', '11.40.243.9', '174.248.1.50', '194.124.224.38', '156.162.189.10', '184.100.240.55', '117.237.17.72', '49.110.173.160', '55.84.174.84', '217.28.221.197', '135.150.124.68', '35.194.158.50', '91.101.210.225', '161.185.144.70', '130.142.82.40', '135.31.9.41', '44.242.33.157', '42.86.211.42', '77.251.118.113', '34.223.7.226', '126.25.241.10', '129.218.154.7', '173.115.183.87', '25.136.72.18', '4.41.103.241', '139.117.170.204', '52.58.110.134', '45.218.130.238', '2.225.62.186', '18.76.25.225', '31.252.130.144', '16.89.25.181', '222.251.221.50', '126.71.151.252', '107.241.96.53', '218.233.96.74', '120.17.137.226', '12.190.33.13', '137.122.218.135', '164.27.184.139', '79.95.185.71', '104.228.213.177', '25.232.37.222', '187.185.30.57', '11.200.216.47', '128.25.140.50', '20.45.253.44', '18.149.7.250', '29.96.228.72', '96.37.217.63', '120.53.61.125', '8.15.18.162', '167.36.37.216', '69.147.94.126', '31.208.159.244', '213.26.71.244', '21.7.23.8', '103.119.123.166', '190.61.72.27', '219.77.51.238', '136.73.233.108', '142.241.127.75', '8.241.16.220', '83.136.37.254', '53.27.119.94', '166.8.243.40', '213.187.138.174', '126.97.167.171', '12.30.69.138', '58.15.120.199', '27.14.207.63', '179.7.127.154', '159.162.143.245', '142.92.230.109', '147.106.90.152', '87.144.6.53', '143.40.19.113', '202.24.209.218', '118.35.84.254', '62.59.111.119', '92.135.198.63', '183.33.139.205', '161.102.204.193', '83.236.127.237', '100.12.180.112', '188.196.119.58', '145.102.111.5', '214.164.89.7', '41.120.134.101', '144.60.127.204', '162.162.213.126', '10.41.183.154', '110.67.135.103', '26.26.105.138', '60.43.219.189', '161.16.159.136', '151.77.90.8', '192.225.74.79', '219.246.68.252', '67.86.175.48', '62.37.73.178', '33.64.181.74', '104.169.248.164', '111.225.44.50', '142.159.142.216', '13.134.55.157', '2.58.105.16', '38.231.112.242', '50.32.53.242', '155.183.4.185', '52.94.112.86', '131.123.4.229', '129.236.124.232', '126.218.87.129', '206.7.171.190', '61.245.155.182', '186.42.52.21', '205.121.154.61', '84.68.183.215', '18.61.9.27', '185.51.163.187', '34.207.152.223', '218.43.80.149', '93.159.21.102', '24.135.187.140', '117.192.187.195', '123.224.206.135', '173.111.251.136', '163.124.137.198', '34.249.93.28', '87.206.97.244', '80.32.168.19', '187.155.61.178', '21.107.251.43', '36.240.65.2', '96.97.168.56', '43.85.82.153', '84.151.233.183', '34.112.228.97', '211.15.67.161', '198.79.62.205', '213.210.24.114', '159.191.102.228', '201.249.178.118', '185.215.126.180', '106.245.240.158', '24.107.78.127', '43.30.93.103', '188.31.32.133', '102.76.58.193', '189.218.57.96', '94.102.187.224', '47.60.147.198', '17.205.106.37', '194.158.202.84', '80.205.255.65', '96.132.19.230', '144.22.246.165', '175.119.41.196', '185.236.113.13', '70.2.51.127', '8.184.232.81', '147.81.134.167', '219.93.204.147', '185.100.102.74', '184.235.169.157', '68.224.77.72', '187.205.143.38', '7.131.192.52', '94.90.209.69', '19.159.173.219', '17.115.83.193', '124.200.207.249', '204.180.62.50', '221.78.220.126', '73.124.197.106', '131.64.81.82', '92.122.17.152', '13.247.228.139', '35.179.62.99', '151.158.22.49', '200.30.254.2', '20.95.246.175', '126.255.244.37', '9.188.41.62', '107.60.112.41', '19.46.117.144', '204.162.202.247', '60.37.120.13', '66.185.173.241', '102.166.185.93', '90.111.100.216', '18.85.229.199', '213.182.31.10', '9.118.102.60', '182.8.107.157', '128.103.74.214', '119.234.17.59', '28.133.131.171', '28.233.52.177', '32.139.29.137', '191.226.115.236', '219.107.76.136', '122.157.202.118', '183.91.158.17', '109.200.58.39', '146.79.168.27', '158.63.233.112', '82.192.57.253', '55.9.20.248', '143.29.70.252', '118.120.236.102', '117.56.163.11', '59.88.204.38', '144.195.209.185', '109.137.7.202', '205.162.252.191', '178.73.224.5', '56.156.35.21', '113.251.167.126', '194.246.175.100', '200.125.190.53', '48.250.69.81', '16.67.216.133', '161.170.56.245', '55.76.142.111', '188.98.149.93', '7.73.117.206', '44.248.254.6', '209.88.241.36', '194.212.20.105', '83.56.139.190', '40.180.40.42', '114.122.164.212', '146.127.27.205', '211.210.112.250', '208.69.108.74', '78.228.178.152', '164.203.248.33', '30.164.191.204', '156.53.32.179', '170.75.50.210', '50.167.95.82', '151.180.27.215', '194.237.103.4', '41.117.144.160', '115.121.231.88', '79.147.238.95', '183.64.200.18', '13.3.140.77', '49.235.132.9', '186.87.58.154', '15.191.99.154', '59.239.252.253', '55.217.104.95', '186.243.118.24', '55.179.111.195', '15.81.61.247', '26.66.64.190', '142.79.2.176', '166.142.116.230', '65.251.104.13', '31.68.34.236', '169.117.254.91', '75.182.23.236', '86.66.16.129', '85.80.34.152', '17.229.161.191', '3.104.76.156', '80.188.97.166', '30.142.237.223', '83.203.163.10', '135.157.11.225', '93.185.56.95', '170.216.52.29', '19.174.70.253', '23.244.55.180', '11.212.184.32', '39.113.44.230', '114.133.152.119', '38.128.206.82', '55.42.25.108', '163.216.222.61', '184.216.151.136', '166.32.118.133', '51.228.208.229', '98.87.18.104', '213.153.29.18', '170.69.117.142', '144.184.242.250', '16.88.69.205', '10.83.107.221', '73.144.90.234', '23.250.28.159', '96.74.194.103', '211.102.4.88', '24.88.86.129', '161.205.160.19', '136.2.222.128', '198.146.209.59', '170.202.246.59', '166.74.94.228', '107.90.23.31', '83.166.146.178', '146.88.30.105', '69.248.114.3', '100.206.100.184', '215.198.153.204', '100.20.207.221', '128.46.160.148', '20.42.244.59', '111.180.37.229', '137.203.42.136', '167.69.128.27', '195.157.174.78', '95.25.235.248', '28.186.43.75', '212.241.155.95', '21.14.211.219', '120.109.33.102', '165.89.165.123', '31.149.64.119', '200.155.230.190', '50.109.162.195', '188.81.133.210', '218.40.134.211', '29.176.18.79', '144.184.101.123', '98.243.117.221', '103.87.65.234', '130.209.115.100', '99.103.137.71', '220.173.37.105', '185.98.38.107', '220.17.133.20', '72.71.164.229', '67.161.47.60', '110.239.240.104', '170.219.170.208', '174.215.11.93', '114.198.234.27', '219.20.67.74', '130.1.103.71', '89.145.253.225', '22.169.116.92', '145.200.121.134', '177.73.193.10', '41.188.236.192', '178.160.23.197', '145.76.238.27', '6.161.181.119', '223.4.145.105', '15.238.126.23', '159.215.228.43', '56.152.223.251', '114.254.241.145', '29.191.45.80', '171.98.119.30', '157.153.169.152', '139.129.195.222', '166.159.144.179', '199.105.185.152', '210.242.235.86', '102.30.31.86', '181.48.216.79', '67.171.196.84', '96.149.83.16', '201.54.10.237', '136.55.115.149', '85.212.204.114', '196.246.208.236', '5.166.216.212', '184.18.229.133', '151.92.84.170', '191.73.219.153', '183.22.45.104', '187.12.66.89', '164.51.167.254', '156.229.40.210', '169.238.79.141', '33.225.253.213', '136.167.14.82', '77.228.73.226', '214.127.113.241', '211.71.213.251', '142.203.153.120', '90.81.180.72', '185.66.80.251', '197.7.169.175', '113.197.146.162', '178.208.38.4', '198.54.168.215', '130.134.213.16', '172.174.125.251', '169.123.202.171', '161.29.131.158', '189.83.29.125', '124.248.60.4', '91.173.131.178', '126.158.96.193', '74.107.88.43', '27.175.196.254', '91.181.23.74', '63.92.184.107', '21.45.217.229', '12.207.162.36', '139.69.170.186', '4.98.135.94', '92.162.159.6', '193.40.20.62', '124.243.199.23', '146.217.148.251', '70.46.84.42', '206.198.2.105', '161.12.207.193', '129.10.212.2', '213.52.164.15', '217.195.224.231', '131.66.63.148', '189.53.58.180', '194.154.132.253', '107.66.141.80', '49.253.122.94', '26.80.117.60', '112.191.49.147', '145.134.178.90', '78.64.137.137', '185.224.220.90', '36.86.247.72', '154.196.246.143', '130.56.9.27', '113.241.208.159', '209.3.179.59', '65.63.39.155', '11.69.231.131', '196.156.165.37', '150.201.21.116', '178.168.195.26', '33.17.117.232', '197.2.24.15', '2.190.10.212', '11.186.22.167', '13.71.55.6', '83.45.194.58', '164.94.254.240', '111.95.99.40', '34.82.192.60', '36.16.18.16', '218.254.160.18', '83.179.127.4', '85.82.245.187', '12.20.246.182', '92.57.242.204', '53.35.70.36', '208.42.169.100', '79.99.29.212', '176.241.118.152', '222.212.166.133', '103.208.19.215', '78.24.146.63', '42.6.162.98', '87.164.97.9', '116.51.237.17', '76.219.142.21', '77.226.135.88', '221.99.47.255', '99.180.130.79', '84.225.214.62', '151.195.172.122', '72.95.174.250', '159.238.58.158', '94.123.23.224', '121.157.132.172', '130.208.105.191', '143.179.201.210', '86.35.192.206', '60.185.206.51', '124.37.25.1', '75.49.9.253', '65.201.111.14', '199.175.118.81', '56.158.129.213', '16.178.236.229', '216.73.137.147', '91.182.162.3', '64.62.252.27', '188.132.150.202', '44.210.168.225', '158.97.2.69', '99.203.247.40', '218.17.145.51', '6.139.242.198', '38.65.89.250', '17.216.148.202', '199.254.233.234', '163.163.135.21', '180.154.65.27', '209.109.148.173', '69.17.209.91', '97.167.207.243', '99.145.124.173', '45.128.241.9', '111.238.178.16', '153.136.222.172', '215.225.31.36', '17.35.213.254', '46.14.28.242', '135.128.30.130', '14.129.207.176', '79.153.196.186', '222.212.62.51', '142.30.208.172', '129.94.201.248', '14.194.215.238', '119.29.77.203', '205.88.17.22', '164.247.114.245', '104.196.226.154', '82.240.120.112', '118.137.97.54', '197.182.111.75', '177.109.25.63', '185.248.143.91', '148.204.167.210', '72.25.213.101', '139.141.36.140', '5.164.123.141', '210.123.48.186', '193.230.85.2', '24.84.108.123', '27.170.107.67', '214.233.20.210', '189.229.45.222', '114.5.14.24', '155.20.190.188', '18.128.45.78', '4.99.156.37', '41.216.36.235', '7.220.213.86', '79.226.183.21', '65.32.197.7', '12.159.153.95', '203.157.34.146', '68.72.124.40', '102.16.179.236', '65.94.173.130', '65.178.19.115', '132.137.17.209', '47.78.219.66', '212.104.12.51', '120.163.172.180', '125.193.157.2', '141.145.36.255', '183.168.208.109', '142.98.62.76', '209.171.29.233', '117.226.185.51', '115.127.98.150', '113.1.42.143', '50.18.51.254', '119.33.184.230', '206.193.216.218', '193.86.166.193', '52.130.126.219', '153.140.10.2', '30.216.63.225', '112.132.17.43', '152.42.150.152', '93.214.230.64', '139.228.52.208', '33.198.64.97', '161.137.110.95', '16.49.174.76', '79.5.125.206', '131.52.77.125', '50.153.237.136', '47.178.7.160', '24.242.9.127', '40.154.204.144', '122.78.147.24', '103.48.146.2', '57.34.189.227', '161.148.92.87', '147.123.195.20', '193.225.96.190', '168.92.62.16', '111.194.14.22', '21.237.139.114', '82.236.212.226', '209.224.188.162', '140.248.195.14', '146.15.100.139', '204.230.254.121', '3.110.252.153', '105.102.47.153', '177.202.61.107', '50.178.165.245', '173.222.131.241', '78.153.52.169', '220.33.22.116', '202.56.153.202', '22.238.119.174', '146.131.246.11', '31.154.215.148', '10.121.190.39', '209.131.227.87', '10.178.187.64', '198.95.100.188', '199.77.206.160', '24.215.90.255', '19.134.76.100', '118.26.0.169', '102.162.71.76', '199.13.12.159', '118.142.37.91', '18.145.228.190', '106.180.95.210', '113.112.179.211', '94.191.170.42', '191.50.77.212', '7.67.206.144', '15.143.223.41', '70.164.216.8', '184.35.221.58', '31.148.132.230', '125.223.125.178', '199.47.164.159', '72.234.230.51', '16.135.148.121', '77.158.80.222', '19.69.129.111', '99.214.27.14', '3.10.15.232', '169.102.42.178', '189.45.239.28', '196.123.32.148', '30.136.209.235', '11.186.253.129', '152.189.127.240', '120.43.180.56', '130.28.174.194', '121.62.173.73', '44.71.133.100', '23.149.157.236', '217.231.96.87', '197.179.12.200', '214.66.12.135', '76.180.210.161', '210.119.228.151', '196.71.47.20', '200.156.30.116', '80.144.42.186', '128.121.129.3', '63.228.253.56', '138.250.112.69', '15.218.179.179', '28.122.157.83', '12.73.112.218', '169.8.231.163', '101.232.96.112', '26.190.52.141', '175.22.48.99', '88.57.98.237', '42.253.43.155', '128.106.162.214', '115.226.110.80', '42.122.237.181', '66.60.252.222', '58.162.93.238', '81.224.65.197', '3.59.177.106', '69.3.225.205', '148.69.67.119', '80.215.238.4', '153.202.110.12', '56.1.134.149', '101.9.222.243', '77.151.192.99', '204.9.240.167', '145.251.155.104', '132.73.65.48', '3.73.28.249', '178.41.174.181', '39.33.0.64', '211.170.17.156', '68.131.253.49', '67.4.92.249', '67.218.155.211', '9.172.169.233', '129.20.169.25', '167.133.39.12', '135.181.4.201', '50.115.78.133', '104.190.75.191', '216.61.115.38', '111.188.167.172', '185.78.244.213', '98.19.162.235', '13.73.255.250', '144.237.217.251', '158.94.46.234', '67.111.214.239', '206.150.186.41', '73.141.97.119', '67.14.150.252', '89.177.185.238', '89.17.227.231', '135.43.8.179', '16.8.222.165', '213.52.181.158', '91.100.56.239', '137.144.158.107', '204.217.217.34', '72.46.163.216', '69.248.227.97', '198.50.0.102', '53.247.64.122', '166.33.69.218', '102.192.138.247', '147.224.81.142', '13.125.72.123', '27.251.142.31', '143.210.174.74', '147.57.16.25', '6.243.177.148', '108.187.39.66', '101.132.213.164', '77.204.185.226', '206.77.187.181', '220.55.33.29', '170.13.54.225', '58.35.204.189', '208.158.100.246', '176.34.120.240', '93.209.103.110', '13.82.243.112', '203.3.9.5', '147.125.33.124', '189.238.32.137', '202.184.102.164', '67.67.183.28', '155.246.193.148', '65.221.72.154', '131.116.206.187', '10.184.55.85', '94.243.208.255', '19.175.59.253', '57.202.144.48', '218.199.189.167', '110.233.118.93', '36.175.68.249', '157.99.197.9', '178.89.239.14', '77.184.79.55', '197.244.222.252', '98.54.3.187', '181.47.44.182', '122.45.253.191', '101.16.204.46', '11.127.226.129', '33.62.188.159', '62.108.214.124', '42.216.210.160', '64.165.185.183', '107.70.80.107', '217.54.153.206', '69.183.216.165', '104.184.110.131', '86.230.173.5', '21.64.139.61', '31.131.153.179', '187.169.204.48', '193.253.194.236', '142.232.136.145', '132.77.217.102', '185.14.65.181', '133.24.96.118', '160.238.120.165', '203.80.202.113', '26.204.108.225', '47.238.4.45', '119.45.24.59', '33.255.33.4', '199.152.26.2', '66.58.47.20', '38.140.245.144', '98.110.100.52', '216.255.74.168', '126.197.204.97', '157.168.237.101', '57.244.213.50', '194.59.187.183', '206.247.131.69', '184.25.139.130', '148.1.51.54', '194.34.95.24', '36.96.71.113', '183.38.55.11', '140.85.113.131', '84.129.69.191', '189.129.19.208', '111.79.17.220', '103.108.147.9', '75.178.18.38', '144.234.104.213', '78.203.33.218', '107.246.249.26', '28.145.253.8', '112.34.150.175', '217.33.160.218', '92.151.214.130', '16.227.35.198', '129.58.41.56', '149.119.244.234', '182.183.31.177', '205.159.168.141', '53.35.199.194', '201.238.227.16', '168.255.141.229', '186.106.132.132', '40.76.207.62', '223.171.125.201', '75.153.144.185', '213.220.9.204', '61.143.84.78', '81.150.51.16', '216.204.159.224', '140.146.107.30', '194.185.3.223', '110.182.177.45', '71.98.126.50', '185.186.46.80', '67.119.0.219', '181.156.77.161', '190.123.198.237', '24.71.162.27', '97.80.73.71', '145.172.224.133', '84.32.255.230', '151.172.177.77', '171.132.173.28', '11.112.70.90', '118.188.168.38', '175.22.145.47', '184.197.21.182', '202.54.117.201', '173.104.113.180', '217.50.151.51', '163.0.134.68', '90.108.147.23', '189.245.70.79', '60.110.246.9', '53.35.88.109', '58.209.147.171', '154.8.48.90', '210.241.144.38', '192.209.234.53', '55.201.153.118', '97.138.228.250', '68.75.191.246', '29.194.231.168', '23.40.159.155', '122.202.180.215', '121.44.107.131', '111.69.102.214', '21.230.24.193', '53.165.69.150', '135.154.101.32', '164.132.166.7', '102.100.58.178', '128.55.193.133', '13.188.241.181', '223.223.218.133', '177.21.10.162', '46.35.150.52', '102.32.183.180', '43.158.111.161', '18.55.4.88', '153.131.125.12', '61.126.105.204', '199.145.217.47', '73.165.220.64', '150.84.132.169', '51.59.126.214', '87.110.20.105', '98.67.108.190', '33.15.80.217', '173.53.241.128', '172.92.20.113', '146.16.100.207', '167.87.21.185', '18.106.182.104', '69.202.195.141', '110.62.30.26', '108.10.26.197', '113.127.104.144', '157.123.250.47', '56.36.13.96', '23.206.94.232', '8.153.121.12', '156.85.247.29', '118.205.206.202', '198.188.79.97', '195.216.73.94', '29.29.198.52', '50.101.70.3', '73.218.187.127', '110.92.224.191', '107.137.173.28', '20.12.35.198', '23.190.80.131', '47.71.242.230', '116.129.198.77', '186.234.18.142', '211.242.48.241', '29.62.4.69', '223.185.33.144', '222.48.56.153', '113.72.51.76', '178.172.204.129', '65.176.5.5', '22.145.84.88', '26.41.221.138', '223.168.23.87', '173.117.248.211', '208.144.243.183', '131.90.28.185', '12.140.215.234', '172.241.225.86', '148.239.80.25', '166.87.180.120', '10.238.44.209', '217.57.0.153', '166.248.227.255', '147.147.114.172', '39.35.228.144', '126.224.183.30', '165.127.92.63', '169.195.19.188', '108.57.193.2', '113.19.38.7', '39.68.56.125', '3.80.220.86', '49.124.59.124', '105.139.145.109', '41.74.47.30', '165.156.163.142', '179.58.59.120', '162.219.113.231', '171.101.208.253', '155.30.93.55', '140.172.236.179', '148.205.248.195', '6.121.25.233', '171.179.248.68', '188.144.28.64', '129.110.208.181', '132.160.246.217', '86.13.200.132', '184.80.38.122', '115.59.99.183', '195.107.52.198', '39.227.68.156', '45.186.224.184', '9.45.167.5', '115.190.106.9', '191.193.7.95', '189.100.110.47', '41.82.254.29', '45.9.60.13', '131.192.93.253', '204.109.109.243', '206.83.206.79', '5.18.254.213', '74.244.54.173', '91.213.117.73', '63.91.181.88', '147.178.155.34', '218.212.185.101', '43.18.102.11', '110.193.166.69', '144.91.201.160', '170.228.77.228', '161.124.155.22', '132.72.102.164', '143.32.101.254', '168.29.249.122', '60.221.104.89', '76.135.138.101', '4.206.197.147', '41.100.0.15', '139.75.232.176', '170.202.29.204', '172.114.93.237', '120.166.53.202', '80.54.188.102', '209.234.223.248', '38.116.217.128', '23.221.51.57', '164.51.181.15', '91.143.147.207', '13.186.4.57', '104.254.160.79', '71.165.50.162', '158.1.201.124', '199.86.52.67', '176.142.129.237', '48.121.82.249', '199.250.175.162', '15.192.35.154', '61.83.66.11', '84.14.148.99', '115.254.240.59', '135.8.16.251', '109.194.114.196', '187.156.130.80', '129.131.16.126', '77.139.150.111', '11.21.222.23', '85.223.146.27', '165.134.164.252', '223.2.22.116', '130.216.190.132', '13.216.243.91', '55.228.154.146', '33.230.155.181', '195.2.241.207', '135.75.75.142', '128.154.11.253', '22.61.199.220', '76.82.48.8', '168.227.87.170', '48.120.44.130', '172.89.129.140', '125.79.156.136', '97.11.159.151', '199.82.244.185', '221.130.230.105', '76.11.139.69', '156.78.163.76', '209.7.74.150', '199.233.192.71', '168.21.153.252', '72.222.132.130', '41.217.66.11', '26.65.135.95', '129.180.42.56', '73.147.192.22', '34.190.43.115', '119.41.92.127', '126.221.95.191', '38.133.114.36', '91.122.47.151', '177.59.41.172', '148.228.235.226', '133.168.149.138', '7.33.247.170', '197.199.51.199', '115.77.61.191', '83.205.61.56', '54.162.197.250', '80.131.246.184', '124.241.33.220', '24.105.132.123', '171.89.142.39', '203.219.227.156', '80.101.210.36', '58.182.211.50', '52.198.3.14', '174.254.61.152', '19.147.98.173', '174.208.138.166', '151.138.156.165', '91.62.229.187', '149.235.79.245', '86.45.60.218', '38.63.98.152', '214.243.158.67', '120.202.106.126', '169.22.104.83', '35.76.210.26', '114.115.12.145', '82.196.69.233', '170.239.231.129', '189.25.86.80', '41.108.236.80', '93.108.12.227', '76.234.178.157', '202.4.103.55', '13.57.55.158', '18.171.23.106', '77.213.80.157', '213.119.202.179', '83.119.86.157', '132.5.81.24', '133.43.39.207', '171.127.153.67', '101.161.116.239', '9.44.219.30', '42.237.4.105', '213.33.167.109', '115.250.38.74', '162.8.196.184', '95.173.71.137', '177.131.222.108', '9.148.30.117', '79.158.0.28', '142.16.110.215', '177.46.244.88', '107.38.83.147', '150.34.174.163', '180.227.201.125', '152.224.139.161', '175.204.76.213', '202.35.120.120', '135.205.184.236', '197.13.39.205', '39.228.12.92', '33.22.84.88', '145.216.221.230', '116.136.88.171', '198.135.206.155', '35.116.42.218', '99.44.9.235', '24.239.227.194', '87.72.39.9', '208.238.208.247', '83.97.8.39', '11.39.221.46', '29.94.233.53', '58.66.111.116', '203.145.173.115', '98.120.80.245', '148.216.200.203', '216.167.6.71', '155.224.56.192', '115.215.208.132', '159.120.18.239', '120.215.228.218', '191.232.94.35', '83.74.219.146', '100.142.218.134', '68.141.188.132', '175.180.245.108', '89.30.200.33', '154.62.186.119', '175.21.1.254', '182.249.133.86', '115.55.199.137', '178.16.174.118', '42.209.95.70', '68.62.215.166', '23.99.82.173', '50.101.167.87', '104.45.169.41', '20.14.59.201', '91.129.148.36', '63.70.59.48', '84.111.130.10', '10.65.115.69', '223.62.189.245', '174.238.203.20', '17.113.111.104', '155.98.155.120', '208.89.203.185', '214.7.231.60', '158.142.53.122', '169.54.62.237', '122.105.253.112', '87.59.72.230', '222.202.81.77', '92.128.177.25', '73.33.230.95', '73.238.19.216', '120.217.5.41', '126.254.76.241', '160.58.132.134', '37.103.250.147', '60.36.162.22']\n",
      "lenth of black list 5007\n"
     ]
    }
   ],
   "source": [
    "black_list = data[data['fraud'] == True]['ip_address'].unique().tolist()\n",
    "print('IP addresses from which there were fraudulent transactions', black_list)\n",
    "print('lenth of black list', len(black_list))"
   ]
  },
  {
   "cell_type": "code",
   "execution_count": 107,
   "metadata": {},
   "outputs": [],
   "source": [
    "# let's make a dictionary from the ip from which the fraudulent transaction occurred\n",
    "black_list_ip = data[data['fraud']==True]['ip_address'].value_counts(ascending=False).to_dict()\n",
    "# Create a new black_list attribute\n",
    "data['black_list'] = data['ip_address'].map(lambda x: 2 if x in black_list_ip and black_list_ip[x] > 1 else (1 if x in black_list_ip and black_list_ip[x] == 1 else 0))\n"
   ]
  },
  {
   "cell_type": "code",
   "execution_count": 168,
   "metadata": {},
   "outputs": [
    {
     "data": {
      "text/html": [
       "<div>\n",
       "<style scoped>\n",
       "    .dataframe tbody tr th:only-of-type {\n",
       "        vertical-align: middle;\n",
       "    }\n",
       "\n",
       "    .dataframe tbody tr th {\n",
       "        vertical-align: top;\n",
       "    }\n",
       "\n",
       "    .dataframe thead th {\n",
       "        text-align: right;\n",
       "    }\n",
       "</style>\n",
       "<table border=\"1\" class=\"dataframe\">\n",
       "  <thead>\n",
       "    <tr style=\"text-align: right;\">\n",
       "      <th></th>\n",
       "      <th>account_age_days</th>\n",
       "      <th>transaction_amt</th>\n",
       "      <th>transaction_adj_amt</th>\n",
       "      <th>historic_velocity</th>\n",
       "      <th>ip_address</th>\n",
       "      <th>user_agent</th>\n",
       "      <th>email_domain</th>\n",
       "      <th>phone_number</th>\n",
       "      <th>billing_city</th>\n",
       "      <th>billing_postal</th>\n",
       "      <th>...</th>\n",
       "      <th>hour</th>\n",
       "      <th>day_of_week</th>\n",
       "      <th>ip_country</th>\n",
       "      <th>ip_state</th>\n",
       "      <th>billing_country_USA</th>\n",
       "      <th>billing_country</th>\n",
       "      <th>country_match</th>\n",
       "      <th>black_list</th>\n",
       "      <th>browser</th>\n",
       "      <th>locale_country</th>\n",
       "    </tr>\n",
       "  </thead>\n",
       "  <tbody>\n",
       "    <tr>\n",
       "      <th>0</th>\n",
       "      <td>3371.0</td>\n",
       "      <td>2167.0</td>\n",
       "      <td>56.0</td>\n",
       "      <td>2572.0</td>\n",
       "      <td>154.68.49.124</td>\n",
       "      <td>Opera/9.81.(Windows NT 10.0; ht-HT) Presto/2.9...</td>\n",
       "      <td>perez-garza.com</td>\n",
       "      <td>878-111-5140</td>\n",
       "      <td>Woodsburgh</td>\n",
       "      <td>96336.0</td>\n",
       "      <td>...</td>\n",
       "      <td>9</td>\n",
       "      <td>1</td>\n",
       "      <td>Ivory Coast</td>\n",
       "      <td>Abidjan</td>\n",
       "      <td>1</td>\n",
       "      <td>United States</td>\n",
       "      <td>1</td>\n",
       "      <td>0</td>\n",
       "      <td>1</td>\n",
       "      <td>New Zealand</td>\n",
       "    </tr>\n",
       "    <tr>\n",
       "      <th>1</th>\n",
       "      <td>2714.0</td>\n",
       "      <td>2045.0</td>\n",
       "      <td>48.0</td>\n",
       "      <td>4517.0</td>\n",
       "      <td>39.131.125.85</td>\n",
       "      <td>Opera/9.76.(X11; Linux i686; mi-NZ) Presto/2.9...</td>\n",
       "      <td>mcneil-ortega.com</td>\n",
       "      <td>(002)736-0139</td>\n",
       "      <td>West Kevin</td>\n",
       "      <td>78083.0</td>\n",
       "      <td>...</td>\n",
       "      <td>18</td>\n",
       "      <td>1</td>\n",
       "      <td>China</td>\n",
       "      <td>Guangdong</td>\n",
       "      <td>1</td>\n",
       "      <td>United States</td>\n",
       "      <td>1</td>\n",
       "      <td>1</td>\n",
       "      <td>1</td>\n",
       "      <td>India</td>\n",
       "    </tr>\n",
       "    <tr>\n",
       "      <th>2</th>\n",
       "      <td>6987.0</td>\n",
       "      <td>2892.0</td>\n",
       "      <td>61.0</td>\n",
       "      <td>5007.0</td>\n",
       "      <td>166.245.194.83</td>\n",
       "      <td>Mozilla/5.0 (X11; Linux x86_64; rv:1.9.6.20) G...</td>\n",
       "      <td>davis-calderon.com</td>\n",
       "      <td>(983)585-2863x652</td>\n",
       "      <td>Lorichester</td>\n",
       "      <td>83236.0</td>\n",
       "      <td>...</td>\n",
       "      <td>13</td>\n",
       "      <td>0</td>\n",
       "      <td>United States</td>\n",
       "      <td>Pennsylvania</td>\n",
       "      <td>1</td>\n",
       "      <td>United States</td>\n",
       "      <td>0</td>\n",
       "      <td>0</td>\n",
       "      <td>0</td>\n",
       "      <td>Maldives</td>\n",
       "    </tr>\n",
       "    <tr>\n",
       "      <th>3</th>\n",
       "      <td>2712.0</td>\n",
       "      <td>3040.0</td>\n",
       "      <td>28.0</td>\n",
       "      <td>6022.0</td>\n",
       "      <td>100.1.217.216</td>\n",
       "      <td>Mozilla/5.0 (Macintosh; Intel Mac OS X 10 9_3 ...</td>\n",
       "      <td>rose-lee.org</td>\n",
       "      <td>+1-678-897-3420x60738</td>\n",
       "      <td>Stephenmouth</td>\n",
       "      <td>78364.0</td>\n",
       "      <td>...</td>\n",
       "      <td>7</td>\n",
       "      <td>3</td>\n",
       "      <td>United States</td>\n",
       "      <td>New Jersey</td>\n",
       "      <td>1</td>\n",
       "      <td>United States</td>\n",
       "      <td>0</td>\n",
       "      <td>0</td>\n",
       "      <td>0</td>\n",
       "      <td>Eritrea</td>\n",
       "    </tr>\n",
       "    <tr>\n",
       "      <th>4</th>\n",
       "      <td>3598.0</td>\n",
       "      <td>2976.0</td>\n",
       "      <td>66.0</td>\n",
       "      <td>2600.0</td>\n",
       "      <td>113.156.65.245</td>\n",
       "      <td>Mozilla/5.0 (X11; Linux x86_64; rv:1.9.5.20) G...</td>\n",
       "      <td>nash.net</td>\n",
       "      <td>(013)204-1766x92641</td>\n",
       "      <td>New Brianmouth</td>\n",
       "      <td>77499.0</td>\n",
       "      <td>...</td>\n",
       "      <td>6</td>\n",
       "      <td>5</td>\n",
       "      <td>Japan</td>\n",
       "      <td>Kanagawa</td>\n",
       "      <td>1</td>\n",
       "      <td>United States</td>\n",
       "      <td>1</td>\n",
       "      <td>0</td>\n",
       "      <td>0</td>\n",
       "      <td>Nepal</td>\n",
       "    </tr>\n",
       "  </tbody>\n",
       "</table>\n",
       "<p>5 rows × 39 columns</p>\n",
       "</div>"
      ],
      "text/plain": [
       "   account_age_days  transaction_amt  transaction_adj_amt  historic_velocity  \\\n",
       "0            3371.0           2167.0                 56.0             2572.0   \n",
       "1            2714.0           2045.0                 48.0             4517.0   \n",
       "2            6987.0           2892.0                 61.0             5007.0   \n",
       "3            2712.0           3040.0                 28.0             6022.0   \n",
       "4            3598.0           2976.0                 66.0             2600.0   \n",
       "\n",
       "       ip_address                                         user_agent  \\\n",
       "0   154.68.49.124  Opera/9.81.(Windows NT 10.0; ht-HT) Presto/2.9...   \n",
       "1   39.131.125.85  Opera/9.76.(X11; Linux i686; mi-NZ) Presto/2.9...   \n",
       "2  166.245.194.83  Mozilla/5.0 (X11; Linux x86_64; rv:1.9.6.20) G...   \n",
       "3   100.1.217.216  Mozilla/5.0 (Macintosh; Intel Mac OS X 10 9_3 ...   \n",
       "4  113.156.65.245  Mozilla/5.0 (X11; Linux x86_64; rv:1.9.5.20) G...   \n",
       "\n",
       "         email_domain           phone_number    billing_city  billing_postal  \\\n",
       "0     perez-garza.com           878-111-5140      Woodsburgh         96336.0   \n",
       "1   mcneil-ortega.com          (002)736-0139      West Kevin         78083.0   \n",
       "2  davis-calderon.com      (983)585-2863x652     Lorichester         83236.0   \n",
       "3        rose-lee.org  +1-678-897-3420x60738    Stephenmouth         78364.0   \n",
       "4            nash.net    (013)204-1766x92641  New Brianmouth         77499.0   \n",
       "\n",
       "   ... hour  day_of_week     ip_country      ip_state billing_country_USA  \\\n",
       "0  ...    9            1    Ivory Coast       Abidjan                   1   \n",
       "1  ...   18            1          China     Guangdong                   1   \n",
       "2  ...   13            0  United States  Pennsylvania                   1   \n",
       "3  ...    7            3  United States    New Jersey                   1   \n",
       "4  ...    6            5          Japan      Kanagawa                   1   \n",
       "\n",
       "  billing_country country_match black_list browser locale_country  \n",
       "0   United States             1          0       1    New Zealand  \n",
       "1   United States             1          1       1          India  \n",
       "2   United States             0          0       0       Maldives  \n",
       "3   United States             0          0       0        Eritrea  \n",
       "4   United States             1          0       0          Nepal  \n",
       "\n",
       "[5 rows x 39 columns]"
      ]
     },
     "execution_count": 168,
     "metadata": {},
     "output_type": "execute_result"
    }
   ],
   "source": [
    "data['browser'] = 'other'\n",
    "\n",
    "# Condition for searching for occurrences of words\n",
    "data.loc[data['user_agent'].str.contains('Opera'), 'browser'] = 1\n",
    "data.loc[data['user_agent'].str.contains('Mozilla'), 'browser'] = 0\n",
    "\n",
    "data.head()"
   ]
  },
  {
   "cell_type": "markdown",
   "metadata": {},
   "source": [
    "Let's pay attention to the locale attribute. It contains the country and language region code for the transaction. Let's try to create a new attribute with the transaction country."
   ]
  },
  {
   "cell_type": "code",
   "execution_count": 145,
   "metadata": {},
   "outputs": [],
   "source": [
    "# We found the two-letter designation of countries from external sources and compiled the list\n",
    "country_codes_short = ['NZ', 'IN', 'MV', 'ER', 'NP', 'PE', 'CA', 'SE', 'TW', 'IN', 'IN', 'UZ', 'IN', 'PL', 'NL', 'IN', 'RU', 'BE', 'IT', 'NU', 'KE', 'ZA', 'AF', 'TW', 'ID', 'NG', 'CZ', 'NO', 'IN', 'ZA', 'MX', 'BA', 'ZA', 'LK', 'FO', 'PL', 'AZ', 'IN', 'US', 'UG', 'SN', 'DK', 'MG', 'ER', 'GB', 'AM', 'IE', 'MM', 'SK', 'IR', 'CD', 'DJ', 'MA', 'AW', 'IN', 'NZ', 'MY', 'IN', 'IN', 'KZ', 'GB', 'MN', 'GR', 'HU', 'IN', 'ZA', 'FR', 'BD', 'US', 'BE', 'SV', 'ZA', 'PH', 'IN', 'IN', 'RU', 'KG', 'PH', 'ZA', 'ET', 'ET', 'JP', 'UA', 'IN', 'AN', 'UA', 'TW', 'TJ', 'VN', 'ET', 'GB', 'ES', 'BG', 'KH', 'IT', 'ES', 'CA', 'ET', 'KE', 'FR', 'ES', 'LV', 'IN', 'FR', 'IN', 'GB', 'RW', 'LK', 'ZM', 'KE', 'ES', 'IS', 'IN', 'IN', 'GL', 'LT', 'TR', 'IT', 'CR', 'UA', 'CH', 'EE', 'GH', 'ET', 'IN', 'TR', 'DJ', 'IN', 'RO', 'MK', 'CA', 'RU', 'TW', 'CN', 'UY', 'RU', 'RU', 'PK', 'IN', 'ZA', 'PL', 'BY', 'HT', 'IN', 'PK', 'BE', 'EG', 'GE', 'FI', 'NO', 'SG', 'TZ', 'US', 'NP', 'FR', 'CN', 'ET', 'LU', 'IN', 'MT', 'HK', 'SI', 'IN', 'ER', 'NG', 'ZA', 'IN', 'TM', 'AT', 'FR', 'FI', 'DZ', 'IN', 'IN', 'PK', 'HR', 'NG', 'AL', 'IL', 'NG', 'RU', 'PE', 'HK', 'CW', 'MR', 'KR', 'ZA', 'IN', 'ZA', 'DE', 'US', 'IQ', 'AG', 'SN', 'LU', 'ET', 'DE', 'NL', 'NO', 'ZW', 'ML', 'IN', 'AD', 'CA', 'HK', 'BT', 'ME', 'PT', 'CY', 'ER', 'LA', 'MX', 'CH', 'LU', 'PS', 'RS', 'IQ', 'SO', 'OM', 'EC', 'BE', 'DE', 'US', 'ES', 'CY', 'IL', 'CA', 'DO', 'LI', 'PR', 'IT', 'BO', 'SG', 'PY', 'DJ', 'GB', 'AU', 'HN', 'AE', 'IE', 'SO', 'SS', 'TN', 'SD', 'AR', 'PE', 'YE', 'GT', 'PH', 'DK', 'ZA', 'SY', 'NZ', 'ES', 'AR', 'DZ', 'VE', 'CO', 'CL', 'JO', 'KW', 'TD', 'MA', 'BW', 'SA', 'LB', 'LY', 'EH']"
   ]
  },
  {
   "cell_type": "markdown",
   "metadata": {},
   "source": [
    "For convenience, we will make a dictionary where the country is the key and its two-letter designation is the value."
   ]
  },
  {
   "cell_type": "code",
   "execution_count": 148,
   "metadata": {},
   "outputs": [
    {
     "name": "stdout",
     "output_type": "stream",
     "text": [
      "{'New Zealand': 'NZ', 'India': 'IN', 'Maldives': 'MV', 'Eritrea': 'ER', 'Nepal': 'NP', 'Peru': 'PE', 'Canada': 'CA', 'Sweden': 'SE', 'Taiwan, Province of China': 'TW', 'Uzbekistan': 'UZ', 'Poland': 'PL', 'Netherlands': 'NL', 'Russian Federation': 'RU', 'Belgium': 'BE', 'Italy': 'IT', 'Niue': 'NU', 'Kenya': 'KE', 'South Africa': 'ZA', 'Afghanistan': 'AF', 'Indonesia': 'ID', 'Nigeria': 'NG', 'Czechia': 'CZ', 'Norway': 'NO', 'Mexico': 'MX', 'Bosnia and Herzegovina': 'BA', 'Sri Lanka': 'LK', 'Faroe Islands': 'FO', 'Azerbaijan': 'AZ', 'United States': 'US', 'Uganda': 'UG', 'Senegal': 'SN', 'Denmark': 'DK', 'Madagascar': 'MG', 'United Kingdom': 'GB', 'Armenia': 'AM', 'Ireland': 'IE', 'Myanmar': 'MM', 'Slovakia': 'SK', 'Iran, Islamic Republic of': 'IR', 'Congo, The Democratic Republic of the': 'CD', 'Djibouti': 'DJ', 'Morocco': 'MA', 'Aruba': 'AW', 'Malaysia': 'MY', 'Kazakhstan': 'KZ', 'Mongolia': 'MN', 'Greece': 'GR', 'Hungary': 'HU', 'France': 'FR', 'Bangladesh': 'BD', 'El Salvador': 'SV', 'Philippines': 'PH', 'Kyrgyzstan': 'KG', 'Ethiopia': 'ET', 'Japan': 'JP', 'Ukraine': 'UA', 'Tajikistan': 'TJ', 'Viet Nam': 'VN', 'Spain': 'ES', 'Bulgaria': 'BG', 'Cambodia': 'KH', 'Latvia': 'LV', 'Rwanda': 'RW', 'Zambia': 'ZM', 'Iceland': 'IS', 'Greenland': 'GL', 'Lithuania': 'LT', 'Türkiye': 'TR', 'Costa Rica': 'CR', 'Switzerland': 'CH', 'Estonia': 'EE', 'Ghana': 'GH', 'Romania': 'RO', 'North Macedonia': 'MK', 'China': 'CN', 'Uruguay': 'UY', 'Pakistan': 'PK', 'Belarus': 'BY', 'Haiti': 'HT', 'Egypt': 'EG', 'Georgia': 'GE', 'Finland': 'FI', 'Singapore': 'SG', 'Tanzania, United Republic of': 'TZ', 'Luxembourg': 'LU', 'Malta': 'MT', 'Hong Kong': 'HK', 'Slovenia': 'SI', 'Turkmenistan': 'TM', 'Austria': 'AT', 'Algeria': 'DZ', 'Croatia': 'HR', 'Albania': 'AL', 'Israel': 'IL', 'Curaçao': 'CW', 'Mauritania': 'MR', 'Korea, Republic of': 'KR', 'Germany': 'DE', 'Iraq': 'IQ', 'Antigua and Barbuda': 'AG', 'Zimbabwe': 'ZW', 'Mali': 'ML', 'Andorra': 'AD', 'Bhutan': 'BT', 'Montenegro': 'ME', 'Portugal': 'PT', 'Cyprus': 'CY', \"Lao People's Democratic Republic\": 'LA', 'Palestine, State of': 'PS', 'Serbia': 'RS', 'Somalia': 'SO', 'Oman': 'OM', 'Ecuador': 'EC', 'Dominican Republic': 'DO', 'Liechtenstein': 'LI', 'Puerto Rico': 'PR', 'Bolivia, Plurinational State of': 'BO', 'Paraguay': 'PY', 'Australia': 'AU', 'Honduras': 'HN', 'United Arab Emirates': 'AE', 'South Sudan': 'SS', 'Tunisia': 'TN', 'Sudan': 'SD', 'Argentina': 'AR', 'Yemen': 'YE', 'Guatemala': 'GT', 'Syrian Arab Republic': 'SY', 'Venezuela, Bolivarian Republic of': 'VE', 'Colombia': 'CO', 'Chile': 'CL', 'Jordan': 'JO', 'Kuwait': 'KW', 'Chad': 'TD', 'Botswana': 'BW', 'Saudi Arabia': 'SA', 'Lebanon': 'LB', 'Libya': 'LY', 'Western Sahara': 'EH'}\n"
     ]
    }
   ],
   "source": [
    "import pycountry\n",
    "\n",
    "# Create an empty dictionary to store data\n",
    "country_dict = {}\n",
    "\n",
    "# Iterate through each country designation from the list\n",
    "for code in country_codes_short:\n",
    "    # We are trying to get a country object by designation\n",
    "    try:\n",
    "        country = pycountry.countries.get(alpha_2=code)\n",
    "        # If the object is found, add it to the dictionary: key - country name, value - designation\n",
    "        if country:\n",
    "            country_dict[country.name] = code\n",
    "    except LookupError:\n",
    "        pass\n",
    "\n",
    "# Output the resulting dictionary\n",
    "print(country_dict)"
   ]
  },
  {
   "cell_type": "markdown",
   "metadata": {},
   "source": [
    "Now let’s apply the function and get a new attribute locale_country with the country from the locale attribute"
   ]
  },
  {
   "cell_type": "code",
   "execution_count": 155,
   "metadata": {},
   "outputs": [
    {
     "data": {
      "text/plain": [
       "India                        21582\n",
       "South Africa                  8217\n",
       "Russian Federation            4424\n",
       "Ethiopia                      4103\n",
       "Taiwan, Province of China     3389\n",
       "                             ...  \n",
       "Tunisia                         25\n",
       "Western Sahara                  25\n",
       "Sudan                           24\n",
       "Oman                            22\n",
       "Lebanon                         20\n",
       "Name: locale_country, Length: 139, dtype: int64"
      ]
     },
     "execution_count": 155,
     "metadata": {},
     "output_type": "execute_result"
    }
   ],
   "source": [
    "data['locale_country'] = data['locale'].str.split('_').str[1]\n",
    "reverse_country_dict = {v: k for k, v in country_dict.items()}\n",
    "data['locale_country'] = data['locale_country'].map(reverse_country_dict)\n",
    "data['locale_country'].value_counts()"
   ]
  },
  {
   "cell_type": "markdown",
   "metadata": {},
   "source": [
    "### 4. Coding and Feature Selection"
   ]
  },
  {
   "cell_type": "markdown",
   "metadata": {},
   "source": [
    "Let's look at the number of unique values in the features. We need this to determine the type of feature coding."
   ]
  },
  {
   "cell_type": "code",
   "execution_count": 170,
   "metadata": {},
   "outputs": [
    {
     "data": {
      "text/plain": [
       "'Number of unique attribute values - account_age_days: 6465'"
      ]
     },
     "metadata": {},
     "output_type": "display_data"
    },
    {
     "data": {
      "text/plain": [
       "'Number of unique attribute values - transaction_amt: 3687'"
      ]
     },
     "metadata": {},
     "output_type": "display_data"
    },
    {
     "data": {
      "text/plain": [
       "'Number of unique attribute values - transaction_adj_amt: 92'"
      ]
     },
     "metadata": {},
     "output_type": "display_data"
    },
    {
     "data": {
      "text/plain": [
       "'Number of unique attribute values - historic_velocity: 6745'"
      ]
     },
     "metadata": {},
     "output_type": "display_data"
    },
    {
     "data": {
      "text/plain": [
       "'Number of unique attribute values - ip_address: 13635'"
      ]
     },
     "metadata": {},
     "output_type": "display_data"
    },
    {
     "data": {
      "text/plain": [
       "'Number of unique attribute values - user_agent: 8796'"
      ]
     },
     "metadata": {},
     "output_type": "display_data"
    },
    {
     "data": {
      "text/plain": [
       "'Number of unique attribute values - email_domain: 7125'"
      ]
     },
     "metadata": {},
     "output_type": "display_data"
    },
    {
     "data": {
      "text/plain": [
       "'Number of unique attribute values - phone_number: 12170'"
      ]
     },
     "metadata": {},
     "output_type": "display_data"
    },
    {
     "data": {
      "text/plain": [
       "'Number of unique attribute values - billing_city: 9169'"
      ]
     },
     "metadata": {},
     "output_type": "display_data"
    },
    {
     "data": {
      "text/plain": [
       "'Number of unique attribute values - billing_postal: 11299'"
      ]
     },
     "metadata": {},
     "output_type": "display_data"
    },
    {
     "data": {
      "text/plain": [
       "'Number of unique attribute values - billing_state: 50'"
      ]
     },
     "metadata": {},
     "output_type": "display_data"
    },
    {
     "data": {
      "text/plain": [
       "'Number of unique attribute values - card_bin: 6480'"
      ]
     },
     "metadata": {},
     "output_type": "display_data"
    },
    {
     "data": {
      "text/plain": [
       "'Number of unique attribute values - currency: 3'"
      ]
     },
     "metadata": {},
     "output_type": "display_data"
    },
    {
     "data": {
      "text/plain": [
       "'Number of unique attribute values - signature_image: 26'"
      ]
     },
     "metadata": {},
     "output_type": "display_data"
    },
    {
     "data": {
      "text/plain": [
       "'Number of unique attribute values - transaction_type: 26'"
      ]
     },
     "metadata": {},
     "output_type": "display_data"
    },
    {
     "data": {
      "text/plain": [
       "'Number of unique attribute values - transaction_env: 26'"
      ]
     },
     "metadata": {},
     "output_type": "display_data"
    },
    {
     "data": {
      "text/plain": [
       "'Number of unique attribute values - event_timestamp: 128414'"
      ]
     },
     "metadata": {},
     "output_type": "display_data"
    },
    {
     "data": {
      "text/plain": [
       "'Number of unique attribute values - applicant_name: 96048'"
      ]
     },
     "metadata": {},
     "output_type": "display_data"
    },
    {
     "data": {
      "text/plain": [
       "'Number of unique attribute values - billing_address: 147117'"
      ]
     },
     "metadata": {},
     "output_type": "display_data"
    },
    {
     "data": {
      "text/plain": [
       "'Number of unique attribute values - merchant_id: 147114'"
      ]
     },
     "metadata": {},
     "output_type": "display_data"
    },
    {
     "data": {
      "text/plain": [
       "'Number of unique attribute values - locale: 293'"
      ]
     },
     "metadata": {},
     "output_type": "display_data"
    },
    {
     "data": {
      "text/plain": [
       "'Number of unique attribute values - tranaction_initiate: 26'"
      ]
     },
     "metadata": {},
     "output_type": "display_data"
    },
    {
     "data": {
      "text/plain": [
       "'Number of unique attribute values - days_since_last_logon: 101'"
      ]
     },
     "metadata": {},
     "output_type": "display_data"
    },
    {
     "data": {
      "text/plain": [
       "'Number of unique attribute values - inital_amount: 14001'"
      ]
     },
     "metadata": {},
     "output_type": "display_data"
    },
    {
     "data": {
      "text/plain": [
       "'Number of unique attribute values - fraud: 2'"
      ]
     },
     "metadata": {},
     "output_type": "display_data"
    },
    {
     "data": {
      "text/plain": [
       "'Number of unique attribute values - group_account_age_days: 10'"
      ]
     },
     "metadata": {},
     "output_type": "display_data"
    },
    {
     "data": {
      "text/plain": [
       "'Number of unique attribute values - group_days_since_last_logon: 10'"
      ]
     },
     "metadata": {},
     "output_type": "display_data"
    },
    {
     "data": {
      "text/plain": [
       "'Number of unique attribute values - year: 2'"
      ]
     },
     "metadata": {},
     "output_type": "display_data"
    },
    {
     "data": {
      "text/plain": [
       "'Number of unique attribute values - month: 12'"
      ]
     },
     "metadata": {},
     "output_type": "display_data"
    },
    {
     "data": {
      "text/plain": [
       "'Number of unique attribute values - hour: 24'"
      ]
     },
     "metadata": {},
     "output_type": "display_data"
    },
    {
     "data": {
      "text/plain": [
       "'Number of unique attribute values - day_of_week: 7'"
      ]
     },
     "metadata": {},
     "output_type": "display_data"
    },
    {
     "data": {
      "text/plain": [
       "'Number of unique attribute values - ip_country: 154'"
      ]
     },
     "metadata": {},
     "output_type": "display_data"
    },
    {
     "data": {
      "text/plain": [
       "'Number of unique attribute values - ip_state: 820'"
      ]
     },
     "metadata": {},
     "output_type": "display_data"
    },
    {
     "data": {
      "text/plain": [
       "'Number of unique attribute values - billing_country_USA: 1'"
      ]
     },
     "metadata": {},
     "output_type": "display_data"
    },
    {
     "data": {
      "text/plain": [
       "'Number of unique attribute values - billing_country: 1'"
      ]
     },
     "metadata": {},
     "output_type": "display_data"
    },
    {
     "data": {
      "text/plain": [
       "'Number of unique attribute values - country_match: 2'"
      ]
     },
     "metadata": {},
     "output_type": "display_data"
    },
    {
     "data": {
      "text/plain": [
       "'Number of unique attribute values - black_list: 3'"
      ]
     },
     "metadata": {},
     "output_type": "display_data"
    },
    {
     "data": {
      "text/plain": [
       "'Number of unique attribute values - browser: 2'"
      ]
     },
     "metadata": {},
     "output_type": "display_data"
    },
    {
     "data": {
      "text/plain": [
       "'Number of unique attribute values - locale_country: 139'"
      ]
     },
     "metadata": {},
     "output_type": "display_data"
    }
   ],
   "source": [
    "# Number of unique values analysis\n",
    "for col in data.columns:\n",
    "    display(f'Number of unique attribute values - {col}: {data[col].nunique()}')"
   ]
  },
  {
   "cell_type": "code",
   "execution_count": 193,
   "metadata": {},
   "outputs": [
    {
     "data": {
      "text/plain": [
       "154"
      ]
     },
     "execution_count": 193,
     "metadata": {},
     "output_type": "execute_result"
    }
   ],
   "source": [
    "data.ip_country.nunique()"
   ]
  },
  {
   "cell_type": "code",
   "execution_count": 185,
   "metadata": {},
   "outputs": [],
   "source": [
    "\n",
    "data['transaction_type'] = data['transaction_type'].astype('category')\n",
    "data['signature_image'] = data['signature_image'].astype('category')\n",
    "data['transaction_env'] = data['transaction_env'].astype('category')\n",
    "data['tranaction_initiate'] = data['tranaction_initiate'].astype('category')\n",
    "data['browser'] = data['browser'].astype('category')\n",
    "data['currency'] = data['currency'].astype('category')\n",
    "data['ip_country'] = data['ip_country'].astype('category')\n",
    "data['billing_city'] = data['billing_city'].astype('category')\n",
    "data['billing_state'] = data['billing_state'].astype('category')\n",
    "data['locale_country'] = data['locale_country'].astype('category')"
   ]
  },
  {
   "cell_type": "code",
   "execution_count": null,
   "metadata": {},
   "outputs": [],
   "source": [
    "data_tr = data.copy()"
   ]
  },
  {
   "cell_type": "code",
   "execution_count": 187,
   "metadata": {},
   "outputs": [
    {
     "name": "stdout",
     "output_type": "stream",
     "text": [
      "<class 'pandas.core.frame.DataFrame'>\n",
      "Int64Index: 147123 entries, 0 to 149999\n",
      "Data columns (total 39 columns):\n",
      " #   Column                       Non-Null Count   Dtype         \n",
      "---  ------                       --------------   -----         \n",
      " 0   account_age_days             147123 non-null  float64       \n",
      " 1   transaction_amt              147123 non-null  float64       \n",
      " 2   transaction_adj_amt          147123 non-null  float64       \n",
      " 3   historic_velocity            147123 non-null  float64       \n",
      " 4   ip_address                   147123 non-null  object        \n",
      " 5   user_agent                   147123 non-null  object        \n",
      " 6   email_domain                 147123 non-null  object        \n",
      " 7   phone_number                 147123 non-null  object        \n",
      " 8   billing_city                 147123 non-null  category      \n",
      " 9   billing_postal               147123 non-null  float64       \n",
      " 10  billing_state                147123 non-null  category      \n",
      " 11  card_bin                     147123 non-null  float64       \n",
      " 12  currency                     147123 non-null  category      \n",
      " 13  signature_image              147123 non-null  category      \n",
      " 14  transaction_type             147123 non-null  category      \n",
      " 15  transaction_env              147123 non-null  category      \n",
      " 16  event_timestamp              147123 non-null  datetime64[ns]\n",
      " 17  applicant_name               147123 non-null  object        \n",
      " 18  billing_address              147123 non-null  object        \n",
      " 19  merchant_id                  147123 non-null  object        \n",
      " 20  locale                       147123 non-null  object        \n",
      " 21  tranaction_initiate          147123 non-null  category      \n",
      " 22  days_since_last_logon        147123 non-null  float64       \n",
      " 23  inital_amount                147123 non-null  float64       \n",
      " 24  fraud                        147123 non-null  bool          \n",
      " 25  group_account_age_days       147123 non-null  int64         \n",
      " 26  group_days_since_last_logon  147123 non-null  int64         \n",
      " 27  year                         147123 non-null  int64         \n",
      " 28  month                        147123 non-null  int64         \n",
      " 29  hour                         147123 non-null  int64         \n",
      " 30  day_of_week                  147123 non-null  int64         \n",
      " 31  ip_country                   147123 non-null  category      \n",
      " 32  ip_state                     40838 non-null   object        \n",
      " 33  billing_country_USA          147123 non-null  int64         \n",
      " 34  billing_country              147123 non-null  object        \n",
      " 35  country_match                147123 non-null  int64         \n",
      " 36  black_list                   147123 non-null  int64         \n",
      " 37  browser                      147123 non-null  category      \n",
      " 38  locale_country               145500 non-null  category      \n",
      "dtypes: bool(1), category(10), datetime64[ns](1), float64(8), int64(9), object(10)\n",
      "memory usage: 38.9+ MB\n"
     ]
    }
   ],
   "source": [
    "data_tr.info()"
   ]
  },
  {
   "cell_type": "code",
   "execution_count": 188,
   "metadata": {},
   "outputs": [],
   "source": [
    "data_tr['billing_country'] = data_tr['billing_country'].apply(lambda x: 1 if x=='United States' else 0)"
   ]
  },
  {
   "cell_type": "code",
   "execution_count": 189,
   "metadata": {},
   "outputs": [],
   "source": [
    "data_tr['fraud'] = data_tr['fraud'].apply(lambda x: 1 if x==True else 0)"
   ]
  },
  {
   "cell_type": "markdown",
   "metadata": {},
   "source": [
    "The principle of feature encoding:\n",
    "\n",
    "1. For nominal features (if less than 15) - OneHotEncoding\n",
    "2. For nominal features (if more than 15) - BinaryEncoding"
   ]
  },
  {
   "cell_type": "code",
   "execution_count": 232,
   "metadata": {},
   "outputs": [
    {
     "data": {
      "text/html": [
       "<div>\n",
       "<style scoped>\n",
       "    .dataframe tbody tr th:only-of-type {\n",
       "        vertical-align: middle;\n",
       "    }\n",
       "\n",
       "    .dataframe tbody tr th {\n",
       "        vertical-align: top;\n",
       "    }\n",
       "\n",
       "    .dataframe thead th {\n",
       "        text-align: right;\n",
       "    }\n",
       "</style>\n",
       "<table border=\"1\" class=\"dataframe\">\n",
       "  <thead>\n",
       "    <tr style=\"text-align: right;\">\n",
       "      <th></th>\n",
       "      <th>account_age_days</th>\n",
       "      <th>transaction_amt</th>\n",
       "      <th>transaction_adj_amt</th>\n",
       "      <th>historic_velocity</th>\n",
       "      <th>ip_address</th>\n",
       "      <th>user_agent</th>\n",
       "      <th>email_domain</th>\n",
       "      <th>phone_number</th>\n",
       "      <th>billing_city</th>\n",
       "      <th>billing_postal</th>\n",
       "      <th>...</th>\n",
       "      <th>billing_country_USA</th>\n",
       "      <th>billing_country</th>\n",
       "      <th>country_match</th>\n",
       "      <th>black_list</th>\n",
       "      <th>locale_country</th>\n",
       "      <th>currency_cad</th>\n",
       "      <th>currency_eur</th>\n",
       "      <th>currency_usd</th>\n",
       "      <th>browser_0</th>\n",
       "      <th>browser_1</th>\n",
       "    </tr>\n",
       "  </thead>\n",
       "  <tbody>\n",
       "    <tr>\n",
       "      <th>0</th>\n",
       "      <td>3371.0</td>\n",
       "      <td>2167.0</td>\n",
       "      <td>56.0</td>\n",
       "      <td>2572.0</td>\n",
       "      <td>154.68.49.124</td>\n",
       "      <td>Opera/9.81.(Windows NT 10.0; ht-HT) Presto/2.9...</td>\n",
       "      <td>perez-garza.com</td>\n",
       "      <td>878-111-5140</td>\n",
       "      <td>Woodsburgh</td>\n",
       "      <td>96336.0</td>\n",
       "      <td>...</td>\n",
       "      <td>1</td>\n",
       "      <td>1</td>\n",
       "      <td>1</td>\n",
       "      <td>0</td>\n",
       "      <td>New Zealand</td>\n",
       "      <td>1</td>\n",
       "      <td>0</td>\n",
       "      <td>0</td>\n",
       "      <td>0</td>\n",
       "      <td>1</td>\n",
       "    </tr>\n",
       "    <tr>\n",
       "      <th>1</th>\n",
       "      <td>2714.0</td>\n",
       "      <td>2045.0</td>\n",
       "      <td>48.0</td>\n",
       "      <td>4517.0</td>\n",
       "      <td>39.131.125.85</td>\n",
       "      <td>Opera/9.76.(X11; Linux i686; mi-NZ) Presto/2.9...</td>\n",
       "      <td>mcneil-ortega.com</td>\n",
       "      <td>(002)736-0139</td>\n",
       "      <td>West Kevin</td>\n",
       "      <td>78083.0</td>\n",
       "      <td>...</td>\n",
       "      <td>1</td>\n",
       "      <td>1</td>\n",
       "      <td>1</td>\n",
       "      <td>1</td>\n",
       "      <td>India</td>\n",
       "      <td>1</td>\n",
       "      <td>0</td>\n",
       "      <td>0</td>\n",
       "      <td>0</td>\n",
       "      <td>1</td>\n",
       "    </tr>\n",
       "    <tr>\n",
       "      <th>2</th>\n",
       "      <td>6987.0</td>\n",
       "      <td>2892.0</td>\n",
       "      <td>61.0</td>\n",
       "      <td>5007.0</td>\n",
       "      <td>166.245.194.83</td>\n",
       "      <td>Mozilla/5.0 (X11; Linux x86_64; rv:1.9.6.20) G...</td>\n",
       "      <td>davis-calderon.com</td>\n",
       "      <td>(983)585-2863x652</td>\n",
       "      <td>Lorichester</td>\n",
       "      <td>83236.0</td>\n",
       "      <td>...</td>\n",
       "      <td>1</td>\n",
       "      <td>1</td>\n",
       "      <td>0</td>\n",
       "      <td>0</td>\n",
       "      <td>Maldives</td>\n",
       "      <td>1</td>\n",
       "      <td>0</td>\n",
       "      <td>0</td>\n",
       "      <td>1</td>\n",
       "      <td>0</td>\n",
       "    </tr>\n",
       "    <tr>\n",
       "      <th>3</th>\n",
       "      <td>2712.0</td>\n",
       "      <td>3040.0</td>\n",
       "      <td>28.0</td>\n",
       "      <td>6022.0</td>\n",
       "      <td>100.1.217.216</td>\n",
       "      <td>Mozilla/5.0 (Macintosh; Intel Mac OS X 10 9_3 ...</td>\n",
       "      <td>rose-lee.org</td>\n",
       "      <td>+1-678-897-3420x60738</td>\n",
       "      <td>Stephenmouth</td>\n",
       "      <td>78364.0</td>\n",
       "      <td>...</td>\n",
       "      <td>1</td>\n",
       "      <td>1</td>\n",
       "      <td>0</td>\n",
       "      <td>0</td>\n",
       "      <td>Eritrea</td>\n",
       "      <td>0</td>\n",
       "      <td>0</td>\n",
       "      <td>1</td>\n",
       "      <td>1</td>\n",
       "      <td>0</td>\n",
       "    </tr>\n",
       "    <tr>\n",
       "      <th>4</th>\n",
       "      <td>3598.0</td>\n",
       "      <td>2976.0</td>\n",
       "      <td>66.0</td>\n",
       "      <td>2600.0</td>\n",
       "      <td>113.156.65.245</td>\n",
       "      <td>Mozilla/5.0 (X11; Linux x86_64; rv:1.9.5.20) G...</td>\n",
       "      <td>nash.net</td>\n",
       "      <td>(013)204-1766x92641</td>\n",
       "      <td>New Brianmouth</td>\n",
       "      <td>77499.0</td>\n",
       "      <td>...</td>\n",
       "      <td>1</td>\n",
       "      <td>1</td>\n",
       "      <td>1</td>\n",
       "      <td>0</td>\n",
       "      <td>Nepal</td>\n",
       "      <td>1</td>\n",
       "      <td>0</td>\n",
       "      <td>0</td>\n",
       "      <td>1</td>\n",
       "      <td>0</td>\n",
       "    </tr>\n",
       "  </tbody>\n",
       "</table>\n",
       "<p>5 rows × 42 columns</p>\n",
       "</div>"
      ],
      "text/plain": [
       "   account_age_days  transaction_amt  transaction_adj_amt  historic_velocity  \\\n",
       "0            3371.0           2167.0                 56.0             2572.0   \n",
       "1            2714.0           2045.0                 48.0             4517.0   \n",
       "2            6987.0           2892.0                 61.0             5007.0   \n",
       "3            2712.0           3040.0                 28.0             6022.0   \n",
       "4            3598.0           2976.0                 66.0             2600.0   \n",
       "\n",
       "       ip_address                                         user_agent  \\\n",
       "0   154.68.49.124  Opera/9.81.(Windows NT 10.0; ht-HT) Presto/2.9...   \n",
       "1   39.131.125.85  Opera/9.76.(X11; Linux i686; mi-NZ) Presto/2.9...   \n",
       "2  166.245.194.83  Mozilla/5.0 (X11; Linux x86_64; rv:1.9.6.20) G...   \n",
       "3   100.1.217.216  Mozilla/5.0 (Macintosh; Intel Mac OS X 10 9_3 ...   \n",
       "4  113.156.65.245  Mozilla/5.0 (X11; Linux x86_64; rv:1.9.5.20) G...   \n",
       "\n",
       "         email_domain           phone_number    billing_city  billing_postal  \\\n",
       "0     perez-garza.com           878-111-5140      Woodsburgh         96336.0   \n",
       "1   mcneil-ortega.com          (002)736-0139      West Kevin         78083.0   \n",
       "2  davis-calderon.com      (983)585-2863x652     Lorichester         83236.0   \n",
       "3        rose-lee.org  +1-678-897-3420x60738    Stephenmouth         78364.0   \n",
       "4            nash.net    (013)204-1766x92641  New Brianmouth         77499.0   \n",
       "\n",
       "   ... billing_country_USA  billing_country country_match black_list  \\\n",
       "0  ...                   1                1             1          0   \n",
       "1  ...                   1                1             1          1   \n",
       "2  ...                   1                1             0          0   \n",
       "3  ...                   1                1             0          0   \n",
       "4  ...                   1                1             1          0   \n",
       "\n",
       "  locale_country currency_cad currency_eur currency_usd browser_0 browser_1  \n",
       "0    New Zealand            1            0            0         0         1  \n",
       "1          India            1            0            0         0         1  \n",
       "2       Maldives            1            0            0         1         0  \n",
       "3        Eritrea            0            0            1         1         0  \n",
       "4          Nepal            1            0            0         1         0  \n",
       "\n",
       "[5 rows x 42 columns]"
      ]
     },
     "execution_count": 232,
     "metadata": {},
     "output_type": "execute_result"
    }
   ],
   "source": [
    "categorial_features_less_15 = ['currency', 'browser',]\n",
    "df1= pd.get_dummies(data_tr[categorial_features_less_15])\n",
    "df_encoder = pd.concat([data_tr,df1], axis = 1)\n",
    "df_encoder.drop(categorial_features_less_15, axis=1, inplace=True)\n",
    "df_encoder.head()"
   ]
  },
  {
   "cell_type": "code",
   "execution_count": 233,
   "metadata": {},
   "outputs": [
    {
     "data": {
      "text/html": [
       "<div>\n",
       "<style scoped>\n",
       "    .dataframe tbody tr th:only-of-type {\n",
       "        vertical-align: middle;\n",
       "    }\n",
       "\n",
       "    .dataframe tbody tr th {\n",
       "        vertical-align: top;\n",
       "    }\n",
       "\n",
       "    .dataframe thead th {\n",
       "        text-align: right;\n",
       "    }\n",
       "</style>\n",
       "<table border=\"1\" class=\"dataframe\">\n",
       "  <thead>\n",
       "    <tr style=\"text-align: right;\">\n",
       "      <th></th>\n",
       "      <th>account_age_days</th>\n",
       "      <th>transaction_amt</th>\n",
       "      <th>transaction_adj_amt</th>\n",
       "      <th>historic_velocity</th>\n",
       "      <th>ip_address</th>\n",
       "      <th>user_agent</th>\n",
       "      <th>email_domain</th>\n",
       "      <th>phone_number</th>\n",
       "      <th>billing_postal</th>\n",
       "      <th>card_bin</th>\n",
       "      <th>...</th>\n",
       "      <th>ip_country_6</th>\n",
       "      <th>ip_country_7</th>\n",
       "      <th>locale_country_0</th>\n",
       "      <th>locale_country_1</th>\n",
       "      <th>locale_country_2</th>\n",
       "      <th>locale_country_3</th>\n",
       "      <th>locale_country_4</th>\n",
       "      <th>locale_country_5</th>\n",
       "      <th>locale_country_6</th>\n",
       "      <th>locale_country_7</th>\n",
       "    </tr>\n",
       "  </thead>\n",
       "  <tbody>\n",
       "    <tr>\n",
       "      <th>0</th>\n",
       "      <td>3371.0</td>\n",
       "      <td>2167.0</td>\n",
       "      <td>56.0</td>\n",
       "      <td>2572.0</td>\n",
       "      <td>154.68.49.124</td>\n",
       "      <td>Opera/9.81.(Windows NT 10.0; ht-HT) Presto/2.9...</td>\n",
       "      <td>perez-garza.com</td>\n",
       "      <td>878-111-5140</td>\n",
       "      <td>96336.0</td>\n",
       "      <td>40771.0</td>\n",
       "      <td>...</td>\n",
       "      <td>0</td>\n",
       "      <td>1</td>\n",
       "      <td>0</td>\n",
       "      <td>0</td>\n",
       "      <td>0</td>\n",
       "      <td>0</td>\n",
       "      <td>0</td>\n",
       "      <td>0</td>\n",
       "      <td>0</td>\n",
       "      <td>1</td>\n",
       "    </tr>\n",
       "    <tr>\n",
       "      <th>1</th>\n",
       "      <td>2714.0</td>\n",
       "      <td>2045.0</td>\n",
       "      <td>48.0</td>\n",
       "      <td>4517.0</td>\n",
       "      <td>39.131.125.85</td>\n",
       "      <td>Opera/9.76.(X11; Linux i686; mi-NZ) Presto/2.9...</td>\n",
       "      <td>mcneil-ortega.com</td>\n",
       "      <td>(002)736-0139</td>\n",
       "      <td>78083.0</td>\n",
       "      <td>24480.0</td>\n",
       "      <td>...</td>\n",
       "      <td>1</td>\n",
       "      <td>0</td>\n",
       "      <td>0</td>\n",
       "      <td>0</td>\n",
       "      <td>0</td>\n",
       "      <td>0</td>\n",
       "      <td>0</td>\n",
       "      <td>0</td>\n",
       "      <td>1</td>\n",
       "      <td>0</td>\n",
       "    </tr>\n",
       "  </tbody>\n",
       "</table>\n",
       "<p>2 rows × 90 columns</p>\n",
       "</div>"
      ],
      "text/plain": [
       "   account_age_days  transaction_amt  transaction_adj_amt  historic_velocity  \\\n",
       "0            3371.0           2167.0                 56.0             2572.0   \n",
       "1            2714.0           2045.0                 48.0             4517.0   \n",
       "\n",
       "      ip_address                                         user_agent  \\\n",
       "0  154.68.49.124  Opera/9.81.(Windows NT 10.0; ht-HT) Presto/2.9...   \n",
       "1  39.131.125.85  Opera/9.76.(X11; Linux i686; mi-NZ) Presto/2.9...   \n",
       "\n",
       "        email_domain   phone_number  billing_postal  card_bin  ...  \\\n",
       "0    perez-garza.com   878-111-5140         96336.0   40771.0  ...   \n",
       "1  mcneil-ortega.com  (002)736-0139         78083.0   24480.0  ...   \n",
       "\n",
       "  ip_country_6 ip_country_7 locale_country_0 locale_country_1  \\\n",
       "0            0            1                0                0   \n",
       "1            1            0                0                0   \n",
       "\n",
       "  locale_country_2  locale_country_3  locale_country_4  locale_country_5  \\\n",
       "0                0                 0                 0                 0   \n",
       "1                0                 0                 0                 0   \n",
       "\n",
       "   locale_country_6  locale_country_7  \n",
       "0                 0                 1  \n",
       "1                 1                 0  \n",
       "\n",
       "[2 rows x 90 columns]"
      ]
     },
     "execution_count": 233,
     "metadata": {},
     "output_type": "execute_result"
    }
   ],
   "source": [
    "# Encoding nominal features 15 and more nununique\n",
    "nom_features_15_more = ['billing_city', 'billing_state', 'signature_image', 'transaction_type', 'transaction_env', 'tranaction_initiate', 'ip_country', 'locale_country']\n",
    "encoder = ce.BinaryEncoder(cols=nom_features_15_more)\n",
    "type_bin = encoder.fit_transform(df_encoder[nom_features_15_more])\n",
    "df_encoder = pd.concat([df_encoder, type_bin], axis=1)\n",
    "df_encoder.drop(nom_features_15_more, axis=1, inplace=True)\n",
    "df_encoder.head(2)"
   ]
  },
  {
   "cell_type": "code",
   "execution_count": 234,
   "metadata": {},
   "outputs": [
    {
     "name": "stdout",
     "output_type": "stream",
     "text": [
      "<class 'pandas.core.frame.DataFrame'>\n",
      "Int64Index: 147123 entries, 0 to 149999\n",
      "Data columns (total 78 columns):\n",
      " #   Column                       Non-Null Count   Dtype  \n",
      "---  ------                       --------------   -----  \n",
      " 0   account_age_days             147123 non-null  float64\n",
      " 1   transaction_amt              147123 non-null  float64\n",
      " 2   transaction_adj_amt          147123 non-null  float64\n",
      " 3   historic_velocity            147123 non-null  float64\n",
      " 4   days_since_last_logon        147123 non-null  float64\n",
      " 5   inital_amount                147123 non-null  float64\n",
      " 6   fraud                        147123 non-null  int64  \n",
      " 7   group_account_age_days       147123 non-null  int64  \n",
      " 8   group_days_since_last_logon  147123 non-null  int64  \n",
      " 9   year                         147123 non-null  int64  \n",
      " 10  month                        147123 non-null  int64  \n",
      " 11  hour                         147123 non-null  int64  \n",
      " 12  day_of_week                  147123 non-null  int64  \n",
      " 13  billing_country_USA          147123 non-null  int64  \n",
      " 14  billing_country              147123 non-null  int64  \n",
      " 15  country_match                147123 non-null  int64  \n",
      " 16  black_list                   147123 non-null  int64  \n",
      " 17  currency_cad                 147123 non-null  uint8  \n",
      " 18  currency_eur                 147123 non-null  uint8  \n",
      " 19  currency_usd                 147123 non-null  uint8  \n",
      " 20  browser_0                    147123 non-null  uint8  \n",
      " 21  browser_1                    147123 non-null  uint8  \n",
      " 22  billing_city_0               147123 non-null  int64  \n",
      " 23  billing_city_1               147123 non-null  int64  \n",
      " 24  billing_city_2               147123 non-null  int64  \n",
      " 25  billing_city_3               147123 non-null  int64  \n",
      " 26  billing_city_4               147123 non-null  int64  \n",
      " 27  billing_city_5               147123 non-null  int64  \n",
      " 28  billing_city_6               147123 non-null  int64  \n",
      " 29  billing_city_7               147123 non-null  int64  \n",
      " 30  billing_city_8               147123 non-null  int64  \n",
      " 31  billing_city_9               147123 non-null  int64  \n",
      " 32  billing_city_10              147123 non-null  int64  \n",
      " 33  billing_city_11              147123 non-null  int64  \n",
      " 34  billing_city_12              147123 non-null  int64  \n",
      " 35  billing_city_13              147123 non-null  int64  \n",
      " 36  billing_state_0              147123 non-null  int64  \n",
      " 37  billing_state_1              147123 non-null  int64  \n",
      " 38  billing_state_2              147123 non-null  int64  \n",
      " 39  billing_state_3              147123 non-null  int64  \n",
      " 40  billing_state_4              147123 non-null  int64  \n",
      " 41  billing_state_5              147123 non-null  int64  \n",
      " 42  signature_image_0            147123 non-null  int64  \n",
      " 43  signature_image_1            147123 non-null  int64  \n",
      " 44  signature_image_2            147123 non-null  int64  \n",
      " 45  signature_image_3            147123 non-null  int64  \n",
      " 46  signature_image_4            147123 non-null  int64  \n",
      " 47  transaction_type_0           147123 non-null  int64  \n",
      " 48  transaction_type_1           147123 non-null  int64  \n",
      " 49  transaction_type_2           147123 non-null  int64  \n",
      " 50  transaction_type_3           147123 non-null  int64  \n",
      " 51  transaction_type_4           147123 non-null  int64  \n",
      " 52  transaction_env_0            147123 non-null  int64  \n",
      " 53  transaction_env_1            147123 non-null  int64  \n",
      " 54  transaction_env_2            147123 non-null  int64  \n",
      " 55  transaction_env_3            147123 non-null  int64  \n",
      " 56  transaction_env_4            147123 non-null  int64  \n",
      " 57  tranaction_initiate_0        147123 non-null  int64  \n",
      " 58  tranaction_initiate_1        147123 non-null  int64  \n",
      " 59  tranaction_initiate_2        147123 non-null  int64  \n",
      " 60  tranaction_initiate_3        147123 non-null  int64  \n",
      " 61  tranaction_initiate_4        147123 non-null  int64  \n",
      " 62  ip_country_0                 147123 non-null  int64  \n",
      " 63  ip_country_1                 147123 non-null  int64  \n",
      " 64  ip_country_2                 147123 non-null  int64  \n",
      " 65  ip_country_3                 147123 non-null  int64  \n",
      " 66  ip_country_4                 147123 non-null  int64  \n",
      " 67  ip_country_5                 147123 non-null  int64  \n",
      " 68  ip_country_6                 147123 non-null  int64  \n",
      " 69  ip_country_7                 147123 non-null  int64  \n",
      " 70  locale_country_0             147123 non-null  int64  \n",
      " 71  locale_country_1             147123 non-null  int64  \n",
      " 72  locale_country_2             147123 non-null  int64  \n",
      " 73  locale_country_3             147123 non-null  int64  \n",
      " 74  locale_country_4             147123 non-null  int64  \n",
      " 75  locale_country_5             147123 non-null  int64  \n",
      " 76  locale_country_6             147123 non-null  int64  \n",
      " 77  locale_country_7             147123 non-null  int64  \n",
      "dtypes: float64(6), int64(67), uint8(5)\n",
      "memory usage: 87.8 MB\n"
     ]
    }
   ],
   "source": [
    "df_encoder.drop(['user_agent', 'ip_address', 'email_domain', 'phone_number', 'billing_postal', 'card_bin', 'event_timestamp', 'applicant_name', 'billing_address', 'merchant_id', 'locale', 'ip_state'], axis=1, inplace=True)\n",
    "df_encoder.info()"
   ]
  },
  {
   "cell_type": "markdown",
   "metadata": {},
   "source": [
    "Let's look at the correlation matrix."
   ]
  },
  {
   "cell_type": "code",
   "execution_count": 214,
   "metadata": {},
   "outputs": [
    {
     "data": {
      "image/png": "[encoded data removed]",
      "text/plain": [
       "<Figure size 640x480 with 2 Axes>"
      ]
     },
     "metadata": {},
     "output_type": "display_data"
    }
   ],
   "source": [
    "corr = data_tr.corr()\n",
    "\n",
    "ax = sns.heatmap(\n",
    "    corr, \n",
    "    vmin=-1, vmax=1, center=0,\n",
    "    cmap=sns.diverging_palette(20, 220, n=200),\n",
    "    square=True,\n",
    ")"
   ]
  },
  {
   "cell_type": "markdown",
   "metadata": {},
   "source": [
    "We formed the group_days_since_last_logon and group_account_age_days characteristics based on the existing indicators of the number of days the account has existed and the last visit; as expected, they are highly correlated. Let's try to remove it for further work."
   ]
  },
  {
   "cell_type": "code",
   "execution_count": 235,
   "metadata": {},
   "outputs": [],
   "source": [
    "df_processed = df_encoder.drop(['group_days_since_last_logon', 'group_account_age_days'], axis=1) #data with indications of number of days"
   ]
  },
  {
   "cell_type": "code",
   "execution_count": 236,
   "metadata": {},
   "outputs": [],
   "source": [
    "df_processed_1 = df_encoder.drop(['days_since_last_logon', 'account_age_days'], axis=1) #data with groups (new features based on the account’s lifespan and last logging)"
   ]
  },
  {
   "cell_type": "markdown",
   "metadata": {},
   "source": [
    "#### Сonclusions\n",
    "\n",
    "So, after conducting an intelligence analysis, it should be assumed that the most important information for identifying fraudulent transactions is stored in the location and IP addresses, and the signs account_age_days days_since_last_logon may also be useful. Attempts to find out any patterns from the timing of transactions (for example, to confirm the hypothesis that more fraud occurs at night) failed. Most likely, just like the development of the industry, the development of fraud in the industry is also taking place. It is necessary to pay attention to the fact that all cards are registered in the USA, but the location of transactions is distributed in many countries. So, we processed the data and added new features. Now let's see how machine learning algorithms cope with the task and identify patterns in the data."
   ]
  },
  {
   "cell_type": "markdown",
   "metadata": {},
   "source": [
    "## 5. ML"
   ]
  },
  {
   "cell_type": "code",
   "execution_count": 344,
   "metadata": {},
   "outputs": [],
   "source": [
    "# Getting model evalution statistics\n",
    "model_evalution_df = pd.DataFrame(columns=['Model Name', 'Training Score', 'Testing Score', 'Accuracy', 'F1 Score', 'Precision', 'Recall'])\n",
    "\n",
    "def add_model_evalution_stat(model_name, model, X_train, X_test, y_train, y_test, y_train_pred, y_test_pred, model_evalution_df):\n",
    "    \"\"\"Function for adding model evalution statistics to DataFrame\n",
    "\n",
    "    Args:\n",
    "        model_name (str): Model name\n",
    "        model (object): Object of fitted model\n",
    "        X_train (DataFrame): Train dataset\n",
    "        X_test (DataFrame): Test dataset\n",
    "        y_train (DataFrame): Train labels\n",
    "        y_test (DataFrame): Test labels\n",
    "        y_train_pred (DataFrame): Predicted train labels\n",
    "        y_test_pred (DataFrame): Predicted test labels\n",
    "        model_evalution_df (DataFrame): DataFrame with evalution statistics\n",
    "\n",
    "    Returns:\n",
    "        DataFrame: DataFrame with added statistics\n",
    "    \"\"\"\n",
    "    train_score = model.score(X_train, y_train)\n",
    "    test_score = model.score(X_test, y_test)\n",
    "    accuracy = metrics.accuracy_score(y_test, y_test_pred)\n",
    "    f1_score = metrics.f1_score(y_test, y_test_pred, average='weighted')\n",
    "    precision = metrics.precision_score(y_test, y_test_pred)\n",
    "    recall = metrics.recall_score(y_test, y_test_pred)\n",
    "    model_evalutions_stats = [model_name, train_score, test_score, accuracy, f1_score, precision, recall]\n",
    "    model_evalution_dict = {model_evalution_df.columns[i]:model_evalutions_stats[i] for i in range(len(model_evalutions_stats))}\n",
    "    model_evalution_df = model_evalution_df.append(model_evalution_dict, ignore_index=True)\n",
    "    return model_evalution_df"
   ]
  },
  {
   "cell_type": "code",
   "execution_count": 217,
   "metadata": {},
   "outputs": [],
   "source": [
    "X = df_processed.drop(['fraud'], axis=1)\n",
    "y = df_processed['fraud']\n",
    " \n",
    "X_train, X_test, y_train, y_test = train_test_split(X, y, stratify=y, random_state = 42, test_size = 0.30)"
   ]
  },
  {
   "cell_type": "code",
   "execution_count": 218,
   "metadata": {},
   "outputs": [
    {
     "name": "stdout",
     "output_type": "stream",
     "text": [
      "(44137, 75)\n",
      "(102986, 75)\n"
     ]
    }
   ],
   "source": [
    "print(X_test.shape)\n",
    "print(X_train.shape)"
   ]
  },
  {
   "cell_type": "markdown",
   "metadata": {},
   "source": [
    "### Baseline"
   ]
  },
  {
   "cell_type": "markdown",
   "metadata": {},
   "source": [
    "__Let's work on creating a baseline__"
   ]
  },
  {
   "cell_type": "markdown",
   "metadata": {},
   "source": [
    "Let's take a not so simple model and experiment with a random forest"
   ]
  },
  {
   "cell_type": "code",
   "execution_count": 224,
   "metadata": {},
   "outputs": [
    {
     "name": "stdout",
     "output_type": "stream",
     "text": [
      "Train recall: 0.35\n",
      "Train f1: 0.52\n",
      "Test recall: 0.27\n",
      "\n",
      "Test f1: 0.43\n"
     ]
    }
   ],
   "source": [
    "model_rf = ensemble.RandomForestClassifier(\n",
    "    n_estimators=50,\n",
    "    criterion='gini',\n",
    "    max_depth=10,\n",
    "    min_samples_split=2,\n",
    "    random_state=13\n",
    ")\n",
    "\n",
    "model_rf.fit(X_train, y_train)\n",
    "y_train_pred = model_rf.predict(X_train)\n",
    "print('Train recall: {:.2f}'.format(metrics.recall_score(y_train, y_train_pred)))\n",
    "print('Train f1: {:.2f}'.format(metrics.f1_score(y_train, y_train_pred)))\n",
    "y_test_pred = model_rf.predict(X_test)\n",
    "print('Test recall: {:.2f}'.format(metrics.recall_score(y_test, y_test_pred)))\n",
    "print()\n",
    "print('Test f1: {:.2f}'.format(metrics.f1_score(y_test, y_test_pred)))"
   ]
  },
  {
   "cell_type": "markdown",
   "metadata": {},
   "source": [
    "Let's make another basic model using df_processed_1 data"
   ]
  },
  {
   "cell_type": "markdown",
   "metadata": {},
   "source": [
    "Let us recall that at the stage of reconnaissance analysis we identified two correlated features and the df_processed_1 data contains one of them - days_since_last_logon, the df_processed data contains the other - group_days_since_last_logon"
   ]
  },
  {
   "cell_type": "code",
   "execution_count": 237,
   "metadata": {},
   "outputs": [],
   "source": [
    "X_1 = df_processed_1.drop(['fraud'], axis=1)\n",
    "y_1 = df_processed_1['fraud']\n",
    " \n",
    "X_train_1, X_test_1, y_train_1, y_test_1 = train_test_split(X_1, y_1, stratify=y, random_state = 42, test_size = 0.30)"
   ]
  },
  {
   "cell_type": "code",
   "execution_count": 239,
   "metadata": {},
   "outputs": [
    {
     "name": "stdout",
     "output_type": "stream",
     "text": [
      "Train recall: 0.40\n",
      "Train f1: 0.57\n",
      "Test recall: 0.34\n",
      "\n",
      "Test f1: 0.50\n"
     ]
    }
   ],
   "source": [
    "model_rf_1 = ensemble.RandomForestClassifier(\n",
    "    n_estimators=50,\n",
    "    criterion='gini',\n",
    "    max_depth=10,\n",
    "    min_samples_split=2,\n",
    "    random_state=13\n",
    ")\n",
    "\n",
    "model_rf_1.fit(X_train_1, y_train_1)\n",
    "y_train_pred_1 = model_rf_1.predict(X_train_1)\n",
    "print('Train recall: {:.2f}'.format(metrics.recall_score(y_train_1, y_train_pred_1)))\n",
    "print('Train f1: {:.2f}'.format(metrics.f1_score(y_train_1, y_train_pred_1)))\n",
    "y_test_pred_1 = model_rf_1.predict(X_test_1)\n",
    "print('Test recall: {:.2f}'.format(metrics.recall_score(y_test_1, y_test_pred_1)))\n",
    "print()\n",
    "print('Test f1: {:.2f}'.format(metrics.f1_score(y_test_1, y_test_pred_1)))"
   ]
  },
  {
   "cell_type": "markdown",
   "metadata": {},
   "source": [
    "#### Select the most suitable features"
   ]
  },
  {
   "cell_type": "code",
   "execution_count": 245,
   "metadata": {},
   "outputs": [
    {
     "name": "stderr",
     "output_type": "stream",
     "text": [
      "/Users/admin/opt/anaconda3/lib/python3.9/site-packages/sklearn/feature_selection/_univariate_selection.py:112: UserWarning: Features [10 11] are constant.\n",
      "  warnings.warn(\"Features %s are constant.\" % constant_features_idx, UserWarning)\n",
      "/Users/admin/opt/anaconda3/lib/python3.9/site-packages/sklearn/feature_selection/_univariate_selection.py:113: RuntimeWarning: invalid value encountered in divide\n",
      "  f = msb / msw\n"
     ]
    },
    {
     "name": "stdout",
     "output_type": "stream",
     "text": [
      "1. Feature: account_age_days, Score: 1815.3937850020484\n",
      "2. Feature: transaction_amt, Score: 1580.3951123068073\n",
      "3. Feature: transaction_adj_amt, Score: 15841.400495512637\n",
      "4. Feature: historic_velocity, Score: 0.11054434179965776\n",
      "5. Feature: days_since_last_logon, Score: 0.011331690301879013\n",
      "6. Feature: inital_amount, Score: 0.07478969604828632\n",
      "7. Feature: year, Score: 1.68893844353431\n",
      "8. Feature: month, Score: 6.420333424866\n",
      "9. Feature: hour, Score: 0.46716840820262706\n",
      "10. Feature: day_of_week, Score: 2.062373288970358\n",
      "11. Feature: billing_country_USA, Score: nan\n",
      "12. Feature: billing_country, Score: nan\n",
      "13. Feature: country_match, Score: 0.2409949941203818\n",
      "14. Feature: black_list, Score: 7139.093656679107\n",
      "15. Feature: currency_cad, Score: 73.15444956692386\n",
      "16. Feature: currency_eur, Score: 124.0974935911433\n",
      "17. Feature: currency_usd, Score: 18.91011953887548\n",
      "18. Feature: browser_0, Score: 0.012919131174316766\n",
      "19. Feature: browser_1, Score: 0.012919131124584749\n",
      "20. Feature: billing_city_0, Score: 0.19159890162544557\n",
      "21. Feature: billing_city_1, Score: 4.204832212417353\n",
      "22. Feature: billing_city_2, Score: 0.059714881400947356\n",
      "23. Feature: billing_city_3, Score: 0.3767711924768905\n",
      "24. Feature: billing_city_4, Score: 0.137642761933745\n",
      "25. Feature: billing_city_5, Score: 0.09167361552846913\n",
      "26. Feature: billing_city_6, Score: 1.1440754249890612\n",
      "27. Feature: billing_city_7, Score: 0.36523744990728024\n",
      "28. Feature: billing_city_8, Score: 0.19596354476735917\n",
      "29. Feature: billing_city_9, Score: 0.06294527684851821\n",
      "30. Feature: billing_city_10, Score: 1.5833344465080914\n",
      "31. Feature: billing_city_11, Score: 0.7545211471264799\n",
      "32. Feature: billing_city_12, Score: 4.006639816670334\n",
      "33. Feature: billing_city_13, Score: 0.01307359283505403\n",
      "34. Feature: billing_state_0, Score: 5.2311236518766\n",
      "35. Feature: billing_state_1, Score: 1.3429279363223243\n",
      "36. Feature: billing_state_2, Score: 2.770402057482809\n",
      "37. Feature: billing_state_3, Score: 0.009698389718159417\n",
      "38. Feature: billing_state_4, Score: 0.5659067480707117\n",
      "39. Feature: billing_state_5, Score: 0.14942166287930247\n",
      "40. Feature: signature_image_0, Score: 426.0422273248141\n",
      "41. Feature: signature_image_1, Score: 72.19297111471887\n",
      "42. Feature: signature_image_2, Score: 22.226640307191758\n",
      "43. Feature: signature_image_3, Score: 0.1450700883218752\n",
      "44. Feature: signature_image_4, Score: 10.52171598869836\n",
      "45. Feature: transaction_type_0, Score: 2.0422455765276477\n",
      "46. Feature: transaction_type_1, Score: 68.59332485365327\n",
      "47. Feature: transaction_type_2, Score: 15.739280258487522\n",
      "48. Feature: transaction_type_3, Score: 43.82240170993438\n",
      "49. Feature: transaction_type_4, Score: 2.4642025222774775\n",
      "50. Feature: transaction_env_0, Score: 2314.88785663374\n",
      "51. Feature: transaction_env_1, Score: 169.43474923428028\n",
      "52. Feature: transaction_env_2, Score: 24.294341631527626\n",
      "53. Feature: transaction_env_3, Score: 329.73837637203115\n",
      "54. Feature: transaction_env_4, Score: 46.65644185105531\n",
      "55. Feature: tranaction_initiate_0, Score: 0.1925103363843959\n",
      "56. Feature: tranaction_initiate_1, Score: 0.9892192124399597\n",
      "57. Feature: tranaction_initiate_2, Score: 0.22248085869058287\n",
      "58. Feature: tranaction_initiate_3, Score: 0.3666522550704098\n",
      "59. Feature: tranaction_initiate_4, Score: 0.7533380308669692\n",
      "60. Feature: ip_country_0, Score: 0.03863189107964994\n",
      "61. Feature: ip_country_1, Score: 1.194552970298918\n",
      "62. Feature: ip_country_2, Score: 0.04579792378633271\n",
      "63. Feature: ip_country_3, Score: 0.03777855418732039\n",
      "64. Feature: ip_country_4, Score: 0.22733189483054592\n",
      "65. Feature: ip_country_5, Score: 0.13400087491646\n",
      "66. Feature: ip_country_6, Score: 0.689211564516536\n",
      "67. Feature: ip_country_7, Score: 0.7910398626496256\n",
      "68. Feature: locale_country_0, Score: 0.9448622676470295\n",
      "69. Feature: locale_country_1, Score: 0.9586838734723537\n",
      "70. Feature: locale_country_2, Score: 2.612701536321907\n",
      "71. Feature: locale_country_3, Score: 0.01026511521847313\n",
      "72. Feature: locale_country_4, Score: 1.8709987855863333\n",
      "73. Feature: locale_country_5, Score: 0.6983254879964587\n",
      "74. Feature: locale_country_6, Score: 0.002225396056467101\n",
      "75. Feature: locale_country_7, Score: 0.5292721150673527\n"
     ]
    }
   ],
   "source": [
    "# using SelectKBest we will select the most suitable features\n",
    "best_f = SelectKBest(k='all')\n",
    "best_f.fit(X_train, y_train)\n",
    "X_train_fs = best_f.transform(X_train)\n",
    "X_test_fs = best_f.transform(X_test)\n",
    "\n",
    "# display selected features and their scores\n",
    "selected_features = best_f.get_support(indices=True)\n",
    "feature_scores = best_f.scores_[selected_features]\n",
    "for i, (feature, score) in enumerate(zip(X_train.columns[selected_features], feature_scores), 1):\n",
    "    print(f\"{i}. Feature: {feature}, Score: {score}\")"
   ]
  },
  {
   "cell_type": "markdown",
   "metadata": {},
   "source": [
    "Using SelectKBest, we will select 25 features that are best for predicting the target variable. We implement selection using a training sample using the chi2 parameter\n",
    "\n",
    "We indicate the characteristics that are included in the selected list"
   ]
  },
  {
   "cell_type": "code",
   "execution_count": 248,
   "metadata": {},
   "outputs": [
    {
     "name": "stdout",
     "output_type": "stream",
     "text": [
      "Index(['account_age_days', 'transaction_amt', 'transaction_adj_amt',\n",
      "       'historic_velocity', 'inital_amount', 'month', 'day_of_week',\n",
      "       'black_list', 'currency_cad', 'currency_eur', 'currency_usd',\n",
      "       'billing_city_1', 'billing_state_0', 'signature_image_0',\n",
      "       'signature_image_1', 'signature_image_2', 'signature_image_4',\n",
      "       'transaction_type_1', 'transaction_type_2', 'transaction_type_3',\n",
      "       'transaction_env_0', 'transaction_env_1', 'transaction_env_2',\n",
      "       'transaction_env_3', 'transaction_env_4'],\n",
      "      dtype='object')\n"
     ]
    }
   ],
   "source": [
    "from sklearn.feature_selection import SelectKBest, chi2\n",
    "\n",
    "# Create a SelectKBest object with score_func=chi2 and k=25\n",
    "best_features_selector = SelectKBest(score_func=chi2, k=25)\n",
    "\n",
    "# We train SelectKBest using training data\n",
    "X_train_selected = best_features_selector.fit_transform(X_train, y_train)\n",
    "\n",
    "# Displaying selected features\n",
    "selected_feature_indices = best_features_selector.get_support(indices=True)\n",
    "selected_features = X.columns[selected_feature_indices]\n",
    "print(selected_features)"
   ]
  },
  {
   "cell_type": "code",
   "execution_count": 254,
   "metadata": {},
   "outputs": [],
   "source": [
    "X_train = X_train_selected\n",
    "X_test = X_test[['account_age_days', 'transaction_amt', 'transaction_adj_amt',\n",
    "       'historic_velocity', 'inital_amount', 'month', 'day_of_week',\n",
    "       'black_list', 'currency_cad', 'currency_eur', 'currency_usd',\n",
    "       'billing_city_1', 'billing_state_0', 'signature_image_0',\n",
    "       'signature_image_1', 'signature_image_2', 'signature_image_4',\n",
    "       'transaction_type_1', 'transaction_type_2', 'transaction_type_3',\n",
    "       'transaction_env_0', 'transaction_env_1', 'transaction_env_2',\n",
    "       'transaction_env_3', 'transaction_env_4']]"
   ]
  },
  {
   "cell_type": "code",
   "execution_count": 255,
   "metadata": {},
   "outputs": [
    {
     "name": "stderr",
     "output_type": "stream",
     "text": [
      "/Users/admin/opt/anaconda3/lib/python3.9/site-packages/sklearn/base.py:443: UserWarning: X has feature names, but MinMaxScaler was fitted without feature names\n",
      "  warnings.warn(\n"
     ]
    }
   ],
   "source": [
    "# normalize the data using minmaxscaler\n",
    "scaler = preprocessing.MinMaxScaler()\n",
    "scaler.fit(X_train)\n",
    "X_train_scaled = scaler.transform(X_train)\n",
    "X_test_scaled = scaler.transform(X_test)"
   ]
  },
  {
   "cell_type": "markdown",
   "metadata": {},
   "source": [
    "We have selected the features, let's see how random forest works on them"
   ]
  },
  {
   "cell_type": "markdown",
   "metadata": {},
   "source": [
    "We will fill out the table for clarity"
   ]
  },
  {
   "cell_type": "markdown",
   "metadata": {},
   "source": [
    "#### LogisticRegression"
   ]
  },
  {
   "cell_type": "code",
   "execution_count": 345,
   "metadata": {},
   "outputs": [
    {
     "name": "stdout",
     "output_type": "stream",
     "text": [
      "Metrics for the test sample: \n",
      " \n",
      "              precision    recall  f1-score   support\n",
      "\n",
      "           0       0.97      0.99      0.98     41732\n",
      "           1       0.81      0.55      0.65      2405\n",
      "\n",
      "    accuracy                           0.97     44137\n",
      "   macro avg       0.89      0.77      0.82     44137\n",
      "weighted avg       0.97      0.97      0.97     44137\n",
      "\n"
     ]
    },
    {
     "name": "stderr",
     "output_type": "stream",
     "text": [
      "/var/folders/q7/y12hg0bj54sg455fwlths6dw0000gp/T/ipykernel_35359/2868486197.py:29: FutureWarning: The frame.append method is deprecated and will be removed from pandas in a future version. Use pandas.concat instead.\n",
      "  model_evalution_df = model_evalution_df.append(model_evalution_dict, ignore_index=True)\n"
     ]
    },
    {
     "data": {
      "text/html": [
       "<div>\n",
       "<style scoped>\n",
       "    .dataframe tbody tr th:only-of-type {\n",
       "        vertical-align: middle;\n",
       "    }\n",
       "\n",
       "    .dataframe tbody tr th {\n",
       "        vertical-align: top;\n",
       "    }\n",
       "\n",
       "    .dataframe thead th {\n",
       "        text-align: right;\n",
       "    }\n",
       "</style>\n",
       "<table border=\"1\" class=\"dataframe\">\n",
       "  <thead>\n",
       "    <tr style=\"text-align: right;\">\n",
       "      <th></th>\n",
       "      <th>Model Name</th>\n",
       "      <th>Training Score</th>\n",
       "      <th>Testing Score</th>\n",
       "      <th>Accuracy</th>\n",
       "      <th>F1 Score</th>\n",
       "      <th>Precision</th>\n",
       "      <th>Recall</th>\n",
       "    </tr>\n",
       "  </thead>\n",
       "  <tbody>\n",
       "    <tr>\n",
       "      <th>0</th>\n",
       "      <td>LogisticRegression / Imbalanced data</td>\n",
       "      <td>0.969423</td>\n",
       "      <td>0.968484</td>\n",
       "      <td>0.968484</td>\n",
       "      <td>0.965576</td>\n",
       "      <td>0.812192</td>\n",
       "      <td>0.548441</td>\n",
       "    </tr>\n",
       "  </tbody>\n",
       "</table>\n",
       "</div>"
      ],
      "text/plain": [
       "                             Model Name  Training Score  Testing Score  \\\n",
       "0  LogisticRegression / Imbalanced data        0.969423       0.968484   \n",
       "\n",
       "   Accuracy  F1 Score  Precision    Recall  \n",
       "0  0.968484  0.965576   0.812192  0.548441  "
      ]
     },
     "execution_count": 345,
     "metadata": {},
     "output_type": "execute_result"
    }
   ],
   "source": [
    "# Model with random under sampled data\n",
    "model_name = 'LogisticRegression / Imbalanced data'\n",
    "lr = linear_model.LogisticRegression(random_state=42, max_iter=1000)\n",
    "\n",
    "lr = lr.fit(X_train_scaled, y_train)\n",
    "y_train_pred = lr.predict(X_train_scaled)\n",
    "y_test_pred = lr.predict(X_test_scaled)\n",
    "\n",
    "print(f'Metrics for the test sample: \\n \\n{metrics.classification_report(y_test, y_test_pred)}')\n",
    "# Adding baseline model evalution statistics\n",
    "model_evalution_df = add_model_evalution_stat(model_name, lr, X_train_scaled, X_test_scaled, y_train, y_test, y_train_pred, y_test_pred, model_evalution_df)\n",
    "model_evalution_df"
   ]
  },
  {
   "cell_type": "markdown",
   "metadata": {},
   "source": [
    "#### RandomForest"
   ]
  },
  {
   "cell_type": "code",
   "execution_count": 346,
   "metadata": {},
   "outputs": [],
   "source": [
    "model_name2 = 'Baseline - RandomForestClassifier / Imbalanced data'"
   ]
  },
  {
   "cell_type": "code",
   "execution_count": 322,
   "metadata": {},
   "outputs": [
    {
     "name": "stdout",
     "output_type": "stream",
     "text": [
      "Recall train 0.74\n",
      "Recall test 0.72\n"
     ]
    }
   ],
   "source": [
    "random_forest_base = ensemble.RandomForestClassifier(\n",
    "    n_estimators=200,\n",
    "    max_depth=12,\n",
    "    criterion='gini',\n",
    "    min_samples_leaf=20,\n",
    "    random_state=42\n",
    ")\n",
    "random_forest_base.fit(X_train_scaled, y_train)\n",
    "y_train_pred_rf = random_forest_base.predict(X_train_scaled)\n",
    "y_test_pred_rf = random_forest_base.predict(X_test_scaled)\n",
    "# Calculation of the RMSLE metric on training and validation sets\n",
    "print('Recall train', round(np.sqrt(metrics.recall_score(y_train, y_train_pred_rf)), 2))\n",
    "print('Recall test', round(np.sqrt(metrics.recall_score(y_test, y_test_pred_rf)), 2))"
   ]
  },
  {
   "cell_type": "markdown",
   "metadata": {},
   "source": [
    "__We will take this model as the base one and compare further variations with the base one__"
   ]
  },
  {
   "cell_type": "code",
   "execution_count": 347,
   "metadata": {},
   "outputs": [
    {
     "name": "stderr",
     "output_type": "stream",
     "text": [
      "/var/folders/q7/y12hg0bj54sg455fwlths6dw0000gp/T/ipykernel_35359/2868486197.py:29: FutureWarning: The frame.append method is deprecated and will be removed from pandas in a future version. Use pandas.concat instead.\n",
      "  model_evalution_df = model_evalution_df.append(model_evalution_dict, ignore_index=True)\n"
     ]
    }
   ],
   "source": [
    "# Adding baseline model evalution statistics\n",
    "model_evalution_df = add_model_evalution_stat(model_name2, random_forest_base, X_train_scaled, X_test_scaled, y_train, y_test, y_train_pred_rf, y_test_pred_rf, model_evalution_df)"
   ]
  },
  {
   "cell_type": "code",
   "execution_count": 348,
   "metadata": {},
   "outputs": [
    {
     "data": {
      "text/html": [
       "<div>\n",
       "<style scoped>\n",
       "    .dataframe tbody tr th:only-of-type {\n",
       "        vertical-align: middle;\n",
       "    }\n",
       "\n",
       "    .dataframe tbody tr th {\n",
       "        vertical-align: top;\n",
       "    }\n",
       "\n",
       "    .dataframe thead th {\n",
       "        text-align: right;\n",
       "    }\n",
       "</style>\n",
       "<table border=\"1\" class=\"dataframe\">\n",
       "  <thead>\n",
       "    <tr style=\"text-align: right;\">\n",
       "      <th></th>\n",
       "      <th>Model Name</th>\n",
       "      <th>Training Score</th>\n",
       "      <th>Testing Score</th>\n",
       "      <th>Accuracy</th>\n",
       "      <th>F1 Score</th>\n",
       "      <th>Precision</th>\n",
       "      <th>Recall</th>\n",
       "    </tr>\n",
       "  </thead>\n",
       "  <tbody>\n",
       "    <tr>\n",
       "      <th>0</th>\n",
       "      <td>LogisticRegression / Imbalanced data</td>\n",
       "      <td>0.969423</td>\n",
       "      <td>0.968484</td>\n",
       "      <td>0.968484</td>\n",
       "      <td>0.965576</td>\n",
       "      <td>0.812192</td>\n",
       "      <td>0.548441</td>\n",
       "    </tr>\n",
       "    <tr>\n",
       "      <th>1</th>\n",
       "      <td>Baseline - RandomForestClassifier / Imbalanced...</td>\n",
       "      <td>0.973288</td>\n",
       "      <td>0.970750</td>\n",
       "      <td>0.970750</td>\n",
       "      <td>0.967033</td>\n",
       "      <td>0.899570</td>\n",
       "      <td>0.521414</td>\n",
       "    </tr>\n",
       "  </tbody>\n",
       "</table>\n",
       "</div>"
      ],
      "text/plain": [
       "                                          Model Name  Training Score  \\\n",
       "0               LogisticRegression / Imbalanced data        0.969423   \n",
       "1  Baseline - RandomForestClassifier / Imbalanced...        0.973288   \n",
       "\n",
       "   Testing Score  Accuracy  F1 Score  Precision    Recall  \n",
       "0       0.968484  0.968484  0.965576   0.812192  0.548441  \n",
       "1       0.970750  0.970750  0.967033   0.899570  0.521414  "
      ]
     },
     "execution_count": 348,
     "metadata": {},
     "output_type": "execute_result"
    }
   ],
   "source": [
    "model_evalution_df"
   ]
  },
  {
   "cell_type": "markdown",
   "metadata": {},
   "source": [
    "#### Stacking"
   ]
  },
  {
   "cell_type": "code",
   "execution_count": 349,
   "metadata": {},
   "outputs": [],
   "source": [
    "model_name3 = 'Stacking / Imbalanced data'"
   ]
  },
  {
   "cell_type": "code",
   "execution_count": 351,
   "metadata": {},
   "outputs": [
    {
     "name": "stdout",
     "output_type": "stream",
     "text": [
      "Metrics for the test sample: \n",
      " \n",
      "              precision    recall  f1-score   support\n",
      "\n",
      "           0       0.98      0.99      0.99     41732\n",
      "           1       0.88      0.69      0.77      2405\n",
      "\n",
      "    accuracy                           0.98     44137\n",
      "   macro avg       0.93      0.84      0.88     44137\n",
      "weighted avg       0.98      0.98      0.98     44137\n",
      "\n"
     ]
    }
   ],
   "source": [
    "# We create a list of tuples of the form: (model name, model)\n",
    "estimators = [\n",
    "    ('dt', tree.DecisionTreeClassifier(\n",
    "        criterion='entropy',\n",
    "        max_depth=6,\n",
    "        random_state=42\n",
    "        )),\n",
    "    ('gb', ensemble.GradientBoostingClassifier(\n",
    "        min_samples_leaf=5,\n",
    "        learning_rate=0.05,\n",
    "        n_estimators=300,\n",
    "        max_depth=5,\n",
    "        random_state=42\n",
    "        )),\n",
    "    ('rf', ensemble.RandomForestClassifier(\n",
    "        n_estimators=100,\n",
    "        max_depth=6,\n",
    "        random_state=42\n",
    "        ))\n",
    "]\n",
    "\n",
    "# Create an object of the stacking class\n",
    "\n",
    "clf = ensemble.StackingClassifier(\n",
    "    estimators=estimators,\n",
    "    final_estimator=ensemble.RandomForestClassifier(\n",
    "        n_estimators=100,\n",
    "        max_depth=6,\n",
    "        random_state=42\n",
    "    ),\n",
    "    n_jobs=-1\n",
    ")\n",
    "\n",
    "clf.fit(X_train_scaled, y_train)\n",
    "y_train_pred_clf = clf.predict(X_train_scaled)\n",
    "y_test_pred_clf = clf.predict(X_test_scaled)\n",
    "\n",
    "print(f'Metrics for the test sample: \\n \\n{metrics.classification_report(y_test, y_test_pred_clf)}')"
   ]
  },
  {
   "cell_type": "code",
   "execution_count": 352,
   "metadata": {},
   "outputs": [
    {
     "name": "stderr",
     "output_type": "stream",
     "text": [
      "/var/folders/q7/y12hg0bj54sg455fwlths6dw0000gp/T/ipykernel_35359/2868486197.py:29: FutureWarning: The frame.append method is deprecated and will be removed from pandas in a future version. Use pandas.concat instead.\n",
      "  model_evalution_df = model_evalution_df.append(model_evalution_dict, ignore_index=True)\n"
     ]
    },
    {
     "data": {
      "text/html": [
       "<div>\n",
       "<style scoped>\n",
       "    .dataframe tbody tr th:only-of-type {\n",
       "        vertical-align: middle;\n",
       "    }\n",
       "\n",
       "    .dataframe tbody tr th {\n",
       "        vertical-align: top;\n",
       "    }\n",
       "\n",
       "    .dataframe thead th {\n",
       "        text-align: right;\n",
       "    }\n",
       "</style>\n",
       "<table border=\"1\" class=\"dataframe\">\n",
       "  <thead>\n",
       "    <tr style=\"text-align: right;\">\n",
       "      <th></th>\n",
       "      <th>Model Name</th>\n",
       "      <th>Training Score</th>\n",
       "      <th>Testing Score</th>\n",
       "      <th>Accuracy</th>\n",
       "      <th>F1 Score</th>\n",
       "      <th>Precision</th>\n",
       "      <th>Recall</th>\n",
       "    </tr>\n",
       "  </thead>\n",
       "  <tbody>\n",
       "    <tr>\n",
       "      <th>0</th>\n",
       "      <td>LogisticRegression / Imbalanced data</td>\n",
       "      <td>0.969423</td>\n",
       "      <td>0.968484</td>\n",
       "      <td>0.968484</td>\n",
       "      <td>0.965576</td>\n",
       "      <td>0.812192</td>\n",
       "      <td>0.548441</td>\n",
       "    </tr>\n",
       "    <tr>\n",
       "      <th>1</th>\n",
       "      <td>Baseline - RandomForestClassifier / Imbalanced...</td>\n",
       "      <td>0.973288</td>\n",
       "      <td>0.970750</td>\n",
       "      <td>0.970750</td>\n",
       "      <td>0.967033</td>\n",
       "      <td>0.899570</td>\n",
       "      <td>0.521414</td>\n",
       "    </tr>\n",
       "    <tr>\n",
       "      <th>2</th>\n",
       "      <td>Stacking / Imbalanced data</td>\n",
       "      <td>0.980939</td>\n",
       "      <td>0.977592</td>\n",
       "      <td>0.977592</td>\n",
       "      <td>0.976290</td>\n",
       "      <td>0.876596</td>\n",
       "      <td>0.685239</td>\n",
       "    </tr>\n",
       "  </tbody>\n",
       "</table>\n",
       "</div>"
      ],
      "text/plain": [
       "                                          Model Name  Training Score  \\\n",
       "0               LogisticRegression / Imbalanced data        0.969423   \n",
       "1  Baseline - RandomForestClassifier / Imbalanced...        0.973288   \n",
       "2                         Stacking / Imbalanced data        0.980939   \n",
       "\n",
       "   Testing Score  Accuracy  F1 Score  Precision    Recall  \n",
       "0       0.968484  0.968484  0.965576   0.812192  0.548441  \n",
       "1       0.970750  0.970750  0.967033   0.899570  0.521414  \n",
       "2       0.977592  0.977592  0.976290   0.876596  0.685239  "
      ]
     },
     "execution_count": 352,
     "metadata": {},
     "output_type": "execute_result"
    }
   ],
   "source": [
    "# Adding baseline model evalution statistics\n",
    "model_evalution_df = add_model_evalution_stat(model_name3, clf, X_train_scaled, X_test_scaled, y_train, y_test, y_train_pred_rf, y_test_pred_clf, model_evalution_df)\n",
    "model_evalution_df"
   ]
  },
  {
   "cell_type": "markdown",
   "metadata": {},
   "source": [
    "Let's try to train a model on 45 features"
   ]
  },
  {
   "cell_type": "code",
   "execution_count": 259,
   "metadata": {},
   "outputs": [],
   "source": [
    "X_train_45f, X_test_45f, y_train45f, y_test45f = train_test_split(X, y, stratify=y, random_state=42, test_size=0.3)"
   ]
  },
  {
   "cell_type": "code",
   "execution_count": 260,
   "metadata": {},
   "outputs": [
    {
     "name": "stdout",
     "output_type": "stream",
     "text": [
      "Index(['account_age_days', 'transaction_amt', 'transaction_adj_amt',\n",
      "       'historic_velocity', 'inital_amount', 'month', 'hour', 'day_of_week',\n",
      "       'black_list', 'currency_cad', 'currency_eur', 'currency_usd',\n",
      "       'billing_city_1', 'billing_city_6', 'billing_city_10',\n",
      "       'billing_city_11', 'billing_city_12', 'billing_state_0',\n",
      "       'billing_state_1', 'billing_state_2', 'billing_state_4',\n",
      "       'signature_image_0', 'signature_image_1', 'signature_image_2',\n",
      "       'signature_image_4', 'transaction_type_0', 'transaction_type_1',\n",
      "       'transaction_type_2', 'transaction_type_3', 'transaction_type_4',\n",
      "       'transaction_env_0', 'transaction_env_1', 'transaction_env_2',\n",
      "       'transaction_env_3', 'transaction_env_4', 'tranaction_initiate_1',\n",
      "       'tranaction_initiate_4', 'ip_country_1', 'ip_country_7',\n",
      "       'locale_country_0', 'locale_country_1', 'locale_country_2',\n",
      "       'locale_country_4', 'locale_country_5', 'locale_country_7'],\n",
      "      dtype='object')\n"
     ]
    }
   ],
   "source": [
    "# Create a SelectKBest object with score_func=chi2 and k=45\n",
    "best_features_selector = SelectKBest(score_func=chi2, k=45)\n",
    "\n",
    "# We train SelectKBest using training data\n",
    "X_train_45 = best_features_selector.fit_transform(X_train_45f, y_train45f)\n",
    "\n",
    "# Displaying selected features\n",
    "selected_feature_indices = best_features_selector.get_support(indices=True)\n",
    "selected_features = X.columns[selected_feature_indices]\n",
    "print(selected_features)"
   ]
  },
  {
   "cell_type": "code",
   "execution_count": 355,
   "metadata": {},
   "outputs": [],
   "source": [
    "model_name = 'Stacking-45features / Imbalanced data'"
   ]
  },
  {
   "cell_type": "code",
   "execution_count": 354,
   "metadata": {},
   "outputs": [
    {
     "name": "stderr",
     "output_type": "stream",
     "text": [
      "/Users/admin/opt/anaconda3/lib/python3.9/site-packages/sklearn/base.py:443: UserWarning: X has feature names, but MinMaxScaler was fitted without feature names\n",
      "  warnings.warn(\n"
     ]
    },
    {
     "name": "stdout",
     "output_type": "stream",
     "text": [
      "Metrics for the test sample: \n",
      " \n",
      "              precision    recall  f1-score   support\n",
      "\n",
      "           0       0.98      0.99      0.99     41732\n",
      "           1       0.88      0.72      0.79      2405\n",
      "\n",
      "    accuracy                           0.98     44137\n",
      "   macro avg       0.93      0.86      0.89     44137\n",
      "weighted avg       0.98      0.98      0.98     44137\n",
      "\n"
     ]
    }
   ],
   "source": [
    "X_train45 = X_train_45\n",
    "X_test45 = X_test_45f[['account_age_days', 'transaction_amt', 'transaction_adj_amt',\n",
    "       'historic_velocity', 'inital_amount', 'month', 'hour', 'day_of_week',\n",
    "       'black_list', 'currency_cad', 'currency_eur', 'currency_usd',\n",
    "       'billing_city_1', 'billing_city_6', 'billing_city_10',\n",
    "       'billing_city_11', 'billing_city_12', 'billing_state_0',\n",
    "       'billing_state_1', 'billing_state_2', 'billing_state_4',\n",
    "       'signature_image_0', 'signature_image_1', 'signature_image_2',\n",
    "       'signature_image_4', 'transaction_type_0', 'transaction_type_1',\n",
    "       'transaction_type_2', 'transaction_type_3', 'transaction_type_4',\n",
    "       'transaction_env_0', 'transaction_env_1', 'transaction_env_2',\n",
    "       'transaction_env_3', 'transaction_env_4', 'tranaction_initiate_1',\n",
    "       'tranaction_initiate_4', 'ip_country_1', 'ip_country_7',\n",
    "       'locale_country_0', 'locale_country_1', 'locale_country_2',\n",
    "       'locale_country_4', 'locale_country_5', 'locale_country_7']]\n",
    "# normalize the data using minmaxscaler\n",
    "scaler = preprocessing.MinMaxScaler()\n",
    "scaler.fit(X_train45)\n",
    "X_train_sc45 = scaler.transform(X_train45)\n",
    "X_test_sc45 = scaler.transform(X_test45)\n",
    "\n",
    "clf.fit(X_train_sc45, y_train45f)\n",
    "y_test_pred_clf45 = clf.predict(X_test_sc45)\n",
    "y_train_pred_clf45 = clf.predict(X_train_sc45)\n",
    "print(f'Metrics for the test sample: \\n \\n{metrics.classification_report(y_test45f, y_test_pred_clf45)}')\n"
   ]
  },
  {
   "cell_type": "code",
   "execution_count": 356,
   "metadata": {},
   "outputs": [
    {
     "name": "stderr",
     "output_type": "stream",
     "text": [
      "/Users/admin/opt/anaconda3/lib/python3.9/site-packages/sklearn/base.py:443: UserWarning: X has feature names, but DecisionTreeClassifier was fitted without feature names\n",
      "  warnings.warn(\n",
      "/Users/admin/opt/anaconda3/lib/python3.9/site-packages/sklearn/base.py:443: UserWarning: X has feature names, but GradientBoostingClassifier was fitted without feature names\n",
      "  warnings.warn(\n",
      "/Users/admin/opt/anaconda3/lib/python3.9/site-packages/sklearn/base.py:443: UserWarning: X has feature names, but RandomForestClassifier was fitted without feature names\n",
      "  warnings.warn(\n",
      "/var/folders/q7/y12hg0bj54sg455fwlths6dw0000gp/T/ipykernel_35359/2868486197.py:29: FutureWarning: The frame.append method is deprecated and will be removed from pandas in a future version. Use pandas.concat instead.\n",
      "  model_evalution_df = model_evalution_df.append(model_evalution_dict, ignore_index=True)\n"
     ]
    },
    {
     "data": {
      "text/html": [
       "<div>\n",
       "<style scoped>\n",
       "    .dataframe tbody tr th:only-of-type {\n",
       "        vertical-align: middle;\n",
       "    }\n",
       "\n",
       "    .dataframe tbody tr th {\n",
       "        vertical-align: top;\n",
       "    }\n",
       "\n",
       "    .dataframe thead th {\n",
       "        text-align: right;\n",
       "    }\n",
       "</style>\n",
       "<table border=\"1\" class=\"dataframe\">\n",
       "  <thead>\n",
       "    <tr style=\"text-align: right;\">\n",
       "      <th></th>\n",
       "      <th>Model Name</th>\n",
       "      <th>Training Score</th>\n",
       "      <th>Testing Score</th>\n",
       "      <th>Accuracy</th>\n",
       "      <th>F1 Score</th>\n",
       "      <th>Precision</th>\n",
       "      <th>Recall</th>\n",
       "    </tr>\n",
       "  </thead>\n",
       "  <tbody>\n",
       "    <tr>\n",
       "      <th>0</th>\n",
       "      <td>LogisticRegression / Imbalanced data</td>\n",
       "      <td>0.969423</td>\n",
       "      <td>0.968484</td>\n",
       "      <td>0.968484</td>\n",
       "      <td>0.965576</td>\n",
       "      <td>0.812192</td>\n",
       "      <td>0.548441</td>\n",
       "    </tr>\n",
       "    <tr>\n",
       "      <th>1</th>\n",
       "      <td>Baseline - RandomForestClassifier / Imbalanced...</td>\n",
       "      <td>0.973288</td>\n",
       "      <td>0.970750</td>\n",
       "      <td>0.970750</td>\n",
       "      <td>0.967033</td>\n",
       "      <td>0.899570</td>\n",
       "      <td>0.521414</td>\n",
       "    </tr>\n",
       "    <tr>\n",
       "      <th>2</th>\n",
       "      <td>Stacking / Imbalanced data</td>\n",
       "      <td>0.980939</td>\n",
       "      <td>0.977592</td>\n",
       "      <td>0.977592</td>\n",
       "      <td>0.976290</td>\n",
       "      <td>0.876596</td>\n",
       "      <td>0.685239</td>\n",
       "    </tr>\n",
       "    <tr>\n",
       "      <th>3</th>\n",
       "      <td>Stacking-45features / Imbalanced data</td>\n",
       "      <td>0.508322</td>\n",
       "      <td>0.504883</td>\n",
       "      <td>0.979246</td>\n",
       "      <td>0.978226</td>\n",
       "      <td>0.881208</td>\n",
       "      <td>0.715593</td>\n",
       "    </tr>\n",
       "  </tbody>\n",
       "</table>\n",
       "</div>"
      ],
      "text/plain": [
       "                                          Model Name  Training Score  \\\n",
       "0               LogisticRegression / Imbalanced data        0.969423   \n",
       "1  Baseline - RandomForestClassifier / Imbalanced...        0.973288   \n",
       "2                         Stacking / Imbalanced data        0.980939   \n",
       "3              Stacking-45features / Imbalanced data        0.508322   \n",
       "\n",
       "   Testing Score  Accuracy  F1 Score  Precision    Recall  \n",
       "0       0.968484  0.968484  0.965576   0.812192  0.548441  \n",
       "1       0.970750  0.970750  0.967033   0.899570  0.521414  \n",
       "2       0.977592  0.977592  0.976290   0.876596  0.685239  \n",
       "3       0.504883  0.979246  0.978226   0.881208  0.715593  "
      ]
     },
     "execution_count": 356,
     "metadata": {},
     "output_type": "execute_result"
    }
   ],
   "source": [
    "# Adding baseline model evalution statistics\n",
    "model_evalution_df = add_model_evalution_stat(model_name, clf, X_train45, X_test45, y_train45f, y_test45f, y_train_pred_clf45, y_test_pred_clf45, model_evalution_df)\n",
    "model_evalution_df"
   ]
  },
  {
   "cell_type": "markdown",
   "metadata": {},
   "source": [
    "Let's try to train the model on all features."
   ]
  },
  {
   "cell_type": "code",
   "execution_count": 357,
   "metadata": {},
   "outputs": [],
   "source": [
    "model_name = 'Stacking-all_features / Imbalanced data'"
   ]
  },
  {
   "cell_type": "code",
   "execution_count": 358,
   "metadata": {},
   "outputs": [
    {
     "name": "stdout",
     "output_type": "stream",
     "text": [
      "Metrics for the test sample: \n",
      " \n",
      "              precision    recall  f1-score   support\n",
      "\n",
      "           0       0.98      0.99      0.99     41732\n",
      "           1       0.88      0.73      0.80      2405\n",
      "\n",
      "    accuracy                           0.98     44137\n",
      "   macro avg       0.93      0.86      0.89     44137\n",
      "weighted avg       0.98      0.98      0.98     44137\n",
      "\n"
     ]
    }
   ],
   "source": [
    "X_train_all, X_test_all, y_train_all, y_test_all = train_test_split(X, y, stratify=y, random_state=42, test_size=0.3)\n",
    "# normalize the data using minmaxscaler\n",
    "scaler = preprocessing.MinMaxScaler()\n",
    "scaler.fit(X_train_all)\n",
    "X_train_sc_all = scaler.transform(X_train_all)\n",
    "X_test_sc_all = scaler.transform(X_test_all)\n",
    "\n",
    "clf.fit(X_train_sc_all, y_train_all)\n",
    "y_pred_clf_all = clf.predict(X_test_sc_all)\n",
    "y_train_pred_clf_all = clf.predict(X_train_sc_all)\n",
    "print(f'Metrics for the test sample: \\n \\n{metrics.classification_report(y_test_all, y_pred_clf_all)}')\n"
   ]
  },
  {
   "cell_type": "code",
   "execution_count": 359,
   "metadata": {},
   "outputs": [
    {
     "name": "stderr",
     "output_type": "stream",
     "text": [
      "/Users/admin/opt/anaconda3/lib/python3.9/site-packages/sklearn/base.py:443: UserWarning: X has feature names, but DecisionTreeClassifier was fitted without feature names\n",
      "  warnings.warn(\n",
      "/Users/admin/opt/anaconda3/lib/python3.9/site-packages/sklearn/base.py:443: UserWarning: X has feature names, but GradientBoostingClassifier was fitted without feature names\n",
      "  warnings.warn(\n",
      "/Users/admin/opt/anaconda3/lib/python3.9/site-packages/sklearn/base.py:443: UserWarning: X has feature names, but RandomForestClassifier was fitted without feature names\n",
      "  warnings.warn(\n",
      "/Users/admin/opt/anaconda3/lib/python3.9/site-packages/sklearn/base.py:443: UserWarning: X has feature names, but DecisionTreeClassifier was fitted without feature names\n",
      "  warnings.warn(\n",
      "/Users/admin/opt/anaconda3/lib/python3.9/site-packages/sklearn/base.py:443: UserWarning: X has feature names, but GradientBoostingClassifier was fitted without feature names\n",
      "  warnings.warn(\n",
      "/Users/admin/opt/anaconda3/lib/python3.9/site-packages/sklearn/base.py:443: UserWarning: X has feature names, but RandomForestClassifier was fitted without feature names\n",
      "  warnings.warn(\n",
      "/var/folders/q7/y12hg0bj54sg455fwlths6dw0000gp/T/ipykernel_35359/2868486197.py:29: FutureWarning: The frame.append method is deprecated and will be removed from pandas in a future version. Use pandas.concat instead.\n",
      "  model_evalution_df = model_evalution_df.append(model_evalution_dict, ignore_index=True)\n"
     ]
    },
    {
     "data": {
      "text/html": [
       "<div>\n",
       "<style scoped>\n",
       "    .dataframe tbody tr th:only-of-type {\n",
       "        vertical-align: middle;\n",
       "    }\n",
       "\n",
       "    .dataframe tbody tr th {\n",
       "        vertical-align: top;\n",
       "    }\n",
       "\n",
       "    .dataframe thead th {\n",
       "        text-align: right;\n",
       "    }\n",
       "</style>\n",
       "<table border=\"1\" class=\"dataframe\">\n",
       "  <thead>\n",
       "    <tr style=\"text-align: right;\">\n",
       "      <th></th>\n",
       "      <th>Model Name</th>\n",
       "      <th>Training Score</th>\n",
       "      <th>Testing Score</th>\n",
       "      <th>Accuracy</th>\n",
       "      <th>F1 Score</th>\n",
       "      <th>Precision</th>\n",
       "      <th>Recall</th>\n",
       "    </tr>\n",
       "  </thead>\n",
       "  <tbody>\n",
       "    <tr>\n",
       "      <th>0</th>\n",
       "      <td>LogisticRegression / Imbalanced data</td>\n",
       "      <td>0.969423</td>\n",
       "      <td>0.968484</td>\n",
       "      <td>0.968484</td>\n",
       "      <td>0.965576</td>\n",
       "      <td>0.812192</td>\n",
       "      <td>0.548441</td>\n",
       "    </tr>\n",
       "    <tr>\n",
       "      <th>1</th>\n",
       "      <td>Baseline - RandomForestClassifier / Imbalanced...</td>\n",
       "      <td>0.973288</td>\n",
       "      <td>0.970750</td>\n",
       "      <td>0.970750</td>\n",
       "      <td>0.967033</td>\n",
       "      <td>0.899570</td>\n",
       "      <td>0.521414</td>\n",
       "    </tr>\n",
       "    <tr>\n",
       "      <th>2</th>\n",
       "      <td>Stacking / Imbalanced data</td>\n",
       "      <td>0.980939</td>\n",
       "      <td>0.977592</td>\n",
       "      <td>0.977592</td>\n",
       "      <td>0.976290</td>\n",
       "      <td>0.876596</td>\n",
       "      <td>0.685239</td>\n",
       "    </tr>\n",
       "    <tr>\n",
       "      <th>3</th>\n",
       "      <td>Stacking-45features / Imbalanced data</td>\n",
       "      <td>0.508322</td>\n",
       "      <td>0.504883</td>\n",
       "      <td>0.979246</td>\n",
       "      <td>0.978226</td>\n",
       "      <td>0.881208</td>\n",
       "      <td>0.715593</td>\n",
       "    </tr>\n",
       "    <tr>\n",
       "      <th>4</th>\n",
       "      <td>Stacking-all_features / Imbalanced data</td>\n",
       "      <td>0.525547</td>\n",
       "      <td>0.521173</td>\n",
       "      <td>0.979700</td>\n",
       "      <td>0.978842</td>\n",
       "      <td>0.875186</td>\n",
       "      <td>0.731809</td>\n",
       "    </tr>\n",
       "  </tbody>\n",
       "</table>\n",
       "</div>"
      ],
      "text/plain": [
       "                                          Model Name  Training Score  \\\n",
       "0               LogisticRegression / Imbalanced data        0.969423   \n",
       "1  Baseline - RandomForestClassifier / Imbalanced...        0.973288   \n",
       "2                         Stacking / Imbalanced data        0.980939   \n",
       "3              Stacking-45features / Imbalanced data        0.508322   \n",
       "4            Stacking-all_features / Imbalanced data        0.525547   \n",
       "\n",
       "   Testing Score  Accuracy  F1 Score  Precision    Recall  \n",
       "0       0.968484  0.968484  0.965576   0.812192  0.548441  \n",
       "1       0.970750  0.970750  0.967033   0.899570  0.521414  \n",
       "2       0.977592  0.977592  0.976290   0.876596  0.685239  \n",
       "3       0.504883  0.979246  0.978226   0.881208  0.715593  \n",
       "4       0.521173  0.979700  0.978842   0.875186  0.731809  "
      ]
     },
     "execution_count": 359,
     "metadata": {},
     "output_type": "execute_result"
    }
   ],
   "source": [
    "# Adding baseline model evalution statistics\n",
    "model_evalution_df = add_model_evalution_stat(model_name, clf, X_train_all, X_test_all, y_train_all, y_test_all, y_train_pred_clf_all, y_pred_clf_all, model_evalution_df)\n",
    "model_evalution_df"
   ]
  },
  {
   "cell_type": "markdown",
   "metadata": {},
   "source": [
    "#### Random_forest/GridSearch_all_features"
   ]
  },
  {
   "cell_type": "code",
   "execution_count": 363,
   "metadata": {},
   "outputs": [],
   "source": [
    "model_name = 'Random_forest/GridSearch_all_features / Imbalanced data'"
   ]
  },
  {
   "cell_type": "code",
   "execution_count": 338,
   "metadata": {},
   "outputs": [
    {
     "name": "stdout",
     "output_type": "stream",
     "text": [
      "Metrics for the test sample: \n",
      " \n",
      "              precision    recall  f1-score   support\n",
      "\n",
      "           0       0.97      1.00      0.98     41732\n",
      "           1       0.95      0.45      0.61      2405\n",
      "\n",
      "    accuracy                           0.97     44137\n",
      "   macro avg       0.96      0.73      0.80     44137\n",
      "weighted avg       0.97      0.97      0.96     44137\n",
      "\n"
     ]
    }
   ],
   "source": [
    "\n",
    "param_grid = {'n_estimators': list(range(80, 200, 30)),\n",
    "              'min_samples_leaf': [5],\n",
    "              'max_depth': list(np.linspace(20, 40, 5, dtype=int)),\n",
    "              'criterion' : ['gini', 'entropy']\n",
    "              }\n",
    "\n",
    "\n",
    "grid_search_rf_all = GridSearchCV(\n",
    "    estimator=ensemble.RandomForestClassifier(random_state=42),\n",
    "    param_grid=param_grid,\n",
    "    cv=5,\n",
    "    n_jobs=-1,\n",
    "    scoring='recall'\n",
    ")\n",
    "\n",
    "best_params_rf_all = grid_search_rf_all.fit(X_train_all, y_train_all)\n",
    "\n",
    "y_train_pred_rf_all = best_params_rf_all.best_estimator_.predict(X_train_all)\n",
    "y_test_pred_rf_all = best_params_rf_all.best_estimator_.predict(X_test_all)\n",
    "\n",
    "print(f'Metrics for the test sample: \\n \\n{metrics.classification_report(y_test_all, y_test_pred_rf_all)}')"
   ]
  },
  {
   "cell_type": "code",
   "execution_count": 364,
   "metadata": {},
   "outputs": [
    {
     "name": "stderr",
     "output_type": "stream",
     "text": [
      "/var/folders/q7/y12hg0bj54sg455fwlths6dw0000gp/T/ipykernel_35359/2868486197.py:29: FutureWarning: The frame.append method is deprecated and will be removed from pandas in a future version. Use pandas.concat instead.\n",
      "  model_evalution_df = model_evalution_df.append(model_evalution_dict, ignore_index=True)\n"
     ]
    },
    {
     "data": {
      "text/html": [
       "<div>\n",
       "<style scoped>\n",
       "    .dataframe tbody tr th:only-of-type {\n",
       "        vertical-align: middle;\n",
       "    }\n",
       "\n",
       "    .dataframe tbody tr th {\n",
       "        vertical-align: top;\n",
       "    }\n",
       "\n",
       "    .dataframe thead th {\n",
       "        text-align: right;\n",
       "    }\n",
       "</style>\n",
       "<table border=\"1\" class=\"dataframe\">\n",
       "  <thead>\n",
       "    <tr style=\"text-align: right;\">\n",
       "      <th></th>\n",
       "      <th>Model Name</th>\n",
       "      <th>Training Score</th>\n",
       "      <th>Testing Score</th>\n",
       "      <th>Accuracy</th>\n",
       "      <th>F1 Score</th>\n",
       "      <th>Precision</th>\n",
       "      <th>Recall</th>\n",
       "    </tr>\n",
       "  </thead>\n",
       "  <tbody>\n",
       "    <tr>\n",
       "      <th>0</th>\n",
       "      <td>LogisticRegression / Imbalanced data</td>\n",
       "      <td>0.969423</td>\n",
       "      <td>0.968484</td>\n",
       "      <td>0.968484</td>\n",
       "      <td>0.965576</td>\n",
       "      <td>0.812192</td>\n",
       "      <td>0.548441</td>\n",
       "    </tr>\n",
       "    <tr>\n",
       "      <th>1</th>\n",
       "      <td>Baseline - RandomForestClassifier / Imbalanced...</td>\n",
       "      <td>0.973288</td>\n",
       "      <td>0.970750</td>\n",
       "      <td>0.970750</td>\n",
       "      <td>0.967033</td>\n",
       "      <td>0.899570</td>\n",
       "      <td>0.521414</td>\n",
       "    </tr>\n",
       "    <tr>\n",
       "      <th>2</th>\n",
       "      <td>Stacking / Imbalanced data</td>\n",
       "      <td>0.980939</td>\n",
       "      <td>0.977592</td>\n",
       "      <td>0.977592</td>\n",
       "      <td>0.976290</td>\n",
       "      <td>0.876596</td>\n",
       "      <td>0.685239</td>\n",
       "    </tr>\n",
       "    <tr>\n",
       "      <th>3</th>\n",
       "      <td>Stacking-45features / Imbalanced data</td>\n",
       "      <td>0.508322</td>\n",
       "      <td>0.504883</td>\n",
       "      <td>0.979246</td>\n",
       "      <td>0.978226</td>\n",
       "      <td>0.881208</td>\n",
       "      <td>0.715593</td>\n",
       "    </tr>\n",
       "    <tr>\n",
       "      <th>4</th>\n",
       "      <td>Stacking-all_features / Imbalanced data</td>\n",
       "      <td>0.525547</td>\n",
       "      <td>0.521173</td>\n",
       "      <td>0.979700</td>\n",
       "      <td>0.978842</td>\n",
       "      <td>0.875186</td>\n",
       "      <td>0.731809</td>\n",
       "    </tr>\n",
       "    <tr>\n",
       "      <th>5</th>\n",
       "      <td>Random_forest/GridSearch_all_features / Imbala...</td>\n",
       "      <td>0.664349</td>\n",
       "      <td>0.453638</td>\n",
       "      <td>0.969028</td>\n",
       "      <td>0.963756</td>\n",
       "      <td>0.953671</td>\n",
       "      <td>0.453638</td>\n",
       "    </tr>\n",
       "  </tbody>\n",
       "</table>\n",
       "</div>"
      ],
      "text/plain": [
       "                                          Model Name  Training Score  \\\n",
       "0               LogisticRegression / Imbalanced data        0.969423   \n",
       "1  Baseline - RandomForestClassifier / Imbalanced...        0.973288   \n",
       "2                         Stacking / Imbalanced data        0.980939   \n",
       "3              Stacking-45features / Imbalanced data        0.508322   \n",
       "4            Stacking-all_features / Imbalanced data        0.525547   \n",
       "5  Random_forest/GridSearch_all_features / Imbala...        0.664349   \n",
       "\n",
       "   Testing Score  Accuracy  F1 Score  Precision    Recall  \n",
       "0       0.968484  0.968484  0.965576   0.812192  0.548441  \n",
       "1       0.970750  0.970750  0.967033   0.899570  0.521414  \n",
       "2       0.977592  0.977592  0.976290   0.876596  0.685239  \n",
       "3       0.504883  0.979246  0.978226   0.881208  0.715593  \n",
       "4       0.521173  0.979700  0.978842   0.875186  0.731809  \n",
       "5       0.453638  0.969028  0.963756   0.953671  0.453638  "
      ]
     },
     "execution_count": 364,
     "metadata": {},
     "output_type": "execute_result"
    }
   ],
   "source": [
    "# Adding baseline model evalution statistics\n",
    "model_evalution_df = add_model_evalution_stat(model_name, grid_search_rf_all, X_train_all, X_test_all, y_train_all, y_test_all, y_train_pred_rf_all, y_test_pred_rf_all, model_evalution_df)\n",
    "model_evalution_df"
   ]
  },
  {
   "cell_type": "markdown",
   "metadata": {},
   "source": [
    "#### Random Under Sampling data"
   ]
  },
  {
   "cell_type": "code",
   "execution_count": 269,
   "metadata": {},
   "outputs": [
    {
     "data": {
      "text/plain": [
       "0    5610\n",
       "1    5610\n",
       "Name: fraud, dtype: int64"
      ]
     },
     "execution_count": 269,
     "metadata": {},
     "output_type": "execute_result"
    }
   ],
   "source": [
    "# Random Under Sampling data implimentation\n",
    "random_under_sampler = RandomUnderSampler(random_state=42)\n",
    "X_rus, y_rus = random_under_sampler.fit_resample(X_train_scaled, y_train)\n",
    "\n",
    "y_rus.value_counts()"
   ]
  },
  {
   "cell_type": "code",
   "execution_count": 270,
   "metadata": {},
   "outputs": [
    {
     "data": {
      "text/plain": [
       "1    4208\n",
       "0    4207\n",
       "Name: fraud, dtype: int64"
      ]
     },
     "execution_count": 270,
     "metadata": {},
     "output_type": "execute_result"
    }
   ],
   "source": [
    "# Train-Test splitting\n",
    "X_train_u_sampled, X_test_u_sampled, y_train_u_sampled, y_test_u_sampled = train_test_split(X_rus, y_rus, test_size=0.25, random_state=42, stratify=y_rus)\n",
    "y_train_u_sampled.value_counts()"
   ]
  },
  {
   "cell_type": "code",
   "execution_count": 365,
   "metadata": {},
   "outputs": [
    {
     "name": "stdout",
     "output_type": "stream",
     "text": [
      "Metrics for the test sample: \n",
      " \n",
      "              precision    recall  f1-score   support\n",
      "\n",
      "           0       0.87      0.88      0.87      1403\n",
      "           1       0.88      0.87      0.87      1402\n",
      "\n",
      "    accuracy                           0.87      2805\n",
      "   macro avg       0.87      0.87      0.87      2805\n",
      "weighted avg       0.87      0.87      0.87      2805\n",
      "\n"
     ]
    }
   ],
   "source": [
    "# Model with random under sampled data\n",
    "model_name = 'LogisticRegression / Random Under Sampled data'\n",
    "lr = linear_model.LogisticRegression(random_state=42, max_iter=1000)\n",
    "\n",
    "lr_model_u_sampled = lr.fit(X_train_u_sampled, y_train_u_sampled)\n",
    "y_train_pred = lr_model_u_sampled.predict(X_train_u_sampled)\n",
    "y_test_pred = lr_model_u_sampled.predict(X_test_u_sampled)\n",
    "\n",
    "print(f'Metrics for the test sample: \\n \\n{metrics.classification_report(y_test_u_sampled, y_test_pred)}')"
   ]
  },
  {
   "cell_type": "code",
   "execution_count": 366,
   "metadata": {},
   "outputs": [
    {
     "name": "stderr",
     "output_type": "stream",
     "text": [
      "/var/folders/q7/y12hg0bj54sg455fwlths6dw0000gp/T/ipykernel_35359/2868486197.py:29: FutureWarning: The frame.append method is deprecated and will be removed from pandas in a future version. Use pandas.concat instead.\n",
      "  model_evalution_df = model_evalution_df.append(model_evalution_dict, ignore_index=True)\n"
     ]
    },
    {
     "data": {
      "text/html": [
       "<div>\n",
       "<style scoped>\n",
       "    .dataframe tbody tr th:only-of-type {\n",
       "        vertical-align: middle;\n",
       "    }\n",
       "\n",
       "    .dataframe tbody tr th {\n",
       "        vertical-align: top;\n",
       "    }\n",
       "\n",
       "    .dataframe thead th {\n",
       "        text-align: right;\n",
       "    }\n",
       "</style>\n",
       "<table border=\"1\" class=\"dataframe\">\n",
       "  <thead>\n",
       "    <tr style=\"text-align: right;\">\n",
       "      <th></th>\n",
       "      <th>Model Name</th>\n",
       "      <th>Training Score</th>\n",
       "      <th>Testing Score</th>\n",
       "      <th>Accuracy</th>\n",
       "      <th>F1 Score</th>\n",
       "      <th>Precision</th>\n",
       "      <th>Recall</th>\n",
       "    </tr>\n",
       "  </thead>\n",
       "  <tbody>\n",
       "    <tr>\n",
       "      <th>0</th>\n",
       "      <td>LogisticRegression / Imbalanced data</td>\n",
       "      <td>0.969423</td>\n",
       "      <td>0.968484</td>\n",
       "      <td>0.968484</td>\n",
       "      <td>0.965576</td>\n",
       "      <td>0.812192</td>\n",
       "      <td>0.548441</td>\n",
       "    </tr>\n",
       "    <tr>\n",
       "      <th>1</th>\n",
       "      <td>Baseline - RandomForestClassifier / Imbalanced...</td>\n",
       "      <td>0.973288</td>\n",
       "      <td>0.970750</td>\n",
       "      <td>0.970750</td>\n",
       "      <td>0.967033</td>\n",
       "      <td>0.899570</td>\n",
       "      <td>0.521414</td>\n",
       "    </tr>\n",
       "    <tr>\n",
       "      <th>2</th>\n",
       "      <td>Stacking / Imbalanced data</td>\n",
       "      <td>0.980939</td>\n",
       "      <td>0.977592</td>\n",
       "      <td>0.977592</td>\n",
       "      <td>0.976290</td>\n",
       "      <td>0.876596</td>\n",
       "      <td>0.685239</td>\n",
       "    </tr>\n",
       "    <tr>\n",
       "      <th>3</th>\n",
       "      <td>Stacking-45features / Imbalanced data</td>\n",
       "      <td>0.508322</td>\n",
       "      <td>0.504883</td>\n",
       "      <td>0.979246</td>\n",
       "      <td>0.978226</td>\n",
       "      <td>0.881208</td>\n",
       "      <td>0.715593</td>\n",
       "    </tr>\n",
       "    <tr>\n",
       "      <th>4</th>\n",
       "      <td>Stacking-all_features / Imbalanced data</td>\n",
       "      <td>0.525547</td>\n",
       "      <td>0.521173</td>\n",
       "      <td>0.979700</td>\n",
       "      <td>0.978842</td>\n",
       "      <td>0.875186</td>\n",
       "      <td>0.731809</td>\n",
       "    </tr>\n",
       "    <tr>\n",
       "      <th>5</th>\n",
       "      <td>Random_forest/GridSearch_all_features / Imbala...</td>\n",
       "      <td>0.664349</td>\n",
       "      <td>0.453638</td>\n",
       "      <td>0.969028</td>\n",
       "      <td>0.963756</td>\n",
       "      <td>0.953671</td>\n",
       "      <td>0.453638</td>\n",
       "    </tr>\n",
       "    <tr>\n",
       "      <th>6</th>\n",
       "      <td>LogisticRegression / Random Under Sampled data</td>\n",
       "      <td>0.884492</td>\n",
       "      <td>0.872727</td>\n",
       "      <td>0.872727</td>\n",
       "      <td>0.872724</td>\n",
       "      <td>0.876170</td>\n",
       "      <td>0.868046</td>\n",
       "    </tr>\n",
       "  </tbody>\n",
       "</table>\n",
       "</div>"
      ],
      "text/plain": [
       "                                          Model Name  Training Score  \\\n",
       "0               LogisticRegression / Imbalanced data        0.969423   \n",
       "1  Baseline - RandomForestClassifier / Imbalanced...        0.973288   \n",
       "2                         Stacking / Imbalanced data        0.980939   \n",
       "3              Stacking-45features / Imbalanced data        0.508322   \n",
       "4            Stacking-all_features / Imbalanced data        0.525547   \n",
       "5  Random_forest/GridSearch_all_features / Imbala...        0.664349   \n",
       "6     LogisticRegression / Random Under Sampled data        0.884492   \n",
       "\n",
       "   Testing Score  Accuracy  F1 Score  Precision    Recall  \n",
       "0       0.968484  0.968484  0.965576   0.812192  0.548441  \n",
       "1       0.970750  0.970750  0.967033   0.899570  0.521414  \n",
       "2       0.977592  0.977592  0.976290   0.876596  0.685239  \n",
       "3       0.504883  0.979246  0.978226   0.881208  0.715593  \n",
       "4       0.521173  0.979700  0.978842   0.875186  0.731809  \n",
       "5       0.453638  0.969028  0.963756   0.953671  0.453638  \n",
       "6       0.872727  0.872727  0.872724   0.876170  0.868046  "
      ]
     },
     "execution_count": 366,
     "metadata": {},
     "output_type": "execute_result"
    }
   ],
   "source": [
    "# Adding baseline model evalution statistics\n",
    "model_evalution_df = add_model_evalution_stat(model_name, lr, X_train_u_sampled, X_test_u_sampled, y_train_u_sampled, y_test_u_sampled, y_train_pred, y_test_pred, model_evalution_df)\n",
    "model_evalution_df"
   ]
  },
  {
   "cell_type": "markdown",
   "metadata": {},
   "source": [
    "#### Random Over Sampling data"
   ]
  },
  {
   "cell_type": "code",
   "execution_count": 280,
   "metadata": {},
   "outputs": [
    {
     "data": {
      "text/plain": [
       "0    97376\n",
       "1    97376\n",
       "Name: fraud, dtype: int64"
      ]
     },
     "execution_count": 280,
     "metadata": {},
     "output_type": "execute_result"
    }
   ],
   "source": [
    "random_over_sampler = RandomOverSampler(random_state=42)\n",
    "X_ros, y_ros = random_over_sampler.fit_resample(X_train_scaled, y_train)\n",
    "\n",
    "y_ros.value_counts()"
   ]
  },
  {
   "cell_type": "code",
   "execution_count": 281,
   "metadata": {},
   "outputs": [
    {
     "data": {
      "text/plain": [
       "0    73032\n",
       "1    73032\n",
       "Name: fraud, dtype: int64"
      ]
     },
     "execution_count": 281,
     "metadata": {},
     "output_type": "execute_result"
    }
   ],
   "source": [
    "# Train-Test splitting\n",
    "X_train_o_sampled, X_test_o_sampled, y_train_o_sampled, y_test_o_sampled = train_test_split(X_ros, y_ros, test_size=0.25, random_state=42, stratify=y_ros)\n",
    "y_train_o_sampled.value_counts()"
   ]
  },
  {
   "cell_type": "code",
   "execution_count": 367,
   "metadata": {},
   "outputs": [
    {
     "name": "stdout",
     "output_type": "stream",
     "text": [
      "Metrics for the test sample: \n",
      " \n",
      "              precision    recall  f1-score   support\n",
      "\n",
      "           0       0.88      0.88      0.88     24344\n",
      "           1       0.88      0.88      0.88     24344\n",
      "\n",
      "    accuracy                           0.88     48688\n",
      "   macro avg       0.88      0.88      0.88     48688\n",
      "weighted avg       0.88      0.88      0.88     48688\n",
      "\n"
     ]
    }
   ],
   "source": [
    "# Model with random over sampled data\n",
    "model_name = 'LogisticRegression / Random Over Sampled data'\n",
    "lr = linear_model.LogisticRegression(random_state=42, max_iter=1000)\n",
    "\n",
    "lr_model_o_sampled = lr.fit(X_train_o_sampled, y_train_o_sampled)\n",
    "y_train_pred = lr_model_o_sampled.predict(X_train_o_sampled)\n",
    "y_test_pred = lr_model_o_sampled.predict(X_test_o_sampled)\n",
    "\n",
    "print(f'Metrics for the test sample: \\n \\n{metrics.classification_report(y_test_o_sampled, y_test_pred)}')"
   ]
  },
  {
   "cell_type": "code",
   "execution_count": 368,
   "metadata": {},
   "outputs": [
    {
     "name": "stderr",
     "output_type": "stream",
     "text": [
      "/var/folders/q7/y12hg0bj54sg455fwlths6dw0000gp/T/ipykernel_35359/2868486197.py:29: FutureWarning: The frame.append method is deprecated and will be removed from pandas in a future version. Use pandas.concat instead.\n",
      "  model_evalution_df = model_evalution_df.append(model_evalution_dict, ignore_index=True)\n"
     ]
    },
    {
     "data": {
      "text/html": [
       "<div>\n",
       "<style scoped>\n",
       "    .dataframe tbody tr th:only-of-type {\n",
       "        vertical-align: middle;\n",
       "    }\n",
       "\n",
       "    .dataframe tbody tr th {\n",
       "        vertical-align: top;\n",
       "    }\n",
       "\n",
       "    .dataframe thead th {\n",
       "        text-align: right;\n",
       "    }\n",
       "</style>\n",
       "<table border=\"1\" class=\"dataframe\">\n",
       "  <thead>\n",
       "    <tr style=\"text-align: right;\">\n",
       "      <th></th>\n",
       "      <th>Model Name</th>\n",
       "      <th>Training Score</th>\n",
       "      <th>Testing Score</th>\n",
       "      <th>Accuracy</th>\n",
       "      <th>F1 Score</th>\n",
       "      <th>Precision</th>\n",
       "      <th>Recall</th>\n",
       "    </tr>\n",
       "  </thead>\n",
       "  <tbody>\n",
       "    <tr>\n",
       "      <th>0</th>\n",
       "      <td>LogisticRegression / Imbalanced data</td>\n",
       "      <td>0.969423</td>\n",
       "      <td>0.968484</td>\n",
       "      <td>0.968484</td>\n",
       "      <td>0.965576</td>\n",
       "      <td>0.812192</td>\n",
       "      <td>0.548441</td>\n",
       "    </tr>\n",
       "    <tr>\n",
       "      <th>1</th>\n",
       "      <td>Baseline - RandomForestClassifier / Imbalanced...</td>\n",
       "      <td>0.973288</td>\n",
       "      <td>0.970750</td>\n",
       "      <td>0.970750</td>\n",
       "      <td>0.967033</td>\n",
       "      <td>0.899570</td>\n",
       "      <td>0.521414</td>\n",
       "    </tr>\n",
       "    <tr>\n",
       "      <th>2</th>\n",
       "      <td>Stacking / Imbalanced data</td>\n",
       "      <td>0.980939</td>\n",
       "      <td>0.977592</td>\n",
       "      <td>0.977592</td>\n",
       "      <td>0.976290</td>\n",
       "      <td>0.876596</td>\n",
       "      <td>0.685239</td>\n",
       "    </tr>\n",
       "    <tr>\n",
       "      <th>3</th>\n",
       "      <td>Stacking-45features / Imbalanced data</td>\n",
       "      <td>0.508322</td>\n",
       "      <td>0.504883</td>\n",
       "      <td>0.979246</td>\n",
       "      <td>0.978226</td>\n",
       "      <td>0.881208</td>\n",
       "      <td>0.715593</td>\n",
       "    </tr>\n",
       "    <tr>\n",
       "      <th>4</th>\n",
       "      <td>Stacking-all_features / Imbalanced data</td>\n",
       "      <td>0.525547</td>\n",
       "      <td>0.521173</td>\n",
       "      <td>0.979700</td>\n",
       "      <td>0.978842</td>\n",
       "      <td>0.875186</td>\n",
       "      <td>0.731809</td>\n",
       "    </tr>\n",
       "    <tr>\n",
       "      <th>5</th>\n",
       "      <td>Random_forest/GridSearch_all_features / Imbala...</td>\n",
       "      <td>0.664349</td>\n",
       "      <td>0.453638</td>\n",
       "      <td>0.969028</td>\n",
       "      <td>0.963756</td>\n",
       "      <td>0.953671</td>\n",
       "      <td>0.453638</td>\n",
       "    </tr>\n",
       "    <tr>\n",
       "      <th>6</th>\n",
       "      <td>LogisticRegression / Random Under Sampled data</td>\n",
       "      <td>0.884492</td>\n",
       "      <td>0.872727</td>\n",
       "      <td>0.872727</td>\n",
       "      <td>0.872724</td>\n",
       "      <td>0.876170</td>\n",
       "      <td>0.868046</td>\n",
       "    </tr>\n",
       "    <tr>\n",
       "      <th>7</th>\n",
       "      <td>LogisticRegression / Random Over Sampled data</td>\n",
       "      <td>0.883325</td>\n",
       "      <td>0.884345</td>\n",
       "      <td>0.884345</td>\n",
       "      <td>0.884345</td>\n",
       "      <td>0.884298</td>\n",
       "      <td>0.884407</td>\n",
       "    </tr>\n",
       "  </tbody>\n",
       "</table>\n",
       "</div>"
      ],
      "text/plain": [
       "                                          Model Name  Training Score  \\\n",
       "0               LogisticRegression / Imbalanced data        0.969423   \n",
       "1  Baseline - RandomForestClassifier / Imbalanced...        0.973288   \n",
       "2                         Stacking / Imbalanced data        0.980939   \n",
       "3              Stacking-45features / Imbalanced data        0.508322   \n",
       "4            Stacking-all_features / Imbalanced data        0.525547   \n",
       "5  Random_forest/GridSearch_all_features / Imbala...        0.664349   \n",
       "6     LogisticRegression / Random Under Sampled data        0.884492   \n",
       "7      LogisticRegression / Random Over Sampled data        0.883325   \n",
       "\n",
       "   Testing Score  Accuracy  F1 Score  Precision    Recall  \n",
       "0       0.968484  0.968484  0.965576   0.812192  0.548441  \n",
       "1       0.970750  0.970750  0.967033   0.899570  0.521414  \n",
       "2       0.977592  0.977592  0.976290   0.876596  0.685239  \n",
       "3       0.504883  0.979246  0.978226   0.881208  0.715593  \n",
       "4       0.521173  0.979700  0.978842   0.875186  0.731809  \n",
       "5       0.453638  0.969028  0.963756   0.953671  0.453638  \n",
       "6       0.872727  0.872727  0.872724   0.876170  0.868046  \n",
       "7       0.884345  0.884345  0.884345   0.884298  0.884407  "
      ]
     },
     "execution_count": 368,
     "metadata": {},
     "output_type": "execute_result"
    }
   ],
   "source": [
    "# Adding baseline model evalution statistics\n",
    "model_evalution_df = add_model_evalution_stat(model_name, lr, X_train_o_sampled, X_test_o_sampled, y_train_o_sampled, y_test_o_sampled, y_train_pred, y_test_pred, model_evalution_df)\n",
    "model_evalution_df"
   ]
  },
  {
   "cell_type": "markdown",
   "metadata": {},
   "source": [
    "#### SMOTE Over Sampling data"
   ]
  },
  {
   "cell_type": "code",
   "execution_count": 285,
   "metadata": {},
   "outputs": [
    {
     "data": {
      "text/plain": [
       "0    97376\n",
       "1    97376\n",
       "Name: fraud, dtype: int64"
      ]
     },
     "execution_count": 285,
     "metadata": {},
     "output_type": "execute_result"
    }
   ],
   "source": [
    "smote_sampler = SMOTE(random_state=42)\n",
    "X_sm, y_sm = smote_sampler.fit_resample(X_train_scaled.astype('float'), y_train)\n",
    "\n",
    "y_sm.value_counts()"
   ]
  },
  {
   "cell_type": "code",
   "execution_count": 287,
   "metadata": {},
   "outputs": [
    {
     "data": {
      "text/plain": [
       "0    73032\n",
       "1    73032\n",
       "Name: fraud, dtype: int64"
      ]
     },
     "execution_count": 287,
     "metadata": {},
     "output_type": "execute_result"
    }
   ],
   "source": [
    "X_train_s_sampled, X_test_s_sampled, y_train_s_sampled, y_test_s_sampled = train_test_split(X_sm, y_sm, test_size=0.25, random_state=42, stratify=y_sm)\n",
    "y_train_s_sampled.value_counts()"
   ]
  },
  {
   "cell_type": "code",
   "execution_count": 369,
   "metadata": {},
   "outputs": [
    {
     "name": "stdout",
     "output_type": "stream",
     "text": [
      "Metrics for the test sample: \n",
      " \n",
      "              precision    recall  f1-score   support\n",
      "\n",
      "           0       0.90      0.90      0.90     24344\n",
      "           1       0.90      0.90      0.90     24344\n",
      "\n",
      "    accuracy                           0.90     48688\n",
      "   macro avg       0.90      0.90      0.90     48688\n",
      "weighted avg       0.90      0.90      0.90     48688\n",
      "\n"
     ]
    }
   ],
   "source": [
    "# Model with SMOTE over sampled data\n",
    "model_name = 'LogisticRegression / SMOTE Over Sampled data'\n",
    "lr = linear_model.LogisticRegression(random_state=42, max_iter=1000)\n",
    "\n",
    "lr_model_s_sampled = lr.fit(X_train_s_sampled, y_train_s_sampled)\n",
    "y_train_pred = lr_model_s_sampled.predict(X_train_s_sampled)\n",
    "y_test_pred = lr_model_s_sampled.predict(X_test_s_sampled)\n",
    "\n",
    "print(f'Metrics for the test sample: \\n \\n{metrics.classification_report(y_test_s_sampled, y_test_pred)}')"
   ]
  },
  {
   "cell_type": "code",
   "execution_count": 370,
   "metadata": {},
   "outputs": [
    {
     "name": "stderr",
     "output_type": "stream",
     "text": [
      "/var/folders/q7/y12hg0bj54sg455fwlths6dw0000gp/T/ipykernel_35359/2868486197.py:29: FutureWarning: The frame.append method is deprecated and will be removed from pandas in a future version. Use pandas.concat instead.\n",
      "  model_evalution_df = model_evalution_df.append(model_evalution_dict, ignore_index=True)\n"
     ]
    },
    {
     "data": {
      "text/html": [
       "<div>\n",
       "<style scoped>\n",
       "    .dataframe tbody tr th:only-of-type {\n",
       "        vertical-align: middle;\n",
       "    }\n",
       "\n",
       "    .dataframe tbody tr th {\n",
       "        vertical-align: top;\n",
       "    }\n",
       "\n",
       "    .dataframe thead th {\n",
       "        text-align: right;\n",
       "    }\n",
       "</style>\n",
       "<table border=\"1\" class=\"dataframe\">\n",
       "  <thead>\n",
       "    <tr style=\"text-align: right;\">\n",
       "      <th></th>\n",
       "      <th>Model Name</th>\n",
       "      <th>Training Score</th>\n",
       "      <th>Testing Score</th>\n",
       "      <th>Accuracy</th>\n",
       "      <th>F1 Score</th>\n",
       "      <th>Precision</th>\n",
       "      <th>Recall</th>\n",
       "    </tr>\n",
       "  </thead>\n",
       "  <tbody>\n",
       "    <tr>\n",
       "      <th>0</th>\n",
       "      <td>LogisticRegression / Imbalanced data</td>\n",
       "      <td>0.969423</td>\n",
       "      <td>0.968484</td>\n",
       "      <td>0.968484</td>\n",
       "      <td>0.965576</td>\n",
       "      <td>0.812192</td>\n",
       "      <td>0.548441</td>\n",
       "    </tr>\n",
       "    <tr>\n",
       "      <th>1</th>\n",
       "      <td>Baseline - RandomForestClassifier / Imbalanced...</td>\n",
       "      <td>0.973288</td>\n",
       "      <td>0.970750</td>\n",
       "      <td>0.970750</td>\n",
       "      <td>0.967033</td>\n",
       "      <td>0.899570</td>\n",
       "      <td>0.521414</td>\n",
       "    </tr>\n",
       "    <tr>\n",
       "      <th>2</th>\n",
       "      <td>Stacking / Imbalanced data</td>\n",
       "      <td>0.980939</td>\n",
       "      <td>0.977592</td>\n",
       "      <td>0.977592</td>\n",
       "      <td>0.976290</td>\n",
       "      <td>0.876596</td>\n",
       "      <td>0.685239</td>\n",
       "    </tr>\n",
       "    <tr>\n",
       "      <th>3</th>\n",
       "      <td>Stacking-45features / Imbalanced data</td>\n",
       "      <td>0.508322</td>\n",
       "      <td>0.504883</td>\n",
       "      <td>0.979246</td>\n",
       "      <td>0.978226</td>\n",
       "      <td>0.881208</td>\n",
       "      <td>0.715593</td>\n",
       "    </tr>\n",
       "    <tr>\n",
       "      <th>4</th>\n",
       "      <td>Stacking-all_features / Imbalanced data</td>\n",
       "      <td>0.525547</td>\n",
       "      <td>0.521173</td>\n",
       "      <td>0.979700</td>\n",
       "      <td>0.978842</td>\n",
       "      <td>0.875186</td>\n",
       "      <td>0.731809</td>\n",
       "    </tr>\n",
       "    <tr>\n",
       "      <th>5</th>\n",
       "      <td>Random_forest/GridSearch_all_features / Imbala...</td>\n",
       "      <td>0.664349</td>\n",
       "      <td>0.453638</td>\n",
       "      <td>0.969028</td>\n",
       "      <td>0.963756</td>\n",
       "      <td>0.953671</td>\n",
       "      <td>0.453638</td>\n",
       "    </tr>\n",
       "    <tr>\n",
       "      <th>6</th>\n",
       "      <td>LogisticRegression / Random Under Sampled data</td>\n",
       "      <td>0.884492</td>\n",
       "      <td>0.872727</td>\n",
       "      <td>0.872727</td>\n",
       "      <td>0.872724</td>\n",
       "      <td>0.876170</td>\n",
       "      <td>0.868046</td>\n",
       "    </tr>\n",
       "    <tr>\n",
       "      <th>7</th>\n",
       "      <td>LogisticRegression / Random Over Sampled data</td>\n",
       "      <td>0.883325</td>\n",
       "      <td>0.884345</td>\n",
       "      <td>0.884345</td>\n",
       "      <td>0.884345</td>\n",
       "      <td>0.884298</td>\n",
       "      <td>0.884407</td>\n",
       "    </tr>\n",
       "    <tr>\n",
       "      <th>8</th>\n",
       "      <td>LogisticRegression / SMOTE Over Sampled data</td>\n",
       "      <td>0.901201</td>\n",
       "      <td>0.900058</td>\n",
       "      <td>0.900058</td>\n",
       "      <td>0.900057</td>\n",
       "      <td>0.898063</td>\n",
       "      <td>0.902563</td>\n",
       "    </tr>\n",
       "  </tbody>\n",
       "</table>\n",
       "</div>"
      ],
      "text/plain": [
       "                                          Model Name  Training Score  \\\n",
       "0               LogisticRegression / Imbalanced data        0.969423   \n",
       "1  Baseline - RandomForestClassifier / Imbalanced...        0.973288   \n",
       "2                         Stacking / Imbalanced data        0.980939   \n",
       "3              Stacking-45features / Imbalanced data        0.508322   \n",
       "4            Stacking-all_features / Imbalanced data        0.525547   \n",
       "5  Random_forest/GridSearch_all_features / Imbala...        0.664349   \n",
       "6     LogisticRegression / Random Under Sampled data        0.884492   \n",
       "7      LogisticRegression / Random Over Sampled data        0.883325   \n",
       "8       LogisticRegression / SMOTE Over Sampled data        0.901201   \n",
       "\n",
       "   Testing Score  Accuracy  F1 Score  Precision    Recall  \n",
       "0       0.968484  0.968484  0.965576   0.812192  0.548441  \n",
       "1       0.970750  0.970750  0.967033   0.899570  0.521414  \n",
       "2       0.977592  0.977592  0.976290   0.876596  0.685239  \n",
       "3       0.504883  0.979246  0.978226   0.881208  0.715593  \n",
       "4       0.521173  0.979700  0.978842   0.875186  0.731809  \n",
       "5       0.453638  0.969028  0.963756   0.953671  0.453638  \n",
       "6       0.872727  0.872727  0.872724   0.876170  0.868046  \n",
       "7       0.884345  0.884345  0.884345   0.884298  0.884407  \n",
       "8       0.900058  0.900058  0.900057   0.898063  0.902563  "
      ]
     },
     "execution_count": 370,
     "metadata": {},
     "output_type": "execute_result"
    }
   ],
   "source": [
    "# Adding baseline model evalution statistics\n",
    "model_evalution_df = add_model_evalution_stat(model_name, lr, X_train_s_sampled, X_test_s_sampled, y_train_s_sampled, y_test_s_sampled, y_train_pred, y_test_pred, model_evalution_df)\n",
    "model_evalution_df"
   ]
  },
  {
   "cell_type": "markdown",
   "metadata": {},
   "source": [
    "#### Random Under Sampling data with optimized parameters"
   ]
  },
  {
   "cell_type": "code",
   "execution_count": 371,
   "metadata": {},
   "outputs": [
    {
     "name": "stderr",
     "output_type": "stream",
     "text": [
      "/Users/admin/opt/anaconda3/lib/python3.9/site-packages/sklearn/linear_model/_logistic.py:1483: UserWarning: Setting penalty='none' will ignore the C and l1_ratio parameters\n",
      "  warnings.warn(\n",
      "/Users/admin/opt/anaconda3/lib/python3.9/site-packages/sklearn/linear_model/_logistic.py:1483: UserWarning: Setting penalty='none' will ignore the C and l1_ratio parameters\n",
      "  warnings.warn(\n",
      "/Users/admin/opt/anaconda3/lib/python3.9/site-packages/sklearn/linear_model/_logistic.py:1483: UserWarning: Setting penalty='none' will ignore the C and l1_ratio parameters\n",
      "  warnings.warn(\n",
      "/Users/admin/opt/anaconda3/lib/python3.9/site-packages/sklearn/linear_model/_logistic.py:1483: UserWarning: Setting penalty='none' will ignore the C and l1_ratio parameters\n",
      "  warnings.warn(\n",
      "/Users/admin/opt/anaconda3/lib/python3.9/site-packages/sklearn/linear_model/_logistic.py:1483: UserWarning: Setting penalty='none' will ignore the C and l1_ratio parameters\n",
      "  warnings.warn(\n",
      "/Users/admin/opt/anaconda3/lib/python3.9/site-packages/sklearn/linear_model/_logistic.py:1483: UserWarning: Setting penalty='none' will ignore the C and l1_ratio parameters\n",
      "  warnings.warn(\n",
      "/Users/admin/opt/anaconda3/lib/python3.9/site-packages/sklearn/linear_model/_logistic.py:1483: UserWarning: Setting penalty='none' will ignore the C and l1_ratio parameters\n",
      "  warnings.warn(\n",
      "/Users/admin/opt/anaconda3/lib/python3.9/site-packages/sklearn/linear_model/_logistic.py:1483: UserWarning: Setting penalty='none' will ignore the C and l1_ratio parameters\n",
      "  warnings.warn(\n",
      "/Users/admin/opt/anaconda3/lib/python3.9/site-packages/sklearn/linear_model/_logistic.py:1483: UserWarning: Setting penalty='none' will ignore the C and l1_ratio parameters\n",
      "  warnings.warn(\n",
      "/Users/admin/opt/anaconda3/lib/python3.9/site-packages/sklearn/linear_model/_logistic.py:1483: UserWarning: Setting penalty='none' will ignore the C and l1_ratio parameters\n",
      "  warnings.warn(\n",
      "/Users/admin/opt/anaconda3/lib/python3.9/site-packages/sklearn/linear_model/_logistic.py:1483: UserWarning: Setting penalty='none' will ignore the C and l1_ratio parameters\n",
      "  warnings.warn(\n",
      "/Users/admin/opt/anaconda3/lib/python3.9/site-packages/sklearn/linear_model/_logistic.py:1483: UserWarning: Setting penalty='none' will ignore the C and l1_ratio parameters\n",
      "  warnings.warn(\n",
      "/Users/admin/opt/anaconda3/lib/python3.9/site-packages/sklearn/linear_model/_logistic.py:1483: UserWarning: Setting penalty='none' will ignore the C and l1_ratio parameters\n",
      "  warnings.warn(\n",
      "/Users/admin/opt/anaconda3/lib/python3.9/site-packages/sklearn/linear_model/_logistic.py:1483: UserWarning: Setting penalty='none' will ignore the C and l1_ratio parameters\n",
      "  warnings.warn(\n",
      "/Users/admin/opt/anaconda3/lib/python3.9/site-packages/sklearn/linear_model/_logistic.py:1483: UserWarning: Setting penalty='none' will ignore the C and l1_ratio parameters\n",
      "  warnings.warn(\n",
      "/Users/admin/opt/anaconda3/lib/python3.9/site-packages/sklearn/linear_model/_logistic.py:1483: UserWarning: Setting penalty='none' will ignore the C and l1_ratio parameters\n",
      "  warnings.warn(\n",
      "/Users/admin/opt/anaconda3/lib/python3.9/site-packages/sklearn/linear_model/_logistic.py:1483: UserWarning: Setting penalty='none' will ignore the C and l1_ratio parameters\n",
      "  warnings.warn(\n",
      "/Users/admin/opt/anaconda3/lib/python3.9/site-packages/sklearn/linear_model/_logistic.py:1483: UserWarning: Setting penalty='none' will ignore the C and l1_ratio parameters\n",
      "  warnings.warn(\n",
      "/Users/admin/opt/anaconda3/lib/python3.9/site-packages/sklearn/linear_model/_logistic.py:1483: UserWarning: Setting penalty='none' will ignore the C and l1_ratio parameters\n",
      "  warnings.warn(\n",
      "/Users/admin/opt/anaconda3/lib/python3.9/site-packages/sklearn/linear_model/_logistic.py:1483: UserWarning: Setting penalty='none' will ignore the C and l1_ratio parameters\n",
      "  warnings.warn(\n",
      "/Users/admin/opt/anaconda3/lib/python3.9/site-packages/sklearn/linear_model/_logistic.py:1483: UserWarning: Setting penalty='none' will ignore the C and l1_ratio parameters\n",
      "  warnings.warn(\n",
      "/Users/admin/opt/anaconda3/lib/python3.9/site-packages/sklearn/linear_model/_logistic.py:1483: UserWarning: Setting penalty='none' will ignore the C and l1_ratio parameters\n",
      "  warnings.warn(\n",
      "/Users/admin/opt/anaconda3/lib/python3.9/site-packages/sklearn/linear_model/_logistic.py:1483: UserWarning: Setting penalty='none' will ignore the C and l1_ratio parameters\n",
      "  warnings.warn(\n",
      "/Users/admin/opt/anaconda3/lib/python3.9/site-packages/sklearn/linear_model/_logistic.py:1483: UserWarning: Setting penalty='none' will ignore the C and l1_ratio parameters\n",
      "  warnings.warn(\n",
      "/Users/admin/opt/anaconda3/lib/python3.9/site-packages/sklearn/linear_model/_logistic.py:1483: UserWarning: Setting penalty='none' will ignore the C and l1_ratio parameters\n",
      "  warnings.warn(\n",
      "/Users/admin/opt/anaconda3/lib/python3.9/site-packages/sklearn/linear_model/_logistic.py:1483: UserWarning: Setting penalty='none' will ignore the C and l1_ratio parameters\n",
      "  warnings.warn(\n",
      "/Users/admin/opt/anaconda3/lib/python3.9/site-packages/sklearn/linear_model/_logistic.py:1483: UserWarning: Setting penalty='none' will ignore the C and l1_ratio parameters\n",
      "  warnings.warn(\n",
      "/Users/admin/opt/anaconda3/lib/python3.9/site-packages/sklearn/linear_model/_logistic.py:1483: UserWarning: Setting penalty='none' will ignore the C and l1_ratio parameters\n",
      "  warnings.warn(\n",
      "/Users/admin/opt/anaconda3/lib/python3.9/site-packages/sklearn/linear_model/_logistic.py:1483: UserWarning: Setting penalty='none' will ignore the C and l1_ratio parameters\n",
      "  warnings.warn(\n",
      "/Users/admin/opt/anaconda3/lib/python3.9/site-packages/sklearn/linear_model/_logistic.py:1483: UserWarning: Setting penalty='none' will ignore the C and l1_ratio parameters\n",
      "  warnings.warn(\n",
      "/Users/admin/opt/anaconda3/lib/python3.9/site-packages/sklearn/linear_model/_logistic.py:1483: UserWarning: Setting penalty='none' will ignore the C and l1_ratio parameters\n",
      "  warnings.warn(\n",
      "/Users/admin/opt/anaconda3/lib/python3.9/site-packages/sklearn/linear_model/_logistic.py:1483: UserWarning: Setting penalty='none' will ignore the C and l1_ratio parameters\n",
      "  warnings.warn(\n",
      "/Users/admin/opt/anaconda3/lib/python3.9/site-packages/sklearn/linear_model/_logistic.py:1483: UserWarning: Setting penalty='none' will ignore the C and l1_ratio parameters\n",
      "  warnings.warn(\n",
      "/Users/admin/opt/anaconda3/lib/python3.9/site-packages/sklearn/linear_model/_logistic.py:1483: UserWarning: Setting penalty='none' will ignore the C and l1_ratio parameters\n",
      "  warnings.warn(\n",
      "/Users/admin/opt/anaconda3/lib/python3.9/site-packages/sklearn/linear_model/_logistic.py:1483: UserWarning: Setting penalty='none' will ignore the C and l1_ratio parameters\n",
      "  warnings.warn(\n",
      "/Users/admin/opt/anaconda3/lib/python3.9/site-packages/sklearn/linear_model/_logistic.py:1483: UserWarning: Setting penalty='none' will ignore the C and l1_ratio parameters\n",
      "  warnings.warn(\n",
      "/Users/admin/opt/anaconda3/lib/python3.9/site-packages/sklearn/linear_model/_logistic.py:1483: UserWarning: Setting penalty='none' will ignore the C and l1_ratio parameters\n",
      "  warnings.warn(\n",
      "/Users/admin/opt/anaconda3/lib/python3.9/site-packages/sklearn/linear_model/_logistic.py:1483: UserWarning: Setting penalty='none' will ignore the C and l1_ratio parameters\n",
      "  warnings.warn(\n",
      "/Users/admin/opt/anaconda3/lib/python3.9/site-packages/sklearn/linear_model/_logistic.py:1483: UserWarning: Setting penalty='none' will ignore the C and l1_ratio parameters\n",
      "  warnings.warn(\n",
      "/Users/admin/opt/anaconda3/lib/python3.9/site-packages/sklearn/linear_model/_logistic.py:1483: UserWarning: Setting penalty='none' will ignore the C and l1_ratio parameters\n",
      "  warnings.warn(\n",
      "/Users/admin/opt/anaconda3/lib/python3.9/site-packages/sklearn/linear_model/_logistic.py:1483: UserWarning: Setting penalty='none' will ignore the C and l1_ratio parameters\n",
      "  warnings.warn(\n",
      "/Users/admin/opt/anaconda3/lib/python3.9/site-packages/sklearn/linear_model/_logistic.py:1483: UserWarning: Setting penalty='none' will ignore the C and l1_ratio parameters\n",
      "  warnings.warn(\n",
      "/Users/admin/opt/anaconda3/lib/python3.9/site-packages/sklearn/linear_model/_logistic.py:1483: UserWarning: Setting penalty='none' will ignore the C and l1_ratio parameters\n",
      "  warnings.warn(\n",
      "/Users/admin/opt/anaconda3/lib/python3.9/site-packages/sklearn/linear_model/_logistic.py:1483: UserWarning: Setting penalty='none' will ignore the C and l1_ratio parameters\n",
      "  warnings.warn(\n",
      "/Users/admin/opt/anaconda3/lib/python3.9/site-packages/sklearn/linear_model/_logistic.py:1483: UserWarning: Setting penalty='none' will ignore the C and l1_ratio parameters\n",
      "  warnings.warn(\n",
      "/Users/admin/opt/anaconda3/lib/python3.9/site-packages/sklearn/linear_model/_logistic.py:1483: UserWarning: Setting penalty='none' will ignore the C and l1_ratio parameters\n",
      "  warnings.warn(\n",
      "/Users/admin/opt/anaconda3/lib/python3.9/site-packages/sklearn/linear_model/_logistic.py:1483: UserWarning: Setting penalty='none' will ignore the C and l1_ratio parameters\n",
      "  warnings.warn(\n",
      "/Users/admin/opt/anaconda3/lib/python3.9/site-packages/sklearn/linear_model/_logistic.py:1483: UserWarning: Setting penalty='none' will ignore the C and l1_ratio parameters\n",
      "  warnings.warn(\n",
      "/Users/admin/opt/anaconda3/lib/python3.9/site-packages/sklearn/linear_model/_logistic.py:1483: UserWarning: Setting penalty='none' will ignore the C and l1_ratio parameters\n",
      "  warnings.warn(\n",
      "/Users/admin/opt/anaconda3/lib/python3.9/site-packages/sklearn/linear_model/_logistic.py:1483: UserWarning: Setting penalty='none' will ignore the C and l1_ratio parameters\n",
      "  warnings.warn(\n",
      "/Users/admin/opt/anaconda3/lib/python3.9/site-packages/sklearn/linear_model/_logistic.py:1483: UserWarning: Setting penalty='none' will ignore the C and l1_ratio parameters\n",
      "  warnings.warn(\n",
      "/Users/admin/opt/anaconda3/lib/python3.9/site-packages/sklearn/linear_model/_logistic.py:1483: UserWarning: Setting penalty='none' will ignore the C and l1_ratio parameters\n",
      "  warnings.warn(\n",
      "/Users/admin/opt/anaconda3/lib/python3.9/site-packages/sklearn/linear_model/_logistic.py:1483: UserWarning: Setting penalty='none' will ignore the C and l1_ratio parameters\n",
      "  warnings.warn(\n",
      "/Users/admin/opt/anaconda3/lib/python3.9/site-packages/sklearn/linear_model/_logistic.py:1483: UserWarning: Setting penalty='none' will ignore the C and l1_ratio parameters\n",
      "  warnings.warn(\n",
      "/Users/admin/opt/anaconda3/lib/python3.9/site-packages/sklearn/linear_model/_logistic.py:1483: UserWarning: Setting penalty='none' will ignore the C and l1_ratio parameters\n",
      "  warnings.warn(\n",
      "/Users/admin/opt/anaconda3/lib/python3.9/site-packages/sklearn/linear_model/_logistic.py:1483: UserWarning: Setting penalty='none' will ignore the C and l1_ratio parameters\n",
      "  warnings.warn(\n",
      "/Users/admin/opt/anaconda3/lib/python3.9/site-packages/sklearn/linear_model/_logistic.py:1483: UserWarning: Setting penalty='none' will ignore the C and l1_ratio parameters\n",
      "  warnings.warn(\n",
      "/Users/admin/opt/anaconda3/lib/python3.9/site-packages/sklearn/linear_model/_logistic.py:1483: UserWarning: Setting penalty='none' will ignore the C and l1_ratio parameters\n",
      "  warnings.warn(\n",
      "/Users/admin/opt/anaconda3/lib/python3.9/site-packages/sklearn/linear_model/_logistic.py:1483: UserWarning: Setting penalty='none' will ignore the C and l1_ratio parameters\n",
      "  warnings.warn(\n",
      "/Users/admin/opt/anaconda3/lib/python3.9/site-packages/sklearn/linear_model/_logistic.py:1483: UserWarning: Setting penalty='none' will ignore the C and l1_ratio parameters\n",
      "  warnings.warn(\n"
     ]
    },
    {
     "name": "stdout",
     "output_type": "stream",
     "text": [
      "Metrics for the test sample: \n",
      " \n",
      "              precision    recall  f1-score   support\n",
      "\n",
      "           0       0.87      0.87      0.87      1403\n",
      "           1       0.87      0.87      0.87      1402\n",
      "\n",
      "    accuracy                           0.87      2805\n",
      "   macro avg       0.87      0.87      0.87      2805\n",
      "weighted avg       0.87      0.87      0.87      2805\n",
      "\n"
     ]
    }
   ],
   "source": [
    "# Preparing Grid Search \n",
    "param_grid = [\n",
    "              {'penalty': ['l2', 'none'], \n",
    "              'solver': ['lbfgs', 'sag'],\n",
    "               'C': [0.01, 0.1, 0.3, 0.5, 0.7, 0.9, 1]},\n",
    "              \n",
    "              {'penalty': ['l1', 'l2'] ,\n",
    "              'solver': ['liblinear', 'saga'],\n",
    "               'C': [0.01, 0.1, 0.3, 0.5, 0.7, 0.9, 1]}\n",
    "]\n",
    "\n",
    "grid_search_lr = GridSearchCV(\n",
    "    estimator=linear_model.LogisticRegression(random_state=42, max_iter=1000), \n",
    "    param_grid=param_grid, \n",
    "    cv=5, \n",
    "    n_jobs=-1,\n",
    "    scoring='recall'\n",
    ")\n",
    "\n",
    "model_name = 'Tuned LogisticRegression / Random Under Sampled data'\n",
    "best_params_lr = grid_search_lr.fit(X_train_u_sampled, y_train_u_sampled)\n",
    "\n",
    "y_train_pred = best_params_lr.best_estimator_.predict(X_train_u_sampled)\n",
    "y_test_pred = best_params_lr.best_estimator_.predict(X_test_u_sampled)\n",
    "\n",
    "print(f'Metrics for the test sample: \\n \\n{metrics.classification_report(y_test_u_sampled, y_test_pred)}')"
   ]
  },
  {
   "cell_type": "code",
   "execution_count": 375,
   "metadata": {},
   "outputs": [
    {
     "name": "stderr",
     "output_type": "stream",
     "text": [
      "/var/folders/q7/y12hg0bj54sg455fwlths6dw0000gp/T/ipykernel_35359/2868486197.py:29: FutureWarning: The frame.append method is deprecated and will be removed from pandas in a future version. Use pandas.concat instead.\n",
      "  model_evalution_df = model_evalution_df.append(model_evalution_dict, ignore_index=True)\n"
     ]
    },
    {
     "data": {
      "text/html": [
       "<div>\n",
       "<style scoped>\n",
       "    .dataframe tbody tr th:only-of-type {\n",
       "        vertical-align: middle;\n",
       "    }\n",
       "\n",
       "    .dataframe tbody tr th {\n",
       "        vertical-align: top;\n",
       "    }\n",
       "\n",
       "    .dataframe thead th {\n",
       "        text-align: right;\n",
       "    }\n",
       "</style>\n",
       "<table border=\"1\" class=\"dataframe\">\n",
       "  <thead>\n",
       "    <tr style=\"text-align: right;\">\n",
       "      <th></th>\n",
       "      <th>Model Name</th>\n",
       "      <th>Training Score</th>\n",
       "      <th>Testing Score</th>\n",
       "      <th>Accuracy</th>\n",
       "      <th>F1 Score</th>\n",
       "      <th>Precision</th>\n",
       "      <th>Recall</th>\n",
       "    </tr>\n",
       "  </thead>\n",
       "  <tbody>\n",
       "    <tr>\n",
       "      <th>0</th>\n",
       "      <td>LogisticRegression / Imbalanced data</td>\n",
       "      <td>0.969423</td>\n",
       "      <td>0.968484</td>\n",
       "      <td>0.968484</td>\n",
       "      <td>0.965576</td>\n",
       "      <td>0.812192</td>\n",
       "      <td>0.548441</td>\n",
       "    </tr>\n",
       "    <tr>\n",
       "      <th>1</th>\n",
       "      <td>Baseline - RandomForestClassifier / Imbalanced...</td>\n",
       "      <td>0.973288</td>\n",
       "      <td>0.970750</td>\n",
       "      <td>0.970750</td>\n",
       "      <td>0.967033</td>\n",
       "      <td>0.899570</td>\n",
       "      <td>0.521414</td>\n",
       "    </tr>\n",
       "    <tr>\n",
       "      <th>2</th>\n",
       "      <td>Stacking / Imbalanced data</td>\n",
       "      <td>0.980939</td>\n",
       "      <td>0.977592</td>\n",
       "      <td>0.977592</td>\n",
       "      <td>0.976290</td>\n",
       "      <td>0.876596</td>\n",
       "      <td>0.685239</td>\n",
       "    </tr>\n",
       "    <tr>\n",
       "      <th>3</th>\n",
       "      <td>Stacking-45features / Imbalanced data</td>\n",
       "      <td>0.508322</td>\n",
       "      <td>0.504883</td>\n",
       "      <td>0.979246</td>\n",
       "      <td>0.978226</td>\n",
       "      <td>0.881208</td>\n",
       "      <td>0.715593</td>\n",
       "    </tr>\n",
       "    <tr>\n",
       "      <th>4</th>\n",
       "      <td>Stacking-all_features / Imbalanced data</td>\n",
       "      <td>0.525547</td>\n",
       "      <td>0.521173</td>\n",
       "      <td>0.979700</td>\n",
       "      <td>0.978842</td>\n",
       "      <td>0.875186</td>\n",
       "      <td>0.731809</td>\n",
       "    </tr>\n",
       "    <tr>\n",
       "      <th>5</th>\n",
       "      <td>Random_forest/GridSearch_all_features / Imbala...</td>\n",
       "      <td>0.664349</td>\n",
       "      <td>0.453638</td>\n",
       "      <td>0.969028</td>\n",
       "      <td>0.963756</td>\n",
       "      <td>0.953671</td>\n",
       "      <td>0.453638</td>\n",
       "    </tr>\n",
       "    <tr>\n",
       "      <th>6</th>\n",
       "      <td>LogisticRegression / Random Under Sampled data</td>\n",
       "      <td>0.884492</td>\n",
       "      <td>0.872727</td>\n",
       "      <td>0.872727</td>\n",
       "      <td>0.872724</td>\n",
       "      <td>0.876170</td>\n",
       "      <td>0.868046</td>\n",
       "    </tr>\n",
       "    <tr>\n",
       "      <th>7</th>\n",
       "      <td>LogisticRegression / Random Over Sampled data</td>\n",
       "      <td>0.883325</td>\n",
       "      <td>0.884345</td>\n",
       "      <td>0.884345</td>\n",
       "      <td>0.884345</td>\n",
       "      <td>0.884298</td>\n",
       "      <td>0.884407</td>\n",
       "    </tr>\n",
       "    <tr>\n",
       "      <th>8</th>\n",
       "      <td>LogisticRegression / SMOTE Over Sampled data</td>\n",
       "      <td>0.901201</td>\n",
       "      <td>0.900058</td>\n",
       "      <td>0.900058</td>\n",
       "      <td>0.900057</td>\n",
       "      <td>0.898063</td>\n",
       "      <td>0.902563</td>\n",
       "    </tr>\n",
       "    <tr>\n",
       "      <th>9</th>\n",
       "      <td>Tuned LogisticRegression / Random Under Sample...</td>\n",
       "      <td>0.883541</td>\n",
       "      <td>0.871658</td>\n",
       "      <td>0.871658</td>\n",
       "      <td>0.871657</td>\n",
       "      <td>0.873745</td>\n",
       "      <td>0.868759</td>\n",
       "    </tr>\n",
       "  </tbody>\n",
       "</table>\n",
       "</div>"
      ],
      "text/plain": [
       "                                          Model Name  Training Score  \\\n",
       "0               LogisticRegression / Imbalanced data        0.969423   \n",
       "1  Baseline - RandomForestClassifier / Imbalanced...        0.973288   \n",
       "2                         Stacking / Imbalanced data        0.980939   \n",
       "3              Stacking-45features / Imbalanced data        0.508322   \n",
       "4            Stacking-all_features / Imbalanced data        0.525547   \n",
       "5  Random_forest/GridSearch_all_features / Imbala...        0.664349   \n",
       "6     LogisticRegression / Random Under Sampled data        0.884492   \n",
       "7      LogisticRegression / Random Over Sampled data        0.883325   \n",
       "8       LogisticRegression / SMOTE Over Sampled data        0.901201   \n",
       "9  Tuned LogisticRegression / Random Under Sample...        0.883541   \n",
       "\n",
       "   Testing Score  Accuracy  F1 Score  Precision    Recall  \n",
       "0       0.968484  0.968484  0.965576   0.812192  0.548441  \n",
       "1       0.970750  0.970750  0.967033   0.899570  0.521414  \n",
       "2       0.977592  0.977592  0.976290   0.876596  0.685239  \n",
       "3       0.504883  0.979246  0.978226   0.881208  0.715593  \n",
       "4       0.521173  0.979700  0.978842   0.875186  0.731809  \n",
       "5       0.453638  0.969028  0.963756   0.953671  0.453638  \n",
       "6       0.872727  0.872727  0.872724   0.876170  0.868046  \n",
       "7       0.884345  0.884345  0.884345   0.884298  0.884407  \n",
       "8       0.900058  0.900058  0.900057   0.898063  0.902563  \n",
       "9       0.871658  0.871658  0.871657   0.873745  0.868759  "
      ]
     },
     "execution_count": 375,
     "metadata": {},
     "output_type": "execute_result"
    }
   ],
   "source": [
    "# Adding baseline model evalution statistics\n",
    "model_evalution_df = add_model_evalution_stat(model_name, best_params_lr.best_estimator_, X_train_u_sampled, X_test_u_sampled, y_train_u_sampled, y_test_u_sampled, y_train_pred, y_test_pred, model_evalution_df)\n",
    "model_evalution_df"
   ]
  },
  {
   "cell_type": "markdown",
   "metadata": {},
   "source": [
    "#### Decision Tree - Random Under Sampling data"
   ]
  },
  {
   "cell_type": "code",
   "execution_count": 376,
   "metadata": {},
   "outputs": [
    {
     "name": "stdout",
     "output_type": "stream",
     "text": [
      "Metrics for the test sample: \n",
      " \n",
      "              precision    recall  f1-score   support\n",
      "\n",
      "           0       0.85      0.89      0.87      1403\n",
      "           1       0.89      0.84      0.86      1402\n",
      "\n",
      "    accuracy                           0.87      2805\n",
      "   macro avg       0.87      0.87      0.87      2805\n",
      "weighted avg       0.87      0.87      0.87      2805\n",
      "\n"
     ]
    }
   ],
   "source": [
    "# Decision Tree model with Random Under Sampled data\n",
    "model_name = 'DecisionTreeClassifier / Random Under Sampled data'\n",
    "dt = tree.DecisionTreeClassifier(\n",
    "    max_depth=10,\n",
    "    random_state=42\n",
    ")\n",
    "\n",
    "dt_model_u_sampled = dt.fit(X_train_u_sampled, y_train_u_sampled)\n",
    "y_train_pred = dt_model_u_sampled.predict(X_train_u_sampled)\n",
    "y_test_pred = dt_model_u_sampled.predict(X_test_u_sampled)\n",
    "\n",
    "print(f'Metrics for the test sample: \\n \\n{metrics.classification_report(y_test_u_sampled, y_test_pred)}')"
   ]
  },
  {
   "cell_type": "code",
   "execution_count": 377,
   "metadata": {},
   "outputs": [
    {
     "name": "stderr",
     "output_type": "stream",
     "text": [
      "/var/folders/q7/y12hg0bj54sg455fwlths6dw0000gp/T/ipykernel_35359/2868486197.py:29: FutureWarning: The frame.append method is deprecated and will be removed from pandas in a future version. Use pandas.concat instead.\n",
      "  model_evalution_df = model_evalution_df.append(model_evalution_dict, ignore_index=True)\n"
     ]
    },
    {
     "data": {
      "text/html": [
       "<div>\n",
       "<style scoped>\n",
       "    .dataframe tbody tr th:only-of-type {\n",
       "        vertical-align: middle;\n",
       "    }\n",
       "\n",
       "    .dataframe tbody tr th {\n",
       "        vertical-align: top;\n",
       "    }\n",
       "\n",
       "    .dataframe thead th {\n",
       "        text-align: right;\n",
       "    }\n",
       "</style>\n",
       "<table border=\"1\" class=\"dataframe\">\n",
       "  <thead>\n",
       "    <tr style=\"text-align: right;\">\n",
       "      <th></th>\n",
       "      <th>Model Name</th>\n",
       "      <th>Training Score</th>\n",
       "      <th>Testing Score</th>\n",
       "      <th>Accuracy</th>\n",
       "      <th>F1 Score</th>\n",
       "      <th>Precision</th>\n",
       "      <th>Recall</th>\n",
       "    </tr>\n",
       "  </thead>\n",
       "  <tbody>\n",
       "    <tr>\n",
       "      <th>0</th>\n",
       "      <td>LogisticRegression / Imbalanced data</td>\n",
       "      <td>0.969423</td>\n",
       "      <td>0.968484</td>\n",
       "      <td>0.968484</td>\n",
       "      <td>0.965576</td>\n",
       "      <td>0.812192</td>\n",
       "      <td>0.548441</td>\n",
       "    </tr>\n",
       "    <tr>\n",
       "      <th>1</th>\n",
       "      <td>Baseline - RandomForestClassifier / Imbalanced...</td>\n",
       "      <td>0.973288</td>\n",
       "      <td>0.970750</td>\n",
       "      <td>0.970750</td>\n",
       "      <td>0.967033</td>\n",
       "      <td>0.899570</td>\n",
       "      <td>0.521414</td>\n",
       "    </tr>\n",
       "    <tr>\n",
       "      <th>2</th>\n",
       "      <td>Stacking / Imbalanced data</td>\n",
       "      <td>0.980939</td>\n",
       "      <td>0.977592</td>\n",
       "      <td>0.977592</td>\n",
       "      <td>0.976290</td>\n",
       "      <td>0.876596</td>\n",
       "      <td>0.685239</td>\n",
       "    </tr>\n",
       "    <tr>\n",
       "      <th>3</th>\n",
       "      <td>Stacking-45features / Imbalanced data</td>\n",
       "      <td>0.508322</td>\n",
       "      <td>0.504883</td>\n",
       "      <td>0.979246</td>\n",
       "      <td>0.978226</td>\n",
       "      <td>0.881208</td>\n",
       "      <td>0.715593</td>\n",
       "    </tr>\n",
       "    <tr>\n",
       "      <th>4</th>\n",
       "      <td>Stacking-all_features / Imbalanced data</td>\n",
       "      <td>0.525547</td>\n",
       "      <td>0.521173</td>\n",
       "      <td>0.979700</td>\n",
       "      <td>0.978842</td>\n",
       "      <td>0.875186</td>\n",
       "      <td>0.731809</td>\n",
       "    </tr>\n",
       "    <tr>\n",
       "      <th>5</th>\n",
       "      <td>Random_forest/GridSearch_all_features / Imbala...</td>\n",
       "      <td>0.664349</td>\n",
       "      <td>0.453638</td>\n",
       "      <td>0.969028</td>\n",
       "      <td>0.963756</td>\n",
       "      <td>0.953671</td>\n",
       "      <td>0.453638</td>\n",
       "    </tr>\n",
       "    <tr>\n",
       "      <th>6</th>\n",
       "      <td>LogisticRegression / Random Under Sampled data</td>\n",
       "      <td>0.884492</td>\n",
       "      <td>0.872727</td>\n",
       "      <td>0.872727</td>\n",
       "      <td>0.872724</td>\n",
       "      <td>0.876170</td>\n",
       "      <td>0.868046</td>\n",
       "    </tr>\n",
       "    <tr>\n",
       "      <th>7</th>\n",
       "      <td>LogisticRegression / Random Over Sampled data</td>\n",
       "      <td>0.883325</td>\n",
       "      <td>0.884345</td>\n",
       "      <td>0.884345</td>\n",
       "      <td>0.884345</td>\n",
       "      <td>0.884298</td>\n",
       "      <td>0.884407</td>\n",
       "    </tr>\n",
       "    <tr>\n",
       "      <th>8</th>\n",
       "      <td>LogisticRegression / SMOTE Over Sampled data</td>\n",
       "      <td>0.901201</td>\n",
       "      <td>0.900058</td>\n",
       "      <td>0.900058</td>\n",
       "      <td>0.900057</td>\n",
       "      <td>0.898063</td>\n",
       "      <td>0.902563</td>\n",
       "    </tr>\n",
       "    <tr>\n",
       "      <th>9</th>\n",
       "      <td>Tuned LogisticRegression / Random Under Sample...</td>\n",
       "      <td>0.883541</td>\n",
       "      <td>0.871658</td>\n",
       "      <td>0.871658</td>\n",
       "      <td>0.871657</td>\n",
       "      <td>0.873745</td>\n",
       "      <td>0.868759</td>\n",
       "    </tr>\n",
       "    <tr>\n",
       "      <th>10</th>\n",
       "      <td>DecisionTreeClassifier / Random Under Sampled ...</td>\n",
       "      <td>0.932620</td>\n",
       "      <td>0.867736</td>\n",
       "      <td>0.867736</td>\n",
       "      <td>0.867664</td>\n",
       "      <td>0.885565</td>\n",
       "      <td>0.844508</td>\n",
       "    </tr>\n",
       "  </tbody>\n",
       "</table>\n",
       "</div>"
      ],
      "text/plain": [
       "                                           Model Name  Training Score  \\\n",
       "0                LogisticRegression / Imbalanced data        0.969423   \n",
       "1   Baseline - RandomForestClassifier / Imbalanced...        0.973288   \n",
       "2                          Stacking / Imbalanced data        0.980939   \n",
       "3               Stacking-45features / Imbalanced data        0.508322   \n",
       "4             Stacking-all_features / Imbalanced data        0.525547   \n",
       "5   Random_forest/GridSearch_all_features / Imbala...        0.664349   \n",
       "6      LogisticRegression / Random Under Sampled data        0.884492   \n",
       "7       LogisticRegression / Random Over Sampled data        0.883325   \n",
       "8        LogisticRegression / SMOTE Over Sampled data        0.901201   \n",
       "9   Tuned LogisticRegression / Random Under Sample...        0.883541   \n",
       "10  DecisionTreeClassifier / Random Under Sampled ...        0.932620   \n",
       "\n",
       "    Testing Score  Accuracy  F1 Score  Precision    Recall  \n",
       "0        0.968484  0.968484  0.965576   0.812192  0.548441  \n",
       "1        0.970750  0.970750  0.967033   0.899570  0.521414  \n",
       "2        0.977592  0.977592  0.976290   0.876596  0.685239  \n",
       "3        0.504883  0.979246  0.978226   0.881208  0.715593  \n",
       "4        0.521173  0.979700  0.978842   0.875186  0.731809  \n",
       "5        0.453638  0.969028  0.963756   0.953671  0.453638  \n",
       "6        0.872727  0.872727  0.872724   0.876170  0.868046  \n",
       "7        0.884345  0.884345  0.884345   0.884298  0.884407  \n",
       "8        0.900058  0.900058  0.900057   0.898063  0.902563  \n",
       "9        0.871658  0.871658  0.871657   0.873745  0.868759  \n",
       "10       0.867736  0.867736  0.867664   0.885565  0.844508  "
      ]
     },
     "execution_count": 377,
     "metadata": {},
     "output_type": "execute_result"
    }
   ],
   "source": [
    "# Adding baseline model evalution statistics\n",
    "model_evalution_df = add_model_evalution_stat(model_name, dt, X_train_u_sampled, X_test_u_sampled, y_train_u_sampled, y_test_u_sampled, y_train_pred, y_test_pred, model_evalution_df)\n",
    "model_evalution_df"
   ]
  },
  {
   "cell_type": "markdown",
   "metadata": {},
   "source": [
    "#### Decision Tree - Random Over Sampling data"
   ]
  },
  {
   "cell_type": "code",
   "execution_count": 378,
   "metadata": {},
   "outputs": [
    {
     "name": "stdout",
     "output_type": "stream",
     "text": [
      "Metrics for the test sample: \n",
      " \n",
      "              precision    recall  f1-score   support\n",
      "\n",
      "           0       0.90      0.92      0.91     24344\n",
      "           1       0.92      0.90      0.91     24344\n",
      "\n",
      "    accuracy                           0.91     48688\n",
      "   macro avg       0.91      0.91      0.91     48688\n",
      "weighted avg       0.91      0.91      0.91     48688\n",
      "\n"
     ]
    }
   ],
   "source": [
    "# Decision Tree model with Random Over Sampled data\n",
    "model_name = 'DecisionTreeClassifier / Random Over Sampled data'\n",
    "dt = tree.DecisionTreeClassifier(\n",
    "    max_depth=10,\n",
    "    random_state=42\n",
    ")\n",
    "\n",
    "dt_model_o_sampled = dt.fit(X_train_o_sampled, y_train_o_sampled)\n",
    "y_train_pred = dt_model_o_sampled.predict(X_train_o_sampled)\n",
    "y_test_pred = dt_model_o_sampled.predict(X_test_o_sampled)\n",
    "\n",
    "print(f'Metrics for the test sample: \\n \\n{metrics.classification_report(y_test_o_sampled, y_test_pred)}')"
   ]
  },
  {
   "cell_type": "code",
   "execution_count": 379,
   "metadata": {},
   "outputs": [
    {
     "name": "stderr",
     "output_type": "stream",
     "text": [
      "/var/folders/q7/y12hg0bj54sg455fwlths6dw0000gp/T/ipykernel_35359/2868486197.py:29: FutureWarning: The frame.append method is deprecated and will be removed from pandas in a future version. Use pandas.concat instead.\n",
      "  model_evalution_df = model_evalution_df.append(model_evalution_dict, ignore_index=True)\n"
     ]
    },
    {
     "data": {
      "text/html": [
       "<div>\n",
       "<style scoped>\n",
       "    .dataframe tbody tr th:only-of-type {\n",
       "        vertical-align: middle;\n",
       "    }\n",
       "\n",
       "    .dataframe tbody tr th {\n",
       "        vertical-align: top;\n",
       "    }\n",
       "\n",
       "    .dataframe thead th {\n",
       "        text-align: right;\n",
       "    }\n",
       "</style>\n",
       "<table border=\"1\" class=\"dataframe\">\n",
       "  <thead>\n",
       "    <tr style=\"text-align: right;\">\n",
       "      <th></th>\n",
       "      <th>Model Name</th>\n",
       "      <th>Training Score</th>\n",
       "      <th>Testing Score</th>\n",
       "      <th>Accuracy</th>\n",
       "      <th>F1 Score</th>\n",
       "      <th>Precision</th>\n",
       "      <th>Recall</th>\n",
       "    </tr>\n",
       "  </thead>\n",
       "  <tbody>\n",
       "    <tr>\n",
       "      <th>0</th>\n",
       "      <td>LogisticRegression / Imbalanced data</td>\n",
       "      <td>0.969423</td>\n",
       "      <td>0.968484</td>\n",
       "      <td>0.968484</td>\n",
       "      <td>0.965576</td>\n",
       "      <td>0.812192</td>\n",
       "      <td>0.548441</td>\n",
       "    </tr>\n",
       "    <tr>\n",
       "      <th>1</th>\n",
       "      <td>Baseline - RandomForestClassifier / Imbalanced...</td>\n",
       "      <td>0.973288</td>\n",
       "      <td>0.970750</td>\n",
       "      <td>0.970750</td>\n",
       "      <td>0.967033</td>\n",
       "      <td>0.899570</td>\n",
       "      <td>0.521414</td>\n",
       "    </tr>\n",
       "    <tr>\n",
       "      <th>2</th>\n",
       "      <td>Stacking / Imbalanced data</td>\n",
       "      <td>0.980939</td>\n",
       "      <td>0.977592</td>\n",
       "      <td>0.977592</td>\n",
       "      <td>0.976290</td>\n",
       "      <td>0.876596</td>\n",
       "      <td>0.685239</td>\n",
       "    </tr>\n",
       "    <tr>\n",
       "      <th>3</th>\n",
       "      <td>Stacking-45features / Imbalanced data</td>\n",
       "      <td>0.508322</td>\n",
       "      <td>0.504883</td>\n",
       "      <td>0.979246</td>\n",
       "      <td>0.978226</td>\n",
       "      <td>0.881208</td>\n",
       "      <td>0.715593</td>\n",
       "    </tr>\n",
       "    <tr>\n",
       "      <th>4</th>\n",
       "      <td>Stacking-all_features / Imbalanced data</td>\n",
       "      <td>0.525547</td>\n",
       "      <td>0.521173</td>\n",
       "      <td>0.979700</td>\n",
       "      <td>0.978842</td>\n",
       "      <td>0.875186</td>\n",
       "      <td>0.731809</td>\n",
       "    </tr>\n",
       "    <tr>\n",
       "      <th>5</th>\n",
       "      <td>Random_forest/GridSearch_all_features / Imbala...</td>\n",
       "      <td>0.664349</td>\n",
       "      <td>0.453638</td>\n",
       "      <td>0.969028</td>\n",
       "      <td>0.963756</td>\n",
       "      <td>0.953671</td>\n",
       "      <td>0.453638</td>\n",
       "    </tr>\n",
       "    <tr>\n",
       "      <th>6</th>\n",
       "      <td>LogisticRegression / Random Under Sampled data</td>\n",
       "      <td>0.884492</td>\n",
       "      <td>0.872727</td>\n",
       "      <td>0.872727</td>\n",
       "      <td>0.872724</td>\n",
       "      <td>0.876170</td>\n",
       "      <td>0.868046</td>\n",
       "    </tr>\n",
       "    <tr>\n",
       "      <th>7</th>\n",
       "      <td>LogisticRegression / Random Over Sampled data</td>\n",
       "      <td>0.883325</td>\n",
       "      <td>0.884345</td>\n",
       "      <td>0.884345</td>\n",
       "      <td>0.884345</td>\n",
       "      <td>0.884298</td>\n",
       "      <td>0.884407</td>\n",
       "    </tr>\n",
       "    <tr>\n",
       "      <th>8</th>\n",
       "      <td>LogisticRegression / SMOTE Over Sampled data</td>\n",
       "      <td>0.901201</td>\n",
       "      <td>0.900058</td>\n",
       "      <td>0.900058</td>\n",
       "      <td>0.900057</td>\n",
       "      <td>0.898063</td>\n",
       "      <td>0.902563</td>\n",
       "    </tr>\n",
       "    <tr>\n",
       "      <th>9</th>\n",
       "      <td>Tuned LogisticRegression / Random Under Sample...</td>\n",
       "      <td>0.883541</td>\n",
       "      <td>0.871658</td>\n",
       "      <td>0.871658</td>\n",
       "      <td>0.871657</td>\n",
       "      <td>0.873745</td>\n",
       "      <td>0.868759</td>\n",
       "    </tr>\n",
       "    <tr>\n",
       "      <th>10</th>\n",
       "      <td>DecisionTreeClassifier / Random Under Sampled ...</td>\n",
       "      <td>0.932620</td>\n",
       "      <td>0.867736</td>\n",
       "      <td>0.867736</td>\n",
       "      <td>0.867664</td>\n",
       "      <td>0.885565</td>\n",
       "      <td>0.844508</td>\n",
       "    </tr>\n",
       "    <tr>\n",
       "      <th>11</th>\n",
       "      <td>DecisionTreeClassifier / Random Over Sampled data</td>\n",
       "      <td>0.910327</td>\n",
       "      <td>0.908458</td>\n",
       "      <td>0.908458</td>\n",
       "      <td>0.908447</td>\n",
       "      <td>0.917566</td>\n",
       "      <td>0.897552</td>\n",
       "    </tr>\n",
       "  </tbody>\n",
       "</table>\n",
       "</div>"
      ],
      "text/plain": [
       "                                           Model Name  Training Score  \\\n",
       "0                LogisticRegression / Imbalanced data        0.969423   \n",
       "1   Baseline - RandomForestClassifier / Imbalanced...        0.973288   \n",
       "2                          Stacking / Imbalanced data        0.980939   \n",
       "3               Stacking-45features / Imbalanced data        0.508322   \n",
       "4             Stacking-all_features / Imbalanced data        0.525547   \n",
       "5   Random_forest/GridSearch_all_features / Imbala...        0.664349   \n",
       "6      LogisticRegression / Random Under Sampled data        0.884492   \n",
       "7       LogisticRegression / Random Over Sampled data        0.883325   \n",
       "8        LogisticRegression / SMOTE Over Sampled data        0.901201   \n",
       "9   Tuned LogisticRegression / Random Under Sample...        0.883541   \n",
       "10  DecisionTreeClassifier / Random Under Sampled ...        0.932620   \n",
       "11  DecisionTreeClassifier / Random Over Sampled data        0.910327   \n",
       "\n",
       "    Testing Score  Accuracy  F1 Score  Precision    Recall  \n",
       "0        0.968484  0.968484  0.965576   0.812192  0.548441  \n",
       "1        0.970750  0.970750  0.967033   0.899570  0.521414  \n",
       "2        0.977592  0.977592  0.976290   0.876596  0.685239  \n",
       "3        0.504883  0.979246  0.978226   0.881208  0.715593  \n",
       "4        0.521173  0.979700  0.978842   0.875186  0.731809  \n",
       "5        0.453638  0.969028  0.963756   0.953671  0.453638  \n",
       "6        0.872727  0.872727  0.872724   0.876170  0.868046  \n",
       "7        0.884345  0.884345  0.884345   0.884298  0.884407  \n",
       "8        0.900058  0.900058  0.900057   0.898063  0.902563  \n",
       "9        0.871658  0.871658  0.871657   0.873745  0.868759  \n",
       "10       0.867736  0.867736  0.867664   0.885565  0.844508  \n",
       "11       0.908458  0.908458  0.908447   0.917566  0.897552  "
      ]
     },
     "execution_count": 379,
     "metadata": {},
     "output_type": "execute_result"
    }
   ],
   "source": [
    "# Adding baseline model evalution statistics\n",
    "model_evalution_df = add_model_evalution_stat(model_name, dt, X_train_o_sampled, X_test_o_sampled, y_train_o_sampled, y_test_o_sampled, y_train_pred, y_test_pred, model_evalution_df)\n",
    "model_evalution_df"
   ]
  },
  {
   "cell_type": "markdown",
   "metadata": {},
   "source": [
    "#### Decision Tree - SMOTE Over Sampling data"
   ]
  },
  {
   "cell_type": "code",
   "execution_count": 382,
   "metadata": {},
   "outputs": [
    {
     "name": "stdout",
     "output_type": "stream",
     "text": [
      "Metrics for the test sample: \n",
      " \n",
      "              precision    recall  f1-score   support\n",
      "\n",
      "           0       0.93      0.95      0.94     24344\n",
      "           1       0.95      0.93      0.94     24344\n",
      "\n",
      "    accuracy                           0.94     48688\n",
      "   macro avg       0.94      0.94      0.94     48688\n",
      "weighted avg       0.94      0.94      0.94     48688\n",
      "\n"
     ]
    }
   ],
   "source": [
    "# Decision Tree model with SMOTE Over Sampled data\n",
    "model_name = 'DecisionTreeClassifier / SMOTE Over Sampled data'\n",
    "dt = tree.DecisionTreeClassifier(\n",
    "    max_depth=10,\n",
    "    random_state=42\n",
    ")\n",
    "\n",
    "dt_model_s_sampled = dt.fit(X_train_s_sampled, y_train_s_sampled)\n",
    "y_train_pred = dt_model_s_sampled.predict(X_train_s_sampled)\n",
    "y_test_pred = dt_model_s_sampled.predict(X_test_s_sampled)\n",
    "\n",
    "print(f'Metrics for the test sample: \\n \\n{metrics.classification_report(y_test_s_sampled, y_test_pred)}')"
   ]
  },
  {
   "cell_type": "code",
   "execution_count": 383,
   "metadata": {},
   "outputs": [
    {
     "name": "stderr",
     "output_type": "stream",
     "text": [
      "/var/folders/q7/y12hg0bj54sg455fwlths6dw0000gp/T/ipykernel_35359/2868486197.py:29: FutureWarning: The frame.append method is deprecated and will be removed from pandas in a future version. Use pandas.concat instead.\n",
      "  model_evalution_df = model_evalution_df.append(model_evalution_dict, ignore_index=True)\n"
     ]
    },
    {
     "data": {
      "text/html": [
       "<div>\n",
       "<style scoped>\n",
       "    .dataframe tbody tr th:only-of-type {\n",
       "        vertical-align: middle;\n",
       "    }\n",
       "\n",
       "    .dataframe tbody tr th {\n",
       "        vertical-align: top;\n",
       "    }\n",
       "\n",
       "    .dataframe thead th {\n",
       "        text-align: right;\n",
       "    }\n",
       "</style>\n",
       "<table border=\"1\" class=\"dataframe\">\n",
       "  <thead>\n",
       "    <tr style=\"text-align: right;\">\n",
       "      <th></th>\n",
       "      <th>Model Name</th>\n",
       "      <th>Training Score</th>\n",
       "      <th>Testing Score</th>\n",
       "      <th>Accuracy</th>\n",
       "      <th>F1 Score</th>\n",
       "      <th>Precision</th>\n",
       "      <th>Recall</th>\n",
       "    </tr>\n",
       "  </thead>\n",
       "  <tbody>\n",
       "    <tr>\n",
       "      <th>0</th>\n",
       "      <td>LogisticRegression / Imbalanced data</td>\n",
       "      <td>0.969423</td>\n",
       "      <td>0.968484</td>\n",
       "      <td>0.968484</td>\n",
       "      <td>0.965576</td>\n",
       "      <td>0.812192</td>\n",
       "      <td>0.548441</td>\n",
       "    </tr>\n",
       "    <tr>\n",
       "      <th>1</th>\n",
       "      <td>Baseline - RandomForestClassifier / Imbalanced...</td>\n",
       "      <td>0.973288</td>\n",
       "      <td>0.970750</td>\n",
       "      <td>0.970750</td>\n",
       "      <td>0.967033</td>\n",
       "      <td>0.899570</td>\n",
       "      <td>0.521414</td>\n",
       "    </tr>\n",
       "    <tr>\n",
       "      <th>2</th>\n",
       "      <td>Stacking / Imbalanced data</td>\n",
       "      <td>0.980939</td>\n",
       "      <td>0.977592</td>\n",
       "      <td>0.977592</td>\n",
       "      <td>0.976290</td>\n",
       "      <td>0.876596</td>\n",
       "      <td>0.685239</td>\n",
       "    </tr>\n",
       "    <tr>\n",
       "      <th>3</th>\n",
       "      <td>Stacking-45features / Imbalanced data</td>\n",
       "      <td>0.508322</td>\n",
       "      <td>0.504883</td>\n",
       "      <td>0.979246</td>\n",
       "      <td>0.978226</td>\n",
       "      <td>0.881208</td>\n",
       "      <td>0.715593</td>\n",
       "    </tr>\n",
       "    <tr>\n",
       "      <th>4</th>\n",
       "      <td>Stacking-all_features / Imbalanced data</td>\n",
       "      <td>0.525547</td>\n",
       "      <td>0.521173</td>\n",
       "      <td>0.979700</td>\n",
       "      <td>0.978842</td>\n",
       "      <td>0.875186</td>\n",
       "      <td>0.731809</td>\n",
       "    </tr>\n",
       "    <tr>\n",
       "      <th>5</th>\n",
       "      <td>Random_forest/GridSearch_all_features / Imbala...</td>\n",
       "      <td>0.664349</td>\n",
       "      <td>0.453638</td>\n",
       "      <td>0.969028</td>\n",
       "      <td>0.963756</td>\n",
       "      <td>0.953671</td>\n",
       "      <td>0.453638</td>\n",
       "    </tr>\n",
       "    <tr>\n",
       "      <th>6</th>\n",
       "      <td>LogisticRegression / Random Under Sampled data</td>\n",
       "      <td>0.884492</td>\n",
       "      <td>0.872727</td>\n",
       "      <td>0.872727</td>\n",
       "      <td>0.872724</td>\n",
       "      <td>0.876170</td>\n",
       "      <td>0.868046</td>\n",
       "    </tr>\n",
       "    <tr>\n",
       "      <th>7</th>\n",
       "      <td>LogisticRegression / Random Over Sampled data</td>\n",
       "      <td>0.883325</td>\n",
       "      <td>0.884345</td>\n",
       "      <td>0.884345</td>\n",
       "      <td>0.884345</td>\n",
       "      <td>0.884298</td>\n",
       "      <td>0.884407</td>\n",
       "    </tr>\n",
       "    <tr>\n",
       "      <th>8</th>\n",
       "      <td>LogisticRegression / SMOTE Over Sampled data</td>\n",
       "      <td>0.901201</td>\n",
       "      <td>0.900058</td>\n",
       "      <td>0.900058</td>\n",
       "      <td>0.900057</td>\n",
       "      <td>0.898063</td>\n",
       "      <td>0.902563</td>\n",
       "    </tr>\n",
       "    <tr>\n",
       "      <th>9</th>\n",
       "      <td>Tuned LogisticRegression / Random Under Sample...</td>\n",
       "      <td>0.883541</td>\n",
       "      <td>0.871658</td>\n",
       "      <td>0.871658</td>\n",
       "      <td>0.871657</td>\n",
       "      <td>0.873745</td>\n",
       "      <td>0.868759</td>\n",
       "    </tr>\n",
       "    <tr>\n",
       "      <th>10</th>\n",
       "      <td>DecisionTreeClassifier / Random Under Sampled ...</td>\n",
       "      <td>0.932620</td>\n",
       "      <td>0.867736</td>\n",
       "      <td>0.867736</td>\n",
       "      <td>0.867664</td>\n",
       "      <td>0.885565</td>\n",
       "      <td>0.844508</td>\n",
       "    </tr>\n",
       "    <tr>\n",
       "      <th>11</th>\n",
       "      <td>DecisionTreeClassifier / Random Over Sampled data</td>\n",
       "      <td>0.910327</td>\n",
       "      <td>0.908458</td>\n",
       "      <td>0.908458</td>\n",
       "      <td>0.908447</td>\n",
       "      <td>0.917566</td>\n",
       "      <td>0.897552</td>\n",
       "    </tr>\n",
       "    <tr>\n",
       "      <th>12</th>\n",
       "      <td>DecisionTreeClassifier / SMOTE Over Sampled data</td>\n",
       "      <td>0.945428</td>\n",
       "      <td>0.939513</td>\n",
       "      <td>0.939513</td>\n",
       "      <td>0.939507</td>\n",
       "      <td>0.948447</td>\n",
       "      <td>0.929551</td>\n",
       "    </tr>\n",
       "  </tbody>\n",
       "</table>\n",
       "</div>"
      ],
      "text/plain": [
       "                                           Model Name  Training Score  \\\n",
       "0                LogisticRegression / Imbalanced data        0.969423   \n",
       "1   Baseline - RandomForestClassifier / Imbalanced...        0.973288   \n",
       "2                          Stacking / Imbalanced data        0.980939   \n",
       "3               Stacking-45features / Imbalanced data        0.508322   \n",
       "4             Stacking-all_features / Imbalanced data        0.525547   \n",
       "5   Random_forest/GridSearch_all_features / Imbala...        0.664349   \n",
       "6      LogisticRegression / Random Under Sampled data        0.884492   \n",
       "7       LogisticRegression / Random Over Sampled data        0.883325   \n",
       "8        LogisticRegression / SMOTE Over Sampled data        0.901201   \n",
       "9   Tuned LogisticRegression / Random Under Sample...        0.883541   \n",
       "10  DecisionTreeClassifier / Random Under Sampled ...        0.932620   \n",
       "11  DecisionTreeClassifier / Random Over Sampled data        0.910327   \n",
       "12   DecisionTreeClassifier / SMOTE Over Sampled data        0.945428   \n",
       "\n",
       "    Testing Score  Accuracy  F1 Score  Precision    Recall  \n",
       "0        0.968484  0.968484  0.965576   0.812192  0.548441  \n",
       "1        0.970750  0.970750  0.967033   0.899570  0.521414  \n",
       "2        0.977592  0.977592  0.976290   0.876596  0.685239  \n",
       "3        0.504883  0.979246  0.978226   0.881208  0.715593  \n",
       "4        0.521173  0.979700  0.978842   0.875186  0.731809  \n",
       "5        0.453638  0.969028  0.963756   0.953671  0.453638  \n",
       "6        0.872727  0.872727  0.872724   0.876170  0.868046  \n",
       "7        0.884345  0.884345  0.884345   0.884298  0.884407  \n",
       "8        0.900058  0.900058  0.900057   0.898063  0.902563  \n",
       "9        0.871658  0.871658  0.871657   0.873745  0.868759  \n",
       "10       0.867736  0.867736  0.867664   0.885565  0.844508  \n",
       "11       0.908458  0.908458  0.908447   0.917566  0.897552  \n",
       "12       0.939513  0.939513  0.939507   0.948447  0.929551  "
      ]
     },
     "execution_count": 383,
     "metadata": {},
     "output_type": "execute_result"
    }
   ],
   "source": [
    "# Adding baseline model evalution statistics\n",
    "model_evalution_df = add_model_evalution_stat(model_name, dt, X_train_s_sampled, X_test_s_sampled, y_train_s_sampled, y_test_s_sampled, y_train_pred, y_test_pred, model_evalution_df)\n",
    "model_evalution_df"
   ]
  },
  {
   "cell_type": "markdown",
   "metadata": {},
   "source": [
    "#### Decision Tree - Imbala Random Under sampled data - Optimized Hyperparameters"
   ]
  },
  {
   "cell_type": "code",
   "execution_count": 384,
   "metadata": {},
   "outputs": [
    {
     "data": {
      "text/plain": [
       "DecisionTreeClassifier(max_depth=4, min_samples_leaf=2, random_state=42)"
      ]
     },
     "execution_count": 384,
     "metadata": {},
     "output_type": "execute_result"
    }
   ],
   "source": [
    "# Max depth of tree\n",
    "max_depth = list(np.linspace(start=4, stop=20, num=5, dtype=int))\n",
    "# Number of samples to split a node\n",
    "min_samples_split = list(np.linspace(start=2, stop=12, num=6, dtype=int))\n",
    "# Number of samplet at leaf node\n",
    "min_samples_leaf = list(np.linspace(start=2, stop=12, num=6, dtype=int))\n",
    "# Type of criterion\n",
    "criterion = ['gini', 'entropy']\n",
    "\n",
    "# Preparing Grid Search\n",
    "param_grid = {\n",
    "    'max_depth':max_depth,\n",
    "    'min_samples_leaf':min_samples_leaf,\n",
    "    'min_samples_split':min_samples_split,\n",
    "    'criterion':criterion\n",
    "}\n",
    "\n",
    "grid_search_tree = GridSearchCV(\n",
    "    estimator=tree.DecisionTreeClassifier(random_state=42), \n",
    "    param_grid=param_grid, \n",
    "    cv=5, \n",
    "    n_jobs=-1,\n",
    "    scoring='recall'\n",
    ")\n",
    "\n",
    "model_name = 'Tuned DecisionTreeClassifier / Random Under sampled data'\n",
    "best_params_dt = grid_search_tree.fit(X_train_u_sampled, y_train_u_sampled)\n",
    "\n",
    "y_train_pred = best_params_dt.best_estimator_.predict(X_train_u_sampled)\n",
    "y_test_pred = best_params_dt.best_estimator_.predict(X_test_u_sampled)\n",
    "best_params_dt.best_estimator_"
   ]
  },
  {
   "cell_type": "code",
   "execution_count": 385,
   "metadata": {},
   "outputs": [
    {
     "name": "stdout",
     "output_type": "stream",
     "text": [
      "Metrics for the test sample: \n",
      " \n",
      "              precision    recall  f1-score   support\n",
      "\n",
      "           0       0.86      0.87      0.87      1403\n",
      "           1       0.87      0.86      0.86      1402\n",
      "\n",
      "    accuracy                           0.87      2805\n",
      "   macro avg       0.87      0.87      0.87      2805\n",
      "weighted avg       0.87      0.87      0.87      2805\n",
      "\n"
     ]
    }
   ],
   "source": [
    "print(f'Metrics for the test sample: \\n \\n{metrics.classification_report(y_test_u_sampled, y_test_pred)}')"
   ]
  },
  {
   "cell_type": "code",
   "execution_count": 386,
   "metadata": {},
   "outputs": [
    {
     "name": "stderr",
     "output_type": "stream",
     "text": [
      "/var/folders/q7/y12hg0bj54sg455fwlths6dw0000gp/T/ipykernel_35359/2868486197.py:29: FutureWarning: The frame.append method is deprecated and will be removed from pandas in a future version. Use pandas.concat instead.\n",
      "  model_evalution_df = model_evalution_df.append(model_evalution_dict, ignore_index=True)\n"
     ]
    },
    {
     "data": {
      "text/html": [
       "<div>\n",
       "<style scoped>\n",
       "    .dataframe tbody tr th:only-of-type {\n",
       "        vertical-align: middle;\n",
       "    }\n",
       "\n",
       "    .dataframe tbody tr th {\n",
       "        vertical-align: top;\n",
       "    }\n",
       "\n",
       "    .dataframe thead th {\n",
       "        text-align: right;\n",
       "    }\n",
       "</style>\n",
       "<table border=\"1\" class=\"dataframe\">\n",
       "  <thead>\n",
       "    <tr style=\"text-align: right;\">\n",
       "      <th></th>\n",
       "      <th>Model Name</th>\n",
       "      <th>Training Score</th>\n",
       "      <th>Testing Score</th>\n",
       "      <th>Accuracy</th>\n",
       "      <th>F1 Score</th>\n",
       "      <th>Precision</th>\n",
       "      <th>Recall</th>\n",
       "    </tr>\n",
       "  </thead>\n",
       "  <tbody>\n",
       "    <tr>\n",
       "      <th>0</th>\n",
       "      <td>LogisticRegression / Imbalanced data</td>\n",
       "      <td>0.969423</td>\n",
       "      <td>0.968484</td>\n",
       "      <td>0.968484</td>\n",
       "      <td>0.965576</td>\n",
       "      <td>0.812192</td>\n",
       "      <td>0.548441</td>\n",
       "    </tr>\n",
       "    <tr>\n",
       "      <th>1</th>\n",
       "      <td>Baseline - RandomForestClassifier / Imbalanced...</td>\n",
       "      <td>0.973288</td>\n",
       "      <td>0.970750</td>\n",
       "      <td>0.970750</td>\n",
       "      <td>0.967033</td>\n",
       "      <td>0.899570</td>\n",
       "      <td>0.521414</td>\n",
       "    </tr>\n",
       "    <tr>\n",
       "      <th>2</th>\n",
       "      <td>Stacking / Imbalanced data</td>\n",
       "      <td>0.980939</td>\n",
       "      <td>0.977592</td>\n",
       "      <td>0.977592</td>\n",
       "      <td>0.976290</td>\n",
       "      <td>0.876596</td>\n",
       "      <td>0.685239</td>\n",
       "    </tr>\n",
       "    <tr>\n",
       "      <th>3</th>\n",
       "      <td>Stacking-45features / Imbalanced data</td>\n",
       "      <td>0.508322</td>\n",
       "      <td>0.504883</td>\n",
       "      <td>0.979246</td>\n",
       "      <td>0.978226</td>\n",
       "      <td>0.881208</td>\n",
       "      <td>0.715593</td>\n",
       "    </tr>\n",
       "    <tr>\n",
       "      <th>4</th>\n",
       "      <td>Stacking-all_features / Imbalanced data</td>\n",
       "      <td>0.525547</td>\n",
       "      <td>0.521173</td>\n",
       "      <td>0.979700</td>\n",
       "      <td>0.978842</td>\n",
       "      <td>0.875186</td>\n",
       "      <td>0.731809</td>\n",
       "    </tr>\n",
       "    <tr>\n",
       "      <th>5</th>\n",
       "      <td>Random_forest/GridSearch_all_features / Imbala...</td>\n",
       "      <td>0.664349</td>\n",
       "      <td>0.453638</td>\n",
       "      <td>0.969028</td>\n",
       "      <td>0.963756</td>\n",
       "      <td>0.953671</td>\n",
       "      <td>0.453638</td>\n",
       "    </tr>\n",
       "    <tr>\n",
       "      <th>6</th>\n",
       "      <td>LogisticRegression / Random Under Sampled data</td>\n",
       "      <td>0.884492</td>\n",
       "      <td>0.872727</td>\n",
       "      <td>0.872727</td>\n",
       "      <td>0.872724</td>\n",
       "      <td>0.876170</td>\n",
       "      <td>0.868046</td>\n",
       "    </tr>\n",
       "    <tr>\n",
       "      <th>7</th>\n",
       "      <td>LogisticRegression / Random Over Sampled data</td>\n",
       "      <td>0.883325</td>\n",
       "      <td>0.884345</td>\n",
       "      <td>0.884345</td>\n",
       "      <td>0.884345</td>\n",
       "      <td>0.884298</td>\n",
       "      <td>0.884407</td>\n",
       "    </tr>\n",
       "    <tr>\n",
       "      <th>8</th>\n",
       "      <td>LogisticRegression / SMOTE Over Sampled data</td>\n",
       "      <td>0.901201</td>\n",
       "      <td>0.900058</td>\n",
       "      <td>0.900058</td>\n",
       "      <td>0.900057</td>\n",
       "      <td>0.898063</td>\n",
       "      <td>0.902563</td>\n",
       "    </tr>\n",
       "    <tr>\n",
       "      <th>9</th>\n",
       "      <td>Tuned LogisticRegression / Random Under Sample...</td>\n",
       "      <td>0.883541</td>\n",
       "      <td>0.871658</td>\n",
       "      <td>0.871658</td>\n",
       "      <td>0.871657</td>\n",
       "      <td>0.873745</td>\n",
       "      <td>0.868759</td>\n",
       "    </tr>\n",
       "    <tr>\n",
       "      <th>10</th>\n",
       "      <td>DecisionTreeClassifier / Random Under Sampled ...</td>\n",
       "      <td>0.932620</td>\n",
       "      <td>0.867736</td>\n",
       "      <td>0.867736</td>\n",
       "      <td>0.867664</td>\n",
       "      <td>0.885565</td>\n",
       "      <td>0.844508</td>\n",
       "    </tr>\n",
       "    <tr>\n",
       "      <th>11</th>\n",
       "      <td>DecisionTreeClassifier / Random Over Sampled data</td>\n",
       "      <td>0.910327</td>\n",
       "      <td>0.908458</td>\n",
       "      <td>0.908458</td>\n",
       "      <td>0.908447</td>\n",
       "      <td>0.917566</td>\n",
       "      <td>0.897552</td>\n",
       "    </tr>\n",
       "    <tr>\n",
       "      <th>12</th>\n",
       "      <td>DecisionTreeClassifier / SMOTE Over Sampled data</td>\n",
       "      <td>0.945428</td>\n",
       "      <td>0.939513</td>\n",
       "      <td>0.939513</td>\n",
       "      <td>0.939507</td>\n",
       "      <td>0.948447</td>\n",
       "      <td>0.929551</td>\n",
       "    </tr>\n",
       "    <tr>\n",
       "      <th>13</th>\n",
       "      <td>Tuned DecisionTreeClassifier / Random Under sa...</td>\n",
       "      <td>0.881521</td>\n",
       "      <td>0.865241</td>\n",
       "      <td>0.865241</td>\n",
       "      <td>0.865232</td>\n",
       "      <td>0.871014</td>\n",
       "      <td>0.857347</td>\n",
       "    </tr>\n",
       "  </tbody>\n",
       "</table>\n",
       "</div>"
      ],
      "text/plain": [
       "                                           Model Name  Training Score  \\\n",
       "0                LogisticRegression / Imbalanced data        0.969423   \n",
       "1   Baseline - RandomForestClassifier / Imbalanced...        0.973288   \n",
       "2                          Stacking / Imbalanced data        0.980939   \n",
       "3               Stacking-45features / Imbalanced data        0.508322   \n",
       "4             Stacking-all_features / Imbalanced data        0.525547   \n",
       "5   Random_forest/GridSearch_all_features / Imbala...        0.664349   \n",
       "6      LogisticRegression / Random Under Sampled data        0.884492   \n",
       "7       LogisticRegression / Random Over Sampled data        0.883325   \n",
       "8        LogisticRegression / SMOTE Over Sampled data        0.901201   \n",
       "9   Tuned LogisticRegression / Random Under Sample...        0.883541   \n",
       "10  DecisionTreeClassifier / Random Under Sampled ...        0.932620   \n",
       "11  DecisionTreeClassifier / Random Over Sampled data        0.910327   \n",
       "12   DecisionTreeClassifier / SMOTE Over Sampled data        0.945428   \n",
       "13  Tuned DecisionTreeClassifier / Random Under sa...        0.881521   \n",
       "\n",
       "    Testing Score  Accuracy  F1 Score  Precision    Recall  \n",
       "0        0.968484  0.968484  0.965576   0.812192  0.548441  \n",
       "1        0.970750  0.970750  0.967033   0.899570  0.521414  \n",
       "2        0.977592  0.977592  0.976290   0.876596  0.685239  \n",
       "3        0.504883  0.979246  0.978226   0.881208  0.715593  \n",
       "4        0.521173  0.979700  0.978842   0.875186  0.731809  \n",
       "5        0.453638  0.969028  0.963756   0.953671  0.453638  \n",
       "6        0.872727  0.872727  0.872724   0.876170  0.868046  \n",
       "7        0.884345  0.884345  0.884345   0.884298  0.884407  \n",
       "8        0.900058  0.900058  0.900057   0.898063  0.902563  \n",
       "9        0.871658  0.871658  0.871657   0.873745  0.868759  \n",
       "10       0.867736  0.867736  0.867664   0.885565  0.844508  \n",
       "11       0.908458  0.908458  0.908447   0.917566  0.897552  \n",
       "12       0.939513  0.939513  0.939507   0.948447  0.929551  \n",
       "13       0.865241  0.865241  0.865232   0.871014  0.857347  "
      ]
     },
     "execution_count": 386,
     "metadata": {},
     "output_type": "execute_result"
    }
   ],
   "source": [
    "# Adding baseline model evalution statistics\n",
    "model_evalution_df = add_model_evalution_stat(model_name, best_params_dt.best_estimator_, X_train_u_sampled, X_test_u_sampled, y_train_u_sampled, y_test_u_sampled, y_train_pred, y_test_pred, model_evalution_df)\n",
    "model_evalution_df"
   ]
  },
  {
   "cell_type": "markdown",
   "metadata": {},
   "source": [
    "#### Random Forest"
   ]
  },
  {
   "cell_type": "code",
   "execution_count": 388,
   "metadata": {},
   "outputs": [
    {
     "name": "stdout",
     "output_type": "stream",
     "text": [
      "Metrics for the test sample: \n",
      " \n",
      "              precision    recall  f1-score   support\n",
      "\n",
      "           0       0.97      1.00      0.98     41732\n",
      "           1       0.91      0.51      0.66      2405\n",
      "\n",
      "    accuracy                           0.97     44137\n",
      "   macro avg       0.94      0.76      0.82     44137\n",
      "weighted avg       0.97      0.97      0.97     44137\n",
      "\n"
     ]
    }
   ],
   "source": [
    "# Random Forest model with imbalanced data\n",
    "model_name = 'RandomForestClassifier / Imbalanced data'\n",
    "rf = ensemble.RandomForestClassifier(\n",
    "    n_estimators=100,\n",
    "    max_depth=10,\n",
    "    random_state=42\n",
    ")\n",
    "\n",
    "rf_model = rf.fit(X_train_scaled, y_train)\n",
    "y_train_pred = rf_model.predict(X_train_scaled)\n",
    "y_test_pred = rf_model.predict(X_test_scaled)\n",
    "\n",
    "print(f'Metrics for the test sample: \\n \\n{metrics.classification_report(y_test, y_test_pred)}')"
   ]
  },
  {
   "cell_type": "code",
   "execution_count": 389,
   "metadata": {},
   "outputs": [
    {
     "name": "stderr",
     "output_type": "stream",
     "text": [
      "/var/folders/q7/y12hg0bj54sg455fwlths6dw0000gp/T/ipykernel_35359/2868486197.py:29: FutureWarning: The frame.append method is deprecated and will be removed from pandas in a future version. Use pandas.concat instead.\n",
      "  model_evalution_df = model_evalution_df.append(model_evalution_dict, ignore_index=True)\n"
     ]
    },
    {
     "data": {
      "text/html": [
       "<div>\n",
       "<style scoped>\n",
       "    .dataframe tbody tr th:only-of-type {\n",
       "        vertical-align: middle;\n",
       "    }\n",
       "\n",
       "    .dataframe tbody tr th {\n",
       "        vertical-align: top;\n",
       "    }\n",
       "\n",
       "    .dataframe thead th {\n",
       "        text-align: right;\n",
       "    }\n",
       "</style>\n",
       "<table border=\"1\" class=\"dataframe\">\n",
       "  <thead>\n",
       "    <tr style=\"text-align: right;\">\n",
       "      <th></th>\n",
       "      <th>Model Name</th>\n",
       "      <th>Training Score</th>\n",
       "      <th>Testing Score</th>\n",
       "      <th>Accuracy</th>\n",
       "      <th>F1 Score</th>\n",
       "      <th>Precision</th>\n",
       "      <th>Recall</th>\n",
       "    </tr>\n",
       "  </thead>\n",
       "  <tbody>\n",
       "    <tr>\n",
       "      <th>0</th>\n",
       "      <td>LogisticRegression / Imbalanced data</td>\n",
       "      <td>0.969423</td>\n",
       "      <td>0.968484</td>\n",
       "      <td>0.968484</td>\n",
       "      <td>0.965576</td>\n",
       "      <td>0.812192</td>\n",
       "      <td>0.548441</td>\n",
       "    </tr>\n",
       "    <tr>\n",
       "      <th>1</th>\n",
       "      <td>Baseline - RandomForestClassifier / Imbalanced...</td>\n",
       "      <td>0.973288</td>\n",
       "      <td>0.970750</td>\n",
       "      <td>0.970750</td>\n",
       "      <td>0.967033</td>\n",
       "      <td>0.899570</td>\n",
       "      <td>0.521414</td>\n",
       "    </tr>\n",
       "    <tr>\n",
       "      <th>2</th>\n",
       "      <td>Stacking / Imbalanced data</td>\n",
       "      <td>0.980939</td>\n",
       "      <td>0.977592</td>\n",
       "      <td>0.977592</td>\n",
       "      <td>0.976290</td>\n",
       "      <td>0.876596</td>\n",
       "      <td>0.685239</td>\n",
       "    </tr>\n",
       "    <tr>\n",
       "      <th>3</th>\n",
       "      <td>Stacking-45features / Imbalanced data</td>\n",
       "      <td>0.508322</td>\n",
       "      <td>0.504883</td>\n",
       "      <td>0.979246</td>\n",
       "      <td>0.978226</td>\n",
       "      <td>0.881208</td>\n",
       "      <td>0.715593</td>\n",
       "    </tr>\n",
       "    <tr>\n",
       "      <th>4</th>\n",
       "      <td>Stacking-all_features / Imbalanced data</td>\n",
       "      <td>0.525547</td>\n",
       "      <td>0.521173</td>\n",
       "      <td>0.979700</td>\n",
       "      <td>0.978842</td>\n",
       "      <td>0.875186</td>\n",
       "      <td>0.731809</td>\n",
       "    </tr>\n",
       "    <tr>\n",
       "      <th>5</th>\n",
       "      <td>Random_forest/GridSearch_all_features / Imbala...</td>\n",
       "      <td>0.664349</td>\n",
       "      <td>0.453638</td>\n",
       "      <td>0.969028</td>\n",
       "      <td>0.963756</td>\n",
       "      <td>0.953671</td>\n",
       "      <td>0.453638</td>\n",
       "    </tr>\n",
       "    <tr>\n",
       "      <th>6</th>\n",
       "      <td>LogisticRegression / Random Under Sampled data</td>\n",
       "      <td>0.884492</td>\n",
       "      <td>0.872727</td>\n",
       "      <td>0.872727</td>\n",
       "      <td>0.872724</td>\n",
       "      <td>0.876170</td>\n",
       "      <td>0.868046</td>\n",
       "    </tr>\n",
       "    <tr>\n",
       "      <th>7</th>\n",
       "      <td>LogisticRegression / Random Over Sampled data</td>\n",
       "      <td>0.883325</td>\n",
       "      <td>0.884345</td>\n",
       "      <td>0.884345</td>\n",
       "      <td>0.884345</td>\n",
       "      <td>0.884298</td>\n",
       "      <td>0.884407</td>\n",
       "    </tr>\n",
       "    <tr>\n",
       "      <th>8</th>\n",
       "      <td>LogisticRegression / SMOTE Over Sampled data</td>\n",
       "      <td>0.901201</td>\n",
       "      <td>0.900058</td>\n",
       "      <td>0.900058</td>\n",
       "      <td>0.900057</td>\n",
       "      <td>0.898063</td>\n",
       "      <td>0.902563</td>\n",
       "    </tr>\n",
       "    <tr>\n",
       "      <th>9</th>\n",
       "      <td>Tuned LogisticRegression / Random Under Sample...</td>\n",
       "      <td>0.883541</td>\n",
       "      <td>0.871658</td>\n",
       "      <td>0.871658</td>\n",
       "      <td>0.871657</td>\n",
       "      <td>0.873745</td>\n",
       "      <td>0.868759</td>\n",
       "    </tr>\n",
       "    <tr>\n",
       "      <th>10</th>\n",
       "      <td>DecisionTreeClassifier / Random Under Sampled ...</td>\n",
       "      <td>0.932620</td>\n",
       "      <td>0.867736</td>\n",
       "      <td>0.867736</td>\n",
       "      <td>0.867664</td>\n",
       "      <td>0.885565</td>\n",
       "      <td>0.844508</td>\n",
       "    </tr>\n",
       "    <tr>\n",
       "      <th>11</th>\n",
       "      <td>DecisionTreeClassifier / Random Over Sampled data</td>\n",
       "      <td>0.910327</td>\n",
       "      <td>0.908458</td>\n",
       "      <td>0.908458</td>\n",
       "      <td>0.908447</td>\n",
       "      <td>0.917566</td>\n",
       "      <td>0.897552</td>\n",
       "    </tr>\n",
       "    <tr>\n",
       "      <th>12</th>\n",
       "      <td>DecisionTreeClassifier / SMOTE Over Sampled data</td>\n",
       "      <td>0.945428</td>\n",
       "      <td>0.939513</td>\n",
       "      <td>0.939513</td>\n",
       "      <td>0.939507</td>\n",
       "      <td>0.948447</td>\n",
       "      <td>0.929551</td>\n",
       "    </tr>\n",
       "    <tr>\n",
       "      <th>13</th>\n",
       "      <td>Tuned DecisionTreeClassifier / Random Under sa...</td>\n",
       "      <td>0.881521</td>\n",
       "      <td>0.865241</td>\n",
       "      <td>0.865241</td>\n",
       "      <td>0.865232</td>\n",
       "      <td>0.871014</td>\n",
       "      <td>0.857347</td>\n",
       "    </tr>\n",
       "    <tr>\n",
       "      <th>14</th>\n",
       "      <td>RandomForestClassifier / Imbalanced data</td>\n",
       "      <td>0.973443</td>\n",
       "      <td>0.970818</td>\n",
       "      <td>0.970818</td>\n",
       "      <td>0.966925</td>\n",
       "      <td>0.912177</td>\n",
       "      <td>0.513929</td>\n",
       "    </tr>\n",
       "  </tbody>\n",
       "</table>\n",
       "</div>"
      ],
      "text/plain": [
       "                                           Model Name  Training Score  \\\n",
       "0                LogisticRegression / Imbalanced data        0.969423   \n",
       "1   Baseline - RandomForestClassifier / Imbalanced...        0.973288   \n",
       "2                          Stacking / Imbalanced data        0.980939   \n",
       "3               Stacking-45features / Imbalanced data        0.508322   \n",
       "4             Stacking-all_features / Imbalanced data        0.525547   \n",
       "5   Random_forest/GridSearch_all_features / Imbala...        0.664349   \n",
       "6      LogisticRegression / Random Under Sampled data        0.884492   \n",
       "7       LogisticRegression / Random Over Sampled data        0.883325   \n",
       "8        LogisticRegression / SMOTE Over Sampled data        0.901201   \n",
       "9   Tuned LogisticRegression / Random Under Sample...        0.883541   \n",
       "10  DecisionTreeClassifier / Random Under Sampled ...        0.932620   \n",
       "11  DecisionTreeClassifier / Random Over Sampled data        0.910327   \n",
       "12   DecisionTreeClassifier / SMOTE Over Sampled data        0.945428   \n",
       "13  Tuned DecisionTreeClassifier / Random Under sa...        0.881521   \n",
       "14           RandomForestClassifier / Imbalanced data        0.973443   \n",
       "\n",
       "    Testing Score  Accuracy  F1 Score  Precision    Recall  \n",
       "0        0.968484  0.968484  0.965576   0.812192  0.548441  \n",
       "1        0.970750  0.970750  0.967033   0.899570  0.521414  \n",
       "2        0.977592  0.977592  0.976290   0.876596  0.685239  \n",
       "3        0.504883  0.979246  0.978226   0.881208  0.715593  \n",
       "4        0.521173  0.979700  0.978842   0.875186  0.731809  \n",
       "5        0.453638  0.969028  0.963756   0.953671  0.453638  \n",
       "6        0.872727  0.872727  0.872724   0.876170  0.868046  \n",
       "7        0.884345  0.884345  0.884345   0.884298  0.884407  \n",
       "8        0.900058  0.900058  0.900057   0.898063  0.902563  \n",
       "9        0.871658  0.871658  0.871657   0.873745  0.868759  \n",
       "10       0.867736  0.867736  0.867664   0.885565  0.844508  \n",
       "11       0.908458  0.908458  0.908447   0.917566  0.897552  \n",
       "12       0.939513  0.939513  0.939507   0.948447  0.929551  \n",
       "13       0.865241  0.865241  0.865232   0.871014  0.857347  \n",
       "14       0.970818  0.970818  0.966925   0.912177  0.513929  "
      ]
     },
     "execution_count": 389,
     "metadata": {},
     "output_type": "execute_result"
    }
   ],
   "source": [
    "# Adding baseline model evalution statistics\n",
    "model_evalution_df = add_model_evalution_stat(model_name, rf, X_train_scaled, X_test_scaled, y_train, y_test, y_train_pred, y_test_pred, model_evalution_df)\n",
    "model_evalution_df"
   ]
  },
  {
   "cell_type": "markdown",
   "metadata": {},
   "source": [
    "#### Random Forest - Random Under Sampling data"
   ]
  },
  {
   "cell_type": "code",
   "execution_count": 390,
   "metadata": {},
   "outputs": [
    {
     "name": "stdout",
     "output_type": "stream",
     "text": [
      "Metrics for the test sample: \n",
      " \n",
      "              precision    recall  f1-score   support\n",
      "\n",
      "           0       0.87      0.91      0.89      1403\n",
      "           1       0.91      0.86      0.89      1402\n",
      "\n",
      "    accuracy                           0.89      2805\n",
      "   macro avg       0.89      0.89      0.89      2805\n",
      "weighted avg       0.89      0.89      0.89      2805\n",
      "\n"
     ]
    }
   ],
   "source": [
    "# Random Forest model with Random Under Sampling data\n",
    "model_name = 'RandomForestClassifier / Random Under Sampling data'\n",
    "rf = ensemble.RandomForestClassifier(\n",
    "    n_estimators=100,\n",
    "    max_depth=10,\n",
    "    random_state=42\n",
    ")\n",
    "\n",
    "rf_u_model = rf.fit(X_train_u_sampled, y_train_u_sampled)\n",
    "y_train_pred = rf_u_model.predict(X_train_u_sampled)\n",
    "y_test_pred = rf_u_model.predict(X_test_u_sampled)\n",
    "\n",
    "print(f'Metrics for the test sample: \\n \\n{metrics.classification_report(y_test_u_sampled, y_test_pred)}')"
   ]
  },
  {
   "cell_type": "code",
   "execution_count": 391,
   "metadata": {},
   "outputs": [
    {
     "name": "stderr",
     "output_type": "stream",
     "text": [
      "/var/folders/q7/y12hg0bj54sg455fwlths6dw0000gp/T/ipykernel_35359/2868486197.py:29: FutureWarning: The frame.append method is deprecated and will be removed from pandas in a future version. Use pandas.concat instead.\n",
      "  model_evalution_df = model_evalution_df.append(model_evalution_dict, ignore_index=True)\n"
     ]
    },
    {
     "data": {
      "text/html": [
       "<div>\n",
       "<style scoped>\n",
       "    .dataframe tbody tr th:only-of-type {\n",
       "        vertical-align: middle;\n",
       "    }\n",
       "\n",
       "    .dataframe tbody tr th {\n",
       "        vertical-align: top;\n",
       "    }\n",
       "\n",
       "    .dataframe thead th {\n",
       "        text-align: right;\n",
       "    }\n",
       "</style>\n",
       "<table border=\"1\" class=\"dataframe\">\n",
       "  <thead>\n",
       "    <tr style=\"text-align: right;\">\n",
       "      <th></th>\n",
       "      <th>Model Name</th>\n",
       "      <th>Training Score</th>\n",
       "      <th>Testing Score</th>\n",
       "      <th>Accuracy</th>\n",
       "      <th>F1 Score</th>\n",
       "      <th>Precision</th>\n",
       "      <th>Recall</th>\n",
       "    </tr>\n",
       "  </thead>\n",
       "  <tbody>\n",
       "    <tr>\n",
       "      <th>0</th>\n",
       "      <td>LogisticRegression / Imbalanced data</td>\n",
       "      <td>0.969423</td>\n",
       "      <td>0.968484</td>\n",
       "      <td>0.968484</td>\n",
       "      <td>0.965576</td>\n",
       "      <td>0.812192</td>\n",
       "      <td>0.548441</td>\n",
       "    </tr>\n",
       "    <tr>\n",
       "      <th>1</th>\n",
       "      <td>Baseline - RandomForestClassifier / Imbalanced...</td>\n",
       "      <td>0.973288</td>\n",
       "      <td>0.970750</td>\n",
       "      <td>0.970750</td>\n",
       "      <td>0.967033</td>\n",
       "      <td>0.899570</td>\n",
       "      <td>0.521414</td>\n",
       "    </tr>\n",
       "    <tr>\n",
       "      <th>2</th>\n",
       "      <td>Stacking / Imbalanced data</td>\n",
       "      <td>0.980939</td>\n",
       "      <td>0.977592</td>\n",
       "      <td>0.977592</td>\n",
       "      <td>0.976290</td>\n",
       "      <td>0.876596</td>\n",
       "      <td>0.685239</td>\n",
       "    </tr>\n",
       "    <tr>\n",
       "      <th>3</th>\n",
       "      <td>Stacking-45features / Imbalanced data</td>\n",
       "      <td>0.508322</td>\n",
       "      <td>0.504883</td>\n",
       "      <td>0.979246</td>\n",
       "      <td>0.978226</td>\n",
       "      <td>0.881208</td>\n",
       "      <td>0.715593</td>\n",
       "    </tr>\n",
       "    <tr>\n",
       "      <th>4</th>\n",
       "      <td>Stacking-all_features / Imbalanced data</td>\n",
       "      <td>0.525547</td>\n",
       "      <td>0.521173</td>\n",
       "      <td>0.979700</td>\n",
       "      <td>0.978842</td>\n",
       "      <td>0.875186</td>\n",
       "      <td>0.731809</td>\n",
       "    </tr>\n",
       "    <tr>\n",
       "      <th>5</th>\n",
       "      <td>Random_forest/GridSearch_all_features / Imbala...</td>\n",
       "      <td>0.664349</td>\n",
       "      <td>0.453638</td>\n",
       "      <td>0.969028</td>\n",
       "      <td>0.963756</td>\n",
       "      <td>0.953671</td>\n",
       "      <td>0.453638</td>\n",
       "    </tr>\n",
       "    <tr>\n",
       "      <th>6</th>\n",
       "      <td>LogisticRegression / Random Under Sampled data</td>\n",
       "      <td>0.884492</td>\n",
       "      <td>0.872727</td>\n",
       "      <td>0.872727</td>\n",
       "      <td>0.872724</td>\n",
       "      <td>0.876170</td>\n",
       "      <td>0.868046</td>\n",
       "    </tr>\n",
       "    <tr>\n",
       "      <th>7</th>\n",
       "      <td>LogisticRegression / Random Over Sampled data</td>\n",
       "      <td>0.883325</td>\n",
       "      <td>0.884345</td>\n",
       "      <td>0.884345</td>\n",
       "      <td>0.884345</td>\n",
       "      <td>0.884298</td>\n",
       "      <td>0.884407</td>\n",
       "    </tr>\n",
       "    <tr>\n",
       "      <th>8</th>\n",
       "      <td>LogisticRegression / SMOTE Over Sampled data</td>\n",
       "      <td>0.901201</td>\n",
       "      <td>0.900058</td>\n",
       "      <td>0.900058</td>\n",
       "      <td>0.900057</td>\n",
       "      <td>0.898063</td>\n",
       "      <td>0.902563</td>\n",
       "    </tr>\n",
       "    <tr>\n",
       "      <th>9</th>\n",
       "      <td>Tuned LogisticRegression / Random Under Sample...</td>\n",
       "      <td>0.883541</td>\n",
       "      <td>0.871658</td>\n",
       "      <td>0.871658</td>\n",
       "      <td>0.871657</td>\n",
       "      <td>0.873745</td>\n",
       "      <td>0.868759</td>\n",
       "    </tr>\n",
       "    <tr>\n",
       "      <th>10</th>\n",
       "      <td>DecisionTreeClassifier / Random Under Sampled ...</td>\n",
       "      <td>0.932620</td>\n",
       "      <td>0.867736</td>\n",
       "      <td>0.867736</td>\n",
       "      <td>0.867664</td>\n",
       "      <td>0.885565</td>\n",
       "      <td>0.844508</td>\n",
       "    </tr>\n",
       "    <tr>\n",
       "      <th>11</th>\n",
       "      <td>DecisionTreeClassifier / Random Over Sampled data</td>\n",
       "      <td>0.910327</td>\n",
       "      <td>0.908458</td>\n",
       "      <td>0.908458</td>\n",
       "      <td>0.908447</td>\n",
       "      <td>0.917566</td>\n",
       "      <td>0.897552</td>\n",
       "    </tr>\n",
       "    <tr>\n",
       "      <th>12</th>\n",
       "      <td>DecisionTreeClassifier / SMOTE Over Sampled data</td>\n",
       "      <td>0.945428</td>\n",
       "      <td>0.939513</td>\n",
       "      <td>0.939513</td>\n",
       "      <td>0.939507</td>\n",
       "      <td>0.948447</td>\n",
       "      <td>0.929551</td>\n",
       "    </tr>\n",
       "    <tr>\n",
       "      <th>13</th>\n",
       "      <td>Tuned DecisionTreeClassifier / Random Under sa...</td>\n",
       "      <td>0.881521</td>\n",
       "      <td>0.865241</td>\n",
       "      <td>0.865241</td>\n",
       "      <td>0.865232</td>\n",
       "      <td>0.871014</td>\n",
       "      <td>0.857347</td>\n",
       "    </tr>\n",
       "    <tr>\n",
       "      <th>14</th>\n",
       "      <td>RandomForestClassifier / Imbalanced data</td>\n",
       "      <td>0.973443</td>\n",
       "      <td>0.970818</td>\n",
       "      <td>0.970818</td>\n",
       "      <td>0.966925</td>\n",
       "      <td>0.912177</td>\n",
       "      <td>0.513929</td>\n",
       "    </tr>\n",
       "    <tr>\n",
       "      <th>15</th>\n",
       "      <td>RandomForestClassifier / Random Under Sampling...</td>\n",
       "      <td>0.936067</td>\n",
       "      <td>0.888770</td>\n",
       "      <td>0.888770</td>\n",
       "      <td>0.888700</td>\n",
       "      <td>0.909159</td>\n",
       "      <td>0.863766</td>\n",
       "    </tr>\n",
       "  </tbody>\n",
       "</table>\n",
       "</div>"
      ],
      "text/plain": [
       "                                           Model Name  Training Score  \\\n",
       "0                LogisticRegression / Imbalanced data        0.969423   \n",
       "1   Baseline - RandomForestClassifier / Imbalanced...        0.973288   \n",
       "2                          Stacking / Imbalanced data        0.980939   \n",
       "3               Stacking-45features / Imbalanced data        0.508322   \n",
       "4             Stacking-all_features / Imbalanced data        0.525547   \n",
       "5   Random_forest/GridSearch_all_features / Imbala...        0.664349   \n",
       "6      LogisticRegression / Random Under Sampled data        0.884492   \n",
       "7       LogisticRegression / Random Over Sampled data        0.883325   \n",
       "8        LogisticRegression / SMOTE Over Sampled data        0.901201   \n",
       "9   Tuned LogisticRegression / Random Under Sample...        0.883541   \n",
       "10  DecisionTreeClassifier / Random Under Sampled ...        0.932620   \n",
       "11  DecisionTreeClassifier / Random Over Sampled data        0.910327   \n",
       "12   DecisionTreeClassifier / SMOTE Over Sampled data        0.945428   \n",
       "13  Tuned DecisionTreeClassifier / Random Under sa...        0.881521   \n",
       "14           RandomForestClassifier / Imbalanced data        0.973443   \n",
       "15  RandomForestClassifier / Random Under Sampling...        0.936067   \n",
       "\n",
       "    Testing Score  Accuracy  F1 Score  Precision    Recall  \n",
       "0        0.968484  0.968484  0.965576   0.812192  0.548441  \n",
       "1        0.970750  0.970750  0.967033   0.899570  0.521414  \n",
       "2        0.977592  0.977592  0.976290   0.876596  0.685239  \n",
       "3        0.504883  0.979246  0.978226   0.881208  0.715593  \n",
       "4        0.521173  0.979700  0.978842   0.875186  0.731809  \n",
       "5        0.453638  0.969028  0.963756   0.953671  0.453638  \n",
       "6        0.872727  0.872727  0.872724   0.876170  0.868046  \n",
       "7        0.884345  0.884345  0.884345   0.884298  0.884407  \n",
       "8        0.900058  0.900058  0.900057   0.898063  0.902563  \n",
       "9        0.871658  0.871658  0.871657   0.873745  0.868759  \n",
       "10       0.867736  0.867736  0.867664   0.885565  0.844508  \n",
       "11       0.908458  0.908458  0.908447   0.917566  0.897552  \n",
       "12       0.939513  0.939513  0.939507   0.948447  0.929551  \n",
       "13       0.865241  0.865241  0.865232   0.871014  0.857347  \n",
       "14       0.970818  0.970818  0.966925   0.912177  0.513929  \n",
       "15       0.888770  0.888770  0.888700   0.909159  0.863766  "
      ]
     },
     "execution_count": 391,
     "metadata": {},
     "output_type": "execute_result"
    }
   ],
   "source": [
    "# Adding baseline model evalution statistics\n",
    "model_evalution_df = add_model_evalution_stat(model_name, rf, X_train_u_sampled, X_test_u_sampled, y_train_u_sampled, y_test_u_sampled, y_train_pred, y_test_pred, model_evalution_df)\n",
    "model_evalution_df"
   ]
  },
  {
   "cell_type": "markdown",
   "metadata": {},
   "source": [
    "#### Random Forest - Random Over Sampling data"
   ]
  },
  {
   "cell_type": "code",
   "execution_count": 393,
   "metadata": {},
   "outputs": [
    {
     "name": "stdout",
     "output_type": "stream",
     "text": [
      "Metrics for the test sample: \n",
      " \n",
      "              precision    recall  f1-score   support\n",
      "\n",
      "           0       0.91      0.93      0.92     24344\n",
      "           1       0.93      0.90      0.92     24344\n",
      "\n",
      "    accuracy                           0.92     48688\n",
      "   macro avg       0.92      0.92      0.92     48688\n",
      "weighted avg       0.92      0.92      0.92     48688\n",
      "\n"
     ]
    }
   ],
   "source": [
    "# Random Forest model with Random Over Sampling data\n",
    "model_name = 'RandomForestClassifier / Random Over Sampling data'\n",
    "rf = ensemble.RandomForestClassifier(\n",
    "    n_estimators=100,\n",
    "    max_depth=10,\n",
    "    random_state=42\n",
    ")\n",
    "\n",
    "rf_o_model = rf.fit(X_train_o_sampled, y_train_o_sampled)\n",
    "y_train_pred = rf_o_model.predict(X_train_o_sampled)\n",
    "y_test_pred = rf_o_model.predict(X_test_o_sampled)\n",
    "\n",
    "print(f'Metrics for the test sample: \\n \\n{metrics.classification_report(y_test_o_sampled, y_test_pred)}')"
   ]
  },
  {
   "cell_type": "code",
   "execution_count": 394,
   "metadata": {},
   "outputs": [
    {
     "name": "stderr",
     "output_type": "stream",
     "text": [
      "/var/folders/q7/y12hg0bj54sg455fwlths6dw0000gp/T/ipykernel_35359/2868486197.py:29: FutureWarning: The frame.append method is deprecated and will be removed from pandas in a future version. Use pandas.concat instead.\n",
      "  model_evalution_df = model_evalution_df.append(model_evalution_dict, ignore_index=True)\n"
     ]
    },
    {
     "data": {
      "text/html": [
       "<div>\n",
       "<style scoped>\n",
       "    .dataframe tbody tr th:only-of-type {\n",
       "        vertical-align: middle;\n",
       "    }\n",
       "\n",
       "    .dataframe tbody tr th {\n",
       "        vertical-align: top;\n",
       "    }\n",
       "\n",
       "    .dataframe thead th {\n",
       "        text-align: right;\n",
       "    }\n",
       "</style>\n",
       "<table border=\"1\" class=\"dataframe\">\n",
       "  <thead>\n",
       "    <tr style=\"text-align: right;\">\n",
       "      <th></th>\n",
       "      <th>Model Name</th>\n",
       "      <th>Training Score</th>\n",
       "      <th>Testing Score</th>\n",
       "      <th>Accuracy</th>\n",
       "      <th>F1 Score</th>\n",
       "      <th>Precision</th>\n",
       "      <th>Recall</th>\n",
       "    </tr>\n",
       "  </thead>\n",
       "  <tbody>\n",
       "    <tr>\n",
       "      <th>0</th>\n",
       "      <td>LogisticRegression / Imbalanced data</td>\n",
       "      <td>0.969423</td>\n",
       "      <td>0.968484</td>\n",
       "      <td>0.968484</td>\n",
       "      <td>0.965576</td>\n",
       "      <td>0.812192</td>\n",
       "      <td>0.548441</td>\n",
       "    </tr>\n",
       "    <tr>\n",
       "      <th>1</th>\n",
       "      <td>Baseline - RandomForestClassifier / Imbalanced...</td>\n",
       "      <td>0.973288</td>\n",
       "      <td>0.970750</td>\n",
       "      <td>0.970750</td>\n",
       "      <td>0.967033</td>\n",
       "      <td>0.899570</td>\n",
       "      <td>0.521414</td>\n",
       "    </tr>\n",
       "    <tr>\n",
       "      <th>2</th>\n",
       "      <td>Stacking / Imbalanced data</td>\n",
       "      <td>0.980939</td>\n",
       "      <td>0.977592</td>\n",
       "      <td>0.977592</td>\n",
       "      <td>0.976290</td>\n",
       "      <td>0.876596</td>\n",
       "      <td>0.685239</td>\n",
       "    </tr>\n",
       "    <tr>\n",
       "      <th>3</th>\n",
       "      <td>Stacking-45features / Imbalanced data</td>\n",
       "      <td>0.508322</td>\n",
       "      <td>0.504883</td>\n",
       "      <td>0.979246</td>\n",
       "      <td>0.978226</td>\n",
       "      <td>0.881208</td>\n",
       "      <td>0.715593</td>\n",
       "    </tr>\n",
       "    <tr>\n",
       "      <th>4</th>\n",
       "      <td>Stacking-all_features / Imbalanced data</td>\n",
       "      <td>0.525547</td>\n",
       "      <td>0.521173</td>\n",
       "      <td>0.979700</td>\n",
       "      <td>0.978842</td>\n",
       "      <td>0.875186</td>\n",
       "      <td>0.731809</td>\n",
       "    </tr>\n",
       "    <tr>\n",
       "      <th>5</th>\n",
       "      <td>Random_forest/GridSearch_all_features / Imbala...</td>\n",
       "      <td>0.664349</td>\n",
       "      <td>0.453638</td>\n",
       "      <td>0.969028</td>\n",
       "      <td>0.963756</td>\n",
       "      <td>0.953671</td>\n",
       "      <td>0.453638</td>\n",
       "    </tr>\n",
       "    <tr>\n",
       "      <th>6</th>\n",
       "      <td>LogisticRegression / Random Under Sampled data</td>\n",
       "      <td>0.884492</td>\n",
       "      <td>0.872727</td>\n",
       "      <td>0.872727</td>\n",
       "      <td>0.872724</td>\n",
       "      <td>0.876170</td>\n",
       "      <td>0.868046</td>\n",
       "    </tr>\n",
       "    <tr>\n",
       "      <th>7</th>\n",
       "      <td>LogisticRegression / Random Over Sampled data</td>\n",
       "      <td>0.883325</td>\n",
       "      <td>0.884345</td>\n",
       "      <td>0.884345</td>\n",
       "      <td>0.884345</td>\n",
       "      <td>0.884298</td>\n",
       "      <td>0.884407</td>\n",
       "    </tr>\n",
       "    <tr>\n",
       "      <th>8</th>\n",
       "      <td>LogisticRegression / SMOTE Over Sampled data</td>\n",
       "      <td>0.901201</td>\n",
       "      <td>0.900058</td>\n",
       "      <td>0.900058</td>\n",
       "      <td>0.900057</td>\n",
       "      <td>0.898063</td>\n",
       "      <td>0.902563</td>\n",
       "    </tr>\n",
       "    <tr>\n",
       "      <th>9</th>\n",
       "      <td>Tuned LogisticRegression / Random Under Sample...</td>\n",
       "      <td>0.883541</td>\n",
       "      <td>0.871658</td>\n",
       "      <td>0.871658</td>\n",
       "      <td>0.871657</td>\n",
       "      <td>0.873745</td>\n",
       "      <td>0.868759</td>\n",
       "    </tr>\n",
       "    <tr>\n",
       "      <th>10</th>\n",
       "      <td>DecisionTreeClassifier / Random Under Sampled ...</td>\n",
       "      <td>0.932620</td>\n",
       "      <td>0.867736</td>\n",
       "      <td>0.867736</td>\n",
       "      <td>0.867664</td>\n",
       "      <td>0.885565</td>\n",
       "      <td>0.844508</td>\n",
       "    </tr>\n",
       "    <tr>\n",
       "      <th>11</th>\n",
       "      <td>DecisionTreeClassifier / Random Over Sampled data</td>\n",
       "      <td>0.910327</td>\n",
       "      <td>0.908458</td>\n",
       "      <td>0.908458</td>\n",
       "      <td>0.908447</td>\n",
       "      <td>0.917566</td>\n",
       "      <td>0.897552</td>\n",
       "    </tr>\n",
       "    <tr>\n",
       "      <th>12</th>\n",
       "      <td>DecisionTreeClassifier / SMOTE Over Sampled data</td>\n",
       "      <td>0.945428</td>\n",
       "      <td>0.939513</td>\n",
       "      <td>0.939513</td>\n",
       "      <td>0.939507</td>\n",
       "      <td>0.948447</td>\n",
       "      <td>0.929551</td>\n",
       "    </tr>\n",
       "    <tr>\n",
       "      <th>13</th>\n",
       "      <td>Tuned DecisionTreeClassifier / Random Under sa...</td>\n",
       "      <td>0.881521</td>\n",
       "      <td>0.865241</td>\n",
       "      <td>0.865241</td>\n",
       "      <td>0.865232</td>\n",
       "      <td>0.871014</td>\n",
       "      <td>0.857347</td>\n",
       "    </tr>\n",
       "    <tr>\n",
       "      <th>14</th>\n",
       "      <td>RandomForestClassifier / Imbalanced data</td>\n",
       "      <td>0.973443</td>\n",
       "      <td>0.970818</td>\n",
       "      <td>0.970818</td>\n",
       "      <td>0.966925</td>\n",
       "      <td>0.912177</td>\n",
       "      <td>0.513929</td>\n",
       "    </tr>\n",
       "    <tr>\n",
       "      <th>15</th>\n",
       "      <td>RandomForestClassifier / Random Under Sampling...</td>\n",
       "      <td>0.936067</td>\n",
       "      <td>0.888770</td>\n",
       "      <td>0.888770</td>\n",
       "      <td>0.888700</td>\n",
       "      <td>0.909159</td>\n",
       "      <td>0.863766</td>\n",
       "    </tr>\n",
       "    <tr>\n",
       "      <th>16</th>\n",
       "      <td>RandomForestClassifier / Random Over Sampling ...</td>\n",
       "      <td>0.918495</td>\n",
       "      <td>0.917577</td>\n",
       "      <td>0.917577</td>\n",
       "      <td>0.917559</td>\n",
       "      <td>0.930249</td>\n",
       "      <td>0.902851</td>\n",
       "    </tr>\n",
       "  </tbody>\n",
       "</table>\n",
       "</div>"
      ],
      "text/plain": [
       "                                           Model Name  Training Score  \\\n",
       "0                LogisticRegression / Imbalanced data        0.969423   \n",
       "1   Baseline - RandomForestClassifier / Imbalanced...        0.973288   \n",
       "2                          Stacking / Imbalanced data        0.980939   \n",
       "3               Stacking-45features / Imbalanced data        0.508322   \n",
       "4             Stacking-all_features / Imbalanced data        0.525547   \n",
       "5   Random_forest/GridSearch_all_features / Imbala...        0.664349   \n",
       "6      LogisticRegression / Random Under Sampled data        0.884492   \n",
       "7       LogisticRegression / Random Over Sampled data        0.883325   \n",
       "8        LogisticRegression / SMOTE Over Sampled data        0.901201   \n",
       "9   Tuned LogisticRegression / Random Under Sample...        0.883541   \n",
       "10  DecisionTreeClassifier / Random Under Sampled ...        0.932620   \n",
       "11  DecisionTreeClassifier / Random Over Sampled data        0.910327   \n",
       "12   DecisionTreeClassifier / SMOTE Over Sampled data        0.945428   \n",
       "13  Tuned DecisionTreeClassifier / Random Under sa...        0.881521   \n",
       "14           RandomForestClassifier / Imbalanced data        0.973443   \n",
       "15  RandomForestClassifier / Random Under Sampling...        0.936067   \n",
       "16  RandomForestClassifier / Random Over Sampling ...        0.918495   \n",
       "\n",
       "    Testing Score  Accuracy  F1 Score  Precision    Recall  \n",
       "0        0.968484  0.968484  0.965576   0.812192  0.548441  \n",
       "1        0.970750  0.970750  0.967033   0.899570  0.521414  \n",
       "2        0.977592  0.977592  0.976290   0.876596  0.685239  \n",
       "3        0.504883  0.979246  0.978226   0.881208  0.715593  \n",
       "4        0.521173  0.979700  0.978842   0.875186  0.731809  \n",
       "5        0.453638  0.969028  0.963756   0.953671  0.453638  \n",
       "6        0.872727  0.872727  0.872724   0.876170  0.868046  \n",
       "7        0.884345  0.884345  0.884345   0.884298  0.884407  \n",
       "8        0.900058  0.900058  0.900057   0.898063  0.902563  \n",
       "9        0.871658  0.871658  0.871657   0.873745  0.868759  \n",
       "10       0.867736  0.867736  0.867664   0.885565  0.844508  \n",
       "11       0.908458  0.908458  0.908447   0.917566  0.897552  \n",
       "12       0.939513  0.939513  0.939507   0.948447  0.929551  \n",
       "13       0.865241  0.865241  0.865232   0.871014  0.857347  \n",
       "14       0.970818  0.970818  0.966925   0.912177  0.513929  \n",
       "15       0.888770  0.888770  0.888700   0.909159  0.863766  \n",
       "16       0.917577  0.917577  0.917559   0.930249  0.902851  "
      ]
     },
     "execution_count": 394,
     "metadata": {},
     "output_type": "execute_result"
    }
   ],
   "source": [
    "# Adding baseline model evalution statistics\n",
    "model_evalution_df = add_model_evalution_stat(model_name, rf, X_train_o_sampled, X_test_o_sampled, y_train_o_sampled, y_test_o_sampled, y_train_pred, y_test_pred, model_evalution_df)\n",
    "model_evalution_df"
   ]
  },
  {
   "cell_type": "markdown",
   "metadata": {},
   "source": [
    "#### Random Forest - SMOTE Over Sampling data"
   ]
  },
  {
   "cell_type": "code",
   "execution_count": 395,
   "metadata": {},
   "outputs": [
    {
     "name": "stdout",
     "output_type": "stream",
     "text": [
      "Metrics for the test sample: \n",
      " \n",
      "              precision    recall  f1-score   support\n",
      "\n",
      "           0       0.94      0.94      0.94     24344\n",
      "           1       0.94      0.94      0.94     24344\n",
      "\n",
      "    accuracy                           0.94     48688\n",
      "   macro avg       0.94      0.94      0.94     48688\n",
      "weighted avg       0.94      0.94      0.94     48688\n",
      "\n"
     ]
    }
   ],
   "source": [
    "# Random Forest model with Random Over Sampling data\n",
    "model_name = 'RandomForestClassifier / SMOTE Over Sampling data'\n",
    "rf = ensemble.RandomForestClassifier(\n",
    "    n_estimators=100,\n",
    "    max_depth=10,\n",
    "    random_state=42\n",
    ")\n",
    "\n",
    "rf_s_model = rf.fit(X_train_s_sampled, y_train_s_sampled)\n",
    "y_train_pred = rf_s_model.predict(X_train_s_sampled)\n",
    "y_test_pred = rf_s_model.predict(X_test_s_sampled)\n",
    "\n",
    "print(f'Metrics for the test sample: \\n \\n{metrics.classification_report(y_test_s_sampled, y_test_pred)}')"
   ]
  },
  {
   "cell_type": "code",
   "execution_count": null,
   "metadata": {},
   "outputs": [
    {
     "data": {
      "text/plain": [
       "array([0.7570133 , 0.52519528, 0.56393208, 0.55820649, 0.06329663,\n",
       "       0.50592782, 1.        , 1.        , 0.        , 0.        ,\n",
       "       1.        , 0.        , 0.        , 0.        , 1.        ,\n",
       "       0.        , 0.        , 0.        , 1.        , 0.        ,\n",
       "       0.85869849, 0.        , 1.        , 1.        , 1.        ])"
      ]
     },
     "metadata": {},
     "output_type": "display_data"
    }
   ],
   "source": [
    "X_test_s_sampled[-5]"
   ]
  },
  {
   "cell_type": "code",
   "execution_count": 396,
   "metadata": {},
   "outputs": [
    {
     "name": "stderr",
     "output_type": "stream",
     "text": [
      "/var/folders/q7/y12hg0bj54sg455fwlths6dw0000gp/T/ipykernel_35359/2868486197.py:29: FutureWarning: The frame.append method is deprecated and will be removed from pandas in a future version. Use pandas.concat instead.\n",
      "  model_evalution_df = model_evalution_df.append(model_evalution_dict, ignore_index=True)\n"
     ]
    },
    {
     "data": {
      "text/html": [
       "<div>\n",
       "<style scoped>\n",
       "    .dataframe tbody tr th:only-of-type {\n",
       "        vertical-align: middle;\n",
       "    }\n",
       "\n",
       "    .dataframe tbody tr th {\n",
       "        vertical-align: top;\n",
       "    }\n",
       "\n",
       "    .dataframe thead th {\n",
       "        text-align: right;\n",
       "    }\n",
       "</style>\n",
       "<table border=\"1\" class=\"dataframe\">\n",
       "  <thead>\n",
       "    <tr style=\"text-align: right;\">\n",
       "      <th></th>\n",
       "      <th>Model Name</th>\n",
       "      <th>Training Score</th>\n",
       "      <th>Testing Score</th>\n",
       "      <th>Accuracy</th>\n",
       "      <th>F1 Score</th>\n",
       "      <th>Precision</th>\n",
       "      <th>Recall</th>\n",
       "    </tr>\n",
       "  </thead>\n",
       "  <tbody>\n",
       "    <tr>\n",
       "      <th>0</th>\n",
       "      <td>LogisticRegression / Imbalanced data</td>\n",
       "      <td>0.969423</td>\n",
       "      <td>0.968484</td>\n",
       "      <td>0.968484</td>\n",
       "      <td>0.965576</td>\n",
       "      <td>0.812192</td>\n",
       "      <td>0.548441</td>\n",
       "    </tr>\n",
       "    <tr>\n",
       "      <th>1</th>\n",
       "      <td>Baseline - RandomForestClassifier / Imbalanced...</td>\n",
       "      <td>0.973288</td>\n",
       "      <td>0.970750</td>\n",
       "      <td>0.970750</td>\n",
       "      <td>0.967033</td>\n",
       "      <td>0.899570</td>\n",
       "      <td>0.521414</td>\n",
       "    </tr>\n",
       "    <tr>\n",
       "      <th>2</th>\n",
       "      <td>Stacking / Imbalanced data</td>\n",
       "      <td>0.980939</td>\n",
       "      <td>0.977592</td>\n",
       "      <td>0.977592</td>\n",
       "      <td>0.976290</td>\n",
       "      <td>0.876596</td>\n",
       "      <td>0.685239</td>\n",
       "    </tr>\n",
       "    <tr>\n",
       "      <th>3</th>\n",
       "      <td>Stacking-45features / Imbalanced data</td>\n",
       "      <td>0.508322</td>\n",
       "      <td>0.504883</td>\n",
       "      <td>0.979246</td>\n",
       "      <td>0.978226</td>\n",
       "      <td>0.881208</td>\n",
       "      <td>0.715593</td>\n",
       "    </tr>\n",
       "    <tr>\n",
       "      <th>4</th>\n",
       "      <td>Stacking-all_features / Imbalanced data</td>\n",
       "      <td>0.525547</td>\n",
       "      <td>0.521173</td>\n",
       "      <td>0.979700</td>\n",
       "      <td>0.978842</td>\n",
       "      <td>0.875186</td>\n",
       "      <td>0.731809</td>\n",
       "    </tr>\n",
       "    <tr>\n",
       "      <th>5</th>\n",
       "      <td>Random_forest/GridSearch_all_features / Imbala...</td>\n",
       "      <td>0.664349</td>\n",
       "      <td>0.453638</td>\n",
       "      <td>0.969028</td>\n",
       "      <td>0.963756</td>\n",
       "      <td>0.953671</td>\n",
       "      <td>0.453638</td>\n",
       "    </tr>\n",
       "    <tr>\n",
       "      <th>6</th>\n",
       "      <td>LogisticRegression / Random Under Sampled data</td>\n",
       "      <td>0.884492</td>\n",
       "      <td>0.872727</td>\n",
       "      <td>0.872727</td>\n",
       "      <td>0.872724</td>\n",
       "      <td>0.876170</td>\n",
       "      <td>0.868046</td>\n",
       "    </tr>\n",
       "    <tr>\n",
       "      <th>7</th>\n",
       "      <td>LogisticRegression / Random Over Sampled data</td>\n",
       "      <td>0.883325</td>\n",
       "      <td>0.884345</td>\n",
       "      <td>0.884345</td>\n",
       "      <td>0.884345</td>\n",
       "      <td>0.884298</td>\n",
       "      <td>0.884407</td>\n",
       "    </tr>\n",
       "    <tr>\n",
       "      <th>8</th>\n",
       "      <td>LogisticRegression / SMOTE Over Sampled data</td>\n",
       "      <td>0.901201</td>\n",
       "      <td>0.900058</td>\n",
       "      <td>0.900058</td>\n",
       "      <td>0.900057</td>\n",
       "      <td>0.898063</td>\n",
       "      <td>0.902563</td>\n",
       "    </tr>\n",
       "    <tr>\n",
       "      <th>9</th>\n",
       "      <td>Tuned LogisticRegression / Random Under Sample...</td>\n",
       "      <td>0.883541</td>\n",
       "      <td>0.871658</td>\n",
       "      <td>0.871658</td>\n",
       "      <td>0.871657</td>\n",
       "      <td>0.873745</td>\n",
       "      <td>0.868759</td>\n",
       "    </tr>\n",
       "    <tr>\n",
       "      <th>10</th>\n",
       "      <td>DecisionTreeClassifier / Random Under Sampled ...</td>\n",
       "      <td>0.932620</td>\n",
       "      <td>0.867736</td>\n",
       "      <td>0.867736</td>\n",
       "      <td>0.867664</td>\n",
       "      <td>0.885565</td>\n",
       "      <td>0.844508</td>\n",
       "    </tr>\n",
       "    <tr>\n",
       "      <th>11</th>\n",
       "      <td>DecisionTreeClassifier / Random Over Sampled data</td>\n",
       "      <td>0.910327</td>\n",
       "      <td>0.908458</td>\n",
       "      <td>0.908458</td>\n",
       "      <td>0.908447</td>\n",
       "      <td>0.917566</td>\n",
       "      <td>0.897552</td>\n",
       "    </tr>\n",
       "    <tr>\n",
       "      <th>12</th>\n",
       "      <td>DecisionTreeClassifier / SMOTE Over Sampled data</td>\n",
       "      <td>0.945428</td>\n",
       "      <td>0.939513</td>\n",
       "      <td>0.939513</td>\n",
       "      <td>0.939507</td>\n",
       "      <td>0.948447</td>\n",
       "      <td>0.929551</td>\n",
       "    </tr>\n",
       "    <tr>\n",
       "      <th>13</th>\n",
       "      <td>Tuned DecisionTreeClassifier / Random Under sa...</td>\n",
       "      <td>0.881521</td>\n",
       "      <td>0.865241</td>\n",
       "      <td>0.865241</td>\n",
       "      <td>0.865232</td>\n",
       "      <td>0.871014</td>\n",
       "      <td>0.857347</td>\n",
       "    </tr>\n",
       "    <tr>\n",
       "      <th>14</th>\n",
       "      <td>RandomForestClassifier / Imbalanced data</td>\n",
       "      <td>0.973443</td>\n",
       "      <td>0.970818</td>\n",
       "      <td>0.970818</td>\n",
       "      <td>0.966925</td>\n",
       "      <td>0.912177</td>\n",
       "      <td>0.513929</td>\n",
       "    </tr>\n",
       "    <tr>\n",
       "      <th>15</th>\n",
       "      <td>RandomForestClassifier / Random Under Sampling...</td>\n",
       "      <td>0.936067</td>\n",
       "      <td>0.888770</td>\n",
       "      <td>0.888770</td>\n",
       "      <td>0.888700</td>\n",
       "      <td>0.909159</td>\n",
       "      <td>0.863766</td>\n",
       "    </tr>\n",
       "    <tr>\n",
       "      <th>16</th>\n",
       "      <td>RandomForestClassifier / Random Over Sampling ...</td>\n",
       "      <td>0.918495</td>\n",
       "      <td>0.917577</td>\n",
       "      <td>0.917577</td>\n",
       "      <td>0.917559</td>\n",
       "      <td>0.930249</td>\n",
       "      <td>0.902851</td>\n",
       "    </tr>\n",
       "    <tr>\n",
       "      <th>17</th>\n",
       "      <td>RandomForestClassifier / SMOTE Over Sampling data</td>\n",
       "      <td>0.943648</td>\n",
       "      <td>0.938219</td>\n",
       "      <td>0.938219</td>\n",
       "      <td>0.938219</td>\n",
       "      <td>0.939446</td>\n",
       "      <td>0.936822</td>\n",
       "    </tr>\n",
       "  </tbody>\n",
       "</table>\n",
       "</div>"
      ],
      "text/plain": [
       "                                           Model Name  Training Score  \\\n",
       "0                LogisticRegression / Imbalanced data        0.969423   \n",
       "1   Baseline - RandomForestClassifier / Imbalanced...        0.973288   \n",
       "2                          Stacking / Imbalanced data        0.980939   \n",
       "3               Stacking-45features / Imbalanced data        0.508322   \n",
       "4             Stacking-all_features / Imbalanced data        0.525547   \n",
       "5   Random_forest/GridSearch_all_features / Imbala...        0.664349   \n",
       "6      LogisticRegression / Random Under Sampled data        0.884492   \n",
       "7       LogisticRegression / Random Over Sampled data        0.883325   \n",
       "8        LogisticRegression / SMOTE Over Sampled data        0.901201   \n",
       "9   Tuned LogisticRegression / Random Under Sample...        0.883541   \n",
       "10  DecisionTreeClassifier / Random Under Sampled ...        0.932620   \n",
       "11  DecisionTreeClassifier / Random Over Sampled data        0.910327   \n",
       "12   DecisionTreeClassifier / SMOTE Over Sampled data        0.945428   \n",
       "13  Tuned DecisionTreeClassifier / Random Under sa...        0.881521   \n",
       "14           RandomForestClassifier / Imbalanced data        0.973443   \n",
       "15  RandomForestClassifier / Random Under Sampling...        0.936067   \n",
       "16  RandomForestClassifier / Random Over Sampling ...        0.918495   \n",
       "17  RandomForestClassifier / SMOTE Over Sampling data        0.943648   \n",
       "\n",
       "    Testing Score  Accuracy  F1 Score  Precision    Recall  \n",
       "0        0.968484  0.968484  0.965576   0.812192  0.548441  \n",
       "1        0.970750  0.970750  0.967033   0.899570  0.521414  \n",
       "2        0.977592  0.977592  0.976290   0.876596  0.685239  \n",
       "3        0.504883  0.979246  0.978226   0.881208  0.715593  \n",
       "4        0.521173  0.979700  0.978842   0.875186  0.731809  \n",
       "5        0.453638  0.969028  0.963756   0.953671  0.453638  \n",
       "6        0.872727  0.872727  0.872724   0.876170  0.868046  \n",
       "7        0.884345  0.884345  0.884345   0.884298  0.884407  \n",
       "8        0.900058  0.900058  0.900057   0.898063  0.902563  \n",
       "9        0.871658  0.871658  0.871657   0.873745  0.868759  \n",
       "10       0.867736  0.867736  0.867664   0.885565  0.844508  \n",
       "11       0.908458  0.908458  0.908447   0.917566  0.897552  \n",
       "12       0.939513  0.939513  0.939507   0.948447  0.929551  \n",
       "13       0.865241  0.865241  0.865232   0.871014  0.857347  \n",
       "14       0.970818  0.970818  0.966925   0.912177  0.513929  \n",
       "15       0.888770  0.888770  0.888700   0.909159  0.863766  \n",
       "16       0.917577  0.917577  0.917559   0.930249  0.902851  \n",
       "17       0.938219  0.938219  0.938219   0.939446  0.936822  "
      ]
     },
     "execution_count": 396,
     "metadata": {},
     "output_type": "execute_result"
    }
   ],
   "source": [
    "# Adding baseline model evalution statistics\n",
    "model_evalution_df = add_model_evalution_stat(model_name, rf, X_train_s_sampled, X_test_s_sampled, y_train_s_sampled, y_test_s_sampled, y_train_pred, y_test_pred, model_evalution_df)\n",
    "model_evalution_df"
   ]
  },
  {
   "cell_type": "markdown",
   "metadata": {},
   "source": [
    "#### Random Forest - Random Under Sampling data - Tuned hyperparameters"
   ]
  },
  {
   "cell_type": "code",
   "execution_count": 398,
   "metadata": {},
   "outputs": [],
   "source": [
    "# Number of trees in Random Forest\n",
    "n_estimators = list(np.linspace(start=100, stop=300, num=5, dtype=int))\n",
    "# Max depth of trees in Random Forest\n",
    "max_depth = list(np.linspace(start=4, stop=20, num=5, dtype=int))\n",
    "# Number of samples to split a node\n",
    "min_samples_split = list(np.linspace(start=2, stop=12, num=6, dtype=int))\n",
    "# Number of samplet at leaf node\n",
    "min_samples_leaf = list(np.linspace(start=2, stop=12, num=6, dtype=int))\n",
    "# Type of criterion\n",
    "criterion = ['gini', 'entropy']\n",
    "\n",
    "param_grid = {\n",
    "    'n_estimators':n_estimators,\n",
    "    'max_depth':max_depth,\n",
    "    'min_samples_leaf':min_samples_leaf,\n",
    "    'min_samples_split':min_samples_split,\n",
    "    'criterion':criterion\n",
    "}"
   ]
  },
  {
   "cell_type": "code",
   "execution_count": 399,
   "metadata": {},
   "outputs": [
    {
     "name": "stdout",
     "output_type": "stream",
     "text": [
      "Metrics for the test sample: \n",
      " \n",
      "              precision    recall  f1-score   support\n",
      "\n",
      "           0       0.87      0.91      0.89      1403\n",
      "           1       0.91      0.86      0.89      1402\n",
      "\n",
      "    accuracy                           0.89      2805\n",
      "   macro avg       0.89      0.89      0.89      2805\n",
      "weighted avg       0.89      0.89      0.89      2805\n",
      "\n"
     ]
    }
   ],
   "source": [
    "grid_search_rf = GridSearchCV(\n",
    "    estimator=ensemble.RandomForestClassifier(random_state=42),\n",
    "    param_grid=param_grid,\n",
    "    cv=5,\n",
    "    n_jobs=-1,\n",
    "    scoring='recall'\n",
    ")\n",
    "\n",
    "\n",
    "model_name = 'Tuned RandomForestClassifier / Random Under Sampled data'\n",
    "best_params_rf = grid_search_rf.fit(X_train_u_sampled, y_train_u_sampled)\n",
    "\n",
    "y_train_pred = best_params_rf.best_estimator_.predict(X_train_u_sampled)\n",
    "y_test_pred = best_params_rf.best_estimator_.predict(X_test_u_sampled)\n",
    "\n",
    "print(f'Metrics for the test sample: \\n \\n{metrics.classification_report(y_test_u_sampled, y_test_pred)}')"
   ]
  },
  {
   "cell_type": "code",
   "execution_count": 400,
   "metadata": {},
   "outputs": [
    {
     "name": "stderr",
     "output_type": "stream",
     "text": [
      "/var/folders/q7/y12hg0bj54sg455fwlths6dw0000gp/T/ipykernel_35359/2868486197.py:29: FutureWarning: The frame.append method is deprecated and will be removed from pandas in a future version. Use pandas.concat instead.\n",
      "  model_evalution_df = model_evalution_df.append(model_evalution_dict, ignore_index=True)\n"
     ]
    },
    {
     "data": {
      "text/html": [
       "<div>\n",
       "<style scoped>\n",
       "    .dataframe tbody tr th:only-of-type {\n",
       "        vertical-align: middle;\n",
       "    }\n",
       "\n",
       "    .dataframe tbody tr th {\n",
       "        vertical-align: top;\n",
       "    }\n",
       "\n",
       "    .dataframe thead th {\n",
       "        text-align: right;\n",
       "    }\n",
       "</style>\n",
       "<table border=\"1\" class=\"dataframe\">\n",
       "  <thead>\n",
       "    <tr style=\"text-align: right;\">\n",
       "      <th></th>\n",
       "      <th>Model Name</th>\n",
       "      <th>Training Score</th>\n",
       "      <th>Testing Score</th>\n",
       "      <th>Accuracy</th>\n",
       "      <th>F1 Score</th>\n",
       "      <th>Precision</th>\n",
       "      <th>Recall</th>\n",
       "    </tr>\n",
       "  </thead>\n",
       "  <tbody>\n",
       "    <tr>\n",
       "      <th>0</th>\n",
       "      <td>LogisticRegression / Imbalanced data</td>\n",
       "      <td>0.969423</td>\n",
       "      <td>0.968484</td>\n",
       "      <td>0.968484</td>\n",
       "      <td>0.965576</td>\n",
       "      <td>0.812192</td>\n",
       "      <td>0.548441</td>\n",
       "    </tr>\n",
       "    <tr>\n",
       "      <th>1</th>\n",
       "      <td>Baseline - RandomForestClassifier / Imbalanced...</td>\n",
       "      <td>0.973288</td>\n",
       "      <td>0.970750</td>\n",
       "      <td>0.970750</td>\n",
       "      <td>0.967033</td>\n",
       "      <td>0.899570</td>\n",
       "      <td>0.521414</td>\n",
       "    </tr>\n",
       "    <tr>\n",
       "      <th>2</th>\n",
       "      <td>Stacking / Imbalanced data</td>\n",
       "      <td>0.980939</td>\n",
       "      <td>0.977592</td>\n",
       "      <td>0.977592</td>\n",
       "      <td>0.976290</td>\n",
       "      <td>0.876596</td>\n",
       "      <td>0.685239</td>\n",
       "    </tr>\n",
       "    <tr>\n",
       "      <th>3</th>\n",
       "      <td>Stacking-45features / Imbalanced data</td>\n",
       "      <td>0.508322</td>\n",
       "      <td>0.504883</td>\n",
       "      <td>0.979246</td>\n",
       "      <td>0.978226</td>\n",
       "      <td>0.881208</td>\n",
       "      <td>0.715593</td>\n",
       "    </tr>\n",
       "    <tr>\n",
       "      <th>4</th>\n",
       "      <td>Stacking-all_features / Imbalanced data</td>\n",
       "      <td>0.525547</td>\n",
       "      <td>0.521173</td>\n",
       "      <td>0.979700</td>\n",
       "      <td>0.978842</td>\n",
       "      <td>0.875186</td>\n",
       "      <td>0.731809</td>\n",
       "    </tr>\n",
       "    <tr>\n",
       "      <th>5</th>\n",
       "      <td>Random_forest/GridSearch_all_features / Imbala...</td>\n",
       "      <td>0.664349</td>\n",
       "      <td>0.453638</td>\n",
       "      <td>0.969028</td>\n",
       "      <td>0.963756</td>\n",
       "      <td>0.953671</td>\n",
       "      <td>0.453638</td>\n",
       "    </tr>\n",
       "    <tr>\n",
       "      <th>6</th>\n",
       "      <td>LogisticRegression / Random Under Sampled data</td>\n",
       "      <td>0.884492</td>\n",
       "      <td>0.872727</td>\n",
       "      <td>0.872727</td>\n",
       "      <td>0.872724</td>\n",
       "      <td>0.876170</td>\n",
       "      <td>0.868046</td>\n",
       "    </tr>\n",
       "    <tr>\n",
       "      <th>7</th>\n",
       "      <td>LogisticRegression / Random Over Sampled data</td>\n",
       "      <td>0.883325</td>\n",
       "      <td>0.884345</td>\n",
       "      <td>0.884345</td>\n",
       "      <td>0.884345</td>\n",
       "      <td>0.884298</td>\n",
       "      <td>0.884407</td>\n",
       "    </tr>\n",
       "    <tr>\n",
       "      <th>8</th>\n",
       "      <td>LogisticRegression / SMOTE Over Sampled data</td>\n",
       "      <td>0.901201</td>\n",
       "      <td>0.900058</td>\n",
       "      <td>0.900058</td>\n",
       "      <td>0.900057</td>\n",
       "      <td>0.898063</td>\n",
       "      <td>0.902563</td>\n",
       "    </tr>\n",
       "    <tr>\n",
       "      <th>9</th>\n",
       "      <td>Tuned LogisticRegression / Random Under Sample...</td>\n",
       "      <td>0.883541</td>\n",
       "      <td>0.871658</td>\n",
       "      <td>0.871658</td>\n",
       "      <td>0.871657</td>\n",
       "      <td>0.873745</td>\n",
       "      <td>0.868759</td>\n",
       "    </tr>\n",
       "    <tr>\n",
       "      <th>10</th>\n",
       "      <td>DecisionTreeClassifier / Random Under Sampled ...</td>\n",
       "      <td>0.932620</td>\n",
       "      <td>0.867736</td>\n",
       "      <td>0.867736</td>\n",
       "      <td>0.867664</td>\n",
       "      <td>0.885565</td>\n",
       "      <td>0.844508</td>\n",
       "    </tr>\n",
       "    <tr>\n",
       "      <th>11</th>\n",
       "      <td>DecisionTreeClassifier / Random Over Sampled data</td>\n",
       "      <td>0.910327</td>\n",
       "      <td>0.908458</td>\n",
       "      <td>0.908458</td>\n",
       "      <td>0.908447</td>\n",
       "      <td>0.917566</td>\n",
       "      <td>0.897552</td>\n",
       "    </tr>\n",
       "    <tr>\n",
       "      <th>12</th>\n",
       "      <td>DecisionTreeClassifier / SMOTE Over Sampled data</td>\n",
       "      <td>0.945428</td>\n",
       "      <td>0.939513</td>\n",
       "      <td>0.939513</td>\n",
       "      <td>0.939507</td>\n",
       "      <td>0.948447</td>\n",
       "      <td>0.929551</td>\n",
       "    </tr>\n",
       "    <tr>\n",
       "      <th>13</th>\n",
       "      <td>Tuned DecisionTreeClassifier / Random Under sa...</td>\n",
       "      <td>0.881521</td>\n",
       "      <td>0.865241</td>\n",
       "      <td>0.865241</td>\n",
       "      <td>0.865232</td>\n",
       "      <td>0.871014</td>\n",
       "      <td>0.857347</td>\n",
       "    </tr>\n",
       "    <tr>\n",
       "      <th>14</th>\n",
       "      <td>RandomForestClassifier / Imbalanced data</td>\n",
       "      <td>0.973443</td>\n",
       "      <td>0.970818</td>\n",
       "      <td>0.970818</td>\n",
       "      <td>0.966925</td>\n",
       "      <td>0.912177</td>\n",
       "      <td>0.513929</td>\n",
       "    </tr>\n",
       "    <tr>\n",
       "      <th>15</th>\n",
       "      <td>RandomForestClassifier / Random Under Sampling...</td>\n",
       "      <td>0.936067</td>\n",
       "      <td>0.888770</td>\n",
       "      <td>0.888770</td>\n",
       "      <td>0.888700</td>\n",
       "      <td>0.909159</td>\n",
       "      <td>0.863766</td>\n",
       "    </tr>\n",
       "    <tr>\n",
       "      <th>16</th>\n",
       "      <td>RandomForestClassifier / Random Over Sampling ...</td>\n",
       "      <td>0.918495</td>\n",
       "      <td>0.917577</td>\n",
       "      <td>0.917577</td>\n",
       "      <td>0.917559</td>\n",
       "      <td>0.930249</td>\n",
       "      <td>0.902851</td>\n",
       "    </tr>\n",
       "    <tr>\n",
       "      <th>17</th>\n",
       "      <td>RandomForestClassifier / SMOTE Over Sampling data</td>\n",
       "      <td>0.943648</td>\n",
       "      <td>0.938219</td>\n",
       "      <td>0.938219</td>\n",
       "      <td>0.938219</td>\n",
       "      <td>0.939446</td>\n",
       "      <td>0.936822</td>\n",
       "    </tr>\n",
       "    <tr>\n",
       "      <th>18</th>\n",
       "      <td>Tuned RandomForestClassifier / Random Under Sa...</td>\n",
       "      <td>0.941414</td>\n",
       "      <td>0.888414</td>\n",
       "      <td>0.888414</td>\n",
       "      <td>0.888349</td>\n",
       "      <td>0.907865</td>\n",
       "      <td>0.864479</td>\n",
       "    </tr>\n",
       "  </tbody>\n",
       "</table>\n",
       "</div>"
      ],
      "text/plain": [
       "                                           Model Name  Training Score  \\\n",
       "0                LogisticRegression / Imbalanced data        0.969423   \n",
       "1   Baseline - RandomForestClassifier / Imbalanced...        0.973288   \n",
       "2                          Stacking / Imbalanced data        0.980939   \n",
       "3               Stacking-45features / Imbalanced data        0.508322   \n",
       "4             Stacking-all_features / Imbalanced data        0.525547   \n",
       "5   Random_forest/GridSearch_all_features / Imbala...        0.664349   \n",
       "6      LogisticRegression / Random Under Sampled data        0.884492   \n",
       "7       LogisticRegression / Random Over Sampled data        0.883325   \n",
       "8        LogisticRegression / SMOTE Over Sampled data        0.901201   \n",
       "9   Tuned LogisticRegression / Random Under Sample...        0.883541   \n",
       "10  DecisionTreeClassifier / Random Under Sampled ...        0.932620   \n",
       "11  DecisionTreeClassifier / Random Over Sampled data        0.910327   \n",
       "12   DecisionTreeClassifier / SMOTE Over Sampled data        0.945428   \n",
       "13  Tuned DecisionTreeClassifier / Random Under sa...        0.881521   \n",
       "14           RandomForestClassifier / Imbalanced data        0.973443   \n",
       "15  RandomForestClassifier / Random Under Sampling...        0.936067   \n",
       "16  RandomForestClassifier / Random Over Sampling ...        0.918495   \n",
       "17  RandomForestClassifier / SMOTE Over Sampling data        0.943648   \n",
       "18  Tuned RandomForestClassifier / Random Under Sa...        0.941414   \n",
       "\n",
       "    Testing Score  Accuracy  F1 Score  Precision    Recall  \n",
       "0        0.968484  0.968484  0.965576   0.812192  0.548441  \n",
       "1        0.970750  0.970750  0.967033   0.899570  0.521414  \n",
       "2        0.977592  0.977592  0.976290   0.876596  0.685239  \n",
       "3        0.504883  0.979246  0.978226   0.881208  0.715593  \n",
       "4        0.521173  0.979700  0.978842   0.875186  0.731809  \n",
       "5        0.453638  0.969028  0.963756   0.953671  0.453638  \n",
       "6        0.872727  0.872727  0.872724   0.876170  0.868046  \n",
       "7        0.884345  0.884345  0.884345   0.884298  0.884407  \n",
       "8        0.900058  0.900058  0.900057   0.898063  0.902563  \n",
       "9        0.871658  0.871658  0.871657   0.873745  0.868759  \n",
       "10       0.867736  0.867736  0.867664   0.885565  0.844508  \n",
       "11       0.908458  0.908458  0.908447   0.917566  0.897552  \n",
       "12       0.939513  0.939513  0.939507   0.948447  0.929551  \n",
       "13       0.865241  0.865241  0.865232   0.871014  0.857347  \n",
       "14       0.970818  0.970818  0.966925   0.912177  0.513929  \n",
       "15       0.888770  0.888770  0.888700   0.909159  0.863766  \n",
       "16       0.917577  0.917577  0.917559   0.930249  0.902851  \n",
       "17       0.938219  0.938219  0.938219   0.939446  0.936822  \n",
       "18       0.888414  0.888414  0.888349   0.907865  0.864479  "
      ]
     },
     "execution_count": 400,
     "metadata": {},
     "output_type": "execute_result"
    }
   ],
   "source": [
    "# Adding baseline model evalution statistics\n",
    "model_evalution_df = add_model_evalution_stat(model_name, best_params_rf.best_estimator_, X_train_u_sampled, X_test_u_sampled, y_train_u_sampled, y_test_u_sampled, y_train_pred, y_test_pred, model_evalution_df)\n",
    "model_evalution_df"
   ]
  },
  {
   "cell_type": "markdown",
   "metadata": {},
   "source": [
    "__The first is the processing of addresses; you also need to add signs of correspondence between the country in which the payment was made and the country of account registration\n",
    "it is necessary to work with the ip addresses attribute\n",
    "Also a sign of user_agent - you need to drag in both the domain and the browser and see from which browser transactions are usually made.__\n",
    "\n",
    "Then try using gridsearch to sort through the parameters and make a complex model. But all this will give results if you follow step 1"
   ]
  },
  {
   "cell_type": "markdown",
   "metadata": {},
   "source": [
    "Перше це обробка адрес, ще треба додати ознаки відповідності країни, за якою оплачували зі строною реєстрації рахунку.\n",
    "необхідно попрацювати з ознакою ip adres\n",
    "Також ознака user_agent - необхідно вітянути і домен і браузер і подивитися з якого браузера зазвичай здійснюються транзакції.\n",
    "\n",
    "Потім спробувати за допомогою gridsearch перебрати параметри і створити комплексну модель. Але це все дасть результат, якщо виконати крок 1"
   ]
  },
  {
   "cell_type": "markdown",
   "metadata": {},
   "source": [
    "#### CatBoost"
   ]
  },
  {
   "cell_type": "markdown",
   "metadata": {},
   "source": [
    "#### CatBoost - Random Under Sampling data"
   ]
  },
  {
   "cell_type": "code",
   "execution_count": 410,
   "metadata": {},
   "outputs": [],
   "source": [
    "# Preparing dataset\n",
    "pool = Pool(data=X_train_u_sampled, label=y_train_u_sampled)"
   ]
  },
  {
   "cell_type": "code",
   "execution_count": 411,
   "metadata": {},
   "outputs": [
    {
     "name": "stdout",
     "output_type": "stream",
     "text": [
      "Best validation Logloss score, stratified: 0.2286+/-0.014 on step 94\n"
     ]
    }
   ],
   "source": [
    "# cv\n",
    "params = {\n",
    "    'loss_function': 'Logloss',\n",
    "    'iterations': 300,\n",
    "    'custom_loss': 'Recall',\n",
    "    'random_seed': 42,\n",
    "    'learning_rate': 0.15\n",
    "}\n",
    "\n",
    "cv_data = cv(\n",
    "    params=params,\n",
    "    pool=Pool(data=X_train_u_sampled, label=y_train_u_sampled),\n",
    "    fold_count=5, # separating to 5 folds\n",
    "    shuffle=True,\n",
    "    partition_random_seed=42,\n",
    "    stratified=True, \n",
    "    verbose=False\n",
    ")\n",
    "\n",
    "# Best score printing\n",
    "best_value = np.min(cv_data['test-Logloss-mean'])\n",
    "best_iter = np.argmin(cv_data['test-Logloss-mean'])\n",
    "print(\"Best validation Logloss score, stratified: {:.4f}+/-{:.3f} on step {}\".format(best_value, cv_data['test-Logloss-std'][best_iter], best_iter))"
   ]
  },
  {
   "cell_type": "code",
   "execution_count": 403,
   "metadata": {},
   "outputs": [
    {
     "name": "stdout",
     "output_type": "stream",
     "text": [
      "0:\tlearn: 0.7799430\ttest: 0.7646570\tbest: 0.7646570 (0)\ttotal: 10.4ms\tremaining: 3.11s\n",
      "50:\tlearn: 0.9073194\ttest: 0.8918919\tbest: 0.8918919 (50)\ttotal: 1.04s\tremaining: 5.07s\n",
      "100:\tlearn: 0.9230038\ttest: 0.8923077\tbest: 0.8948025 (88)\ttotal: 2.29s\tremaining: 4.51s\n",
      "Stopped by overfitting detector  (20 iterations wait)\n",
      "\n",
      "bestTest = 0.8948024948\n",
      "bestIteration = 88\n",
      "\n",
      "Shrink model to first 89 iterations.\n"
     ]
    }
   ],
   "source": [
    "# Creating model object\n",
    "cb_model = CatBoostClassifier(\n",
    "    iterations=300,\n",
    "    learning_rate=0.15,\n",
    "    eval_metric='Recall'\n",
    ")\n",
    "\n",
    "model_name = 'CatBoostClassifier / Random Under Sampled data'\n",
    "cb_model.fit(X_train_u_sampled, y_train_u_sampled,\n",
    "         eval_set=(X_test_scaled, y_test),\n",
    "         verbose=50,\n",
    "         early_stopping_rounds=20,\n",
    ")\n",
    "\n",
    "y_train_pred = cb_model.predict(X_train_u_sampled)\n",
    "y_test_pred = cb_model.predict(X_test_u_sampled)"
   ]
  },
  {
   "cell_type": "code",
   "execution_count": 404,
   "metadata": {},
   "outputs": [
    {
     "name": "stderr",
     "output_type": "stream",
     "text": [
      "/var/folders/q7/y12hg0bj54sg455fwlths6dw0000gp/T/ipykernel_35359/2868486197.py:29: FutureWarning: The frame.append method is deprecated and will be removed from pandas in a future version. Use pandas.concat instead.\n",
      "  model_evalution_df = model_evalution_df.append(model_evalution_dict, ignore_index=True)\n"
     ]
    },
    {
     "data": {
      "text/html": [
       "<div>\n",
       "<style scoped>\n",
       "    .dataframe tbody tr th:only-of-type {\n",
       "        vertical-align: middle;\n",
       "    }\n",
       "\n",
       "    .dataframe tbody tr th {\n",
       "        vertical-align: top;\n",
       "    }\n",
       "\n",
       "    .dataframe thead th {\n",
       "        text-align: right;\n",
       "    }\n",
       "</style>\n",
       "<table border=\"1\" class=\"dataframe\">\n",
       "  <thead>\n",
       "    <tr style=\"text-align: right;\">\n",
       "      <th></th>\n",
       "      <th>Model Name</th>\n",
       "      <th>Training Score</th>\n",
       "      <th>Testing Score</th>\n",
       "      <th>Accuracy</th>\n",
       "      <th>F1 Score</th>\n",
       "      <th>Precision</th>\n",
       "      <th>Recall</th>\n",
       "    </tr>\n",
       "  </thead>\n",
       "  <tbody>\n",
       "    <tr>\n",
       "      <th>0</th>\n",
       "      <td>LogisticRegression / Imbalanced data</td>\n",
       "      <td>0.969423</td>\n",
       "      <td>0.968484</td>\n",
       "      <td>0.968484</td>\n",
       "      <td>0.965576</td>\n",
       "      <td>0.812192</td>\n",
       "      <td>0.548441</td>\n",
       "    </tr>\n",
       "    <tr>\n",
       "      <th>1</th>\n",
       "      <td>Baseline - RandomForestClassifier / Imbalanced...</td>\n",
       "      <td>0.973288</td>\n",
       "      <td>0.970750</td>\n",
       "      <td>0.970750</td>\n",
       "      <td>0.967033</td>\n",
       "      <td>0.899570</td>\n",
       "      <td>0.521414</td>\n",
       "    </tr>\n",
       "    <tr>\n",
       "      <th>2</th>\n",
       "      <td>Stacking / Imbalanced data</td>\n",
       "      <td>0.980939</td>\n",
       "      <td>0.977592</td>\n",
       "      <td>0.977592</td>\n",
       "      <td>0.976290</td>\n",
       "      <td>0.876596</td>\n",
       "      <td>0.685239</td>\n",
       "    </tr>\n",
       "    <tr>\n",
       "      <th>3</th>\n",
       "      <td>Stacking-45features / Imbalanced data</td>\n",
       "      <td>0.508322</td>\n",
       "      <td>0.504883</td>\n",
       "      <td>0.979246</td>\n",
       "      <td>0.978226</td>\n",
       "      <td>0.881208</td>\n",
       "      <td>0.715593</td>\n",
       "    </tr>\n",
       "    <tr>\n",
       "      <th>4</th>\n",
       "      <td>Stacking-all_features / Imbalanced data</td>\n",
       "      <td>0.525547</td>\n",
       "      <td>0.521173</td>\n",
       "      <td>0.979700</td>\n",
       "      <td>0.978842</td>\n",
       "      <td>0.875186</td>\n",
       "      <td>0.731809</td>\n",
       "    </tr>\n",
       "    <tr>\n",
       "      <th>5</th>\n",
       "      <td>Random_forest/GridSearch_all_features / Imbala...</td>\n",
       "      <td>0.664349</td>\n",
       "      <td>0.453638</td>\n",
       "      <td>0.969028</td>\n",
       "      <td>0.963756</td>\n",
       "      <td>0.953671</td>\n",
       "      <td>0.453638</td>\n",
       "    </tr>\n",
       "    <tr>\n",
       "      <th>6</th>\n",
       "      <td>LogisticRegression / Random Under Sampled data</td>\n",
       "      <td>0.884492</td>\n",
       "      <td>0.872727</td>\n",
       "      <td>0.872727</td>\n",
       "      <td>0.872724</td>\n",
       "      <td>0.876170</td>\n",
       "      <td>0.868046</td>\n",
       "    </tr>\n",
       "    <tr>\n",
       "      <th>7</th>\n",
       "      <td>LogisticRegression / Random Over Sampled data</td>\n",
       "      <td>0.883325</td>\n",
       "      <td>0.884345</td>\n",
       "      <td>0.884345</td>\n",
       "      <td>0.884345</td>\n",
       "      <td>0.884298</td>\n",
       "      <td>0.884407</td>\n",
       "    </tr>\n",
       "    <tr>\n",
       "      <th>8</th>\n",
       "      <td>LogisticRegression / SMOTE Over Sampled data</td>\n",
       "      <td>0.901201</td>\n",
       "      <td>0.900058</td>\n",
       "      <td>0.900058</td>\n",
       "      <td>0.900057</td>\n",
       "      <td>0.898063</td>\n",
       "      <td>0.902563</td>\n",
       "    </tr>\n",
       "    <tr>\n",
       "      <th>9</th>\n",
       "      <td>Tuned LogisticRegression / Random Under Sample...</td>\n",
       "      <td>0.883541</td>\n",
       "      <td>0.871658</td>\n",
       "      <td>0.871658</td>\n",
       "      <td>0.871657</td>\n",
       "      <td>0.873745</td>\n",
       "      <td>0.868759</td>\n",
       "    </tr>\n",
       "    <tr>\n",
       "      <th>10</th>\n",
       "      <td>DecisionTreeClassifier / Random Under Sampled ...</td>\n",
       "      <td>0.932620</td>\n",
       "      <td>0.867736</td>\n",
       "      <td>0.867736</td>\n",
       "      <td>0.867664</td>\n",
       "      <td>0.885565</td>\n",
       "      <td>0.844508</td>\n",
       "    </tr>\n",
       "    <tr>\n",
       "      <th>11</th>\n",
       "      <td>DecisionTreeClassifier / Random Over Sampled data</td>\n",
       "      <td>0.910327</td>\n",
       "      <td>0.908458</td>\n",
       "      <td>0.908458</td>\n",
       "      <td>0.908447</td>\n",
       "      <td>0.917566</td>\n",
       "      <td>0.897552</td>\n",
       "    </tr>\n",
       "    <tr>\n",
       "      <th>12</th>\n",
       "      <td>DecisionTreeClassifier / SMOTE Over Sampled data</td>\n",
       "      <td>0.945428</td>\n",
       "      <td>0.939513</td>\n",
       "      <td>0.939513</td>\n",
       "      <td>0.939507</td>\n",
       "      <td>0.948447</td>\n",
       "      <td>0.929551</td>\n",
       "    </tr>\n",
       "    <tr>\n",
       "      <th>13</th>\n",
       "      <td>Tuned DecisionTreeClassifier / Random Under sa...</td>\n",
       "      <td>0.881521</td>\n",
       "      <td>0.865241</td>\n",
       "      <td>0.865241</td>\n",
       "      <td>0.865232</td>\n",
       "      <td>0.871014</td>\n",
       "      <td>0.857347</td>\n",
       "    </tr>\n",
       "    <tr>\n",
       "      <th>14</th>\n",
       "      <td>RandomForestClassifier / Imbalanced data</td>\n",
       "      <td>0.973443</td>\n",
       "      <td>0.970818</td>\n",
       "      <td>0.970818</td>\n",
       "      <td>0.966925</td>\n",
       "      <td>0.912177</td>\n",
       "      <td>0.513929</td>\n",
       "    </tr>\n",
       "    <tr>\n",
       "      <th>15</th>\n",
       "      <td>RandomForestClassifier / Random Under Sampling...</td>\n",
       "      <td>0.936067</td>\n",
       "      <td>0.888770</td>\n",
       "      <td>0.888770</td>\n",
       "      <td>0.888700</td>\n",
       "      <td>0.909159</td>\n",
       "      <td>0.863766</td>\n",
       "    </tr>\n",
       "    <tr>\n",
       "      <th>16</th>\n",
       "      <td>RandomForestClassifier / Random Over Sampling ...</td>\n",
       "      <td>0.918495</td>\n",
       "      <td>0.917577</td>\n",
       "      <td>0.917577</td>\n",
       "      <td>0.917559</td>\n",
       "      <td>0.930249</td>\n",
       "      <td>0.902851</td>\n",
       "    </tr>\n",
       "    <tr>\n",
       "      <th>17</th>\n",
       "      <td>RandomForestClassifier / SMOTE Over Sampling data</td>\n",
       "      <td>0.943648</td>\n",
       "      <td>0.938219</td>\n",
       "      <td>0.938219</td>\n",
       "      <td>0.938219</td>\n",
       "      <td>0.939446</td>\n",
       "      <td>0.936822</td>\n",
       "    </tr>\n",
       "    <tr>\n",
       "      <th>18</th>\n",
       "      <td>Tuned RandomForestClassifier / Random Under Sa...</td>\n",
       "      <td>0.941414</td>\n",
       "      <td>0.888414</td>\n",
       "      <td>0.888414</td>\n",
       "      <td>0.888349</td>\n",
       "      <td>0.907865</td>\n",
       "      <td>0.864479</td>\n",
       "    </tr>\n",
       "    <tr>\n",
       "      <th>19</th>\n",
       "      <td>CatBoostClassifier / Random Under Sampled data</td>\n",
       "      <td>0.934759</td>\n",
       "      <td>0.895544</td>\n",
       "      <td>0.895544</td>\n",
       "      <td>0.895493</td>\n",
       "      <td>0.913497</td>\n",
       "      <td>0.873752</td>\n",
       "    </tr>\n",
       "  </tbody>\n",
       "</table>\n",
       "</div>"
      ],
      "text/plain": [
       "                                           Model Name  Training Score  \\\n",
       "0                LogisticRegression / Imbalanced data        0.969423   \n",
       "1   Baseline - RandomForestClassifier / Imbalanced...        0.973288   \n",
       "2                          Stacking / Imbalanced data        0.980939   \n",
       "3               Stacking-45features / Imbalanced data        0.508322   \n",
       "4             Stacking-all_features / Imbalanced data        0.525547   \n",
       "5   Random_forest/GridSearch_all_features / Imbala...        0.664349   \n",
       "6      LogisticRegression / Random Under Sampled data        0.884492   \n",
       "7       LogisticRegression / Random Over Sampled data        0.883325   \n",
       "8        LogisticRegression / SMOTE Over Sampled data        0.901201   \n",
       "9   Tuned LogisticRegression / Random Under Sample...        0.883541   \n",
       "10  DecisionTreeClassifier / Random Under Sampled ...        0.932620   \n",
       "11  DecisionTreeClassifier / Random Over Sampled data        0.910327   \n",
       "12   DecisionTreeClassifier / SMOTE Over Sampled data        0.945428   \n",
       "13  Tuned DecisionTreeClassifier / Random Under sa...        0.881521   \n",
       "14           RandomForestClassifier / Imbalanced data        0.973443   \n",
       "15  RandomForestClassifier / Random Under Sampling...        0.936067   \n",
       "16  RandomForestClassifier / Random Over Sampling ...        0.918495   \n",
       "17  RandomForestClassifier / SMOTE Over Sampling data        0.943648   \n",
       "18  Tuned RandomForestClassifier / Random Under Sa...        0.941414   \n",
       "19     CatBoostClassifier / Random Under Sampled data        0.934759   \n",
       "\n",
       "    Testing Score  Accuracy  F1 Score  Precision    Recall  \n",
       "0        0.968484  0.968484  0.965576   0.812192  0.548441  \n",
       "1        0.970750  0.970750  0.967033   0.899570  0.521414  \n",
       "2        0.977592  0.977592  0.976290   0.876596  0.685239  \n",
       "3        0.504883  0.979246  0.978226   0.881208  0.715593  \n",
       "4        0.521173  0.979700  0.978842   0.875186  0.731809  \n",
       "5        0.453638  0.969028  0.963756   0.953671  0.453638  \n",
       "6        0.872727  0.872727  0.872724   0.876170  0.868046  \n",
       "7        0.884345  0.884345  0.884345   0.884298  0.884407  \n",
       "8        0.900058  0.900058  0.900057   0.898063  0.902563  \n",
       "9        0.871658  0.871658  0.871657   0.873745  0.868759  \n",
       "10       0.867736  0.867736  0.867664   0.885565  0.844508  \n",
       "11       0.908458  0.908458  0.908447   0.917566  0.897552  \n",
       "12       0.939513  0.939513  0.939507   0.948447  0.929551  \n",
       "13       0.865241  0.865241  0.865232   0.871014  0.857347  \n",
       "14       0.970818  0.970818  0.966925   0.912177  0.513929  \n",
       "15       0.888770  0.888770  0.888700   0.909159  0.863766  \n",
       "16       0.917577  0.917577  0.917559   0.930249  0.902851  \n",
       "17       0.938219  0.938219  0.938219   0.939446  0.936822  \n",
       "18       0.888414  0.888414  0.888349   0.907865  0.864479  \n",
       "19       0.895544  0.895544  0.895493   0.913497  0.873752  "
      ]
     },
     "execution_count": 404,
     "metadata": {},
     "output_type": "execute_result"
    }
   ],
   "source": [
    "# Adding model evalution statistics\n",
    "model_evalution_df = add_model_evalution_stat(model_name, cb_model, X_train_u_sampled, X_test_u_sampled, y_train_u_sampled, y_test_u_sampled, y_train_pred, y_test_pred, model_evalution_df)\n",
    "model_evalution_df"
   ]
  },
  {
   "cell_type": "markdown",
   "metadata": {},
   "source": [
    "#### CatBoost - Random Over Sampling data"
   ]
  },
  {
   "cell_type": "code",
   "execution_count": 414,
   "metadata": {},
   "outputs": [],
   "source": [
    "# Preparing dataset\n",
    "pool = Pool(data=X_train_o_sampled, label=y_train_o_sampled)"
   ]
  },
  {
   "cell_type": "code",
   "execution_count": 415,
   "metadata": {},
   "outputs": [
    {
     "name": "stdout",
     "output_type": "stream",
     "text": [
      "Best validation Logloss score, stratified: 0.1320+/-0.002 on step 299\n"
     ]
    }
   ],
   "source": [
    "# cv\n",
    "params = {\n",
    "    'loss_function': 'Logloss',\n",
    "    'iterations': 300,\n",
    "    'custom_loss': 'Recall',\n",
    "    'random_seed': 42,\n",
    "    'learning_rate': 0.15\n",
    "}\n",
    "\n",
    "cv_data = cv(\n",
    "    params=params,\n",
    "    pool=Pool(data=X_train_o_sampled, label=y_train_o_sampled),\n",
    "    fold_count=5, # separating to 5 folds\n",
    "    shuffle=True,\n",
    "    partition_random_seed=42,\n",
    "    stratified=True, \n",
    "    verbose=False\n",
    ")\n",
    "\n",
    "# Best score printing\n",
    "best_value = np.min(cv_data['test-Logloss-mean'])\n",
    "best_iter = np.argmin(cv_data['test-Logloss-mean'])\n",
    "print(\"Best validation Logloss score, stratified: {:.4f}+/-{:.3f} on step {}\".format(best_value, cv_data['test-Logloss-std'][best_iter], best_iter))"
   ]
  },
  {
   "cell_type": "code",
   "execution_count": 422,
   "metadata": {},
   "outputs": [
    {
     "name": "stdout",
     "output_type": "stream",
     "text": [
      "0:\tlearn: 0.8607734\ttest: 0.8665281\tbest: 0.8665281 (0)\ttotal: 156ms\tremaining: 46.5s\n",
      "50:\tlearn: 0.8990716\ttest: 0.8881497\tbest: 0.8910603 (39)\ttotal: 8.44s\tremaining: 41.2s\n",
      "Stopped by overfitting detector  (20 iterations wait)\n",
      "\n",
      "bestTest = 0.8910602911\n",
      "bestIteration = 39\n",
      "\n",
      "Shrink model to first 40 iterations.\n"
     ]
    }
   ],
   "source": [
    "# Creating model object\n",
    "cb_o_model = CatBoostClassifier(\n",
    "    iterations=300,\n",
    "    learning_rate=0.15,\n",
    "    eval_metric='Recall'\n",
    ")\n",
    "\n",
    "model_name = 'CatBoostClassifier / Random Over Sampled data'\n",
    "cb_o_model.fit(X_train_o_sampled, y_train_o_sampled,\n",
    "         eval_set=(X_test_scaled, y_test),\n",
    "         verbose=50,\n",
    "         early_stopping_rounds=20,\n",
    ")\n",
    "\n",
    "y_train_pred = cb_o_model.predict(X_train_o_sampled)\n",
    "y_test_pred = cb_o_model.predict(X_test_o_sampled)"
   ]
  },
  {
   "cell_type": "code",
   "execution_count": 423,
   "metadata": {},
   "outputs": [
    {
     "name": "stderr",
     "output_type": "stream",
     "text": [
      "/var/folders/q7/y12hg0bj54sg455fwlths6dw0000gp/T/ipykernel_35359/2868486197.py:29: FutureWarning: The frame.append method is deprecated and will be removed from pandas in a future version. Use pandas.concat instead.\n",
      "  model_evalution_df = model_evalution_df.append(model_evalution_dict, ignore_index=True)\n"
     ]
    },
    {
     "data": {
      "text/html": [
       "<div>\n",
       "<style scoped>\n",
       "    .dataframe tbody tr th:only-of-type {\n",
       "        vertical-align: middle;\n",
       "    }\n",
       "\n",
       "    .dataframe tbody tr th {\n",
       "        vertical-align: top;\n",
       "    }\n",
       "\n",
       "    .dataframe thead th {\n",
       "        text-align: right;\n",
       "    }\n",
       "</style>\n",
       "<table border=\"1\" class=\"dataframe\">\n",
       "  <thead>\n",
       "    <tr style=\"text-align: right;\">\n",
       "      <th></th>\n",
       "      <th>Model Name</th>\n",
       "      <th>Training Score</th>\n",
       "      <th>Testing Score</th>\n",
       "      <th>Accuracy</th>\n",
       "      <th>F1 Score</th>\n",
       "      <th>Precision</th>\n",
       "      <th>Recall</th>\n",
       "    </tr>\n",
       "  </thead>\n",
       "  <tbody>\n",
       "    <tr>\n",
       "      <th>0</th>\n",
       "      <td>LogisticRegression / Imbalanced data</td>\n",
       "      <td>0.969423</td>\n",
       "      <td>0.968484</td>\n",
       "      <td>0.968484</td>\n",
       "      <td>0.965576</td>\n",
       "      <td>0.812192</td>\n",
       "      <td>0.548441</td>\n",
       "    </tr>\n",
       "    <tr>\n",
       "      <th>1</th>\n",
       "      <td>Baseline - RandomForestClassifier / Imbalanced...</td>\n",
       "      <td>0.973288</td>\n",
       "      <td>0.970750</td>\n",
       "      <td>0.970750</td>\n",
       "      <td>0.967033</td>\n",
       "      <td>0.899570</td>\n",
       "      <td>0.521414</td>\n",
       "    </tr>\n",
       "    <tr>\n",
       "      <th>2</th>\n",
       "      <td>Stacking / Imbalanced data</td>\n",
       "      <td>0.980939</td>\n",
       "      <td>0.977592</td>\n",
       "      <td>0.977592</td>\n",
       "      <td>0.976290</td>\n",
       "      <td>0.876596</td>\n",
       "      <td>0.685239</td>\n",
       "    </tr>\n",
       "    <tr>\n",
       "      <th>3</th>\n",
       "      <td>Stacking-45features / Imbalanced data</td>\n",
       "      <td>0.508322</td>\n",
       "      <td>0.504883</td>\n",
       "      <td>0.979246</td>\n",
       "      <td>0.978226</td>\n",
       "      <td>0.881208</td>\n",
       "      <td>0.715593</td>\n",
       "    </tr>\n",
       "    <tr>\n",
       "      <th>4</th>\n",
       "      <td>Stacking-all_features / Imbalanced data</td>\n",
       "      <td>0.525547</td>\n",
       "      <td>0.521173</td>\n",
       "      <td>0.979700</td>\n",
       "      <td>0.978842</td>\n",
       "      <td>0.875186</td>\n",
       "      <td>0.731809</td>\n",
       "    </tr>\n",
       "    <tr>\n",
       "      <th>5</th>\n",
       "      <td>Random_forest/GridSearch_all_features / Imbala...</td>\n",
       "      <td>0.664349</td>\n",
       "      <td>0.453638</td>\n",
       "      <td>0.969028</td>\n",
       "      <td>0.963756</td>\n",
       "      <td>0.953671</td>\n",
       "      <td>0.453638</td>\n",
       "    </tr>\n",
       "    <tr>\n",
       "      <th>6</th>\n",
       "      <td>LogisticRegression / Random Under Sampled data</td>\n",
       "      <td>0.884492</td>\n",
       "      <td>0.872727</td>\n",
       "      <td>0.872727</td>\n",
       "      <td>0.872724</td>\n",
       "      <td>0.876170</td>\n",
       "      <td>0.868046</td>\n",
       "    </tr>\n",
       "    <tr>\n",
       "      <th>7</th>\n",
       "      <td>LogisticRegression / Random Over Sampled data</td>\n",
       "      <td>0.883325</td>\n",
       "      <td>0.884345</td>\n",
       "      <td>0.884345</td>\n",
       "      <td>0.884345</td>\n",
       "      <td>0.884298</td>\n",
       "      <td>0.884407</td>\n",
       "    </tr>\n",
       "    <tr>\n",
       "      <th>8</th>\n",
       "      <td>LogisticRegression / SMOTE Over Sampled data</td>\n",
       "      <td>0.901201</td>\n",
       "      <td>0.900058</td>\n",
       "      <td>0.900058</td>\n",
       "      <td>0.900057</td>\n",
       "      <td>0.898063</td>\n",
       "      <td>0.902563</td>\n",
       "    </tr>\n",
       "    <tr>\n",
       "      <th>9</th>\n",
       "      <td>Tuned LogisticRegression / Random Under Sample...</td>\n",
       "      <td>0.883541</td>\n",
       "      <td>0.871658</td>\n",
       "      <td>0.871658</td>\n",
       "      <td>0.871657</td>\n",
       "      <td>0.873745</td>\n",
       "      <td>0.868759</td>\n",
       "    </tr>\n",
       "    <tr>\n",
       "      <th>10</th>\n",
       "      <td>DecisionTreeClassifier / Random Under Sampled ...</td>\n",
       "      <td>0.932620</td>\n",
       "      <td>0.867736</td>\n",
       "      <td>0.867736</td>\n",
       "      <td>0.867664</td>\n",
       "      <td>0.885565</td>\n",
       "      <td>0.844508</td>\n",
       "    </tr>\n",
       "    <tr>\n",
       "      <th>11</th>\n",
       "      <td>DecisionTreeClassifier / Random Over Sampled data</td>\n",
       "      <td>0.910327</td>\n",
       "      <td>0.908458</td>\n",
       "      <td>0.908458</td>\n",
       "      <td>0.908447</td>\n",
       "      <td>0.917566</td>\n",
       "      <td>0.897552</td>\n",
       "    </tr>\n",
       "    <tr>\n",
       "      <th>12</th>\n",
       "      <td>DecisionTreeClassifier / SMOTE Over Sampled data</td>\n",
       "      <td>0.945428</td>\n",
       "      <td>0.939513</td>\n",
       "      <td>0.939513</td>\n",
       "      <td>0.939507</td>\n",
       "      <td>0.948447</td>\n",
       "      <td>0.929551</td>\n",
       "    </tr>\n",
       "    <tr>\n",
       "      <th>13</th>\n",
       "      <td>Tuned DecisionTreeClassifier / Random Under sa...</td>\n",
       "      <td>0.881521</td>\n",
       "      <td>0.865241</td>\n",
       "      <td>0.865241</td>\n",
       "      <td>0.865232</td>\n",
       "      <td>0.871014</td>\n",
       "      <td>0.857347</td>\n",
       "    </tr>\n",
       "    <tr>\n",
       "      <th>14</th>\n",
       "      <td>RandomForestClassifier / Imbalanced data</td>\n",
       "      <td>0.973443</td>\n",
       "      <td>0.970818</td>\n",
       "      <td>0.970818</td>\n",
       "      <td>0.966925</td>\n",
       "      <td>0.912177</td>\n",
       "      <td>0.513929</td>\n",
       "    </tr>\n",
       "    <tr>\n",
       "      <th>15</th>\n",
       "      <td>RandomForestClassifier / Random Under Sampling...</td>\n",
       "      <td>0.936067</td>\n",
       "      <td>0.888770</td>\n",
       "      <td>0.888770</td>\n",
       "      <td>0.888700</td>\n",
       "      <td>0.909159</td>\n",
       "      <td>0.863766</td>\n",
       "    </tr>\n",
       "    <tr>\n",
       "      <th>16</th>\n",
       "      <td>RandomForestClassifier / Random Over Sampling ...</td>\n",
       "      <td>0.918495</td>\n",
       "      <td>0.917577</td>\n",
       "      <td>0.917577</td>\n",
       "      <td>0.917559</td>\n",
       "      <td>0.930249</td>\n",
       "      <td>0.902851</td>\n",
       "    </tr>\n",
       "    <tr>\n",
       "      <th>17</th>\n",
       "      <td>RandomForestClassifier / SMOTE Over Sampling data</td>\n",
       "      <td>0.943648</td>\n",
       "      <td>0.938219</td>\n",
       "      <td>0.938219</td>\n",
       "      <td>0.938219</td>\n",
       "      <td>0.939446</td>\n",
       "      <td>0.936822</td>\n",
       "    </tr>\n",
       "    <tr>\n",
       "      <th>18</th>\n",
       "      <td>Tuned RandomForestClassifier / Random Under Sa...</td>\n",
       "      <td>0.941414</td>\n",
       "      <td>0.888414</td>\n",
       "      <td>0.888414</td>\n",
       "      <td>0.888349</td>\n",
       "      <td>0.907865</td>\n",
       "      <td>0.864479</td>\n",
       "    </tr>\n",
       "    <tr>\n",
       "      <th>19</th>\n",
       "      <td>CatBoostClassifier / Random Under Sampled data</td>\n",
       "      <td>0.934759</td>\n",
       "      <td>0.895544</td>\n",
       "      <td>0.895544</td>\n",
       "      <td>0.895493</td>\n",
       "      <td>0.913497</td>\n",
       "      <td>0.873752</td>\n",
       "    </tr>\n",
       "    <tr>\n",
       "      <th>20</th>\n",
       "      <td>CatBoostClassifier / Random Over Sampled data</td>\n",
       "      <td>0.909601</td>\n",
       "      <td>0.909341</td>\n",
       "      <td>0.909341</td>\n",
       "      <td>0.909331</td>\n",
       "      <td>0.918241</td>\n",
       "      <td>0.898702</td>\n",
       "    </tr>\n",
       "  </tbody>\n",
       "</table>\n",
       "</div>"
      ],
      "text/plain": [
       "                                           Model Name  Training Score  \\\n",
       "0                LogisticRegression / Imbalanced data        0.969423   \n",
       "1   Baseline - RandomForestClassifier / Imbalanced...        0.973288   \n",
       "2                          Stacking / Imbalanced data        0.980939   \n",
       "3               Stacking-45features / Imbalanced data        0.508322   \n",
       "4             Stacking-all_features / Imbalanced data        0.525547   \n",
       "5   Random_forest/GridSearch_all_features / Imbala...        0.664349   \n",
       "6      LogisticRegression / Random Under Sampled data        0.884492   \n",
       "7       LogisticRegression / Random Over Sampled data        0.883325   \n",
       "8        LogisticRegression / SMOTE Over Sampled data        0.901201   \n",
       "9   Tuned LogisticRegression / Random Under Sample...        0.883541   \n",
       "10  DecisionTreeClassifier / Random Under Sampled ...        0.932620   \n",
       "11  DecisionTreeClassifier / Random Over Sampled data        0.910327   \n",
       "12   DecisionTreeClassifier / SMOTE Over Sampled data        0.945428   \n",
       "13  Tuned DecisionTreeClassifier / Random Under sa...        0.881521   \n",
       "14           RandomForestClassifier / Imbalanced data        0.973443   \n",
       "15  RandomForestClassifier / Random Under Sampling...        0.936067   \n",
       "16  RandomForestClassifier / Random Over Sampling ...        0.918495   \n",
       "17  RandomForestClassifier / SMOTE Over Sampling data        0.943648   \n",
       "18  Tuned RandomForestClassifier / Random Under Sa...        0.941414   \n",
       "19     CatBoostClassifier / Random Under Sampled data        0.934759   \n",
       "20      CatBoostClassifier / Random Over Sampled data        0.909601   \n",
       "\n",
       "    Testing Score  Accuracy  F1 Score  Precision    Recall  \n",
       "0        0.968484  0.968484  0.965576   0.812192  0.548441  \n",
       "1        0.970750  0.970750  0.967033   0.899570  0.521414  \n",
       "2        0.977592  0.977592  0.976290   0.876596  0.685239  \n",
       "3        0.504883  0.979246  0.978226   0.881208  0.715593  \n",
       "4        0.521173  0.979700  0.978842   0.875186  0.731809  \n",
       "5        0.453638  0.969028  0.963756   0.953671  0.453638  \n",
       "6        0.872727  0.872727  0.872724   0.876170  0.868046  \n",
       "7        0.884345  0.884345  0.884345   0.884298  0.884407  \n",
       "8        0.900058  0.900058  0.900057   0.898063  0.902563  \n",
       "9        0.871658  0.871658  0.871657   0.873745  0.868759  \n",
       "10       0.867736  0.867736  0.867664   0.885565  0.844508  \n",
       "11       0.908458  0.908458  0.908447   0.917566  0.897552  \n",
       "12       0.939513  0.939513  0.939507   0.948447  0.929551  \n",
       "13       0.865241  0.865241  0.865232   0.871014  0.857347  \n",
       "14       0.970818  0.970818  0.966925   0.912177  0.513929  \n",
       "15       0.888770  0.888770  0.888700   0.909159  0.863766  \n",
       "16       0.917577  0.917577  0.917559   0.930249  0.902851  \n",
       "17       0.938219  0.938219  0.938219   0.939446  0.936822  \n",
       "18       0.888414  0.888414  0.888349   0.907865  0.864479  \n",
       "19       0.895544  0.895544  0.895493   0.913497  0.873752  \n",
       "20       0.909341  0.909341  0.909331   0.918241  0.898702  "
      ]
     },
     "execution_count": 423,
     "metadata": {},
     "output_type": "execute_result"
    }
   ],
   "source": [
    "# Adding model evalution statistics\n",
    "model_evalution_df = add_model_evalution_stat(model_name, cb_o_model, X_train_o_sampled, X_test_o_sampled, y_train_o_sampled, y_test_o_sampled, y_train_pred, y_test_pred, model_evalution_df)\n",
    "model_evalution_df"
   ]
  },
  {
   "cell_type": "markdown",
   "metadata": {},
   "source": [
    "#### CatBoost - SMOTE Over Sampling data"
   ]
  },
  {
   "cell_type": "code",
   "execution_count": 425,
   "metadata": {},
   "outputs": [],
   "source": [
    "# Preparing dataset\n",
    "pool = Pool(data=X_train_s_sampled, label=y_train_s_sampled)"
   ]
  },
  {
   "cell_type": "code",
   "execution_count": 426,
   "metadata": {},
   "outputs": [
    {
     "name": "stdout",
     "output_type": "stream",
     "text": [
      "Best validation Logloss score, stratified: 0.0409+/-0.001 on step 299\n"
     ]
    }
   ],
   "source": [
    "# cv\n",
    "params = {\n",
    "    'loss_function': 'Logloss',\n",
    "    'iterations': 300,\n",
    "    'custom_loss': 'Recall',\n",
    "    'random_seed': 42,\n",
    "    'learning_rate': 0.15\n",
    "}\n",
    "\n",
    "cv_data = cv(\n",
    "    params=params,\n",
    "    pool=Pool(data=X_train_s_sampled, label=y_train_s_sampled),\n",
    "    fold_count=5, # separating to 5 folds\n",
    "    shuffle=True,\n",
    "    partition_random_seed=42,\n",
    "    stratified=True, \n",
    "    verbose=False\n",
    ")\n",
    "\n",
    "# Best score printing\n",
    "best_value = np.min(cv_data['test-Logloss-mean'])\n",
    "best_iter = np.argmin(cv_data['test-Logloss-mean'])\n",
    "print(\"Best validation Logloss score, stratified: {:.4f}+/-{:.3f} on step {}\".format(best_value, cv_data['test-Logloss-std'][best_iter], best_iter))"
   ]
  },
  {
   "cell_type": "code",
   "execution_count": 427,
   "metadata": {},
   "outputs": [
    {
     "name": "stdout",
     "output_type": "stream",
     "text": [
      "0:\tlearn: 0.9092316\ttest: 0.8049896\tbest: 0.8049896 (0)\ttotal: 95.2ms\tremaining: 28.5s\n",
      "Stopped by overfitting detector  (20 iterations wait)\n",
      "\n",
      "bestTest = 0.8486486486\n",
      "bestIteration = 3\n",
      "\n",
      "Shrink model to first 4 iterations.\n"
     ]
    }
   ],
   "source": [
    "# Creating model object\n",
    "cb_s_model = CatBoostClassifier(\n",
    "    iterations=300,\n",
    "    learning_rate=0.15,\n",
    "    eval_metric='Recall'\n",
    ")\n",
    "\n",
    "model_name = 'CatBoostClassifier / SMOTE Over Sampled data'\n",
    "cb_s_model.fit(X_train_s_sampled, y_train_s_sampled,\n",
    "         eval_set=(X_test_scaled, y_test),\n",
    "         verbose=50,\n",
    "         early_stopping_rounds=20,\n",
    ")\n",
    "\n",
    "y_train_pred = cb_s_model.predict(X_train_s_sampled)\n",
    "y_test_pred = cb_s_model.predict(X_test_s_sampled)"
   ]
  },
  {
   "cell_type": "code",
   "execution_count": 428,
   "metadata": {},
   "outputs": [
    {
     "name": "stderr",
     "output_type": "stream",
     "text": [
      "/var/folders/q7/y12hg0bj54sg455fwlths6dw0000gp/T/ipykernel_35359/2868486197.py:29: FutureWarning: The frame.append method is deprecated and will be removed from pandas in a future version. Use pandas.concat instead.\n",
      "  model_evalution_df = model_evalution_df.append(model_evalution_dict, ignore_index=True)\n"
     ]
    },
    {
     "data": {
      "text/html": [
       "<div>\n",
       "<style scoped>\n",
       "    .dataframe tbody tr th:only-of-type {\n",
       "        vertical-align: middle;\n",
       "    }\n",
       "\n",
       "    .dataframe tbody tr th {\n",
       "        vertical-align: top;\n",
       "    }\n",
       "\n",
       "    .dataframe thead th {\n",
       "        text-align: right;\n",
       "    }\n",
       "</style>\n",
       "<table border=\"1\" class=\"dataframe\">\n",
       "  <thead>\n",
       "    <tr style=\"text-align: right;\">\n",
       "      <th></th>\n",
       "      <th>Model Name</th>\n",
       "      <th>Training Score</th>\n",
       "      <th>Testing Score</th>\n",
       "      <th>Accuracy</th>\n",
       "      <th>F1 Score</th>\n",
       "      <th>Precision</th>\n",
       "      <th>Recall</th>\n",
       "    </tr>\n",
       "  </thead>\n",
       "  <tbody>\n",
       "    <tr>\n",
       "      <th>0</th>\n",
       "      <td>LogisticRegression / Imbalanced data</td>\n",
       "      <td>0.969423</td>\n",
       "      <td>0.968484</td>\n",
       "      <td>0.968484</td>\n",
       "      <td>0.965576</td>\n",
       "      <td>0.812192</td>\n",
       "      <td>0.548441</td>\n",
       "    </tr>\n",
       "    <tr>\n",
       "      <th>1</th>\n",
       "      <td>Baseline - RandomForestClassifier / Imbalanced...</td>\n",
       "      <td>0.973288</td>\n",
       "      <td>0.970750</td>\n",
       "      <td>0.970750</td>\n",
       "      <td>0.967033</td>\n",
       "      <td>0.899570</td>\n",
       "      <td>0.521414</td>\n",
       "    </tr>\n",
       "    <tr>\n",
       "      <th>2</th>\n",
       "      <td>Stacking / Imbalanced data</td>\n",
       "      <td>0.980939</td>\n",
       "      <td>0.977592</td>\n",
       "      <td>0.977592</td>\n",
       "      <td>0.976290</td>\n",
       "      <td>0.876596</td>\n",
       "      <td>0.685239</td>\n",
       "    </tr>\n",
       "    <tr>\n",
       "      <th>3</th>\n",
       "      <td>Stacking-45features / Imbalanced data</td>\n",
       "      <td>0.508322</td>\n",
       "      <td>0.504883</td>\n",
       "      <td>0.979246</td>\n",
       "      <td>0.978226</td>\n",
       "      <td>0.881208</td>\n",
       "      <td>0.715593</td>\n",
       "    </tr>\n",
       "    <tr>\n",
       "      <th>4</th>\n",
       "      <td>Stacking-all_features / Imbalanced data</td>\n",
       "      <td>0.525547</td>\n",
       "      <td>0.521173</td>\n",
       "      <td>0.979700</td>\n",
       "      <td>0.978842</td>\n",
       "      <td>0.875186</td>\n",
       "      <td>0.731809</td>\n",
       "    </tr>\n",
       "    <tr>\n",
       "      <th>5</th>\n",
       "      <td>Random_forest/GridSearch_all_features / Imbala...</td>\n",
       "      <td>0.664349</td>\n",
       "      <td>0.453638</td>\n",
       "      <td>0.969028</td>\n",
       "      <td>0.963756</td>\n",
       "      <td>0.953671</td>\n",
       "      <td>0.453638</td>\n",
       "    </tr>\n",
       "    <tr>\n",
       "      <th>6</th>\n",
       "      <td>LogisticRegression / Random Under Sampled data</td>\n",
       "      <td>0.884492</td>\n",
       "      <td>0.872727</td>\n",
       "      <td>0.872727</td>\n",
       "      <td>0.872724</td>\n",
       "      <td>0.876170</td>\n",
       "      <td>0.868046</td>\n",
       "    </tr>\n",
       "    <tr>\n",
       "      <th>7</th>\n",
       "      <td>LogisticRegression / Random Over Sampled data</td>\n",
       "      <td>0.883325</td>\n",
       "      <td>0.884345</td>\n",
       "      <td>0.884345</td>\n",
       "      <td>0.884345</td>\n",
       "      <td>0.884298</td>\n",
       "      <td>0.884407</td>\n",
       "    </tr>\n",
       "    <tr>\n",
       "      <th>8</th>\n",
       "      <td>LogisticRegression / SMOTE Over Sampled data</td>\n",
       "      <td>0.901201</td>\n",
       "      <td>0.900058</td>\n",
       "      <td>0.900058</td>\n",
       "      <td>0.900057</td>\n",
       "      <td>0.898063</td>\n",
       "      <td>0.902563</td>\n",
       "    </tr>\n",
       "    <tr>\n",
       "      <th>9</th>\n",
       "      <td>Tuned LogisticRegression / Random Under Sample...</td>\n",
       "      <td>0.883541</td>\n",
       "      <td>0.871658</td>\n",
       "      <td>0.871658</td>\n",
       "      <td>0.871657</td>\n",
       "      <td>0.873745</td>\n",
       "      <td>0.868759</td>\n",
       "    </tr>\n",
       "    <tr>\n",
       "      <th>10</th>\n",
       "      <td>DecisionTreeClassifier / Random Under Sampled ...</td>\n",
       "      <td>0.932620</td>\n",
       "      <td>0.867736</td>\n",
       "      <td>0.867736</td>\n",
       "      <td>0.867664</td>\n",
       "      <td>0.885565</td>\n",
       "      <td>0.844508</td>\n",
       "    </tr>\n",
       "    <tr>\n",
       "      <th>11</th>\n",
       "      <td>DecisionTreeClassifier / Random Over Sampled data</td>\n",
       "      <td>0.910327</td>\n",
       "      <td>0.908458</td>\n",
       "      <td>0.908458</td>\n",
       "      <td>0.908447</td>\n",
       "      <td>0.917566</td>\n",
       "      <td>0.897552</td>\n",
       "    </tr>\n",
       "    <tr>\n",
       "      <th>12</th>\n",
       "      <td>DecisionTreeClassifier / SMOTE Over Sampled data</td>\n",
       "      <td>0.945428</td>\n",
       "      <td>0.939513</td>\n",
       "      <td>0.939513</td>\n",
       "      <td>0.939507</td>\n",
       "      <td>0.948447</td>\n",
       "      <td>0.929551</td>\n",
       "    </tr>\n",
       "    <tr>\n",
       "      <th>13</th>\n",
       "      <td>Tuned DecisionTreeClassifier / Random Under sa...</td>\n",
       "      <td>0.881521</td>\n",
       "      <td>0.865241</td>\n",
       "      <td>0.865241</td>\n",
       "      <td>0.865232</td>\n",
       "      <td>0.871014</td>\n",
       "      <td>0.857347</td>\n",
       "    </tr>\n",
       "    <tr>\n",
       "      <th>14</th>\n",
       "      <td>RandomForestClassifier / Imbalanced data</td>\n",
       "      <td>0.973443</td>\n",
       "      <td>0.970818</td>\n",
       "      <td>0.970818</td>\n",
       "      <td>0.966925</td>\n",
       "      <td>0.912177</td>\n",
       "      <td>0.513929</td>\n",
       "    </tr>\n",
       "    <tr>\n",
       "      <th>15</th>\n",
       "      <td>RandomForestClassifier / Random Under Sampling...</td>\n",
       "      <td>0.936067</td>\n",
       "      <td>0.888770</td>\n",
       "      <td>0.888770</td>\n",
       "      <td>0.888700</td>\n",
       "      <td>0.909159</td>\n",
       "      <td>0.863766</td>\n",
       "    </tr>\n",
       "    <tr>\n",
       "      <th>16</th>\n",
       "      <td>RandomForestClassifier / Random Over Sampling ...</td>\n",
       "      <td>0.918495</td>\n",
       "      <td>0.917577</td>\n",
       "      <td>0.917577</td>\n",
       "      <td>0.917559</td>\n",
       "      <td>0.930249</td>\n",
       "      <td>0.902851</td>\n",
       "    </tr>\n",
       "    <tr>\n",
       "      <th>17</th>\n",
       "      <td>RandomForestClassifier / SMOTE Over Sampling data</td>\n",
       "      <td>0.943648</td>\n",
       "      <td>0.938219</td>\n",
       "      <td>0.938219</td>\n",
       "      <td>0.938219</td>\n",
       "      <td>0.939446</td>\n",
       "      <td>0.936822</td>\n",
       "    </tr>\n",
       "    <tr>\n",
       "      <th>18</th>\n",
       "      <td>Tuned RandomForestClassifier / Random Under Sa...</td>\n",
       "      <td>0.941414</td>\n",
       "      <td>0.888414</td>\n",
       "      <td>0.888414</td>\n",
       "      <td>0.888349</td>\n",
       "      <td>0.907865</td>\n",
       "      <td>0.864479</td>\n",
       "    </tr>\n",
       "    <tr>\n",
       "      <th>19</th>\n",
       "      <td>CatBoostClassifier / Random Under Sampled data</td>\n",
       "      <td>0.934759</td>\n",
       "      <td>0.895544</td>\n",
       "      <td>0.895544</td>\n",
       "      <td>0.895493</td>\n",
       "      <td>0.913497</td>\n",
       "      <td>0.873752</td>\n",
       "    </tr>\n",
       "    <tr>\n",
       "      <th>20</th>\n",
       "      <td>CatBoostClassifier / Random Over Sampled data</td>\n",
       "      <td>0.909601</td>\n",
       "      <td>0.909341</td>\n",
       "      <td>0.909341</td>\n",
       "      <td>0.909331</td>\n",
       "      <td>0.918241</td>\n",
       "      <td>0.898702</td>\n",
       "    </tr>\n",
       "    <tr>\n",
       "      <th>21</th>\n",
       "      <td>CatBoostClassifier / SMOTE Over Sampled data</td>\n",
       "      <td>0.918638</td>\n",
       "      <td>0.916920</td>\n",
       "      <td>0.916920</td>\n",
       "      <td>0.916914</td>\n",
       "      <td>0.909832</td>\n",
       "      <td>0.925567</td>\n",
       "    </tr>\n",
       "  </tbody>\n",
       "</table>\n",
       "</div>"
      ],
      "text/plain": [
       "                                           Model Name  Training Score  \\\n",
       "0                LogisticRegression / Imbalanced data        0.969423   \n",
       "1   Baseline - RandomForestClassifier / Imbalanced...        0.973288   \n",
       "2                          Stacking / Imbalanced data        0.980939   \n",
       "3               Stacking-45features / Imbalanced data        0.508322   \n",
       "4             Stacking-all_features / Imbalanced data        0.525547   \n",
       "5   Random_forest/GridSearch_all_features / Imbala...        0.664349   \n",
       "6      LogisticRegression / Random Under Sampled data        0.884492   \n",
       "7       LogisticRegression / Random Over Sampled data        0.883325   \n",
       "8        LogisticRegression / SMOTE Over Sampled data        0.901201   \n",
       "9   Tuned LogisticRegression / Random Under Sample...        0.883541   \n",
       "10  DecisionTreeClassifier / Random Under Sampled ...        0.932620   \n",
       "11  DecisionTreeClassifier / Random Over Sampled data        0.910327   \n",
       "12   DecisionTreeClassifier / SMOTE Over Sampled data        0.945428   \n",
       "13  Tuned DecisionTreeClassifier / Random Under sa...        0.881521   \n",
       "14           RandomForestClassifier / Imbalanced data        0.973443   \n",
       "15  RandomForestClassifier / Random Under Sampling...        0.936067   \n",
       "16  RandomForestClassifier / Random Over Sampling ...        0.918495   \n",
       "17  RandomForestClassifier / SMOTE Over Sampling data        0.943648   \n",
       "18  Tuned RandomForestClassifier / Random Under Sa...        0.941414   \n",
       "19     CatBoostClassifier / Random Under Sampled data        0.934759   \n",
       "20      CatBoostClassifier / Random Over Sampled data        0.909601   \n",
       "21       CatBoostClassifier / SMOTE Over Sampled data        0.918638   \n",
       "\n",
       "    Testing Score  Accuracy  F1 Score  Precision    Recall  \n",
       "0        0.968484  0.968484  0.965576   0.812192  0.548441  \n",
       "1        0.970750  0.970750  0.967033   0.899570  0.521414  \n",
       "2        0.977592  0.977592  0.976290   0.876596  0.685239  \n",
       "3        0.504883  0.979246  0.978226   0.881208  0.715593  \n",
       "4        0.521173  0.979700  0.978842   0.875186  0.731809  \n",
       "5        0.453638  0.969028  0.963756   0.953671  0.453638  \n",
       "6        0.872727  0.872727  0.872724   0.876170  0.868046  \n",
       "7        0.884345  0.884345  0.884345   0.884298  0.884407  \n",
       "8        0.900058  0.900058  0.900057   0.898063  0.902563  \n",
       "9        0.871658  0.871658  0.871657   0.873745  0.868759  \n",
       "10       0.867736  0.867736  0.867664   0.885565  0.844508  \n",
       "11       0.908458  0.908458  0.908447   0.917566  0.897552  \n",
       "12       0.939513  0.939513  0.939507   0.948447  0.929551  \n",
       "13       0.865241  0.865241  0.865232   0.871014  0.857347  \n",
       "14       0.970818  0.970818  0.966925   0.912177  0.513929  \n",
       "15       0.888770  0.888770  0.888700   0.909159  0.863766  \n",
       "16       0.917577  0.917577  0.917559   0.930249  0.902851  \n",
       "17       0.938219  0.938219  0.938219   0.939446  0.936822  \n",
       "18       0.888414  0.888414  0.888349   0.907865  0.864479  \n",
       "19       0.895544  0.895544  0.895493   0.913497  0.873752  \n",
       "20       0.909341  0.909341  0.909331   0.918241  0.898702  \n",
       "21       0.916920  0.916920  0.916914   0.909832  0.925567  "
      ]
     },
     "execution_count": 428,
     "metadata": {},
     "output_type": "execute_result"
    }
   ],
   "source": [
    "# Adding model evalution statistics\n",
    "model_evalution_df = add_model_evalution_stat(model_name, cb_s_model, X_train_s_sampled, X_test_s_sampled, y_train_s_sampled, y_test_s_sampled, y_train_pred, y_test_pred, model_evalution_df)\n",
    "model_evalution_df"
   ]
  },
  {
   "cell_type": "code",
   "execution_count": 430,
   "metadata": {},
   "outputs": [],
   "source": [
    "# Saving fitted model (RandomForestClassifier / SMOTE Over Sampling data)\n",
    "with open('models/model.pkl', 'wb') as output:\n",
    "    pickle.dump(rf_s_model, output)"
   ]
  },
  {
   "cell_type": "markdown",
   "metadata": {},
   "source": [
    "### Conclusions\n",
    "\n",
    "#### Many models have been built through machine learning. In order to carry out the experiment, logistic regression on different data sets, decision trees, random forest, and CatBoostClassifier were implemented. \n",
    "\n",
    "#### The problem with the training dataset is class imbalance. Three methods were implemented to combat imbalance, which clearly improved the quality of models for all algorithms.\n",
    "\n",
    "#### Thus, the most important aspects were feature selection and combating class imbalance.\n",
    "\n",
    "#### RandomForestClassifier / SMOTE Over Sampling data was chosen as the final model: recall 0.936822, f1 score 0.938219."
   ]
  },
  {
   "cell_type": "markdown",
   "metadata": {},
   "source": [
    "### __We have quite complex, up-to-date transaction data. The task was to build a machine learning model that predicts fraudulent transactions. Let me summarize the work done, a fairly broad reconnaissance analysis, and we can conclude that it is very difficult to determine dependencies in the data by eye. At the same time, the presence of a large number of observations, data processing and working with class imbalance helped solve the problem with a fairly good result.__"
   ]
  }
 ],
 "metadata": {
  "kernelspec": {
   "display_name": "base",
   "language": "python",
   "name": "python3"
  },
  "language_info": {
   "codemirror_mode": {
    "name": "ipython",
    "version": 3
   },
   "file_extension": ".py",
   "mimetype": "text/x-python",
   "name": "python",
   "nbconvert_exporter": "python",
   "pygments_lexer": "ipython3",
   "version": "3.9.13"
  }
 },
 "nbformat": 4,
 "nbformat_minor": 2
}
